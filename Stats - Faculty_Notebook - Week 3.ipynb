{
 "cells": [
  {
   "cell_type": "markdown",
   "id": "7803be6e",
   "metadata": {
    "id": "7803be6e"
   },
   "source": [
    "<table align=\"left\" width=100%>\n",
    "    <tr>\n",
    "        <td>\n",
    "            <div align=\"center\">\n",
    "                <font color=\"#21618C\" size=8px>\n",
    "                  <b> Faculty Notebook </b>\n",
    "                </font>\n",
    "            </div>\n",
    "        </td>\n",
    "    </tr>\n",
    "</table>"
   ]
  },
  {
   "cell_type": "markdown",
   "id": "3ce724c8",
   "metadata": {
    "id": "3ce724c8"
   },
   "source": [
    "## Table of Content\n",
    "\n",
    "1. **[Import Libraries](#lib)**\n",
    "2. **[Parameter Estimation](#est)**\n",
    "    - 2.1 - **[Point Estimation](#pt)**\n",
    "        - 2.1.1 - **[Sampling Error](#err)**\n",
    "    - 2.2 - **[Interval Estimation for Mean](#int)**\n",
    "        - 2.2.1 - **[Large Sample Size](#large)**   \n",
    "        - 2.2.2 - **[Small Sample Size](#small)**\n",
    "    - 2.3 - **[Interval Estimation for Proportion](#prop)**\n",
    "3. **[Test of Hypothesis](#defn)**\n",
    "    - 3.1 - **[Types of Hypothesis](#types)**\n",
    "4. **[Types of Test](#test_type)**\n",
    "    - 4.1 - **[Two Tailed Test](#2tailed)**\n",
    "    - 4.2 - **[One Tailed Test](#1tailed)**\n",
    "5. **[Hypothesis Tests with Z Statistic](#eg)**\n",
    "6. **[Small Sample Test](#t)**\n",
    "    - 6.1 - **[One Sample t Test](#1t)**\n",
    "7. **[Error](#error)**"
   ]
  },
  {
   "cell_type": "markdown",
   "id": "42113758",
   "metadata": {
    "id": "42113758"
   },
   "source": [
    "<a id=\"lib\"></a>\n",
    "# 1. Import Libraries"
   ]
  },
  {
   "cell_type": "markdown",
   "id": "a13a5724",
   "metadata": {
    "id": "a13a5724"
   },
   "source": [
    "**Let us import the required libraries.**"
   ]
  },
  {
   "cell_type": "code",
   "execution_count": 87,
   "id": "47c3cfd9",
   "metadata": {
    "executionInfo": {
     "elapsed": 4656,
     "status": "ok",
     "timestamp": 1745537760526,
     "user": {
      "displayName": "vijay singh",
      "userId": "01132446089631357410"
     },
     "user_tz": 420
    },
    "id": "47c3cfd9"
   },
   "outputs": [],
   "source": [
    "# import 'pandas'\n",
    "import pandas as pd\n",
    "\n",
    "# import 'numpy'\n",
    "import numpy as np\n",
    "\n",
    "# import subpackage of matplotlib\n",
    "import matplotlib.pyplot as plt\n",
    "\n",
    "# import 'seaborn'\n",
    "import seaborn as sns\n",
    "\n",
    "# to suppress warnings\n",
    "from warnings import filterwarnings\n",
    "filterwarnings('ignore')\n",
    "\n",
    "# import 'random' to generate random sample\n",
    "import random\n",
    "\n",
    "# import statistics to perform statistical computation\n",
    "import statistics\n",
    "\n",
    "# import 'stats' package from scipy library\n",
    "from scipy import stats\n",
    "\n",
    "# import a library to perform Z-test\n",
    "from statsmodels.stats import weightstats as stests\n",
    "\n",
    "# to test the normality\n",
    "from scipy.stats import shapiro\n",
    "\n",
    "# import the function to calculate the power of test\n",
    "from statsmodels.stats import power"
   ]
  },
  {
   "cell_type": "code",
   "execution_count": null,
   "id": "9e4f6a4b",
   "metadata": {
    "id": "9e4f6a4b"
   },
   "outputs": [],
   "source": [
    "# set the plot size using 'rcParams'\n",
    "# once the plot size is set using 'rcParams', it sets the size of all the forthcoming plots in the file\n",
    "# pass width and height in inches to 'figure.figsize'\n",
    "plt.rcParams['figure.figsize'] = [15,8]"
   ]
  },
  {
   "cell_type": "markdown",
   "id": "80017839",
   "metadata": {
    "id": "80017839"
   },
   "source": [
    "<a id=\"est\"></a>\n",
    "# 2. Parameter Estimation"
   ]
  },
  {
   "cell_type": "markdown",
   "id": "712e48a6",
   "metadata": {
    "id": "712e48a6"
   },
   "source": [
    "The value associated with the characteristic of the population is known as a `parameter` and the characteristic of the sample is described by a `statistic`.\n",
    "Usually, the population parameters are not known in most of the real-life problems. Thus, we consider a subset of the population (sample) to estimate the population parameter using a sample statistic.\n",
    "\n",
    "`Point estimation` and `Interval estimation` are two of the methods to estimate the population parameter."
   ]
  },
  {
   "cell_type": "markdown",
   "id": "57382f3d",
   "metadata": {
    "id": "57382f3d"
   },
   "source": [
    "<a id=\"pt\"></a>\n",
    "## 2.1 Point Estimation"
   ]
  },
  {
   "cell_type": "markdown",
   "id": "f3ff7201",
   "metadata": {
    "id": "f3ff7201"
   },
   "source": [
    "This method considers a single value (sample statistic) as estimate of the population parameter.\n",
    "\n",
    "Let $X_{1}, X_{2}, X_{3},..., X_{n}$ be the random sample drawn from a population with mean $\\mu$ and standard deviation $\\sigma$. <br>\n",
    "The point estimation method estimates the population mean, $\\mu = \\overline{X}$, where $\\overline{X}$ is the sample mean and population standard deviation, $\\sigma = s$, where $s$ is the standard deviation of the sample (`Standard Error`)."
   ]
  },
  {
   "cell_type": "markdown",
   "id": "0b69a8ab",
   "metadata": {
    "id": "0b69a8ab"
   },
   "source": [
    "### Example:\n",
    "\n",
    "#### 1. Consider the data of grade points for 35 students in a data science course. Select grades of 20 students randomly from the data and find the point estimate for the population mean.\n",
    "\n",
    "     Grades: [59.1, 65.0, 75.8, 79.2, 95.0, 99.8, 89.1, 65.2, 41.9, 55.2, 94.8, 84.1, 83.2, 74.0, 75.5, 76.2, 79.1, 80.1,\n",
    "              92.1, 74.2, 59.2, 64.0, 75, 78.2, 95.6, 97.8, 89.5, 64.2, 41.8, 57.2, 85, 91.4, 81.8, 74.6, 90]"
   ]
  },
  {
   "cell_type": "code",
   "execution_count": 9,
   "id": "04aedf56-cc4f-400a-9a53-76f51b6b7a1a",
   "metadata": {},
   "outputs": [],
   "source": [
    "Grades= [59.1, 65.0, 75.8, 79.2, 95.0, 99.8, 89.1, 65.2, 41.9, 55.2, 94.8, 84.1, 83.2, 74.0, 75.5, 76.2, 79.1, 80.1,\n",
    "          92.1, 74.2, 59.2, 64.0, 75, 78.2, 95.6, 97.8, 89.5, 64.2, 41.8, 57.2, 85, 91.4, 81.8, 74.6, 90]"
   ]
  },
  {
   "cell_type": "code",
   "execution_count": 29,
   "id": "4df6b22d-7c75-4eaa-b578-f624d1b8f987",
   "metadata": {},
   "outputs": [
    {
     "data": {
      "text/plain": [
       "74.74"
      ]
     },
     "execution_count": 29,
     "metadata": {},
     "output_type": "execute_result"
    }
   ],
   "source": [
    "import random\n",
    "import numpy as np\n",
    "\n",
    "x=random.sample(population=Grades,k=20)\n",
    "round(np.mean(x),2)"
   ]
  },
  {
   "cell_type": "code",
   "execution_count": 2,
   "id": "85d38be2",
   "metadata": {
    "colab": {
     "base_uri": "https://localhost:8080/"
    },
    "executionInfo": {
     "elapsed": 9,
     "status": "ok",
     "timestamp": 1745537779477,
     "user": {
      "displayName": "vijay singh",
      "userId": "01132446089631357410"
     },
     "user_tz": 420
    },
    "id": "85d38be2",
    "outputId": "ed888af8-b35c-4026-b1a8-f6bca7718b1f"
   },
   "outputs": [
    {
     "name": "stdout",
     "output_type": "stream",
     "text": [
      "The point estimate for the population mean is 75.32500000000002\n"
     ]
    }
   ],
   "source": [
    "# given population\n",
    "grades = [59.1, 65.0, 75.8, 79.2, 95.0, 99.8, 89.1, 65.2, 41.9, 55.2, 94.8, 84.1, 83.2, 74.0, 75.5, 76.2, 79.1, 80.1,\n",
    "          92.1, 74.2, 59.2, 64.0, 75, 78.2, 95.6, 97.8, 89.5, 64.2, 41.8, 57.2, 85, 91.4, 81.8, 74.6, 90]\n",
    "\n",
    "# draw a sample for grades of 18 students without replacement\n",
    "# set a random seed to get the same sample each time you run the code\n",
    "random.seed(1)\n",
    "\n",
    "# pass the data to the parameter, 'population'\n",
    "# pass the required sample size to the parameter, 'k'\n",
    "samp_grades = random.sample(population = grades, k = 20)\n",
    "\n",
    "# the point estimate for the population mean is equal to 'sample mean'\n",
    "# calculate the sample mean\n",
    "samp_mean = np.mean(samp_grades)\n",
    "\n",
    "print('The point estimate for the population mean is', samp_mean)"
   ]
  },
  {
   "cell_type": "markdown",
   "id": "348088a2",
   "metadata": {
    "id": "348088a2"
   },
   "source": [
    "#### 2. A financial firm has created 50 portfolios. From them, a sample of 13 portfolios was selected, out of which 8 were found to be underperforming. Can you estimate the number of underperforming portfolios in the population?"
   ]
  },
  {
   "cell_type": "code",
   "execution_count": 35,
   "id": "1d5ca6ba-86f2-4179-be6e-f3b2012aad8b",
   "metadata": {},
   "outputs": [
    {
     "data": {
      "text/plain": [
       "150.0"
      ]
     },
     "execution_count": 35,
     "metadata": {},
     "output_type": "execute_result"
    }
   ],
   "source": [
    "(1500*10)/100"
   ]
  },
  {
   "cell_type": "code",
   "execution_count": 39,
   "id": "ff65896d-8f7c-4fd9-be7b-d2bd4bc9724c",
   "metadata": {},
   "outputs": [
    {
     "data": {
      "text/plain": [
       "30.76923076923077"
      ]
     },
     "execution_count": 39,
     "metadata": {},
     "output_type": "execute_result"
    }
   ],
   "source": [
    "n=13\n",
    "x=8\n",
    "pop=50\n",
    "y=8/13\n",
    "y\n",
    "50*y"
   ]
  },
  {
   "cell_type": "code",
   "execution_count": 3,
   "id": "b7ce6d79",
   "metadata": {
    "colab": {
     "base_uri": "https://localhost:8080/"
    },
    "executionInfo": {
     "elapsed": 9,
     "status": "ok",
     "timestamp": 1745538241338,
     "user": {
      "displayName": "vijay singh",
      "userId": "01132446089631357410"
     },
     "user_tz": 420
    },
    "id": "b7ce6d79",
    "outputId": "11704d08-45aa-46f2-c4fa-3aec3916e668"
   },
   "outputs": [
    {
     "name": "stdout",
     "output_type": "stream",
     "text": [
      "The number of underperforming portfolios: 31\n"
     ]
    }
   ],
   "source": [
    "# total count of portfolios\n",
    "N = 50\n",
    "\n",
    "# number of portfolios in a sample\n",
    "n = 13\n",
    "\n",
    "# number of underperforming portfolios in a sample\n",
    "x = 8\n",
    "\n",
    "# sample proportion\n",
    "p_samp = x/n\n",
    "\n",
    "# estimate the number of underperforming portfolios\n",
    "num_port = p_samp*N\n",
    "\n",
    "# round the number to get an integer value\n",
    "print('The number of underperforming portfolios:', round(num_port))"
   ]
  },
  {
   "cell_type": "markdown",
   "id": "ab9fc2ed",
   "metadata": {
    "id": "ab9fc2ed"
   },
   "source": [
    "<a id=\"err\"></a>\n",
    "### 2.1.1 Sampling Error"
   ]
  },
  {
   "cell_type": "markdown",
   "id": "288d61b1",
   "metadata": {
    "id": "288d61b1"
   },
   "source": [
    "Sampling error is considered as the absolute difference between the sample statistic used to estimate the parameter and the corresponding population parameter. Since the entire population is not considered as the sample, the values of mean, median, quantiles, and so on calculated on sample differ from the actual population values.\n",
    "\n",
    "One can reduce the sampling error either by increasing the sample size or determining the optimal sample size using various methods."
   ]
  },
  {
   "cell_type": "markdown",
   "id": "5c29b716",
   "metadata": {
    "id": "5c29b716"
   },
   "source": [
    "### Example:\n",
    "\n",
    "#### 1. Consider the data for the number of ice-creams sold per day. An ice-cream vendor collected this data for 90 days and then a sample is drawn (without replacement) containing ice-creams sold for 25 days.\n",
    "\n",
    "data = [21, 93, 62, 76, 73, 20, 56, 95, 41, 36, 38, 13, 80, 88, 34, 18, 40, 11,\n",
    "        25, 29, 61, 23, 82, 10, 92, 69, 60, 87, 14, 91, 94, 49, 57, 83, 96, 55,\n",
    "        79, 52, 59, 39, 58, 17, 19, 98, 15, 54, 48, 46, 72, 45, 65, 28, 37, 30,\n",
    "        68, 75, 16, 33, 31, 99, 22, 51, 27, 67, 85, 47, 44, 77, 64, 97, 84, 42,\n",
    "        90, 70, 74, 89, 32, 26, 24, 12, 81, 53, 50, 35, 71, 63, 43, 86, 78, 66]\n",
    "        \n",
    "sample = [10, 22, 47, 66, 11, 57, 77, 98, 31, 63, 74, 84, 50, 96, 88, 92, 70, 54, 65, 44, 16, 72, 20, 90, 43]\n",
    "\n",
    "Comupte the sampling error for mean."
   ]
  },
  {
   "cell_type": "code",
   "execution_count": 79,
   "id": "1003cc6f-eff5-4a65-a82f-2107fd261d65",
   "metadata": {},
   "outputs": [],
   "source": [
    "data = [21, 93, 62, 76, 73, 20, 56, 95, 41, 36, 38, 13, 80, 88, 34, 18, 40, 11, 25, 29, 61, 23, 82, 10, 92, 69, 60, 87, 14, 91, 94, 49, 57, 83, 96, 55, 79, 52, 59, 39, 58, 17, 19, 98, 15, 54, 48, 46, 72, 45, 65, 28, 37, 30, 68, 75, 16, 33, 31, 99, 22, 51, 27, 67, 85, 47, 44, 77, 64, 97, 84, 42, 90, 70, 74, 89, 32, 26, 24, 12, 81, 53, 50, 35, 71, 63, 43, 86, 78, 66]\n",
    "n=np.random.choice(data,25)\n",
    "pop_mean=np.mean(data)\n",
    "sam_mean=np.mean(n)"
   ]
  },
  {
   "cell_type": "code",
   "execution_count": 81,
   "id": "e4cbc96f-2948-4628-9798-48a651ee5a18",
   "metadata": {},
   "outputs": [
    {
     "data": {
      "text/plain": [
       "5.460000000000001"
      ]
     },
     "execution_count": 81,
     "metadata": {},
     "output_type": "execute_result"
    }
   ],
   "source": [
    "abs(sam_mean-pop_mean)"
   ]
  },
  {
   "cell_type": "code",
   "execution_count": null,
   "id": "89d2084a",
   "metadata": {
    "id": "89d2084a",
    "outputId": "5f84caae-cadb-47fa-c2a9-d5a2adb40a40"
   },
   "outputs": [
    {
     "name": "stdout",
     "output_type": "stream",
     "text": [
      "57.6\n",
      "54.5\n",
      "Sampling error for mean: 3.1\n"
     ]
    }
   ],
   "source": [
    "# given population\n",
    "data = [21, 93, 62, 76, 73, 20, 56, 95, 41, 36, 38, 13, 80, 88, 34, 18, 40, 11, 25, 29, 61, 23, 82, 10, 92, 69, 60, 87, 14, 91,\n",
    "        94, 49, 57, 83, 96, 55, 79, 52, 59, 39, 58, 17, 19, 98, 15, 54, 48, 46, 72, 45, 65, 28, 37, 30, 68, 75, 16, 33, 31, 99,\n",
    "        22, 51, 27, 67, 85, 47, 44, 77, 64, 97, 84, 42, 90, 70, 74, 89, 32, 26, 24, 12, 81, 53, 50, 35, 71, 63, 43, 86, 78, 66]\n",
    "\n",
    "# given sample\n",
    "sample = [10, 22, 47, 66, 11, 57, 77, 98, 31, 63, 74, 84, 50, 96, 88, 92, 70, 54, 65, 44, 16, 72, 20, 90, 43]\n",
    "\n",
    "# calculate the point estimate for the population mean\n",
    "samp_mean = np.mean(sample)\n",
    "print(samp_mean)\n",
    "\n",
    "# population mean\n",
    "pop_mean = np.mean(data)\n",
    "print(pop_mean)\n",
    "\n",
    "# calculate the sampling error for mean\n",
    "print(\"Sampling error for mean:\", np.abs(samp_mean - pop_mean).round(3))"
   ]
  },
  {
   "cell_type": "markdown",
   "id": "0e823fb4",
   "metadata": {
    "id": "0e823fb4"
   },
   "source": [
    "The average temperature on a summer morning in Alaska is 55oF. The research student of\n",
    "climate studies records the temperature for 15 summer mornings in oF.\n",
    "Data = [49.8, 52.3, 51, 56.9, 54.8, 63, 58.2, 54.1, 50.4, 49.2, 47, 51.3, 43.5, 56, 55]\n",
    "Find the sampling error for the average temperature."
   ]
  },
  {
   "cell_type": "code",
   "execution_count": null,
   "id": "b8e6d30b",
   "metadata": {
    "id": "b8e6d30b",
    "outputId": "2408052b-acf1-4f9f-efd0-7f17f807e6c0"
   },
   "outputs": [
    {
     "name": "stdout",
     "output_type": "stream",
     "text": [
      "52.833333333333336\n",
      "Sampling error for mean: 2.1666666666666643\n"
     ]
    }
   ],
   "source": [
    "import numpy as np\n",
    "Data = [49.8, 52.3, 51, 56.9, 54.8, 63, 58.2, 54.1, 50.4, 49.2, 47, 51.3, 43.5, 56, 55]\n",
    "pop_mean=55\n",
    "samp_mean=np.mean(Data)\n",
    "print(samp_mean)\n",
    "print('Sampling error for mean:',np.abs(samp_mean-pop_mean))"
   ]
  },
  {
   "cell_type": "markdown",
   "id": "6042a6e1",
   "metadata": {
    "id": "6042a6e1"
   },
   "source": [
    "<a id=\"int\"></a>\n",
    "## 2.2 Interval Estimation for Mean"
   ]
  },
  {
   "cell_type": "markdown",
   "id": "d031528f",
   "metadata": {
    "id": "d031528f"
   },
   "source": [
    "This method considers the range of values in which the population parameter is likely to lie. The confidence interval is an interval that describes the range of values in which the parameter lies with a specific probability. It is given by the formula,<br> <p style='text-indent:20em'> `conf_interval = sample statistic ± margin of error`</p>\n",
    "\n",
    "The uncertainty of an estimate is described by the `confidence level` which is used to calculate the margin of error."
   ]
  },
  {
   "cell_type": "markdown",
   "id": "06af1d83",
   "metadata": {
    "id": "06af1d83"
   },
   "source": [
    "<a id=\"large\"></a>\n",
    "### 2.2.1 Large Sample Size"
   ]
  },
  {
   "cell_type": "markdown",
   "id": "2318980f",
   "metadata": {
    "id": "2318980f"
   },
   "source": [
    "Consider a population with mean $\\mu$ and standard deviation $\\sigma$. Let us take a sample of `n` observations from the population such that, $n \\geq 30$. The central limit theorem states that the sampling distribution of mean follows a normal distribution with mean $\\mu$ and standard deviation $\\frac{\\sigma}{\\sqrt(n)}$."
   ]
  },
  {
   "cell_type": "markdown",
   "id": "4bb13921",
   "metadata": {
    "id": "4bb13921"
   },
   "source": [
    "The confidence interval for the population mean with $100(1-\\alpha)$% confidence level is given as: $\\overline{X} \\pm Z_{\\frac{\\alpha}{2}}\\frac{\\sigma}{\\sqrt{n}}$\n",
    "\n",
    "Where, <br>\n",
    "$\\overline{X}$: Sample mean<br>\n",
    "$\\alpha$: Level of significance<br>\n",
    "$\\sigma$: Population standard deviation<br>\n",
    "$n$: Sample size\n",
    "\n",
    "The quantity $\\frac{\\sigma}{\\sqrt{n}}$ is the standard error of the mean. And the margin of error is given by $Z_{\\frac{\\alpha}{2}}\\frac{\\sigma}{\\sqrt{n}}$.\n",
    "\n",
    "If we know the expected margin of error (ME), then we can calculate the required sample size (n) using the formula: $n = (Z_{\\frac{\\alpha}{2}})^{2}\\frac{\\sigma^{2}}{ME^{2}}$.\n",
    "\n",
    "The above equation is valid for any population provided the sample size is sufficiently large (usually $n \\geq 30$). Relace $\\sigma$ by the standard deviation of the sample ($s$) if the population standard deviation is not known.\n",
    "\n",
    "The value of $Z_{\\frac{\\alpha}{2}}$ for different $\\alpha$ values can be obtained using the `stats.norm.isf()` from the scipy library."
   ]
  },
  {
   "cell_type": "code",
   "execution_count": null,
   "id": "bb418611",
   "metadata": {
    "id": "bb418611",
    "scrolled": true
   },
   "outputs": [],
   "source": [
    "# let us find the Z-values for different alpha values\n",
    "\n",
    "# create an empty dataframe to store the alpha and corresponding Z-value\n",
    "df_Z = pd.DataFrame()\n",
    "\n",
    "# create a dictionary of different alpha values\n",
    "alpha =  [0.1, 0.05, 0.02, 0.01]\n",
    "\n",
    "# use for loop to calculate the value for each alpha\n",
    "for i in range(len(alpha)):\n",
    "    alpha_by_2 = alpha[i] / 2\n",
    "\n",
    "    # use 'stats.norm.isf()' to find the Z-value corresponding to the upper tail probability 'q'\n",
    "    # pass the value of 'alpha_by_2' to the parameter 'q'\n",
    "    # use 'round()' to round-off the value to 4 digits\n",
    "    Z = np.abs(round(stats.norm.isf(q = alpha_by_2), 4))\n",
    "\n",
    "    # create a dataframe using dictionary to store the alpha and corresponding Z-value\n",
    "    # set the loop iterator 'i' as the index of the dataframe\n",
    "    row =  pd.DataFrame({\"alpha\": alpha[i], \"Z_alpha_by_2\" : Z}, index = [i])\n",
    "\n",
    "    # append the row to the dataframe 'df_Z'\n",
    "    df_Z = df_Z.append(row)\n",
    "\n",
    "# print the final dataframe\n",
    "df_Z"
   ]
  },
  {
   "cell_type": "markdown",
   "id": "90bb9425",
   "metadata": {
    "id": "90bb9425"
   },
   "source": [
    "To calculate the confidence interval with 95% confidence, use the Z-value corresponding to `alpha = 0.05`."
   ]
  },
  {
   "cell_type": "markdown",
   "id": "8d9b372f",
   "metadata": {
    "id": "8d9b372f"
   },
   "source": [
    "### Example:\n",
    "\n",
    "#### 1. A random sample of weight (in kg.) for 35 diabetic patients is drawn from the population with a standard deviation of 8 kg. Find the 90% confidence interval for the population mean.\n",
    "\n",
    "    Weight: [59.1, 65.0, 75.8, 79.2, 95.0, 99.8, 89.1, 65.3, 41.9, 55.2, 94.8, 84.1, 83.2, 74.0, 75.5, 76.2, 79.1, 80.1,\n",
    "             92.1, 74.2, 59.2, 64.0, 75, 78.2, 95.6, 97.8, 89.5, 64.2, 41.8, 57.2, 85, 91.4, 81.8, 74.6, 90]"
   ]
  },
  {
   "cell_type": "code",
   "execution_count": 85,
   "id": "f9a996d5-ac4f-4b08-9fa2-1ece330a6ce7",
   "metadata": {},
   "outputs": [
    {
     "data": {
      "text/plain": [
       "(74.46802952130666, 78.9033990501219)"
      ]
     },
     "execution_count": 85,
     "metadata": {},
     "output_type": "execute_result"
    }
   ],
   "source": [
    "weight = [59.1, 65.0, 75.8, 79.2, 95.0, 99.8, 89.1, 65.3, 41.9, 55.2, 94.8, 84.1, 83.2, 74.0, 75.5, 76.2, 79.1, 80.1,\n",
    "          92.1, 74.2, 59.2, 64.0, 75, 78.2, 95.6, 97.8, 89.5, 64.2, 41.8, 57.2, 85, 91.4, 81.8, 74.6, 90]\n",
    "\n",
    "x=len(weight)\n",
    "avg=np.mean(weight)\n",
    "std=8\n",
    "z_alpha_2=1.64\n",
    "lower_tail=avg-(z_alpha_2*(std/np.sqrt(x)))\n",
    "upper_tail=avg+(z_alpha_2*(std/np.sqrt(x)))\n",
    "lower_tail  ,upper_tail            "
   ]
  },
  {
   "cell_type": "code",
   "execution_count": null,
   "id": "be24271c",
   "metadata": {
    "id": "be24271c",
    "outputId": "34782a5c-237e-4dd8-9054-7c1ef48df666"
   },
   "outputs": [
    {
     "name": "stdout",
     "output_type": "stream",
     "text": [
      "The 90% confidence interval of population mean is [74.46 78.91]\n"
     ]
    }
   ],
   "source": [
    "# given sample\n",
    "weight = [59.1, 65.0, 75.8, 79.2, 95.0, 99.8, 89.1, 65.3, 41.9, 55.2, 94.8, 84.1, 83.2, 74.0, 75.5, 76.2, 79.1, 80.1,\n",
    "          92.1, 74.2, 59.2, 64.0, 75, 78.2, 95.6, 97.8, 89.5, 64.2, 41.8, 57.2, 85, 91.4, 81.8, 74.6, 90]\n",
    "\n",
    "# number of observations in sample\n",
    "n = len(weight)\n",
    "\n",
    "# given population standard deviation\n",
    "std_pop = 8\n",
    "\n",
    "# calculate the 90% confidence interval\n",
    "# pass the sample mean to the parameter, 'loc'\n",
    "# pass the scaling factor (std_pop / n^(1/2)) to the parameter, 'scale'\n",
    "interval = stats.norm.interval(0.90, loc = np.mean(weight), scale = std_pop / np.sqrt(n))\n",
    "\n",
    "# print the 90% confidence interval\n",
    "# use 'round()' to round-off the value to 2 digits\n",
    "print('The 90% confidence interval of population mean is', np.round(interval,2))"
   ]
  },
  {
   "cell_type": "markdown",
   "id": "d66e6df2",
   "metadata": {
    "id": "d66e6df2"
   },
   "source": [
    "#### Let us calculate the confidence interval without using the built-in function."
   ]
  },
  {
   "cell_type": "code",
   "execution_count": null,
   "id": "86c1a7ab",
   "metadata": {
    "id": "86c1a7ab",
    "outputId": "29778406-b2e8-4916-8c3e-7db98dafdcb1"
   },
   "outputs": [
    {
     "name": "stdout",
     "output_type": "stream",
     "text": [
      "90% confidence interval for population mean is (74.46, 78.91)\n"
     ]
    }
   ],
   "source": [
    "# given sample\n",
    "weight = [59.1, 65.0, 75.8, 79.2, 95.0, 99.8, 89.1, 65.2, 41.9, 55.2, 94.8, 84.1, 83.2, 74.0, 75.5, 76.2, 79.1, 80.1,\n",
    "          92.1, 74.2, 59.2, 64.0, 75, 78.2, 95.6, 97.8, 89.5, 64.2, 41.8, 57.2, 85, 91.4, 81.8, 74.6, 90]\n",
    "\n",
    "# calculate sample mean\n",
    "avg  = np.mean(weight)\n",
    "\n",
    "# given population standard deviation\n",
    "std_pop = 8\n",
    "\n",
    "# number of observations in sample\n",
    "n = len(weight)\n",
    "\n",
    "# Z-value for 90% confidence level\n",
    "z_alpha_by_2 = 1.6449\n",
    "\n",
    "# calculate the lower and upper bound of interval using the formula\n",
    "lower_int = avg - (z_alpha_by_2 * (std_pop / np.sqrt(n)))\n",
    "upper_int = avg + (z_alpha_by_2 * (std_pop / np.sqrt(n)))\n",
    "\n",
    "# print the 90% confidence interval\n",
    "# use 'round()' to round-off the value to 2 digits\n",
    "print('90% confidence interval for population mean is', (round(lower_int,2), round(upper_int,2)))"
   ]
  },
  {
   "cell_type": "markdown",
   "id": "db931e70",
   "metadata": {
    "id": "db931e70"
   },
   "source": [
    "#### 2. There are 150 apples on a tree. You randomly choose 40 apples and found that the average weight of apples is 182 grams with a standard deviation of 30 grams. Find the 95% confidence interval for the population mean."
   ]
  },
  {
   "cell_type": "code",
   "execution_count": null,
   "id": "29b12a96",
   "metadata": {
    "id": "29b12a96",
    "outputId": "dea9d318-c249-42d1-f1df-becf642d412c"
   },
   "outputs": [
    {
     "name": "stdout",
     "output_type": "stream",
     "text": [
      "95% confidence interval for population mean is [172.7 191.3]\n"
     ]
    }
   ],
   "source": [
    "# number of observations in the sample\n",
    "n = 40\n",
    "\n",
    "# sample mean\n",
    "sample_avg = 182\n",
    "\n",
    "# sample standard deviation\n",
    "sample_std = 30\n",
    "\n",
    "# calculate the 95% confidence interval\n",
    "# pass the sample mean to the parameter, 'loc'\n",
    "# pass the scaling factor (sample_std / n^(1/2)) to the parameter, 'scale'\n",
    "# as the population standard deviation is unknown, use the sample standard deviation\n",
    "interval = stats.norm.interval(0.95, loc = sample_avg, scale = sample_std / np.sqrt(n))\n",
    "print('95% confidence interval for population mean is', np.round(interval,2))"
   ]
  },
  {
   "cell_type": "markdown",
   "id": "d2f91c98",
   "metadata": {
    "id": "d2f91c98"
   },
   "source": [
    "#### 3. A movie production house needs to estimate the average monthly wage of the technical crew members. The previous data shows that the standard deviation of the wages is 190 dollars. The production team thinks that the estimation of the average wage should not exceed 54 dollars. The team has decided to take a small subset of wages for the estimation. Find a suitable number of wages to be considered to get the estimate with 90% confidence."
   ]
  },
  {
   "cell_type": "code",
   "execution_count": null,
   "id": "a572d44e",
   "metadata": {
    "id": "a572d44e",
    "outputId": "860d7a6b-af8b-41f4-bc6b-e442109d8f2c"
   },
   "outputs": [
    {
     "name": "stdout",
     "output_type": "stream",
     "text": [
      "Required Sample Size: 33\n"
     ]
    }
   ],
   "source": [
    "# calculate sample size using the margin of error\n",
    "\n",
    "# given population standard deviation\n",
    "sigma = 190\n",
    "\n",
    "# required margin of error\n",
    "ME = 54\n",
    "\n",
    "# calculate z_alpha_by_2 with alpha = 0.1\n",
    "# use 'stats.norm.isf()' to find the Z-value corresponding to the upper tail probability 'q'\n",
    "# pass the value of 'alpha/2' to the parameter 'q'\n",
    "# use 'round()' to round-off the value to 4 digits\n",
    "z_alpha_by_2 = np.abs(round(stats.norm.isf(q = 0.1/2), 4))\n",
    "\n",
    "# calculate sample size (n)\n",
    "n = ((z_alpha_by_2)**2)*(sigma**2)/(ME**2)\n",
    "\n",
    "# round-off the value of 'n' to get the integer value\n",
    "print('Required Sample Size:', round(n))"
   ]
  },
  {
   "cell_type": "markdown",
   "id": "ebfd90df",
   "metadata": {
    "id": "ebfd90df"
   },
   "source": [
    "#### 4. 100 bags of coal were tested and had an average of 35% of ash with a standard deviation of 15%. Calculate the margin of error for a 95% confidence level."
   ]
  },
  {
   "cell_type": "code",
   "execution_count": null,
   "id": "987ab5fd",
   "metadata": {
    "id": "987ab5fd",
    "outputId": "24562f5c-5779-4422-93b5-446db660b2ec"
   },
   "outputs": [
    {
     "name": "stdout",
     "output_type": "stream",
     "text": [
      "Margin of error: 0.0294\n"
     ]
    }
   ],
   "source": [
    "# number of bags\n",
    "n = 100\n",
    "\n",
    "# standard deviaion\n",
    "std = 0.15\n",
    "\n",
    "# given confidence level\n",
    "conf_level = 0.95\n",
    "\n",
    "# calculate z_alpha_by_2 with alpha = (1-conf_level) = 0.05\n",
    "# use 'stats.norm.isf()' to find the Z-value corresponding to the upper tail probability 'q'\n",
    "# pass the value of 'alpha/2' to the parameter 'q'\n",
    "# use 'round()' to round-off the value to 4 digits\n",
    "z_alpha_by_2 = np.abs(round(stats.norm.isf(q = 0.05/2), 4))\n",
    "\n",
    "# calculate margin of error\n",
    "error = (z_alpha_by_2*std)/ np.sqrt(n)\n",
    "\n",
    "print('Margin of error:', error)"
   ]
  },
  {
   "cell_type": "markdown",
   "id": "fe48b0f7",
   "metadata": {
    "id": "fe48b0f7"
   },
   "source": [
    "#### 5. From a sample of 250 observations, it is found that the average income of a 27 year old Londoner is £45,000 with a sample standard deviation of £4000. Obtain the 95% confidence interval to estimate the average income."
   ]
  },
  {
   "cell_type": "code",
   "execution_count": null,
   "id": "a68e1a4d",
   "metadata": {
    "id": "a68e1a4d",
    "outputId": "c44fb424-701e-4a34-86f4-88c8e28ec668"
   },
   "outputs": [
    {
     "name": "stdout",
     "output_type": "stream",
     "text": [
      "1.96\n",
      "45495.845137114404 44504.154862885596\n"
     ]
    }
   ],
   "source": [
    "n=250\n",
    "avg=45000\n",
    "std=4000\n",
    "ci=0.95\n",
    "z_alpha_by_2=round(stats.norm.isf(q=0.05/2),2)\n",
    "print(z_alpha_by_2)\n",
    "upp_int=avg+(z_alpha_by_2*(std/np.sqrt(n)))\n",
    "low_int=avg-(z_alpha_by_2*(std/np.sqrt(n)))\n",
    "print(upp_int,low_int)"
   ]
  },
  {
   "cell_type": "code",
   "execution_count": null,
   "id": "30b57cbc",
   "metadata": {
    "id": "30b57cbc",
    "outputId": "3e0f48e1-d796-4cae-f951-a27e9b577716"
   },
   "outputs": [
    {
     "name": "stdout",
     "output_type": "stream",
     "text": [
      "95% confidence interval for average income: [44504.16 45495.84]\n"
     ]
    }
   ],
   "source": [
    "# number of observations in the sample\n",
    "n = 250\n",
    "\n",
    "# sample mean\n",
    "sample_avg = 45000\n",
    "\n",
    "# sample standard deviation\n",
    "sample_std = 4000\n",
    "\n",
    "# calculate the 95% confidence interval\n",
    "# pass the sample mean to the parameter, 'loc'\n",
    "# pass the scaling factor (sample_std / n^(1/2)) to the parameter, 'scale'\n",
    "# as the population standard deviation is unknown, use the sample standard deviation\n",
    "interval = stats.norm.interval(0.95, loc = sample_avg, scale = sample_std/np.sqrt(n))\n",
    "\n",
    "print('95% confidence interval for average income:', np.round(interval,2))"
   ]
  },
  {
   "cell_type": "markdown",
   "id": "75437147",
   "metadata": {
    "id": "75437147"
   },
   "source": [
    "<a id=\"small\"></a>\n",
    "### 2.2.2 Small Sample Size"
   ]
  },
  {
   "cell_type": "markdown",
   "id": "4af93af3",
   "metadata": {
    "id": "4af93af3"
   },
   "source": [
    "Let us take a sample of `n` observations from the population such that, $n < 30$. Here the standard deviation of the population is unknown. The confidence interval for the population mean with $100(1-\\alpha)$% confidence level is given as: $\\overline{X} \\pm t_{\\frac{\\alpha}{2}, n-1}\\frac{s}{\\sqrt{n}}$\n",
    "\n",
    "Where, <br>\n",
    "$\\overline{X}$: Sample mean<br>\n",
    "$\\alpha$: Level of significance<br>\n",
    "$s$: Sample standard deviation<br>\n",
    "$n-1$: degrees of freedom\n",
    "\n",
    "The ratio $\\frac{s}{\\sqrt{n}}$ is the estimate of the standard error of the mean. And $t_{\\frac{\\alpha}{2}, n-1}\\frac{s}{\\sqrt{n}}$ is the margin of error for the estimate.\n",
    "\n",
    "The value of $t_{\\frac{\\alpha}{2}, n-1}$ for different $\\alpha$ values can be obtained using the `stats.t.isf()` from the scipy library.  "
   ]
  },
  {
   "cell_type": "code",
   "execution_count": null,
   "id": "60cc15e2",
   "metadata": {
    "id": "60cc15e2"
   },
   "outputs": [],
   "source": [
    "# let us find the t-values for different alpha values with 10 degrees of freedom\n",
    "\n",
    "# create an empty dataframe to store the alpha and corresponding t-value\n",
    "df_t = pd.DataFrame()\n",
    "\n",
    "# create a dictionary of different alpha values\n",
    "alpha =  [0.1, 0.05, 0.02, 0.01]\n",
    "\n",
    "# use for loop to calculate the t-value for each alpha value\n",
    "for i in range(len(alpha)):\n",
    "    alpha_by_2 = alpha[i] / 2\n",
    "\n",
    "    # use 'stats.t.isf()' to find the t-value corresponding to the upper tail probability 'q'\n",
    "    # pass the value of 'alpha_by_2' to the parameter 'q'\n",
    "    # pass the 10 degrees of freedom to the parametr 'df'\n",
    "    # use 'round()' to round-off the value to 2 digits\n",
    "    t = np.abs(round(stats.t.isf(q = alpha_by_2, df = 10), 2))\n",
    "\n",
    "    # create a dataframe using dictionary to store the alpha and corresponding t-value\n",
    "    # set the loop iterator 'i' as the index of the dataframe\n",
    "    row =  pd.DataFrame({\"alpha\": alpha[i], \"t_alpha_by_2\": t}, index = [i])\n",
    "\n",
    "    # append the row to the dataframe 'df_t'\n",
    "    df_t = df_t.append(row)\n",
    "\n",
    "# print the final dataframe\n",
    "df_t"
   ]
  },
  {
   "cell_type": "markdown",
   "id": "9390028c",
   "metadata": {
    "id": "9390028c"
   },
   "source": [
    "### Example:\n",
    "\n",
    "#### 1. There are 150 apples on a tree. You randomly choose 17 apples and found that the average weight of apples is 78 grams with a standard deviation of 23 grams. Find the 90% confidence interval for the population mean."
   ]
  },
  {
   "cell_type": "code",
   "execution_count": null,
   "id": "ab17e15f",
   "metadata": {
    "id": "ab17e15f",
    "outputId": "f0758de6-2b1f-44ad-bd52-7a9db87dd90f"
   },
   "outputs": [
    {
     "name": "stdout",
     "output_type": "stream",
     "text": [
      "90% confidence interval for population mean is [68.26 87.74]\n"
     ]
    }
   ],
   "source": [
    "# number of observations in the sample\n",
    "n = 17\n",
    "\n",
    "# sample mean\n",
    "sample_avg = 78\n",
    "\n",
    "# sample standard deviation\n",
    "sample_std = 23\n",
    "\n",
    "# calculate the 90% confidence interval for the population mean\n",
    "# pass the 'n-1' degrees of freedom to the parameter, 'df'\n",
    "# pass the sample mean to the parameter, 'loc'\n",
    "# pass the scaling factor (sample_std / n^(1/2)) to the parameter, 'scale'\n",
    "# as the population standard deviation is unknown, use the sample standard deviation\n",
    "interval = stats.t.interval(0.90, df = n-1, loc = sample_avg, scale = sample_std/np.sqrt(n))\n",
    "\n",
    "print('90% confidence interval for population mean is', np.round(interval,2))"
   ]
  },
  {
   "cell_type": "markdown",
   "id": "bbcfeed9",
   "metadata": {
    "id": "bbcfeed9"
   },
   "source": [
    "<a id=\"prop\"></a>\n",
    "## 2.3 Interval Estimation for Proportion"
   ]
  },
  {
   "cell_type": "markdown",
   "id": "cafc43e6",
   "metadata": {
    "id": "cafc43e6"
   },
   "source": [
    "Consider a population in which each observation is either a success or a failure. The population proportion is denoted by `P` which the ratio of the number of successes to the size of the population.\n",
    "\n",
    "The confidence interval for the population proportion with $100(1-\\alpha)$% confidence level is given as: $p \\pm Z_{\\frac{\\alpha}{2}}\\sqrt{\\frac{p(1 - p)}{n}}$\n",
    "\n",
    "Where, <br>\n",
    "$p$: Sample proportion<br>\n",
    "$\\alpha$: Level of significance<br>\n",
    "$n$: Sample size\n",
    "\n",
    "The quantity $Z_{\\frac{\\alpha}{2}}\\sqrt{\\frac{p(1 - p)}{n}}$ is the margin of error."
   ]
  },
  {
   "cell_type": "markdown",
   "id": "58dc10e7",
   "metadata": {
    "id": "58dc10e7"
   },
   "source": [
    "### Example:\n",
    "\n",
    "#### 1. A financial firm has created 50 portfolios. From them, a sample of 13 portfolios was selected, out of which 8 were found to be underperforming. Construct a 99% confidence interval to estimate the population proportion."
   ]
  },
  {
   "cell_type": "code",
   "execution_count": null,
   "id": "1bedbe33",
   "metadata": {
    "id": "1bedbe33"
   },
   "outputs": [],
   "source": [
    "# total count of portfolios\n",
    "N = 50\n",
    "\n",
    "# number of portfolios in a sample\n",
    "n = 13\n",
    "\n",
    "# number of underperforming portfolios in a sample\n",
    "x = 8\n",
    "\n",
    "# sample proportion\n",
    "p_samp = x/n\n",
    "\n",
    "# calculate the 99% confidence interval\n",
    "# pass the sample proportion to the parameter, 'loc'\n",
    "# pass the scaling factor ((p_samp*(1-p_samp))/n))^0.5) to the parameter, 'scale'\n",
    "interval = stats.norm.interval(0.99, loc = p_samp, scale = np.sqrt((p_samp*(1-p_samp))/n))\n",
    "\n",
    "print('99% confidence interval for population proportion is', np.round(interval,2))"
   ]
  },
  {
   "cell_type": "markdown",
   "id": "aecf888f",
   "metadata": {
    "id": "aecf888f"
   },
   "source": [
    "<a id=\"defn\"></a>\n",
    "# 3. Test of Hypothesis"
   ]
  },
  {
   "cell_type": "markdown",
   "id": "f77e8621",
   "metadata": {
    "id": "f77e8621"
   },
   "source": [
    "Hypothesis testing is the process of evaluating the validity of claims made about the population using the sample data obtained from the population. A statistical test is a rule used to decide whether to reject or retain the claim.\n",
    "\n",
    "**Examples of hypothesis:**\n",
    "\n",
    "        1. One can get 'A' grade if the attendance in the class is more than 75%.\n",
    "        2. A probiotic drink can improve the immunity of a person."
   ]
  },
  {
   "cell_type": "markdown",
   "id": "9fd178d3",
   "metadata": {
    "id": "9fd178d3"
   },
   "source": [
    "<a id=\"types\"></a>\n",
    "## 3.1 Types of Hypothesis"
   ]
  },
  {
   "cell_type": "markdown",
   "id": "cb1c4dbf",
   "metadata": {
    "id": "cb1c4dbf"
   },
   "source": [
    "`Null Hypothesis`: The null hypothesis is the statistical hypothesis suggesting 'no difference' between the population parameter and a specific value\n",
    ". It is denoted as H<sub>0</sub>.\n",
    "\n",
    "`Alternative Hypothesis`: It is the hypothesis that is tested against the null hypothesis and states the existence of a difference between the parameter and a specific value. It is denoted by H<sub>a</sub> or H<sub>1</sub>.\n",
    "\n",
    "The claim is usually the alternative hypothesis H<sub>1</sub> also known as research hypothesis. To test the claim we need to gather evidence (data ) and find the likelihood of the data under the assumption H<sub>0</sub> being true.\n",
    "\n",
    "#### Example:\n",
    "\n",
    "A company that produces tennis balls claimed that the diameter of a tennis ball is at least 2.625 inches on average. On the other hand, a professional tennis coach claimed that the diameter of a ball is less than what the company has claimed. To test the claim of the coach, a statistical test can be performed considering the hypothesis:\n",
    "\n",
    "                    Null Hypothesis: Average diameter ≥ 2.625\n",
    "                    Alternative Hypothesis: Average diameter < 2.625"
   ]
  },
  {
   "cell_type": "markdown",
   "id": "307d9e3d",
   "metadata": {
    "id": "307d9e3d"
   },
   "source": [
    "<a id=\"test_type\"></a>\n",
    "# 4. Types of Test"
   ]
  },
  {
   "cell_type": "markdown",
   "id": "1a9e1354",
   "metadata": {
    "id": "1a9e1354"
   },
   "source": [
    "The hypothesis test is used to validate the claims about the population. The types of tests are based on the nature of the alternative hypothesis."
   ]
  },
  {
   "cell_type": "markdown",
   "id": "3ca352da",
   "metadata": {
    "id": "3ca352da"
   },
   "source": [
    "<a id=\"2tailed\"></a>\n",
    "## 4.1 Two Tailed Test"
   ]
  },
  {
   "cell_type": "markdown",
   "id": "2afe9966",
   "metadata": {
    "id": "2afe9966"
   },
   "source": [
    "Two tailed test considers the value of the population parameter is less than or greater than (i.e. not equal) a specific value. <br>\n",
    "If we test the population mean ($\\mu$) with a specific value ($\\mu_{0}$) the null hypothesis is: $H_{0}: \\mu = \\mu_{0}$.\n",
    "\n",
    "The alternative hypothesis for the two tailed test is given as: $H_{1}: \\mu \\neq \\mu_{0}$"
   ]
  },
  {
   "cell_type": "markdown",
   "id": "ff98776b",
   "metadata": {
    "id": "ff98776b"
   },
   "source": [
    "#### Example:\n",
    "\n",
    "A company that produces tennis balls claimed that the diameter of a tennis ball is 2.625 inches on average. To test the company's claim, a statistical test can be performed considering the hypothesis:\n",
    "\n",
    "\n",
    "\n",
    "\n",
    "\n",
    "\n",
    "\n",
    "                    Null Hypothesis: Average diameter = 2.625\n",
    "                    Alternative Hypothesis: Average diameter ≠ 2.625"
   ]
  },
  {
   "cell_type": "markdown",
   "id": "b096b67b",
   "metadata": {
    "id": "b096b67b"
   },
   "source": [
    "<a id=\"1tailed\"></a>\n",
    "## 4.2 One Tailed Test"
   ]
  },
  {
   "cell_type": "markdown",
   "id": "6b5acec8",
   "metadata": {
    "id": "6b5acec8"
   },
   "source": [
    "One tailed test considers the value of the population parameter is less than or greater than (but not both) a specific value. <br>\n",
    "If we test the population mean ($\\mu$) with a specific value ($\\mu_{0}$) the null hypothesis is: $H_{0}: \\mu \\leq \\mu_{0}$ and the alternative hypothesis is $H_{1}: \\mu > \\mu_{0}$, the one tailed test is also known as a `right-tailed test`.\n",
    "\n",
    "If we test the population mean ($\\mu$) with a specific value ($\\mu_{0}$) the null hypothesis is: $H_{0}: \\mu \\geq \\mu_{0}$ and the alternative hypothesis is $H_{1}: \\mu < \\mu_{0}$, the one tailed test is also known as a `left-tailed test`.\n"
   ]
  },
  {
   "cell_type": "markdown",
   "id": "740e4831",
   "metadata": {
    "id": "740e4831"
   },
   "source": [
    "### Example:\n",
    "\n",
    "**1.** The company's annual quality report of machines states that a lathe machine works efficiently at most for 8 months on average after the servicing. The production manager claims that after the special tuxan servicing, the machine works efficiently for more than 8 months. To test the claim of production manager consider the hypothesis:\n",
    "\n",
    "\n",
    "\n",
    "\n",
    "\n",
    "\n",
    "\n",
    "\n",
    "\n",
    "\n",
    "\n",
    "\n",
    "\n",
    "\n",
    "                    Null Hypothesis: Machine efficiency ≤ 8 months\n",
    "                    Alternative Hypothesis: Machine efficiency > 8 months\n",
    "\n",
    "This is the example of a **right-tailed test**."
   ]
  },
  {
   "cell_type": "markdown",
   "id": "b6ebd45e",
   "metadata": {
    "id": "b6ebd45e"
   },
   "source": [
    "**2.** A railway authority claims that all the trains on the Chicago-Seattle route run with a speed of at least 54 mph on average. A customer forum declares that there are various records from passengers claiming that the speed of the train is less than what railway has claimed. In this scenario, a statistical test can be performed to test the claim of customer forum considering the hypothesis:\n",
    "\n",
    "\n",
    "\n",
    "\n",
    "\n",
    "\n",
    "\n",
    "\n",
    "\n",
    "\n",
    "                    Null Hypothesis: Speed ≥ 56 mph\n",
    "                    Alternative Hypothesis: Speed < 56 mph\n",
    "\n",
    "This is the example of a **left-tailed test**."
   ]
  },
  {
   "cell_type": "markdown",
   "id": "b0fc7088",
   "metadata": {
    "id": "b0fc7088"
   },
   "source": [
    "<a id=\"eg\"></a>\n",
    "# 5. Hypothesis Tests with Z Statistic"
   ]
  },
  {
   "cell_type": "markdown",
   "id": "68802b53",
   "metadata": {
    "id": "68802b53"
   },
   "source": [
    "Let us perform one sample Z test for the population mean. We compare the population mean with a specific value. The sample is assumed to be taken from a population following a normal distribution.\n",
    "\n",
    "To check the normality of the data, a test for normality is used. The `Shapiro-Wilk Test` is one of the methods used to check the normality. The hypothesis of the test is given as:\n",
    "<p style='text-indent:25em'> <strong> H<sub>0</sub>:  The data is normally distributed </strong> </p>\n",
    "<p style='text-indent:25em'> <strong> H<sub>1</sub>:  The data is not normally distributed </strong> </p>\n",
    "\n",
    "The `shapiro()` from scipy library performs a Shapiro-Wilk normality test."
   ]
  },
  {
   "cell_type": "markdown",
   "id": "5940c4b1",
   "metadata": {
    "id": "5940c4b1"
   },
   "source": [
    "The null and alternative hypothesis of Z-test is given as:\n",
    "<p style='text-indent:25em'> <strong> $H_{0}: \\mu = \\mu_{0}$ or $\\mu \\geq \\mu_{0}$ or $\\mu \\leq \\mu_{0}$</strong></p>\n",
    "<p style='text-indent:25em'> <strong> $H_{1}: \\mu \\neq \\mu_{0}$ or $\\mu < \\mu_{0}$ or $\\mu > \\mu_{0}$</strong></p>"
   ]
  },
  {
   "cell_type": "markdown",
   "id": "507e0f44",
   "metadata": {
    "id": "507e0f44"
   },
   "source": [
    "Consider a normal population with standard deviation $\\sigma$. Let us take a sample of size n, such that (n > 30).\n",
    "The test statistic for one sample Z-test is given as:\n",
    "<p style='text-indent:25em'> <strong> $Z = \\frac{\\overline{X} -  \\mu}{\\frac{\\sigma}{\\sqrt(n)}}$</strong></p>\n",
    "\n",
    "Where, <br>\n",
    "$\\overline{X}$: Sample mean<br>\n",
    "$\\mu$: Specified mean<br>\n",
    "$\\sigma$: Population standard deviation<br>\n",
    "$n$: Sample size\n",
    "\n",
    "Under $H_{0}$ the test statistic follows a standard normal distribution.\n",
    "\n",
    "If $\\sigma$ is unknown, use the sample standard deviation (s) instead of $\\sigma$ to calculate the test statistic."
   ]
  },
  {
   "cell_type": "code",
   "execution_count": null,
   "id": "35737233-f454-442b-8c86-dd4315d850b0",
   "metadata": {},
   "outputs": [],
   "source": [
    "z_alpha_by_2=0.1/2=0.05"
   ]
  },
  {
   "cell_type": "markdown",
   "id": "75472414",
   "metadata": {
    "id": "75472414"
   },
   "source": [
    "### Example:\n",
    "\n",
    "#### 1. A car manufacturing company claims that the mileage of their new car is 25 kmph with a standard deviation of 2.5 kmph. A random sample of 45 cars was drawn and recorded their mileage as per the standard procedure. From the sample, the mean mileage was seen to be 24 kmph. Is this evidence to claim that the mean mileage is different from 25kmph? (assume the normality of the data) Use α = 0.01."
   ]
  },
  {
   "cell_type": "code",
   "execution_count": null,
   "id": "1821acda-589f-47af-9bbe-5f03c3798c0f",
   "metadata": {},
   "outputs": [],
   "source": [
    "two tailed test--->\n",
    "h0:mileage=25\n",
    "h1:mileage!=25"
   ]
  },
  {
   "cell_type": "code",
   "execution_count": null,
   "id": "9f49345f-022b-4cbf-b3b1-b4157df61890",
   "metadata": {},
   "outputs": [],
   "source": [
    "pop_mean=25\n",
    "pop_std=2.5\n",
    "n=45\n",
    "samp_mean=24\n",
    "confidence_value=0.01"
   ]
  },
  {
   "cell_type": "code",
   "execution_count": null,
   "id": "c91733d4-03e2-47bd-b4d2-3defe824b081",
   "metadata": {},
   "outputs": [],
   "source": []
  },
  {
   "cell_type": "code",
   "execution_count": null,
   "id": "9baa10d6-7706-4ea2-89d7-3cfe8dd7deb5",
   "metadata": {},
   "outputs": [],
   "source": [
    "n=45\n",
    "pop_std=2.5\n",
    "pop_mean=25\n",
    "samp_mean=24\n",
    "confidence_interval=0.01"
   ]
  },
  {
   "cell_type": "code",
   "execution_count": 91,
   "id": "85beef6d-39e3-4ff8-aae2-784c4bc2ccd3",
   "metadata": {},
   "outputs": [
    {
     "data": {
      "text/plain": [
       "2.58"
      ]
     },
     "execution_count": 91,
     "metadata": {},
     "output_type": "execute_result"
    }
   ],
   "source": [
    "z_alpha_2=round(stats.norm.isf(q=0.01/2),2)\n",
    "z_alpha_2"
   ]
  },
  {
   "cell_type": "code",
   "execution_count": 99,
   "id": "2129def9-310f-484e-aa6a-4b51c84bdcbe",
   "metadata": {},
   "outputs": [
    {
     "name": "stdout",
     "output_type": "stream",
     "text": [
      "-2.6832815729997477\n"
     ]
    }
   ],
   "source": [
    "def z_score(pop_mean,pop_std,samp_mean,n):\n",
    "    z_test=(samp_mean-pop_mean)/(pop_std/np.sqrt(n))\n",
    "    return z_test\n",
    "n=45\n",
    "pop_std=2.5\n",
    "pop_mean=25\n",
    "samp_mean=24\n",
    "confidence_interval=0.01\n",
    "\n",
    "x=z_score(pop_mean,pop_std,samp_mean,n)\n",
    "print(x)"
   ]
  },
  {
   "cell_type": "code",
   "execution_count": null,
   "id": "fd342f56-4ebb-47d0-9c67-74bfc4f6e9e9",
   "metadata": {},
   "outputs": [],
   "source": [
    "SAMP_MEAN=24\n",
    "POP_MEAN=25\n",
    "POP_STD=2.5\n",
    "n=45\n",
    "confidence_level=99%"
   ]
  },
  {
   "cell_type": "markdown",
   "id": "b7b83968",
   "metadata": {
    "id": "b7b83968"
   },
   "source": [
    "The null and alternative hypothesis is:\n",
    "\n",
    "H<sub>0</sub>: $\\mu = 25 $<br>\n",
    "H<sub>1</sub>: $\\mu ≠ 25 $\n",
    "\n",
    "Here ⍺ = 0.01, for a two-tailed test calculate the critical z-value."
   ]
  },
  {
   "cell_type": "code",
   "execution_count": 8,
   "id": "1f886e58-a9ab-40e3-a067-9190cca92a5b",
   "metadata": {},
   "outputs": [
    {
     "data": {
      "text/plain": [
       "0.25"
      ]
     },
     "execution_count": 8,
     "metadata": {},
     "output_type": "execute_result"
    }
   ],
   "source": [
    "abs(-0.25)"
   ]
  },
  {
   "cell_type": "code",
   "execution_count": 20,
   "id": "2f99addb",
   "metadata": {
    "id": "2f99addb",
    "outputId": "fb1752cc-85e4-4359-c7ba-6d069f99f077"
   },
   "outputs": [
    {
     "name": "stdout",
     "output_type": "stream",
     "text": [
      "Critical value for two-tailed Z-test: 2.58\n"
     ]
    }
   ],
   "source": [
    "# calculate the z-value for 99% of confidence level\n",
    "# use 'stats.norm.isf()' to find the z-value corresponding to the upper tail probability 'q'\n",
    "# pass the value of 'alpha/2' to the parameter 'q', here alpha = 0.01\n",
    "# use 'round()' to round-off the value to 2 digits\n",
    "z_val = np.abs(round(stats.norm.isf(q = 0.01/2), 2))\n",
    "\n",
    "print('Critical value for two-tailed Z-test:', z_val)"
   ]
  },
  {
   "cell_type": "markdown",
   "id": "eb69cf69",
   "metadata": {
    "id": "eb69cf69"
   },
   "source": [
    "i.e. if z is less than -2.58 or greater than 2.58 then we reject the null hypothesis."
   ]
  },
  {
   "cell_type": "code",
   "execution_count": 22,
   "id": "e1ece2e3",
   "metadata": {
    "id": "e1ece2e3",
    "outputId": "3927fd5c-4dca-41da-dda9-8d0ccfb01f9f"
   },
   "outputs": [
    {
     "name": "stdout",
     "output_type": "stream",
     "text": [
      "Z-score: -2.6832815729997477\n"
     ]
    }
   ],
   "source": [
    "# define a function to calculate the Z-test statistic\n",
    "# pass the population mean, population standard deviation, sample size and sample mean as the function input\n",
    "def z_test(pop_mean, pop_std, n, samp_mean):\n",
    "\n",
    "    # calculate the test statistic\n",
    "    z_score = (samp_mean - pop_mean) / (pop_std / np.sqrt(n))\n",
    "\n",
    "    # return the z-test value\n",
    "    return z_score\n",
    "\n",
    "# given data\n",
    "n = 45\n",
    "pop_mean = 25\n",
    "pop_std = 2.5\n",
    "samp_mean = 24\n",
    "\n",
    "# calculate the test statistic using the function 'z_test'\n",
    "z_score = z_test(pop_mean, pop_std, n, samp_mean)\n",
    "print(\"Z-score:\", z_score)"
   ]
  },
  {
   "cell_type": "code",
   "execution_count": 24,
   "id": "303edfca",
   "metadata": {
    "id": "303edfca",
    "outputId": "ad06d122-ba5e-474b-82ec-ee32ab3d5514"
   },
   "outputs": [
    {
     "name": "stdout",
     "output_type": "stream",
     "text": [
      "p-value: 0.007290358091535638\n"
     ]
    }
   ],
   "source": [
    "# calculate the corresponding p-value for the test statistic\n",
    "# use 'cdf()' to calculate P(Z <= z_score)\n",
    "p_value = stats.norm.cdf(z_score)\n",
    "\n",
    "# for a two-tailed test multiply the p-value by 2\n",
    "req_p = p_value*2\n",
    "print('p-value:', req_p)"
   ]
  },
  {
   "cell_type": "code",
   "execution_count": null,
   "id": "23f3f97d",
   "metadata": {
    "id": "23f3f97d",
    "outputId": "2e0c4ba0-6b28-4bd8-ccff-1add59f3a6e3"
   },
   "outputs": [
    {
     "name": "stdout",
     "output_type": "stream",
     "text": [
      "Confidence interval: (23.040045096471452, 24.959954903528548)\n"
     ]
    }
   ],
   "source": [
    "# calculate the 99% confidence interval for the population mean\n",
    "# pass the sample mean to the parameter, 'loc'\n",
    "# pass the scaling factor (pop_std / n^(1/2)) to the parameter, 'scale'\n",
    "print('Confidence interval:', stats.norm.interval(0.99, loc = samp_mean, scale = pop_std / np.sqrt(n)))"
   ]
  },
  {
   "cell_type": "markdown",
   "id": "06f2c366",
   "metadata": {
    "id": "06f2c366"
   },
   "source": [
    "Here the z score is less than -2.58, p-value is less than 0.01, also the confidence interval do not contain the value in the null hypothesis (i.e. 25), thus we reject the null hypothesis and conclude that there is enough evidence to claim that the mean mileage is different from 25kmph."
   ]
  },
  {
   "cell_type": "code",
   "execution_count": null,
   "id": "e485f501-0b81-4101-80b4-58d54b37524c",
   "metadata": {},
   "outputs": [],
   "source": []
  },
  {
   "cell_type": "markdown",
   "id": "191fc577",
   "metadata": {
    "id": "191fc577"
   },
   "source": [
    "#### 2. The average calories in a slice bread of the brand 'Alphas' are 82 with a standard deviation of 15. An experiment is conducted to test the claim of the dietitians that the calories in a slice of bread are not as per the manufacturer's specification. A sample of 40 slices of bread is taken and the mean calories recorded are 95. Test the claim of dietitians with ⍺ value (significance level) as 0.05. (assume the normality of the data)."
   ]
  },
  {
   "cell_type": "markdown",
   "id": "af8ff011",
   "metadata": {
    "id": "af8ff011"
   },
   "source": [
    "The null and alternative hypothesis is:\n",
    "\n",
    "H<sub>0</sub>: $\\mu = 82 $<br>\n",
    "H<sub>1</sub>: $\\mu ≠ 82 $\n",
    "\n",
    "Here ⍺ = 0.05, for a two-tailed test calculate the critical z-value."
   ]
  },
  {
   "cell_type": "code",
   "execution_count": 27,
   "id": "8f1d5e12",
   "metadata": {
    "id": "8f1d5e12"
   },
   "outputs": [
    {
     "name": "stdout",
     "output_type": "stream",
     "text": [
      "Critical value for two-tailed Z-test: 1.96\n"
     ]
    }
   ],
   "source": [
    "# calculate the z-value for 95% of confidence level\n",
    "# use 'stats.norm.isf()' to find the z-value corresponding to the upper tail probability 'q'\n",
    "# pass the value of 'alpha/2' to the parameter 'q', here alpha = 0.05\n",
    "# use 'round()' to round-off the value to 2 digits\n",
    "z_val = np.abs(round(stats.norm.isf(q = 0.05/2), 2))\n",
    "\n",
    "print('Critical value for two-tailed Z-test:', z_val)"
   ]
  },
  {
   "cell_type": "markdown",
   "id": "2401d021",
   "metadata": {
    "id": "2401d021"
   },
   "source": [
    "i.e. if z is less than -1.96 or greater than 1.96 then we reject the null hypothesis."
   ]
  },
  {
   "cell_type": "code",
   "execution_count": 29,
   "id": "672d914f",
   "metadata": {
    "id": "672d914f"
   },
   "outputs": [
    {
     "name": "stdout",
     "output_type": "stream",
     "text": [
      "Z-score: 5.4812812776251905\n"
     ]
    }
   ],
   "source": [
    "# define a function to calculate the Z-test statistic\n",
    "# pass the population mean, population standard deviation, sample size and sample mean as the function input\n",
    "def z_test(pop_mean, pop_std, n, samp_mean):\n",
    "\n",
    "    # calculate the test statistic\n",
    "    z_score = (samp_mean - pop_mean) / (pop_std / np.sqrt(n))\n",
    "\n",
    "    # return the z-test value\n",
    "    return z_score\n",
    "\n",
    "# given data\n",
    "n = 40\n",
    "pop_mean = 82\n",
    "pop_std = 15\n",
    "samp_mean = 95\n",
    "\n",
    "# calculate the test statistic using the function 'z_test'\n",
    "z_score = z_test(pop_mean, pop_std, n, samp_mean)\n",
    "print(\"Z-score:\", z_score)"
   ]
  },
  {
   "cell_type": "code",
   "execution_count": 31,
   "id": "63094807",
   "metadata": {
    "id": "63094807"
   },
   "outputs": [
    {
     "name": "stdout",
     "output_type": "stream",
     "text": [
      "p-value: 4.222565249683579e-08\n"
     ]
    }
   ],
   "source": [
    "# calculate the corresponding p-value for the test statistic\n",
    "# use 'cdf()' to calculate P(Z <= -z_score)\n",
    "p_value = stats.norm.cdf(-z_score)\n",
    "\n",
    "# for a two-tailed test multiply the p-value by 2\n",
    "req_p = p_value*2\n",
    "print('p-value:', req_p)"
   ]
  },
  {
   "cell_type": "code",
   "execution_count": 33,
   "id": "116fbdd1",
   "metadata": {
    "id": "116fbdd1"
   },
   "outputs": [
    {
     "name": "stdout",
     "output_type": "stream",
     "text": [
      "Confidence interval: (90.35153725771579, 99.64846274228421)\n"
     ]
    }
   ],
   "source": [
    "# calculate the 95% confidence interval for the population mean\n",
    "# pass the sample mean to the parameter, 'loc'\n",
    "# pass the scaling factor (pop_std / n^(1/2)) to the parameter, 'scale'\n",
    "print('Confidence interval:', stats.norm.interval(0.95, loc = samp_mean, scale = pop_std / np.sqrt(n)))"
   ]
  },
  {
   "cell_type": "markdown",
   "id": "f343a83f",
   "metadata": {
    "id": "f343a83f"
   },
   "source": [
    "Here the z score is greater than 1.96, the p-value is less than 0.05, also the confidence interval does not contain the null value (i.e. 82), thus we reject the null hypothesis and our conclusion is, there is enough evidence to conclude that the average calories in a slice bread are not 82."
   ]
  },
  {
   "cell_type": "markdown",
   "id": "a8473571",
   "metadata": {
    "id": "a8473571"
   },
   "source": [
    "#### 3. A typhoid vaccine in the market inscribes 3 mg of ascorbic acid in the vaccine. A research team claims that the vaccines contain less than 3 mg of acid. We collected the data of 40 vaccines by using random sampling from a population and recorded the amount of ascorbic acid. Test the claim of the research team using the sample data ⍺ value (significance level) to 0.05.\n",
    "\n",
    "    acid_amt = [2.57, 3.06, 3.28 , 3.24, 2.79, 3.40, 3.36, 3.07, 2.46, 3.03, 3.05, 2.94, 3.46, 3.19, 3.09, 2.81, 3.13, 2.88,\n",
    "                2.76, 2.75, 3.17, 2.89, 2.54, 3.18, 3.08, 2.60, 3.06, 3.13, 3.11, 3.08, 2.93, 2.90, 3.06, 2.97, 3.24, 2.86,\n",
    "                2.87, 3.18, 3, 2.95]"
   ]
  },
  {
   "cell_type": "markdown",
   "id": "aecdcda2",
   "metadata": {
    "id": "aecdcda2"
   },
   "source": [
    "Let us check the normality of the data"
   ]
  },
  {
   "cell_type": "code",
   "execution_count": null,
   "id": "a74fadf8",
   "metadata": {
    "id": "a74fadf8"
   },
   "outputs": [],
   "source": [
    "# given data\n",
    "acid_amt = [2.57, 3.06, 3.28 , 3.24, 2.79, 3.40, 3.36, 3.07, 2.46, 3.03, 3.05, 2.94, 3.46 , 3.19, 3.09,2.81, 3.13, 2.88, 2.76,\n",
    "            2.75, 3.17, 2.89, 2.54, 3.18, 3.08, 2.60, 3.06, 3.13, 3.11, 3.08, 2.93, 2.90, 3.06, 2.97, 3.24, 2.86, 2.87, 3.18,\n",
    "            3, 2.95]\n",
    "\n",
    "# perform Shapiro-Wilk test to test the normality\n",
    "# shapiro() returns a tuple having the values of test statistics and the corresponding p-value\n",
    "# pass the sample data to perform the test\n",
    "stat, p_value = shapiro(acid_amt)\n",
    "\n",
    "# print the test statistic and corresponding p-value\n",
    "print('Test statistic:', stat)\n",
    "print('P-Value:', p_value)"
   ]
  },
  {
   "cell_type": "markdown",
   "id": "ba09c7a6",
   "metadata": {
    "id": "ba09c7a6"
   },
   "source": [
    "From the above result, we can see that the p-value is greater than 0.05, thus we can say that the data is normally distributed."
   ]
  },
  {
   "cell_type": "markdown",
   "id": "YTltmftp6XIx",
   "metadata": {
    "id": "YTltmftp6XIx"
   },
   "source": [
    "**Please note that here since n>30 we need not check for normality of the data**"
   ]
  },
  {
   "cell_type": "markdown",
   "id": "877cbc26",
   "metadata": {
    "id": "877cbc26"
   },
   "source": [
    "The null and alternative hypothesis is:\n",
    "\n",
    "H<sub>0</sub>: $\\mu \\geq 3 $<br>\n",
    "H<sub>1</sub>: $\\mu < 3 $\n",
    "\n",
    "Here ⍺ = 0.05, for a one-tailed test calculate the critical z-value."
   ]
  },
  {
   "cell_type": "code",
   "execution_count": null,
   "id": "8567f5bd",
   "metadata": {
    "id": "8567f5bd"
   },
   "outputs": [],
   "source": [
    "# calculate the z-value for 95% of confidence level\n",
    "# use 'stats.norm.isf()' to find the z-value corresponding to the upper tail probability 'q'\n",
    "# pass the value of 'alpha' to the parameter 'q', here alpha = 0.05\n",
    "# use 'round()' to round-off the value to 2 digits\n",
    "z_val = np.abs(round(stats.norm.isf(q = 0.05), 2))\n",
    "\n",
    "print('Critical value for one-tailed Z-test:', z_val)"
   ]
  },
  {
   "cell_type": "markdown",
   "id": "ac5fbf8e",
   "metadata": {
    "id": "ac5fbf8e"
   },
   "source": [
    "i.e. if z is less than -1.64 then we reject the null hypothesis."
   ]
  },
  {
   "cell_type": "code",
   "execution_count": null,
   "id": "964ba9f7",
   "metadata": {
    "id": "964ba9f7"
   },
   "outputs": [],
   "source": [
    "# given amount of ascorbic acid in the vaccines\n",
    "acid_amt = [2.57, 3.06, 3.28 , 3.24, 2.79, 3.40, 3.36, 3.07, 2.46, 3.03, 3.05, 2.94, 3.46 , 3.19, 3.09, 2.81, 3.13, 2.88, 2.76,\n",
    "            2.75, 3.17, 2.89, 2.54, 3.18, 3.08, 2.60, 3.06, 3.13, 3.11, 3.08, 2.93, 2.90, 3.06, 2.97, 3.24, 2.86, 2.87, 3.18,\n",
    "            3, 2.95]\n",
    "\n",
    "# 'ztest()' returns the test statistic and corresponding p-value\n",
    "# pass the sample data to the parameter, 'x1'\n",
    "# pass the value in null hypothesis to the parameter, 'value'\n",
    "# pass the one-tailed condition to the parameter, 'alternative'\n",
    "z_score, pval = stests.ztest(x1 = acid_amt, value = 3, alternative = 'smaller')\n",
    "\n",
    "# print the test statistic and corresponding p-value\n",
    "print(\"Z-score: \", z_score)\n",
    "print(\"p-value: \", pval)"
   ]
  },
  {
   "cell_type": "code",
   "execution_count": null,
   "id": "84cb4c87",
   "metadata": {
    "id": "84cb4c87"
   },
   "outputs": [],
   "source": [
    "# calculate the 95% confidence interval for the population mean\n",
    "# pass the sample mean to the parameter, 'loc'\n",
    "# pass the scaling factor (standard deviation of sample / n^(1/2)) to the parameter, 'scale'\n",
    "# use 'stdev()' to calculate sample standard deviation\n",
    "print('Confidence interval:', stats.norm.interval(0.95, loc = np.mean(acid_amt),\n",
    "                                                  scale = statistics.stdev(acid_amt) / np.sqrt(len(acid_amt))))"
   ]
  },
  {
   "cell_type": "markdown",
   "id": "5e74386f",
   "metadata": {
    "id": "5e74386f"
   },
   "source": [
    "Here the z-score is greater than -1.64, the p-value is greater than 0.05, thus we fail to reject the null hypothesis. Thus, there is not enough evidence to conclude that on average a typhoid vaccine contains less than 3 mg of ascorbic acid.\n",
    "\n",
    "**Please note that when null hypothesis is not rejected it cannot be accepted as true.There is merely not enough evidence to say that it is false. This may seem confusing but the situation is analogous to the court of law, where the verdict is either guilty or not guilty based on the evidence. If the person is judged not guilty then it does not mean the person is proved innocent but merely that there is not enough evidence to reach the guilty verdict.**"
   ]
  },
  {
   "cell_type": "markdown",
   "id": "2548eeeb",
   "metadata": {
    "id": "2548eeeb"
   },
   "source": [
    "#### 4. A sample of 900 PVC pipes is found to have an average thickness of 12.5 mm. Can we assume that the sample is coming from a normal population with mean 13 mm against that it is less than 13 mm. The population standard deviation is 1 mm. Test the hypothesis at 5% level of significance."
   ]
  },
  {
   "cell_type": "markdown",
   "id": "d02a1329",
   "metadata": {
    "id": "d02a1329"
   },
   "source": [
    "The null and alternative hypothesis is:\n",
    "\n",
    "H<sub>0</sub>: $\\mu \\geq 13 $<br>\n",
    "H<sub>1</sub>: $\\mu < 13 $\n",
    "\n",
    "Here ⍺ = 0.05, for a one-tailed test calculate the critical z-value."
   ]
  },
  {
   "cell_type": "code",
   "execution_count": null,
   "id": "8ae8d472",
   "metadata": {
    "id": "8ae8d472"
   },
   "outputs": [],
   "source": [
    "# calculate the z-value for 95% of confidence level\n",
    "# use 'stats.norm.isf()' to find the z-value corresponding to the upper tail probability 'q'\n",
    "# pass the value of 'alpha' to the parameter 'q', here alpha = 0.05\n",
    "# use 'round()' to round-off the value to 2 digits\n",
    "z_val = np.abs(round(stats.norm.isf(q = 0.05), 2))\n",
    "\n",
    "print('Critical value for one-tailed Z-test:', z_val)"
   ]
  },
  {
   "cell_type": "markdown",
   "id": "797a2428",
   "metadata": {
    "id": "797a2428"
   },
   "source": [
    "i.e. if z is less than -1.64 then we reject the null hypothesis."
   ]
  },
  {
   "cell_type": "code",
   "execution_count": null,
   "id": "e95df504",
   "metadata": {
    "id": "e95df504"
   },
   "outputs": [],
   "source": [
    "# define a function to calculate the Z-test statistic\n",
    "# pass the population mean, population standard deviation, sample size and sample mean as the function input\n",
    "def z_test(pop_mean, pop_std, n, samp_mean):\n",
    "\n",
    "    # calculate the test statistic\n",
    "    z_score = (samp_mean - pop_mean) / (pop_std / np.sqrt(n))\n",
    "\n",
    "    # return the z-test value\n",
    "    return z_score\n",
    "\n",
    "# given data\n",
    "n = 900\n",
    "pop_mean = 13\n",
    "pop_std = 1\n",
    "samp_mean = 12.5\n",
    "\n",
    "# calculate the test statistic using the function 'z_test'\n",
    "z_score = z_test(pop_mean, pop_std, n, samp_mean)\n",
    "print(\"Z-score:\", z_score)"
   ]
  },
  {
   "cell_type": "code",
   "execution_count": null,
   "id": "673bdb3c",
   "metadata": {
    "id": "673bdb3c"
   },
   "outputs": [],
   "source": [
    "# calculate the corresponding p-value for the test statistic\n",
    "# use 'cdf()' to calculate P(Z <= z_score)\n",
    "p_value = stats.norm.cdf(z_score)\n",
    "\n",
    "print('p-value:', p_value)"
   ]
  },
  {
   "cell_type": "markdown",
   "id": "5e099dfa",
   "metadata": {
    "id": "5e099dfa"
   },
   "source": [
    "Here the z score is less than -1.64, p-value is less than 0.05, thus we reject the null hypothesis and conclude that the sample is not coming from the population with a mean less than 13."
   ]
  },
  {
   "cell_type": "markdown",
   "id": "5a700524",
   "metadata": {
    "id": "5a700524"
   },
   "source": [
    "#### 5. An e-commerce company claims that the mean delivery time of food items on its website in NYC is 60 minutes with a standard deviation of 30 minutes. A random sample of 45 customers ordered from the website, and the average time for delivery was found to be 75 minutes. Is this enough evidence to claim that the average time to get items delivered is more than 60 minutes. (assume the normality of the data). Test the with α = 0.05."
   ]
  },
  {
   "cell_type": "markdown",
   "id": "92fd9326",
   "metadata": {
    "id": "92fd9326"
   },
   "source": [
    "The null and alternative hypothesis is:\n",
    "\n",
    "H<sub>0</sub>: $\\mu \\leq  60 $<br>\n",
    "H<sub>1</sub>: $\\mu > 60 $\n",
    "\n",
    "Here ⍺ = 0.05, for a one-tailed test calculate the critical z-value."
   ]
  },
  {
   "cell_type": "code",
   "execution_count": null,
   "id": "c9f99e9e",
   "metadata": {
    "id": "c9f99e9e"
   },
   "outputs": [],
   "source": [
    "# calculate the z-value for 95% of confidence level\n",
    "# use 'stats.norm.isf()' to find the z-value corresponding to the upper tail probability 'q'\n",
    "# pass the value of 'alpha' to the parameter 'q', here alpha = 0.05\n",
    "# use 'round()' to round-off the value to 2 digits\n",
    "z_val = np.abs(round(stats.norm.isf(q = 0.05), 2))\n",
    "\n",
    "print('Critical value for one-tailed Z-test:', z_val)"
   ]
  },
  {
   "cell_type": "markdown",
   "id": "e8be09e3",
   "metadata": {
    "id": "e8be09e3"
   },
   "source": [
    "i.e. if z is greater than 1.64 then we reject the null hypothesis."
   ]
  },
  {
   "cell_type": "code",
   "execution_count": null,
   "id": "75f30293",
   "metadata": {
    "id": "75f30293"
   },
   "outputs": [],
   "source": [
    "# define a function to calculate the Z-test statistic\n",
    "# pass the population mean, population standard deviation, sample size and sample mean as the function input\n",
    "def z_test(pop_mean, pop_std, n, samp_mean):\n",
    "\n",
    "    # calculate the test statistic\n",
    "    z_score = (samp_mean - pop_mean) / (pop_std / np.sqrt(n))\n",
    "\n",
    "    # return the z-test value\n",
    "    return z_score\n",
    "\n",
    "# given data\n",
    "n = 45\n",
    "pop_mean = 60\n",
    "pop_std = 30\n",
    "samp_mean = 75\n",
    "\n",
    "# calculate the test statistic using the function 'z_test'\n",
    "z_score = z_test(pop_mean, pop_std, n, samp_mean)\n",
    "print(\"Z-score:\", z_score)"
   ]
  },
  {
   "cell_type": "code",
   "execution_count": null,
   "id": "b75497fa",
   "metadata": {
    "id": "b75497fa"
   },
   "outputs": [],
   "source": [
    "# calculate the corresponding p-value for the test statistic\n",
    "# use 'sf()' to calculate P(Z > z_score)\n",
    "p_value = stats.norm.sf(z_score)\n",
    "\n",
    "print('p-value:', p_value)"
   ]
  },
  {
   "cell_type": "markdown",
   "id": "c6541d06",
   "metadata": {
    "id": "c6541d06"
   },
   "source": [
    "Here the z score is greater than 1.64, the p-value is less than 0.05 thus we reject the null hypothesis and conclude that the average time to get items delivered is more than 60 minutes."
   ]
  },
  {
   "cell_type": "markdown",
   "id": "bd24e1fb",
   "metadata": {
    "id": "bd24e1fb"
   },
   "source": [
    "<a id=\"t\"></a>\n",
    "# 6. Small Sample Test"
   ]
  },
  {
   "cell_type": "markdown",
   "id": "0e5fe56b",
   "metadata": {
    "id": "0e5fe56b"
   },
   "source": [
    "If the sample size is small (usually, n < 30) then we use the `t-test`. These tests are also known as `exact tests`."
   ]
  },
  {
   "cell_type": "markdown",
   "id": "95d19854",
   "metadata": {
    "id": "95d19854"
   },
   "source": [
    "<a id=\"1t\"></a>\n",
    "## 6.1 One Sample t Test"
   ]
  },
  {
   "cell_type": "markdown",
   "id": "d7801731",
   "metadata": {
    "id": "d7801731"
   },
   "source": [
    "Let us perform a one sample t-test for the population mean. We compare the population mean with a specific value.\n",
    "\n",
    "The null and alternative hypothesis is given as:\n",
    "\n",
    "<p style='text-indent:25em'> <strong> $H_{0}: \\mu = \\mu_{0}$ or $\\mu \\geq \\mu_{0}$ or $\\mu \\leq \\mu_{0}$</strong></p>\n",
    "<p style='text-indent:25em'> <strong> $H_{1}: \\mu \\neq \\mu_{0}$ or $\\mu < \\mu_{0}$ or $\\mu > \\mu_{0}$</strong></p>"
   ]
  },
  {
   "cell_type": "markdown",
   "id": "4406f110",
   "metadata": {
    "id": "4406f110"
   },
   "source": [
    "The test statistic is given as:\n",
    "<p style='text-indent:25em'> <strong> $t = \\frac{\\overline{X} -  \\mu_{0}}{\\frac{s}{\\sqrt(n)}}$</strong></p>\n",
    "\n",
    "Where, <br>\n",
    "$\\overline{X}$: Sample mean<br>\n",
    "$s$: Sample standard deviation<br>\n",
    "$n$: Sample size\n",
    "\n",
    "Under $H_{0}$ the test statistic follows a t-distribution with n-1 degrees of freedom."
   ]
  },
  {
   "cell_type": "markdown",
   "id": "cb0cc28d",
   "metadata": {
    "id": "cb0cc28d"
   },
   "source": [
    "### Example:\n",
    "\n",
    "\n",
    "#### 1. A survey claims that in a math test female students tend to score fewer marks than the average marks of 75 out of 100. Consider a sample of 24 female students and perform a hypothesis test to check the claim with 90% confidence.\n",
    "\n",
    "Use the dataset available in the CSV file `mathscore_1ttest.csv`."
   ]
  },
  {
   "cell_type": "code",
   "execution_count": null,
   "id": "1440d73b-ea53-4e0a-9477-039b4d729572",
   "metadata": {},
   "outputs": [],
   "source": [
    "h0:u>75\n",
    "h1:u<75"
   ]
  },
  {
   "cell_type": "code",
   "execution_count": 123,
   "id": "f3fe30ac",
   "metadata": {
    "colab": {
     "base_uri": "https://localhost:8080/",
     "height": 173
    },
    "executionInfo": {
     "elapsed": 445,
     "status": "ok",
     "timestamp": 1663763464757,
     "user": {
      "displayName": "David Pratap",
      "userId": "09405790748084406328"
     },
     "user_tz": -330
    },
    "id": "f3fe30ac",
    "outputId": "f71c433f-b56a-4434-9e3d-c91176610509"
   },
   "outputs": [
    {
     "data": {
      "text/plain": [
       "24"
      ]
     },
     "execution_count": 123,
     "metadata": {},
     "output_type": "execute_result"
    }
   ],
   "source": [
    "# read the students performance data\n",
    "import pandas as pd\n",
    "df_female_scores = pd.read_csv('mathscore_1ttest.csv')\n",
    "\n",
    "\n",
    "# display the first two observations\n",
    "len(df_female_scores)"
   ]
  },
  {
   "cell_type": "code",
   "execution_count": 125,
   "id": "3af40c52-0261-4342-93fa-ca6e47850fd4",
   "metadata": {},
   "outputs": [],
   "source": [
    "df_female_scores=df_female_scores[df_female_scores[\"gender\"]==\"female\"][\"math score\"]"
   ]
  },
  {
   "cell_type": "code",
   "execution_count": 43,
   "id": "f8d000d5-c34a-4412-a2ec-e1e5dbc0fc1a",
   "metadata": {},
   "outputs": [],
   "source": [
    "female_score=df_female_scores[df_female_scores[\"gender\"]==\"female\"][\"math score\"]"
   ]
  },
  {
   "cell_type": "code",
   "execution_count": 25,
   "id": "579cc184-ec0b-41e2-92c2-eee3feb467cc",
   "metadata": {},
   "outputs": [],
   "source": [
    "import numpy as np\n",
    "n=24\n",
    "math_score=(df_female_scores[\"math score\"])\n",
    "len(math_score)\n",
    "np.mean(math_score)\n",
    "np.std(math_score)\n",
    "dof=n-1\n",
    "dof=23\n",
    "pop_mean=75"
   ]
  },
  {
   "cell_type": "code",
   "execution_count": 37,
   "id": "cad4e976-a338-4576-8869-a937d2f0464e",
   "metadata": {},
   "outputs": [
    {
     "name": "stdout",
     "output_type": "stream",
     "text": [
      "Critical value for one-tailed t-test: 1.32\n"
     ]
    }
   ],
   "source": [
    "t_val = np.abs(round(stats.t.isf(q = 0.1,df=23), 2))\n",
    "\n",
    "print('Critical value for one-tailed t-test:', t_val)"
   ]
  },
  {
   "cell_type": "code",
   "execution_count": 41,
   "id": "7425ad10",
   "metadata": {
    "id": "7425ad10"
   },
   "outputs": [
    {
     "name": "stdout",
     "output_type": "stream",
     "text": [
      "Degrees of freedom: 23\n"
     ]
    }
   ],
   "source": [
    "# consider a list of math scores of female students from the data\n",
    "math_marks = list(df_female_scores['math score'])\n",
    "\n",
    "# calculate sample mean\n",
    "sample_avg = np.mean(math_marks)\n",
    "\n",
    "# calculate sample standard deviation\n",
    "sample_std = statistics.stdev(math_marks)\n",
    "\n",
    "# sample size\n",
    "n = len(math_marks)\n",
    "\n",
    "# degrees of freedom for 1 sample t-test\n",
    "print('Degrees of freedom:', n - 1)"
   ]
  },
  {
   "cell_type": "markdown",
   "id": "451e0b26",
   "metadata": {
    "id": "451e0b26"
   },
   "source": [
    "Note: There is no point in checking the normality of the sample. So we to rely on an underlying assumption that the variable is approximately normally distributed."
   ]
  },
  {
   "cell_type": "markdown",
   "id": "0e704a11",
   "metadata": {
    "id": "0e704a11"
   },
   "source": [
    "The null and alternative hypothesis is:\n",
    "\n",
    "H<sub>0</sub>: $\\mu \\geq 75$<br>\n",
    "H<sub>1</sub>: $\\mu < 75$"
   ]
  },
  {
   "cell_type": "markdown",
   "id": "90267608",
   "metadata": {
    "id": "90267608"
   },
   "source": [
    "Here ⍺ = 0.1 and degrees of freedom = 23, for a one-tailed test let us calculate the critical t-value."
   ]
  },
  {
   "cell_type": "code",
   "execution_count": 43,
   "id": "bb33812a",
   "metadata": {
    "id": "bb33812a",
    "scrolled": true
   },
   "outputs": [
    {
     "name": "stdout",
     "output_type": "stream",
     "text": [
      "Critical value for one-tailed t-test: 1.32\n"
     ]
    }
   ],
   "source": [
    "# calculate the t-value for 90% of confidence level\n",
    "# use 'stats.t.isf()' to find the t-value corresponding to the upper tail probability 'q'\n",
    "# pass the value of 'alpha' to the parameter 'q', here alpha = 0.1\n",
    "# pass the degrees of freedom to the parameter, 'df'\n",
    "# use 'round()' to round-off the value to 2 digits\n",
    "t_val = round(stats.t.isf(q = 0.1, df = 23), 2)\n",
    "\n",
    "print('Critical value for one-tailed t-test:', t_val)"
   ]
  },
  {
   "cell_type": "markdown",
   "id": "43e5a49e",
   "metadata": {
    "id": "43e5a49e"
   },
   "source": [
    "i.e. if t is less than -1.32 then we reject the null hypothesis."
   ]
  },
  {
   "cell_type": "code",
   "execution_count": 47,
   "id": "dd9c95d5",
   "metadata": {
    "id": "dd9c95d5"
   },
   "outputs": [
    {
     "data": {
      "text/plain": [
       "(-3.6067380757023204, 0.0014853227915357337)"
      ]
     },
     "execution_count": 47,
     "metadata": {},
     "output_type": "execute_result"
    }
   ],
   "source": [
    "# use 'ttest_1samp()' to calculate the test statistic and corresponding p-value for 2-tailed test\n",
    "# pass the sample data to the parameter, 'a'\n",
    "# pass the average value in the null hypothesis to the parameter, 'popmean'\n",
    "t_stat, p_val = stats.ttest_1samp(a = math_marks, popmean = 75)\n",
    "\n",
    "t_stat, p_val"
   ]
  },
  {
   "cell_type": "markdown",
   "id": "e9511a9b",
   "metadata": {
    "id": "e9511a9b"
   },
   "source": [
    "In our example, the hypothesis test is one-tailed. Thus, we divide the two-tailed probability by 2 to obtain the one-tailed probability."
   ]
  },
  {
   "cell_type": "code",
   "execution_count": 49,
   "id": "a655baa6",
   "metadata": {
    "id": "a655baa6"
   },
   "outputs": [
    {
     "name": "stdout",
     "output_type": "stream",
     "text": [
      "Test Statistic: -3.6067380757023204\n",
      "p-value: 0.0007426613957678669\n"
     ]
    }
   ],
   "source": [
    "# divide the p-value by 2\n",
    "req_p_val = p_val/2\n",
    "\n",
    "# print the test statistic value and corresponding p-value\n",
    "print('Test Statistic:', t_stat)\n",
    "print('p-value:', req_p_val)"
   ]
  },
  {
   "cell_type": "markdown",
   "id": "6dbd28f7",
   "metadata": {
    "id": "6dbd28f7"
   },
   "source": [
    "We can see that the test statistic value is less than -1.32, and the p-value is less than 0.1. Thus, we reject the null hypothesis and conclude that the proposed claim, i.e. in math tests female students tend to get lower than the average marks of\n",
    "75 out of 100, is correct."
   ]
  },
  {
   "cell_type": "markdown",
   "id": "00e2bfa5",
   "metadata": {
    "id": "00e2bfa5"
   },
   "source": [
    "#### 2. A researcher is studying the growth of bacteria in waters of Lake Beach. The mean bacteria count of 100 per unit volume of water is within the safety level. The researcher collected 10 water samples of unit volume and found the mean bacteria count to be 94.8 with a sample variance of 72.66. Does the data indicate that the bacteria count is within the safety level? Test at the α = .05 level. Assume that the measurements constitute a sample from a normal population."
   ]
  },
  {
   "cell_type": "code",
   "execution_count": null,
   "id": "201f85ab-00f2-4e04-b52c-deaf481dbfe5",
   "metadata": {},
   "outputs": [],
   "source": [
    "pop_mean(100)\n",
    "samp_mean=94.8\n",
    "samp_variance=72.66\n",
    "n=10\n",
    "confidence=0.05"
   ]
  },
  {
   "cell_type": "markdown",
   "id": "9d0f0a79",
   "metadata": {
    "id": "9d0f0a79"
   },
   "source": [
    "The null and alternative hypothesis is:\n",
    "\n",
    "H<sub>0</sub>: $\\mu \\geq 100$<br>\n",
    "H<sub>1</sub>: $\\mu < 100$"
   ]
  },
  {
   "cell_type": "markdown",
   "id": "cedaaecc",
   "metadata": {
    "id": "cedaaecc"
   },
   "source": [
    "Here ⍺ = 0.05 and degrees of freedom = 9, for a one-tailed test let us calculate the critical t-value."
   ]
  },
  {
   "cell_type": "code",
   "execution_count": null,
   "id": "2770f9bf",
   "metadata": {
    "id": "2770f9bf"
   },
   "outputs": [],
   "source": [
    "# calculate the t-value for 95% of confidence level\n",
    "# use 'stats.t.isf()' to find the t-value corresponding to the upper tail probability 'q'\n",
    "# pass the value of 'alpha' to the parameter 'q', here alpha = 0.05\n",
    "# pass the degrees of freedom to the parameter, 'df'\n",
    "# use 'round()' to round-off the value to 2 digits\n",
    "t_val = round(stats.t.isf(q = 0.05, df = 9), 2)\n",
    "\n",
    "print('Critical value for one-tailed t-test:', t_val)"
   ]
  },
  {
   "cell_type": "markdown",
   "id": "1b4fa0b1",
   "metadata": {
    "id": "1b4fa0b1"
   },
   "source": [
    "As t-distribution is symmetric, for a left-tailed test if t is less than -1.83 then we reject the null hypothesis."
   ]
  },
  {
   "cell_type": "code",
   "execution_count": 51,
   "id": "3028e905",
   "metadata": {
    "id": "3028e905"
   },
   "outputs": [
    {
     "name": "stdout",
     "output_type": "stream",
     "text": [
      "t-score: -1.9291040236750068\n"
     ]
    }
   ],
   "source": [
    "# define a function to calculate the t-test statistic\n",
    "# pass the population mean, sample standard deviation, sample size and sample mean as the function input\n",
    "def t_test(pop_mean, samp_std, n, samp_mean):\n",
    "\n",
    "    # calculate the test statistic\n",
    "    t_score = (samp_mean - pop_mean) / (samp_std / np.sqrt(n))\n",
    "\n",
    "    # return the t-test value\n",
    "    return t_score\n",
    "\n",
    "# given data\n",
    "n = 10\n",
    "pop_mean = 100\n",
    "samp_var = 72.66\n",
    "samp_mean = 94.8\n",
    "\n",
    "# calculate sample standard deviation\n",
    "samp_std = np.sqrt(samp_var)\n",
    "\n",
    "# calculate the test statistic using the function 't_test'\n",
    "t_score = t_test(pop_mean, samp_std, n, samp_mean)\n",
    "print(\"t-score:\", t_score)"
   ]
  },
  {
   "cell_type": "code",
   "execution_count": null,
   "id": "ec7300ba",
   "metadata": {
    "id": "ec7300ba"
   },
   "outputs": [],
   "source": [
    "# calculate the corresponding p-value for the test statistic\n",
    "# use 'cdf()' to calculate P(t <= t_score)\n",
    "# pass the degrees of freedom to the parameter, 'df'\n",
    "p_value = stats.t.cdf(t_score, df = 9)\n",
    "\n",
    "print('p-value:', p_value)"
   ]
  },
  {
   "cell_type": "markdown",
   "id": "3a75dbe3",
   "metadata": {
    "id": "3a75dbe3"
   },
   "source": [
    "We can see that the test statistic value is less than -1.83, the p-value is less than 0.05. Thus, we reject the null hypothesis and can conclude that the average bacteria per unit volume (true mean) is within the safety levels."
   ]
  },
  {
   "cell_type": "markdown",
   "id": "0af81726",
   "metadata": {
    "id": "0af81726"
   },
   "source": [
    "<a id=\"error\"></a>\n",
    "# 6. Errors in Hypothesis Testing"
   ]
  },
  {
   "cell_type": "markdown",
   "id": "ee3e1e18",
   "metadata": {
    "id": "ee3e1e18"
   },
   "source": [
    "Under the hytpothesis testing framework there can be two decisions; either we 'reject' the null hypotyhesis H<sub>0</sub> or 'not reject' the null hypothesis H<sub>0</sub>. Errors can still occur in a hypothesis testing scenario because the decision to reject or not reject the null hypothesis is made on the basis of data taken from a sample. Two types of errors are `Type I` and `Type II` error."
   ]
  },
  {
   "cell_type": "markdown",
   "id": "c5f4ee70",
   "metadata": {
    "id": "c5f4ee70"
   },
   "source": [
    "### Type I Error\n",
    "\n",
    "This kind of error occurs when we reject the null hypothesis even if it is true. It is equivalent to a `false positive` conclusion. The maximum probability of committing a type I error is given by the value of $\\alpha$, level of significance. So when $\\alpha$ = 0.05 there is a 5% chance of rejecting a true null hypothesis.\n",
    "\n",
    "### Type II Error\n",
    "\n",
    "This kind of error occurs when we fail to reject the null hypothesis even if it is wrong. It is equivalent to a `false negative` conclusion. The probability of type II error is given by the value of $\\beta$. The value of $\\beta$ cannot be easily calculated. But $\\alpha$ and $\\beta$ are thus related that decreasing one increases the other."
   ]
  }
 ],
 "metadata": {
  "colab": {
   "collapsed_sections": [
    "06af1d83",
    "8d9b372f",
    "d66e6df2",
    "db931e70",
    "d2f91c98",
    "ebfd90df",
    "fe48b0f7",
    "75437147",
    "9390028c",
    "58dc10e7",
    "cb1c4dbf",
    "ff98776b",
    "740e4831",
    "75472414",
    "191fc577",
    "a8473571",
    "2548eeeb",
    "5a700524",
    "c5f4ee70"
   ],
   "provenance": []
  },
  "kernelspec": {
   "display_name": "Python 3 (ipykernel)",
   "language": "python",
   "name": "python3"
  },
  "language_info": {
   "codemirror_mode": {
    "name": "ipython",
    "version": 3
   },
   "file_extension": ".py",
   "mimetype": "text/x-python",
   "name": "python",
   "nbconvert_exporter": "python",
   "pygments_lexer": "ipython3",
   "version": "3.12.7"
  }
 },
 "nbformat": 4,
 "nbformat_minor": 5
}
