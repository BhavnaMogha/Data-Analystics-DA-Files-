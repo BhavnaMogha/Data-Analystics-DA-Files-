{
 "cells": [
  {
   "cell_type": "code",
   "execution_count": 2,
   "id": "897b1131-fee1-4515-9e65-cd1db615356b",
   "metadata": {},
   "outputs": [],
   "source": [
    "# Analytics\n",
    "# 1. Numpy - mathematical operations on array\n",
    "# 2. Pandas - data manipulation\n",
    "# 3. Matplotlib - visualization\n",
    "# 4. seaborn - statistical analysis, advance visualization\n",
    "# projects"
   ]
  },
  {
   "cell_type": "code",
   "execution_count": null,
   "id": "7ce4ed9d-e7b9-44b3-a246-4bc7920f330e",
   "metadata": {},
   "outputs": [],
   "source": []
  },
  {
   "cell_type": "code",
   "execution_count": 11,
   "id": "4072430d-978d-4354-a7a0-58c6f5fc68a6",
   "metadata": {},
   "outputs": [],
   "source": [
    "# Numpy- stands for numerical python. It is python foundational library that is used to perform the mathematical operations and linear algebric function on array and matrix.\n",
    "# numpy consits on 2 components array & matrix"
   ]
  },
  {
   "cell_type": "code",
   "execution_count": null,
   "id": "45369703-d1f7-45eb-b1a5-40e91e11c165",
   "metadata": {},
   "outputs": [],
   "source": []
  },
  {
   "cell_type": "code",
   "execution_count": null,
   "id": "68ff09c7-36b4-497b-844e-75f6c9f49b28",
   "metadata": {},
   "outputs": [],
   "source": [
    "# Array is a collection of similar data types"
   ]
  },
  {
   "cell_type": "code",
   "execution_count": 12,
   "id": "4ba72785-b23f-4455-a58f-70933c9caa7b",
   "metadata": {},
   "outputs": [],
   "source": [
    "import numpy as np"
   ]
  },
  {
   "cell_type": "code",
   "execution_count": 94,
   "id": "904151e4-021d-414e-8576-e2b8c1f600d7",
   "metadata": {},
   "outputs": [
    {
     "name": "stdout",
     "output_type": "stream",
     "text": [
      "hello\n"
     ]
    }
   ],
   "source": [
    "print('hello')"
   ]
  },
  {
   "cell_type": "markdown",
   "id": "b5aee1d9-3031-47b9-8523-7a94e8386837",
   "metadata": {},
   "source": [
    "# array"
   ]
  },
  {
   "cell_type": "markdown",
   "id": "659d8b1c-2572-400c-b863-116e82ce066d",
   "metadata": {},
   "source": [
    "# array"
   ]
  },
  {
   "cell_type": "code",
   "execution_count": null,
   "id": "2b484012-67ac-4b83-b979-7415e7171091",
   "metadata": {},
   "outputs": [],
   "source": [
    "print('hello')"
   ]
  },
  {
   "cell_type": "code",
   "execution_count": null,
   "id": "0e9279a5-6af0-4dde-90d3-67ed45cab9a0",
   "metadata": {},
   "outputs": [],
   "source": []
  },
  {
   "cell_type": "code",
   "execution_count": null,
   "id": "76c94fbf-e372-4afc-87f1-f97b4c9e6031",
   "metadata": {},
   "outputs": [],
   "source": []
  },
  {
   "cell_type": "code",
   "execution_count": 7,
   "id": "22fcade5-9f87-426f-8047-f614642214c1",
   "metadata": {},
   "outputs": [],
   "source": [
    "di=[10,20,30]\n",
    "ti=[5,10,15]\n"
   ]
  },
  {
   "cell_type": "code",
   "execution_count": 9,
   "id": "419b958f-0d18-40f3-966c-a73ecc165e3a",
   "metadata": {},
   "outputs": [],
   "source": [
    "d=numpy.array(di)\n",
    "t=numpy.array(ti)"
   ]
  },
  {
   "cell_type": "code",
   "execution_count": 10,
   "id": "115d7502-7d65-4c91-8e35-d636bd7cb50b",
   "metadata": {},
   "outputs": [
    {
     "data": {
      "text/plain": [
       "array([2., 2., 2.])"
      ]
     },
     "execution_count": 10,
     "metadata": {},
     "output_type": "execute_result"
    }
   ],
   "source": [
    "sp=d/t\n",
    "sp"
   ]
  },
  {
   "cell_type": "code",
   "execution_count": 4,
   "id": "5308bd25-b49a-46c7-9539-43991659d49d",
   "metadata": {},
   "outputs": [
    {
     "name": "stdout",
     "output_type": "stream",
     "text": [
      "[10, 20, 30, 5, 10, 15]\n"
     ]
    }
   ],
   "source": [
    "print(di+ti)"
   ]
  },
  {
   "cell_type": "code",
   "execution_count": 18,
   "id": "3e846954-5169-450a-b17d-0f335b87e6b3",
   "metadata": {},
   "outputs": [],
   "source": [
    "# Properties of array\n",
    "# 1. ndim\n",
    "# 2. shape\n",
    "# 3. size\n",
    "# 4. dtype"
   ]
  },
  {
   "cell_type": "code",
   "execution_count": 27,
   "id": "848d4426-b7b0-475c-9a20-509de0d7e642",
   "metadata": {},
   "outputs": [
    {
     "name": "stdout",
     "output_type": "stream",
     "text": [
      "<class 'numpy.ndarray'>\n",
      "1\n",
      "(3,)\n"
     ]
    }
   ],
   "source": [
    "a=np.array([1,2,3])\n",
    "print(type(a))\n",
    "print(a.ndim)\n",
    "print(a.shape)"
   ]
  },
  {
   "cell_type": "code",
   "execution_count": 42,
   "id": "6cdf14ae-ccea-4505-8cc9-d0451d28eab7",
   "metadata": {},
   "outputs": [
    {
     "name": "stdout",
     "output_type": "stream",
     "text": [
      "[[1 2 3 4 5 6 7 8]]\n",
      "2\n",
      "(1, 8)\n",
      "8\n",
      "int32\n"
     ]
    }
   ],
   "source": [
    "b=np.array([[1,2,3,4,5,6,7,8]])\n",
    "print(b)\n",
    "print(b.ndim)\n",
    "print(b.shape)\n",
    "print(b.size)\n",
    "print(b.dtype)"
   ]
  },
  {
   "cell_type": "code",
   "execution_count": 44,
   "id": "5d776759-8326-4004-b77b-c27bd1ce930b",
   "metadata": {},
   "outputs": [
    {
     "name": "stdout",
     "output_type": "stream",
     "text": [
      "[[1.  2.  3. ]\n",
      " [4.  5.2 6. ]\n",
      " [7.  8.  9. ]]\n",
      "2\n",
      "(3, 3)\n",
      "9\n",
      "float64\n"
     ]
    }
   ],
   "source": [
    "c=np.array([[1,2,3],[4,5.2,6],[7,8,9]])\n",
    "print(c)\n",
    "print(c.ndim)\n",
    "print(c.shape)\n",
    "print(c.size)\n",
    "print(c.dtype)"
   ]
  },
  {
   "cell_type": "code",
   "execution_count": 38,
   "id": "53532421-aca6-4613-a1ca-280d8d1cfbfe",
   "metadata": {},
   "outputs": [
    {
     "name": "stdout",
     "output_type": "stream",
     "text": [
      "3\n",
      "(1, 2, 3)\n",
      "6\n"
     ]
    }
   ],
   "source": [
    "d=np.array([[[1,2,3],[5,6,7]]])\n",
    "print(d.ndim)\n",
    "print(d.shape)\n",
    "print(d.size)"
   ]
  },
  {
   "cell_type": "code",
   "execution_count": 39,
   "id": "6ae2b038-1f84-41ed-821d-df36c05cfc7d",
   "metadata": {},
   "outputs": [
    {
     "name": "stdout",
     "output_type": "stream",
     "text": [
      "[[[[1 2]\n",
      "   [3 4]\n",
      "   [5 6]\n",
      "   [6 7]\n",
      "   [1 1]]]]\n",
      "4\n",
      "(1, 1, 5, 2)\n",
      "10\n"
     ]
    }
   ],
   "source": [
    "e=np.array([[[[1,2],[3,4],[5,6],[6,7],[1,1]]]])\n",
    "print(e)\n",
    "print(e.ndim)\n",
    "print(e.shape)\n",
    "print(e.size)"
   ]
  },
  {
   "cell_type": "code",
   "execution_count": 41,
   "id": "5185dd61-f5f1-4ad8-8fe8-ed9616f936b3",
   "metadata": {},
   "outputs": [
    {
     "name": "stdout",
     "output_type": "stream",
     "text": [
      "[[[1]\n",
      "  [2]\n",
      "  [3]\n",
      "  [4]\n",
      "  [5]\n",
      "  [6]]]\n",
      "3\n",
      "(1, 6, 1)\n",
      "6\n"
     ]
    }
   ],
   "source": [
    "f=np.array([[[1],[2],[3],[4],[5],[6]]])\n",
    "print(f)\n",
    "print(f.ndim)\n",
    "print(f.shape)\n",
    "print(f.size)"
   ]
  },
  {
   "cell_type": "code",
   "execution_count": 52,
   "id": "995c3b33-c7d5-4044-a2d8-c677f97149f5",
   "metadata": {},
   "outputs": [],
   "source": [
    "# list - list are my mutable data type\n",
    "        # we cant perform mathgemtical operations in the list\n",
    "        # list require a more memory to stor the data that's why the time complexity of list is very high\n",
    "\n",
    "\n",
    "\n",
    "# array - it is method that is imported from numpy\n",
    "        # we can pefrom the mathemartical operatrion in the array\n",
    "        # array rquire less memory that why we store the data in the form of array\n"
   ]
  },
  {
   "cell_type": "markdown",
   "id": "d1e61ed6-ce9d-4543-93e5-e20ab5ee97ab",
   "metadata": {},
   "source": [
    "# Indexing & Slicing"
   ]
  },
  {
   "cell_type": "code",
   "execution_count": 69,
   "id": "32d204b4-4b06-413a-8a90-8b2dae7a9f05",
   "metadata": {},
   "outputs": [
    {
     "name": "stdout",
     "output_type": "stream",
     "text": [
      "[[[ 1  2  3  4  5  6 -7  8  9]]]\n"
     ]
    }
   ],
   "source": [
    "a=np.array([[[1,2,3,4,5,6,-7,8,9]]])\n",
    "print(a)\n",
    "# print(a.ndim)\n",
    "# print(a.shape)\n",
    "# print(a.size)\n",
    "# print(a.dtype)"
   ]
  },
  {
   "cell_type": "code",
   "execution_count": 76,
   "id": "29c19b03-8152-48cc-bf80-17fd692330b0",
   "metadata": {},
   "outputs": [],
   "source": [
    "# print(a[0][0][0])\n",
    "# # print(a[0][0][0])\n",
    "# print(a[0][0][-3])\n",
    "# print(a[-1][-1][-3])\n",
    "# print(a[0][-1][3])"
   ]
  },
  {
   "cell_type": "code",
   "execution_count": 77,
   "id": "a0cf8c5d-8c14-4040-8d12-ef9961e42f51",
   "metadata": {},
   "outputs": [
    {
     "name": "stdout",
     "output_type": "stream",
     "text": [
      "[[ 1  2  3]\n",
      " [ 4  5  6]\n",
      " [ 7  8  9]\n",
      " [11 12  3]]\n"
     ]
    }
   ],
   "source": [
    "c=np.array([[1,2,3],[4,5,6],[7,8,9],[11,12,3]])\n",
    "print(c)"
   ]
  },
  {
   "cell_type": "code",
   "execution_count": 86,
   "id": "40ee97f8-0271-4a53-b291-a7cc006f460b",
   "metadata": {},
   "outputs": [],
   "source": [
    "# print(c[0])\n",
    "# print(c[0][0])\n",
    "# print(c[-1][-2])\n",
    "# print(c[-1][1])\n",
    "# print(c[-4][-2])\n",
    "# print(c[2][-2])\n"
   ]
  },
  {
   "cell_type": "code",
   "execution_count": 87,
   "id": "b1762600-3a6b-47df-abf6-f7997892c6ac",
   "metadata": {},
   "outputs": [
    {
     "name": "stdout",
     "output_type": "stream",
     "text": [
      "[[[[ 1  2  3  4  5]\n",
      "   [ 6  7  8  9  0]\n",
      "   [11 12 13 14 15]\n",
      "   [16 17 18 19 20]]]]\n"
     ]
    }
   ],
   "source": [
    "f=np.array([[[[1,2,3,4,5],[6,7,8,9,0],[11,12,13,14,15],[16,17,18,19,20]]]])\n",
    "print(f)"
   ]
  },
  {
   "cell_type": "code",
   "execution_count": 92,
   "id": "dd4c77d2-c279-49a8-b723-ced457c6c96c",
   "metadata": {},
   "outputs": [],
   "source": [
    "# print(f[0][0][-2])\n",
    "# print(f[-1][0][-4][0])\n",
    "# print(f[0][0][1])\n",
    "# print(f[0][-1][3][2])"
   ]
  },
  {
   "cell_type": "code",
   "execution_count": null,
   "id": "7d3d0cb5-4538-4a9d-998f-f608ab0279d0",
   "metadata": {},
   "outputs": [],
   "source": []
  }
 ],
 "metadata": {
  "kernelspec": {
   "display_name": "Python 3 (ipykernel)",
   "language": "python",
   "name": "python3"
  },
  "language_info": {
   "codemirror_mode": {
    "name": "ipython",
    "version": 3
   },
   "file_extension": ".py",
   "mimetype": "text/x-python",
   "name": "python",
   "nbconvert_exporter": "python",
   "pygments_lexer": "ipython3",
   "version": "3.12.4"
  }
 },
 "nbformat": 4,
 "nbformat_minor": 5
}
