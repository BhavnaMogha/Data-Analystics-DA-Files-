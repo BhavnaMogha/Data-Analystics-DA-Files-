{
 "cells": [
  {
   "cell_type": "markdown",
   "metadata": {
    "id": "Sq-yOAR98uCn"
   },
   "source": []
  },
  {
   "cell_type": "markdown",
   "metadata": {
    "id": "KHf3RiRV8uCo"
   },
   "source": [
    "## Table of Content\n",
    "\n",
    "1. **[Import Libraries](#lib)**\n",
    "2. **[Descriptive Statistics](#des)**\n",
    "    - 2.1 - **[Measures of Central Tendency](#CT)**\n",
    "    - 2.2 - **[Measures of Dispersion](#disp)**\n",
    "    - 2.3 - **[Skewness and Kurtosis](#sk)**\n",
    "    - 2.4 - **[Covariance and Correlation](#cc)**\n",
    "3. **[Probability](#prob)**\n",
    "    - 3.1 - **[Conditional Probability](#cond)**\n",
    "        - 3.1.1 - **[Bayes' Theorem](#bayes)**"
   ]
  },
  {
   "cell_type": "markdown",
   "metadata": {
    "id": "y6hM3fmi8uCp"
   },
   "source": [
    "<a id=\"lib\"></a>\n",
    "# 1. Import Libraries"
   ]
  },
  {
   "cell_type": "markdown",
   "metadata": {
    "id": "Dy98zRR78uCq"
   },
   "source": [
    "**Let us import the required libraries.**"
   ]
  },
  {
   "cell_type": "code",
   "execution_count": null,
   "metadata": {
    "id": "yCe4TXGU8uCq"
   },
   "outputs": [],
   "source": [
    "# import 'pandas'\n",
    "import pandas as pd\n",
    "\n",
    "# import 'numpy'\n",
    "import numpy as np\n",
    "\n",
    "# import subpackage of matplotlib\n",
    "import matplotlib.pyplot as plt\n",
    "from matplotlib import gridspec\n",
    "%matplotlib inline\n",
    "\n",
    "# import 'seaborn'\n",
    "import seaborn as sns\n",
    "\n",
    "# to suppress warnings\n",
    "from warnings import filterwarnings\n",
    "filterwarnings('ignore')\n",
    "\n",
    "# import 'factorial' from math library\n",
    "from math import factorial\n",
    "\n",
    "# import 'stats' package from scipy library\n",
    "from scipy import stats\n",
    "from scipy.stats import randint\n",
    "from scipy.stats import skewnorm\n",
    "\n",
    "# import 'random' to generate a random sample\n",
    "import random"
   ]
  },
  {
   "cell_type": "code",
   "execution_count": null,
   "metadata": {
    "id": "4UI4WRox8uCr"
   },
   "outputs": [],
   "source": [
    "# set the plot size using 'rcParams'\n",
    "# once the plot size is set using 'rcParams', it sets the size of all the forthcoming plots in the file\n",
    "# pass width and height in inches to 'figure.figsize'\n",
    "plt.rcParams['figure.figsize'] = [15,8]"
   ]
  },
  {
   "cell_type": "markdown",
   "metadata": {
    "id": "xSGwGTv88uCs"
   },
   "source": [
    "The study of statistics is mainly divided into two parts: `Descriptive` and `Inferential`.\n",
    "\n",
    "Here we mainly focus on `Inferential Statistics`. Before that, let us recall the descriptive statistics methods learned as a part of exploratory data analysis."
   ]
  },
  {
   "cell_type": "markdown",
   "metadata": {
    "id": "by79eina8uCs"
   },
   "source": [
    "<a id=\"des\"></a>\n",
    "# 2. Descriptive Statistics"
   ]
  },
  {
   "cell_type": "markdown",
   "metadata": {
    "id": "BnZh8ivx8uCt"
   },
   "source": [
    "Descriptive statistics summarizes or describes the given data. It includes measures of central tendency, measures of dispersion and distribution of the data."
   ]
  },
  {
   "cell_type": "markdown",
   "metadata": {
    "id": "M2HgC5WD8uCt"
   },
   "source": [
    "<a id=\"CT\"></a>\n",
    "## 2.1 Measures of Central Tendency"
   ]
  },
  {
   "cell_type": "markdown",
   "metadata": {
    "id": "CkfvcQj98uCt"
   },
   "source": [
    "A measure of central tendency is a value that distinguishes the central position of the data. It includes mean, median, mode and partition values of the data.\n",
    "\n",
    "### Mean:\n",
    "It is defined as the ratio of the sum of all the observations to the total number of observations. It is affected by the presence of outliers.\n",
    "\n",
    "### Median:\n",
    "It is the middlemost observation in the data when it is arranged in increasing or decreasing order based on the values. It divides the dataset into two equal parts.\n",
    "\n",
    "### Mode:\n",
    "It is defined as the value in the data with the highest frequency. There can be more than one mode in the data.\n",
    "\n",
    "### Partition values:\n",
    "Partition values are defined as the values that divide the data into equal parts. `Quartiles` divide the data into 4 equal parts, `Deciles` divide the data into 10 equal parts and `Percentiles` divide the data into 100 equal parts."
   ]
  },
  {
   "cell_type": "markdown",
   "metadata": {
    "id": "xnvMjCes8uCu"
   },
   "source": [
    "### Example:\n",
    "\n",
    "#### 1. A manager handles 12 branches of a supermarket situated in the U.S.A. Consider one day sale (in dollars) of all the branches. Calculate the mean and median to find the average sale.\n",
    "    \n",
    "    Sale = [165, 182, 140, 193, 172, 168, 174, 124, 187, 204, 148, 175]"
   ]
  },
  {
   "cell_type": "code",
   "execution_count": null,
   "metadata": {
    "id": "2ZseC6td8uCu",
    "outputId": "0437522a-cd41-4588-eb2b-54cf03fcf913"
   },
   "outputs": [
    {
     "name": "stdout",
     "output_type": "stream",
     "text": [
      "Mean: 169.33333333333334\n",
      "Median: 173.0\n"
     ]
    }
   ],
   "source": [
    "# given data\n",
    "sale = [165, 182, 140, 193, 172, 168, 174, 124, 187, 204, 148, 175]\n",
    "\n",
    "# calculate mean sale\n",
    "mean_sale = np.mean(sale)\n",
    "print('Mean:', mean_sale)\n",
    "\n",
    "# calculate median sale\n",
    "med_sale = np.median(sale)\n",
    "print('Median:', med_sale)"
   ]
  },
  {
   "cell_type": "markdown",
   "metadata": {
    "id": "EVKGbQ4H8uCu"
   },
   "source": [
    "<a id=\"disp\"></a>\n",
    "## 2.2 Measures of Dispersion"
   ]
  },
  {
   "cell_type": "markdown",
   "metadata": {
    "id": "0t_woDCl8uCv"
   },
   "source": [
    "A measure of dispersion describes the variability in the data. Some of the measures of dispersion are range, variance, standard deviation, coefficient of variation, and IQR.\n",
    "\n",
    "### Range:\n",
    "It is defined as the difference between the largest and smallest observation in the data. It is affected by the presence of extreme observations.\n",
    "\n",
    "### Variance:\n",
    "It calculates the dispersion of the data from the mean. It is defined as the average of the sum of squares of the difference between the observation and the mean.\n",
    "\n",
    "### Standard Deviation:\n",
    "It is the positive square root of variance. The unit of standard deviation is the same as the unit of data points. The variable with near-zero standard deviation is least important for the analysis.\n",
    "\n",
    "### Coefficient of Variation\n",
    "It is a measure of the dispersion of data points around the mean. It is always expressed in percentage. We can compare the coefficient of variation of two or more groups to identify the group with more spread.\n",
    "\n",
    "### Interquartile Range (IQR):\n",
    "It is defined as the difference between the third and first quartiles. It returns the range of the middle 50% of the data. IQR can be used to identify the outliers in the data."
   ]
  },
  {
   "cell_type": "markdown",
   "metadata": {
    "id": "qXUdCUHN8uCv"
   },
   "source": [
    "### Example:\n",
    "\n",
    "#### 1. A manager handles 12 branches of a supermarket situated in the U.S.A. Consider one day sale (in dollars) of all the branches. Calculate the standard deviation of the sale. Also, find the range in which the middle 50% of the sale would lie.\n",
    "    \n",
    "    Sale = [165, 182, 140, 193, 172, 168, 174, 124, 187, 204, 148, 175]"
   ]
  },
  {
   "cell_type": "code",
   "execution_count": null,
   "metadata": {
    "id": "GjjTTufG8uCv",
    "outputId": "7c1324ff-317d-4bd4-b9f3-d30c30e9c0ff"
   },
   "outputs": [
    {
     "name": "stdout",
     "output_type": "stream",
     "text": [
      "Standard Deviation: 21.76898915634093\n",
      "Range of the middle 50% of the sale: 22.5\n"
     ]
    }
   ],
   "source": [
    "# given sale\n",
    "sale = [165, 182, 140, 193, 172, 168, 174, 124, 187, 204, 148, 175]\n",
    "\n",
    "# calculate standard deviation\n",
    "std_sale = np.std(sale)\n",
    "print('Standard Deviation:', std_sale)\n",
    "\n",
    "# calculate the IQR to obtain the range of middle 50% of the sale\n",
    "\n",
    "# 1st quartile\n",
    "# pass the sale values to the parameter, 'a'\n",
    "# pass the required quantile value to the parameter, 'q'\n",
    "Q1_sale = np.quantile(a = sale, q = 0.25)\n",
    "\n",
    "# 3rd quartile\n",
    "# pass the sale values to the parameter, 'a'\n",
    "# pass the required quantile value to the parameter, 'q'\n",
    "Q3_sale = np.quantile(a = sale, q = 0.75)\n",
    "\n",
    "# calculate IQR\n",
    "IQR = Q3_sale - Q1_sale\n",
    "\n",
    "print('Range of the middle 50% of the sale:', IQR)"
   ]
  },
  {
   "cell_type": "markdown",
   "metadata": {
    "id": "Bwljx0FP8uCv"
   },
   "source": [
    "<a id=\"sk\"></a>\n",
    "## 2.3 Skewness and Kurtosis"
   ]
  },
  {
   "cell_type": "markdown",
   "metadata": {
    "id": "TH-XnDpi8uCw"
   },
   "source": [
    "### Skewness:\n",
    "It measures the degree to which the distribution of the data differs from the normal distribution. The value of skewness can be `positive`, `negative`, or `zero`.\n",
    "\n",
    "### Kurtosis:\n",
    "It identifies the peakedness of the data distribution. The positive value of kurtosis represents the `leptokurtic` distribution, the negative value represents the `platykurtic` distribution, and zero value represents the `mesokurtic` distribution."
   ]
  },
  {
   "cell_type": "markdown",
   "metadata": {
    "id": "SQYzWRU08uCw"
   },
   "source": [
    "### Example:\n",
    "\n",
    "#### 1. A manager handles 12 branches of a supermarket situated in the U.S.A. Consider one day sale (in dollars) of all the branches. Identify the type of Skewness and Kurtosis for sales.\n",
    "    \n",
    "    Sale = [165, 182, 140, 193, 172, 168, 174, 124, 187, 204, 148, 175]"
   ]
  },
  {
   "cell_type": "code",
   "execution_count": null,
   "metadata": {
    "id": "GTIzx2qp8uCw",
    "outputId": "5288dee6-a745-4587-b27d-6bc5af66eacf"
   },
   "outputs": [
    {
     "name": "stdout",
     "output_type": "stream",
     "text": [
      "Skewness of Sale: -0.5285526567587567\n",
      "Kurtosis of Sale: -0.38240010775017863\n"
     ]
    }
   ],
   "source": [
    "# calculate the value of skewness to identify the type\n",
    "sale_kurt = stats.skew(sale)\n",
    "print('Skewness of Sale:', sale_kurt)\n",
    "\n",
    "# calculate the value of kurtosis to identify the type\n",
    "sale_kurt = stats.kurtosis(sale)\n",
    "print('Kurtosis of Sale:', sale_kurt)"
   ]
  },
  {
   "cell_type": "markdown",
   "metadata": {
    "id": "6s1iqo6h8uCw"
   },
   "source": [
    "The above output shows that the value of skewness is negative which implies that the data is `negatively skewed`. Also, the value of kurtosis is negative that implies the distribution of the sales is `platykurtic`."
   ]
  },
  {
   "cell_type": "markdown",
   "metadata": {
    "id": "X7p1_Alo8uCw"
   },
   "source": [
    "<a id=\"cc\"></a>\n",
    "## 2.4 Covariance and Correlation"
   ]
  },
  {
   "cell_type": "markdown",
   "metadata": {
    "id": "LcW264NG8uCw"
   },
   "source": [
    "### Covariance:\n",
    "It measures the degree to which two variables move together. The value of covariance can be between $-\\infty$ to $\\infty$. The magnitude of covariance is not easy to interpret.  \n",
    "\n",
    "### Correlation:\n",
    "It is the normalized value of covariance. The correlation value near to +1 indicates a `strong positive` correlation between the variables, and value near to -1 indicates a `strong negative` correlation."
   ]
  },
  {
   "cell_type": "markdown",
   "metadata": {
    "id": "ecLeamie8uCx"
   },
   "source": [
    "### Example:\n",
    "\n",
    "#### 1. A manager handles 12 branches of a supermarket situated in the U.S.A. Consider one day sale (in dollars) and working hours of all the branches. Find the relationship between the working hours of a store and its sales.\n",
    "    Sale = [165, 182, 140, 193, 172, 168, 174, 124, 187, 204, 148, 175]\n",
    "    Working hours = [7, 8.5, 8, 10, 9, 8, 8.5, 7.5, 9.5, 8.5, 8, 9]"
   ]
  },
  {
   "cell_type": "code",
   "execution_count": null,
   "metadata": {
    "id": "eY2exTsc8uCx",
    "outputId": "16cbe24b-8205-488c-f885-7ec0e10aacd6"
   },
   "outputs": [
    {
     "name": "stdout",
     "output_type": "stream",
     "text": [
      "Correlation coefficient: 0.6447248082202144\n"
     ]
    }
   ],
   "source": [
    "# given data\n",
    "sale = pd.Series([165, 182, 140, 193, 172, 168, 174, 124, 187, 204, 148, 175])\n",
    "working_hrs = pd.Series([7, 8.5, 8, 10, 9, 8, 8.5, 7.5, 9.5, 8.5, 8, 9])\n",
    "\n",
    "# calculate the correlation coefficient to find the relationship between working hours and sales of a store\n",
    "corr_coeff = working_hrs.corr(sale)\n",
    "\n",
    "print('Correlation coefficient:', corr_coeff)"
   ]
  },
  {
   "cell_type": "markdown",
   "metadata": {
    "id": "sJvBNiw78uCx"
   },
   "source": [
    "The value of the correlation coefficient shows that there is a positive correlation between the working hours and sales of a store."
   ]
  },
  {
   "cell_type": "markdown",
   "metadata": {
    "id": "WmKvXdc88uCx"
   },
   "source": [
    "<a id=\"prob\"></a>\n",
    "# 3. Probability"
   ]
  },
  {
   "cell_type": "markdown",
   "metadata": {
    "id": "nJq1L-XX8uCx"
   },
   "source": [
    "An event is the outcome or collection of outcomes of an experiment. It is a subset of the `sample space`, which is defined as the set of all possible outcomes of an experiment.\n",
    "\n",
    "### Example:"
   ]
  },
  {
   "cell_type": "code",
   "execution_count": null,
   "metadata": {
    "id": "ye_hHtg18uCx",
    "outputId": "3dd37ed9-c7dc-4b31-c61f-3f4d4dc2ccb5"
   },
   "outputs": [
    {
     "name": "stdout",
     "output_type": "stream",
     "text": [
      "A = {2}\n"
     ]
    }
   ],
   "source": [
    "# consider a set of first ten prime numbers\n",
    "sample_space = {2, 3, 5, 7, 11, 13, 17, 19, 23, 29}\n",
    "\n",
    "# consider an event A: Occurrence of even prime number\n",
    "A = set()\n",
    "\n",
    "# use the for loop to check the condition of even number on each element of the sample space\n",
    "for i in sample_space:\n",
    "\n",
    "    # pass a condition to check whether the number is even\n",
    "    if (i%2 == 0):\n",
    "\n",
    "        # add the number to 'A' if it is even\n",
    "        A.add(i)\n",
    "# print the set A\n",
    "print('A =', A)"
   ]
  },
  {
   "cell_type": "markdown",
   "metadata": {
    "id": "W17x7xog8uCy"
   },
   "source": [
    "`Probability` is defined as the measure of the likelihood of an event to occur. Probability of occurrence of event A is denoted as `P(A)`. The probability of an event takes values between 0 and 1. The probability of sample space is always 1.\n",
    "\n",
    "The probability of complement of an event A is `P(A') = 1-P(A)`."
   ]
  },
  {
   "cell_type": "markdown",
   "metadata": {
    "id": "EjQl9iL28uCy"
   },
   "source": [
    "### Example:\n",
    "\n",
    "#### 1. If the letters of the word `AABRAAKAADAABRAA` are arranged at random, find the probability that 10 A's come consecutively in the word."
   ]
  },
  {
   "cell_type": "code",
   "execution_count": null,
   "metadata": {
    "id": "Ts5Vi44Y8uCy"
   },
   "outputs": [],
   "source": [
    "# set the frequency of each letter in the given word\n",
    "length_of_word = len(\"AABRAAKAADAABRAA\")\n",
    "No_of_A = 10\n",
    "No_of_B = 2\n",
    "No_of_R = 2\n",
    "No_of_K = 1\n",
    "No_of_D = 1"
   ]
  },
  {
   "cell_type": "markdown",
   "metadata": {
    "id": "94lfBNV_8uCy"
   },
   "source": [
    "If 10 A's come consecutively in the word, we consider 10 A's as one group ([AAAAAAAAAA]BRKDBR).\n",
    "\n",
    "Now the total number of letters is 6+1=7."
   ]
  },
  {
   "cell_type": "code",
   "execution_count": null,
   "metadata": {
    "id": "9FXoMyoY8uCy"
   },
   "outputs": [],
   "source": [
    "# number of words when all A's are together\n",
    "no_words_with_10A = factorial(7) / (factorial(No_of_B)*factorial(No_of_D)*factorial(No_of_K)*factorial(No_of_R))\n",
    "\n",
    "# total number of words using the letters of the word \"AABRAAKAADAABRAA\"\n",
    "total_words = factorial(length_of_word) /(factorial(No_of_A)*factorial(No_of_B)*factorial(No_of_D)*factorial(No_of_K)\n",
    "                                          *factorial(No_of_R))"
   ]
  },
  {
   "cell_type": "code",
   "execution_count": null,
   "metadata": {
    "id": "V8XILP7S8uCz",
    "outputId": "51ae916d-0c73-46d7-e37e-dd3fe7e26d12"
   },
   "outputs": [
    {
     "name": "stdout",
     "output_type": "stream",
     "text": [
      "The probability that 10 A's come consecutively in the word is 0.0008741258741258741\n"
     ]
    }
   ],
   "source": [
    "# the required probability is\n",
    "req_prob = (no_words_with_10A/total_words)\n",
    "print(\"The probability that 10 A's come consecutively in the word is\", req_prob)"
   ]
  },
  {
   "cell_type": "markdown",
   "metadata": {
    "id": "pi8VxEqf8uCz"
   },
   "source": [
    "#### 2. If the letters of the word `AABRAAKAADAABRAA` are arranged at random, find the probability that 2 B's and 2 R's come together."
   ]
  },
  {
   "cell_type": "markdown",
   "metadata": {
    "id": "n-o1CtWH8uCz"
   },
   "source": [
    "We consider 2 B's as 1 group and 2 R's as one group. Thus, the total letters will be 12 + 1 + 1 = 14."
   ]
  },
  {
   "cell_type": "code",
   "execution_count": null,
   "metadata": {
    "id": "X1vInw4W8uCz"
   },
   "outputs": [],
   "source": [
    "# '\\' is used to continue the operation in next line\n",
    "# number of words when 2 B's and 2 R's come together\n",
    "no_words_with_2B_2R = (factorial(14) / (factorial(No_of_A)*factorial(No_of_D)*factorial(No_of_K))) * \\\n",
    "                      (factorial(4) / (factorial(2)*factorial(2)))\n",
    "\n",
    "# total number of words using the letters of the word \"AABRAAKAADAABRAA\"\n",
    "total_words = factorial(length_of_word) /(factorial(No_of_A)*factorial(No_of_B)*factorial(No_of_D)*factorial(No_of_K)\n",
    "                                          *factorial(No_of_R))"
   ]
  },
  {
   "cell_type": "code",
   "execution_count": null,
   "metadata": {
    "id": "SeGyhTlT8uDA",
    "outputId": "18c3e274-7718-4007-f095-3fffec6bd6b3"
   },
   "outputs": [
    {
     "name": "stdout",
     "output_type": "stream",
     "text": [
      "The probability that 2 B's and 2 R's come together is 0.1\n"
     ]
    }
   ],
   "source": [
    "# the required probability is\n",
    "req_prob = (no_words_with_2B_2R/total_words)\n",
    "print(\"The probability that 2 B's and 2 R's come together is\", req_prob)"
   ]
  },
  {
   "cell_type": "markdown",
   "metadata": {
    "id": "Ns1pa5gu8uDB"
   },
   "source": [
    "#### 3. A kitchen set contains 10 knives, 3 of which are defective. Two knives are drawn at random with replacement. What is the probability that none of the two knives will be defective?"
   ]
  },
  {
   "cell_type": "code",
   "execution_count": null,
   "metadata": {
    "id": "cbFOGwUA8uDB",
    "outputId": "b828c5a2-3eff-44c0-a788-b1be958c579c"
   },
   "outputs": [
    {
     "name": "stdout",
     "output_type": "stream",
     "text": [
      "The probability that none of the two knives is defective is 0.4666666666666667\n"
     ]
    }
   ],
   "source": [
    "# define a function to calculate combinations\n",
    "def combination(n, r):\n",
    "    result = factorial(n) / (factorial(r) * factorial(n-r))\n",
    "    return result\n",
    "\n",
    "# here 3 knives out of 10 are defective and 7 are not defective\n",
    "# probability of selecting two non defective knives\n",
    "probability = (combination(3, 0) * combination(7, 2)) / combination(10, 2)\n",
    "\n",
    "print(\"The probability that none of the two knives is defective is\", probability)"
   ]
  },
  {
   "cell_type": "markdown",
   "metadata": {
    "id": "NnRWZpUW8uDB"
   },
   "source": [
    "#### 4. The new vaccine is to be tested on patients. There are 5 diabetic patients (have the same type of diabetes), 9 patients with a similar heart condition and 11 patients with the same liver condition. One patient is randomly chosen. What is the probability that the patient is not diabetic?"
   ]
  },
  {
   "cell_type": "code",
   "execution_count": null,
   "metadata": {
    "id": "ROVOEtTC8uDB",
    "outputId": "c73f217a-d792-468d-aeb6-8ce8be4f041b"
   },
   "outputs": [
    {
     "name": "stdout",
     "output_type": "stream",
     "text": [
      "The probability that the selected patient is not diabetic is 0.8\n"
     ]
    }
   ],
   "source": [
    "# total number of patients\n",
    "no_patients = 25\n",
    "\n",
    "# probability of selecting a diabetic patient\n",
    "prob_diabetic = 5/25\n",
    "\n",
    "# we want to calculate the probability that the selected patient is not diabetic\n",
    "req_prob = 1 - prob_diabetic\n",
    "\n",
    "print('The probability that the selected patient is not diabetic is', req_prob)"
   ]
  },
  {
   "cell_type": "markdown",
   "metadata": {
    "id": "hhb1Q5yI8uDC"
   },
   "source": [
    "### Odds\n",
    "\n",
    "Probability can also be expressed in terms of `odds`. Odds is the ratio of the number of observations in favor of an event to the number of observations not in favor of an event. If odds in favor of event A are a:b then $P(A) = \\frac{a}{a+b}$"
   ]
  },
  {
   "cell_type": "markdown",
   "metadata": {
    "id": "q6kDmLV08uDC"
   },
   "source": [
    "### Example:\n",
    "\n",
    "#### 1. The odds that a New Yorker picked at random will be either overweight or obese are 14:11. What is the probability that the person is fit (is not overweight or obese)?"
   ]
  },
  {
   "cell_type": "code",
   "execution_count": null,
   "metadata": {
    "id": "VQS_sIEZ8uDC",
    "outputId": "26385d86-fdfd-40e8-c2af-4fa279e745c6"
   },
   "outputs": [
    {
     "name": "stdout",
     "output_type": "stream",
     "text": [
      "The probability that the person is fit is 0.43999999999999995\n"
     ]
    }
   ],
   "source": [
    "# here odds are 14:11\n",
    "a = 14\n",
    "b = 11\n",
    "\n",
    "# required probability is that the person is fit\n",
    "# let, A: The person is either overweight or obese\n",
    "# to find: P(A') = 1 - P(A)\n",
    "req_prob = 1 - (a/(a+b))\n",
    "\n",
    "print('The probability that the person is fit is', req_prob)"
   ]
  },
  {
   "cell_type": "markdown",
   "metadata": {
    "id": "fPVw4hfz8uDC"
   },
   "source": [
    "<a id=\"cond\"></a>\n",
    "## 3.1 Conditional Probability"
   ]
  },
  {
   "cell_type": "markdown",
   "metadata": {
    "id": "J3rTOHpI8uDC"
   },
   "source": [
    "Consider two events X and Y. The conditional probability of an event `X given Y` is the probability that event X will occur given that the event Y has already occurred. It is denoted by `P(X|Y)` and defined as:\n",
    "\n",
    "<p style='text-indent:25em'> <strong> $ P(X|Y) = \\frac{P(X \\cap Y)}{P(Y)} $</strong> </p>\n",
    "\n",
    "Where,<br>\n",
    "P(X $\\cap$ Y): the probability of the intersection of events X and Y<br>\n",
    "P(Y): Probability of an event Y\n",
    "\n",
    "If X and Y are `mutually exclusive` events, then P(X|Y) = 0. (since, P(X $\\cap$ Y) = 0)\n",
    "\n",
    "If X and Y are `independent` events, then P(X|Y) = P(X). (since, P(X $\\cap$ Y) = P(X).P(Y))"
   ]
  },
  {
   "cell_type": "markdown",
   "metadata": {
    "id": "T1xbPdAz8uDD"
   },
   "source": [
    "### Example:\n",
    "\n",
    "#### 1. A random experiment results in an integer outcome from 21 to 30. Consider two events X and Y.\n",
    "        X: Occurrence of an even number\n",
    "        Y: Occurrence of a number divisible by 4\n",
    "        \n",
    "#### Calculate the probability that an even number will occur given that the number is divisible by 4."
   ]
  },
  {
   "cell_type": "code",
   "execution_count": null,
   "metadata": {
    "id": "SIVQepYq8uDD",
    "outputId": "3982aa7e-ded2-435f-9633-bceab313a084"
   },
   "outputs": [
    {
     "name": "stdout",
     "output_type": "stream",
     "text": [
      "The probability that an even number will occur given that the number is divisible by 4 is 1.0\n"
     ]
    }
   ],
   "source": [
    "# given sample space\n",
    "samp_space = {21, 22, 23, 24, 25, 26, 27, 28, 29, 30}\n",
    "\n",
    "# event X: Occurrence of an even number\n",
    "X = {22, 24, 26, 28, 30}\n",
    "\n",
    "# event Y: Occurrence of a number divisible by 4\n",
    "Y = {24, 28}\n",
    "\n",
    "# to find: P(X|Y)\n",
    "\n",
    "Prob_X_inter_Y = 2/10\n",
    "\n",
    "Prob_Y = 2/10\n",
    "\n",
    "req_prob = Prob_X_inter_Y / Prob_Y\n",
    "\n",
    "print('The probability that an even number will occur given that the number is divisible by 4 is', req_prob)"
   ]
  },
  {
   "cell_type": "markdown",
   "metadata": {
    "id": "EU2saKbj8uDD"
   },
   "source": [
    "Since Y $\\subset$ X, P(X $\\cap$ Y) = P(Y) which implies the P(X|Y) = 1."
   ]
  },
  {
   "cell_type": "markdown",
   "metadata": {
    "id": "pp--hwAu8uDD"
   },
   "source": [
    "#### 2. A pair of fair dice is rolled. If the product of numbers that appear is 6, find the probability that the second die shows an even number?"
   ]
  },
  {
   "cell_type": "code",
   "execution_count": null,
   "metadata": {
    "id": "Q2yvaGfL8uDE",
    "outputId": "17248564-5625-4e3e-ba79-0316c8fe57bc"
   },
   "outputs": [
    {
     "name": "stdout",
     "output_type": "stream",
     "text": [
      "The probability that the second die shows an even number given the product of numbers is 6: 0.5\n"
     ]
    }
   ],
   "source": [
    "# total number of elements in sample space\n",
    "samp_space = 36\n",
    "\n",
    "# consider an event A: Getting the product of numbers as 6\n",
    "# A = {(1,6), (2,3), (3,2), (6,1)}\n",
    "# number of elements for event A\n",
    "num_A = 4\n",
    "\n",
    "# consider an event B: Occurrence of an even number on a second die\n",
    "# B = {(1,2), (1,4), (1,6), (2,2), (2,4), (2,6), (3,2), (3,4), (3,6),\n",
    "#      (4,2), (4,4), (4,6), (5,2), (5,4), (5,6), (6,2), (6,4), (6,6)}\n",
    "# number of elements for event B\n",
    "num_B = 18\n",
    "\n",
    "# to find: P(B|A)\n",
    "# B ∩ A = {(1,6), (3,2)}\n",
    "# number of elements in B ∩ A\n",
    "num_B_inter_A = 2\n",
    "\n",
    "# calculate required probabilities\n",
    "prob_B_inter_A = 2/36\n",
    "prob_A = 4/36\n",
    "\n",
    "# caculate conditional probability\n",
    "req_prob = prob_B_inter_A / prob_A\n",
    "\n",
    "print('The probability that the second die shows an even number given the product of numbers is 6:', req_prob)"
   ]
  },
  {
   "cell_type": "markdown",
   "metadata": {
    "id": "U-N0F8bx8uDF"
   },
   "source": [
    "<a id=\"bayes\"></a>\n",
    "### 3.1.1 Bayes' Theorem"
   ]
  },
  {
   "cell_type": "markdown",
   "metadata": {
    "id": "M9Cq5gB38uDF"
   },
   "source": [
    "Bayes' theorem is based upon a conditional probability concept. It is used to update the probability of an event based on the information obtained from the event that has already occurred. It is also known as `Bayes' Law` or `Bayes' Rule`. It is given as:\n",
    "\n",
    "Consider two events X and Y.\n",
    "\n",
    "<p style='text-indent:25em'><strong>$P(Y|X) =\\frac{P(Y).P(X|Y)}{P(X)}$</strong></p>\n",
    "\n",
    "Where,<br>\n",
    "P(Y|X): Probability that event Y will occur given that event X has already occurred<br>\n",
    "P(X|Y): Probability that event X will occur given that event Y has already occurred<br>\n",
    "P(X), P(Y): Probability of event X and Y respectively"
   ]
  },
  {
   "cell_type": "markdown",
   "metadata": {
    "id": "nYDAZcSn8uDF"
   },
   "source": [
    "### Example:\n",
    "<table align=\"center\" width=350>\n",
    "    <tr>\n",
    "        <td width=\"20%\">\n",
    "            <img src=\"matrix.png\">\n",
    "        </td>\n",
    "    </tr>\n",
    "</table>"
   ]
  },
  {
   "cell_type": "markdown",
   "metadata": {
    "collapsed": true,
    "id": "j8dTfgrI8uDF",
    "jupyter": {
     "outputs_hidden": true
    }
   },
   "source": [
    "#### 1. What is the probability that a girl is chosen given that she likes pink color?"
   ]
  },
  {
   "cell_type": "code",
   "execution_count": 2,
   "metadata": {
    "id": "ngsNzKXb8uDG",
    "outputId": "dc5e6f1c-31ed-408d-82e4-4f884536bc8d"
   },
   "outputs": [
    {
     "name": "stdout",
     "output_type": "stream",
     "text": [
      "The probability that a girl is chosen given that she likes Pink is 0.88\n"
     ]
    }
   ],
   "source": [
    "# probability that the favorite color is pink given girl: P(Pink | Girl)\n",
    "prob_PgG = 70/120\n",
    "\n",
    "# probability of being a girl: P(Girl)\n",
    "prob_G = 120/190\n",
    "\n",
    "# probability that the favorite color is pink: P(Pink)\n",
    "prob_P = 80/190\n",
    "\n",
    "#  probability that a girl is chosen given that she likes pink color: P(Girl | Pink)\n",
    "# using Bayes' theorem\n",
    "Prob_GgP = (prob_PgG * prob_G) / prob_P\n",
    "\n",
    "# use 'round()' to round-off the value to 2 digits\n",
    "req_prob = round(Prob_GgP, 2)\n",
    "\n",
    "print('The probability that a girl is chosen given that she likes Pink is', req_prob)"
   ]
  },
  {
   "cell_type": "markdown",
   "metadata": {
    "id": "OguLFzxd8uDG"
   },
   "source": [
    "#### 2. In an armament production station, the explosion can occur due to short circuit, fault in the machinery, negligence of workers. From experience, the chances of these causes are 0.1, 0.3, 0.6 respectively. The chief engineer feels that an explosion can occur with probability:\n",
    "        1. 0.3 if there is a short circuit\n",
    "        2. 0.2 if there is a fault in the machinery\n",
    "        3. 0.25 if the workers are negligent\n",
    "#### Given that an explosion has occurred, determine the most likely cause of it?"
   ]
  },
  {
   "cell_type": "code",
   "execution_count": null,
   "metadata": {
    "id": "SCOYeYEi8uDG",
    "outputId": "04a88143-f812-43cf-9b6f-b632966dd5e3"
   },
   "outputs": [
    {
     "name": "stdout",
     "output_type": "stream",
     "text": [
      "prob_sc_exp 0.125\n",
      "prob_fm_exp 0.25\n",
      "prob_nw_exp 0.625\n"
     ]
    }
   ],
   "source": [
    "# probability that the explosion can occur due to short circuit\n",
    "prob_sc = 0.1\n",
    "\n",
    "# probability that the explosion can occur due to fault in the machinery\n",
    "prob_fm = 0.3\n",
    "\n",
    "# probability that the explosion can occur due to the negligence of workers\n",
    "prob_nw = 0.6\n",
    "\n",
    "# probability that explosion occurs given there is a short circuit\n",
    "prob_exp_sc = 0.3\n",
    "\n",
    "# probability that explosion occurs given there is a fault in the machinery\n",
    "prob_exp_fm = 0.2\n",
    "\n",
    "# probability that explosion occurs given there is a negligence of workers\n",
    "prob_exp_nw = 0.25\n",
    "\n",
    "# probability of explosion\n",
    "prob_exp = (prob_sc*prob_exp_sc) + (prob_fm*prob_exp_fm) + (prob_nw*prob_exp_nw)\n",
    "\n",
    "# use Bayes' theorem to calculate the probabilities of cause of explosion given there is an explosion\n",
    "prob_sc_exp = (prob_exp_sc * prob_sc) / prob_exp\n",
    "prob_fm_exp = (prob_exp_fm * prob_fm) / prob_exp\n",
    "prob_nw_exp = (prob_exp_nw * prob_nw) / prob_exp\n",
    "\n",
    "print('prob_sc_exp', prob_sc_exp)\n",
    "print('prob_fm_exp', prob_fm_exp)\n",
    "print('prob_nw_exp', prob_nw_exp)"
   ]
  },
  {
   "cell_type": "markdown",
   "metadata": {
    "id": "tXw81VUO8uDG"
   },
   "source": [
    "The negligence of workers is the most likely cause of an explosion in the factory."
   ]
  }
 ],
 "metadata": {
  "colab": {
   "provenance": []
  },
  "kernelspec": {
   "display_name": "Python 3 (ipykernel)",
   "language": "python",
   "name": "python3"
  },
  "language_info": {
   "codemirror_mode": {
    "name": "ipython",
    "version": 3
   },
   "file_extension": ".py",
   "mimetype": "text/x-python",
   "name": "python",
   "nbconvert_exporter": "python",
   "pygments_lexer": "ipython3",
   "version": "3.12.7"
  }
 },
 "nbformat": 4,
 "nbformat_minor": 4
}
