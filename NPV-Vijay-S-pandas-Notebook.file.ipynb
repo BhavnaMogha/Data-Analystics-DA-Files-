{
 "cells": [
  {
   "cell_type": "markdown",
   "id": "a0bea6bf",
   "metadata": {
    "id": "a0bea6bf"
   },
   "source": [
    "<table align=\"left\" width=100%>\n",
    "    <tr>\n",
    "        <td>\n",
    "            <div align=\"center\">\n",
    "                <font color=\"#21618C\" size=8px>\n",
    "                  <b> Vijay S Notebook <br> (Day 2) </b>\n",
    "                </font>\n",
    "            </div>\n",
    "        </td>\n",
    "    </tr>\n",
    "</table>"
   ]
  },
  {
   "cell_type": "markdown",
   "id": "ab637380",
   "metadata": {
    "id": "ab637380"
   },
   "source": [
    "## Table of Content\n",
    "\n",
    "1. **[Pandas](#pandas)**\n",
    "\n",
    "2. **[Data Structures](#structures)**\n",
    "    \n",
    "3. **[Pandas Series](#series)**\n",
    "    - 3.1 - [Creating a Series](#creatingS)\n",
    "    - 3.2 - [Manipulating Series](#manipulatingS)\n",
    "\n",
    "4. **[Pandas DataFrames](#dataframes)**\n",
    "    - 4.1 - [Creating DataFrames](#creatingDF)\n",
    "    - 4.2 - [Manipulating DataFrames](#manipulatingDF)\n",
    "\n",
    "5. **[Reading Data from Different Sources](#reading_data)**"
   ]
  },
  {
   "cell_type": "markdown",
   "id": "fb67a84d",
   "metadata": {
    "id": "fb67a84d"
   },
   "source": [
    "<a id=\"pandas\"> </a>\n",
    "# 1. Pandas"
   ]
  },
  {
   "cell_type": "markdown",
   "id": "3b2ec189",
   "metadata": {
    "id": "3b2ec189"
   },
   "source": [
    "Pandas contain data structures and data manipulation tools designed for data cleaning and analysis.\n",
    "<br><br>\n",
    "                        While pandas adopt much code from NumPy, the difference is that Pandas is designed for tabular, heterogeneous data. NumPy, by difference, is best suited for working with homogeneous numerical array data.<br><br>\n",
    "                         The name Pandas is derived from the term 'panel data' (an econometrics term for multidimensional structured data sets)."
   ]
  },
  {
   "cell_type": "markdown",
   "id": "ef4f41b5",
   "metadata": {
    "id": "ef4f41b5"
   },
   "source": [
    "**How to install pandas?**<br>\n",
    "1. You can use-<br>\n",
    "`!pip install pandas`<br>\n",
    "2. You can import it as 'pd'<br>\n",
    "import pandas as pd"
   ]
  },
  {
   "cell_type": "markdown",
   "id": "ec5e10fe",
   "metadata": {
    "id": "ec5e10fe"
   },
   "source": [
    "Import the pandas library; the following convention is used"
   ]
  },
  {
   "cell_type": "code",
   "execution_count": 4,
   "id": "9ef5b6ae",
   "metadata": {
    "id": "9ef5b6ae"
   },
   "outputs": [],
   "source": [
    "import pandas as pd"
   ]
  },
  {
   "cell_type": "markdown",
   "id": "9db70856",
   "metadata": {
    "id": "9db70856"
   },
   "source": [
    "So from now on, we will use `pd` instead of pandas."
   ]
  },
  {
   "cell_type": "markdown",
   "id": "2b07b157",
   "metadata": {
    "id": "2b07b157"
   },
   "source": [
    "<a id=\"structures\"> </a>\n",
    "# 2. Data Structures"
   ]
  },
  {
   "cell_type": "markdown",
   "id": "ccbb6cf8",
   "metadata": {
    "id": "ccbb6cf8"
   },
   "source": [
    "Pandas has two data structures as follows:<br>\n",
    "1. A Series is a 1-dimensional labelled array that can hold data of any type (such as integer, string, boolean, float, python objects). Its axis labels are collectively called an index.<br>\n",
    "2. A DataFrame is a 2-dimensional labelled data structure with columns. It supports multiple data types."
   ]
  },
  {
   "cell_type": "markdown",
   "id": "871b3ee6",
   "metadata": {
    "id": "871b3ee6"
   },
   "source": [
    "<a id=\"series\"> </a>\n",
    "# 3. Pandas Series"
   ]
  },
  {
   "cell_type": "markdown",
   "id": "c387b4c0",
   "metadata": {
    "id": "c387b4c0"
   },
   "source": [
    "Pandas Series is a one-dimensional labelled array capable of holding any data type. However, a series is a sequence of similar data types, similar to an array, list, or column in a table. <br><Br>It will assign a labelled index to each item in the pd.Series. By default, each item will receive an index label from 0 to N, where N is the length of the Series minus one."
   ]
  },
  {
   "cell_type": "markdown",
   "id": "a4e5bc56",
   "metadata": {
    "id": "a4e5bc56"
   },
   "source": [
    "<a id=\"creatingS\"> </a>\n",
    "## 3.1 Creating a Series"
   ]
  },
  {
   "cell_type": "markdown",
   "id": "4cf47089",
   "metadata": {
    "id": "4cf47089"
   },
   "source": [
    "**1. To create a numeric series**"
   ]
  },
  {
   "cell_type": "code",
   "execution_count": null,
   "id": "13006120",
   "metadata": {
    "id": "13006120",
    "outputId": "3a639c36-e39f-416d-e83b-43a44f1719c2"
   },
   "outputs": [
    {
     "data": {
      "text/plain": [
       "0      1\n",
       "1      6\n",
       "2     11\n",
       "3     16\n",
       "4     21\n",
       "5     26\n",
       "6     31\n",
       "7     36\n",
       "8     41\n",
       "9     46\n",
       "10    51\n",
       "11    56\n",
       "12    61\n",
       "13    66\n",
       "14    71\n",
       "15    76\n",
       "16    81\n",
       "17    86\n",
       "18    91\n",
       "19    96\n",
       "dtype: int64"
      ]
     },
     "execution_count": 2,
     "metadata": {},
     "output_type": "execute_result"
    }
   ],
   "source": [
    "# create a numeric series\n",
    "numbers = range(1,100,5)\n",
    "\n",
    "# covert it to series\n",
    "pd.Series(numbers)"
   ]
  },
  {
   "cell_type": "markdown",
   "id": "35b5fac9",
   "metadata": {
    "id": "35b5fac9"
   },
   "source": [
    "The output also gives the data type of the series as `int64`\n",
    "\n",
    "Furthermore,  note that by default, each item will receive an index label from 0 to N, where N is the length of the Series minus one."
   ]
  },
  {
   "cell_type": "markdown",
   "id": "d9298271",
   "metadata": {
    "id": "d9298271"
   },
   "source": [
    "<b>In python, the row names are called index.</b>"
   ]
  },
  {
   "cell_type": "markdown",
   "id": "f4932976",
   "metadata": {
    "id": "f4932976"
   },
   "source": [
    "**2. To create an object series**"
   ]
  },
  {
   "cell_type": "code",
   "execution_count": null,
   "id": "106e39fc",
   "metadata": {
    "id": "106e39fc",
    "outputId": "fec7b388-6b7b-4d19-9c5c-33016425231f"
   },
   "outputs": [
    {
     "data": {
      "text/plain": [
       "0     Hi\n",
       "1    How\n",
       "2    are\n",
       "3    you\n",
       "4      ?\n",
       "dtype: object"
      ]
     },
     "execution_count": 3,
     "metadata": {},
     "output_type": "execute_result"
    }
   ],
   "source": [
    "# create an object series\n",
    "string = \"Hi\" , \"How\" ,\"are\", \"you\", \"?\"\n",
    "\n",
    "\n",
    "# create a series from the above list\n",
    "pd.Series(string)"
   ]
  },
  {
   "cell_type": "markdown",
   "id": "f5c741f5",
   "metadata": {
    "id": "f5c741f5"
   },
   "source": [
    "The output gives the data type of the series as `object`"
   ]
  },
  {
   "cell_type": "markdown",
   "id": "75716de8",
   "metadata": {
    "id": "75716de8"
   },
   "source": [
    "**3. To create a series by giving both numeric and string values**"
   ]
  },
  {
   "cell_type": "code",
   "execution_count": null,
   "id": "1a1b27be",
   "metadata": {
    "id": "1a1b27be",
    "outputId": "63886672-6ecb-4390-ce57-be4a729d53fa"
   },
   "outputs": [
    {
     "data": {
      "text/plain": [
       "0               345\n",
       "1            London\n",
       "2              34.5\n",
       "3            -34.45\n",
       "4    Happy Birthday\n",
       "dtype: object"
      ]
     },
     "execution_count": 4,
     "metadata": {},
     "output_type": "execute_result"
    }
   ],
   "source": [
    "# create a Series with an arbitrary list\n",
    "pd.Series([345, 'London', 34.5, -34.45, 'Happy Birthday'])"
   ]
  },
  {
   "cell_type": "markdown",
   "id": "59a5bb1f",
   "metadata": {
    "id": "59a5bb1f"
   },
   "source": [
    "Here the numeric values are treated as object."
   ]
  },
  {
   "cell_type": "markdown",
   "id": "601ae7b5",
   "metadata": {
    "id": "601ae7b5"
   },
   "source": [
    "**4. To set index values for a series**"
   ]
  },
  {
   "cell_type": "code",
   "execution_count": 3,
   "id": "477d7d49",
   "metadata": {
    "id": "477d7d49",
    "outputId": "8a6510ad-db7b-48e4-ef66-81234e1e22a6"
   },
   "outputs": [
    {
     "data": {
      "text/plain": [
       "Maths             60.00\n",
       "Science           89.00\n",
       "English           74.00\n",
       "Social Science    86.25\n",
       "dtype: float64"
      ]
     },
     "execution_count": 3,
     "metadata": {},
     "output_type": "execute_result"
    }
   ],
   "source": [
    "# declare a list of marks\n",
    "marks = [60, 89, 74, 86.25]\n",
    "\n",
    "# declare a list of subjects\n",
    "subject = [\"Maths\", \"Science\", \"English\" , \"Social Science\"]\n",
    "\n",
    "# create a series from the above list of marks with subjects as its index names\n",
    "# index: adds the index\n",
    "marks_series = pd.Series(marks, index = subject)\n",
    "marks_series"
   ]
  },
  {
   "cell_type": "markdown",
   "id": "70d67f7d",
   "metadata": {
    "id": "70d67f7d"
   },
   "source": [
    "The index is added using the argument `index=`. The data type of the series continues to be numeric."
   ]
  },
  {
   "cell_type": "markdown",
   "id": "b082dd4d",
   "metadata": {
    "id": "b082dd4d"
   },
   "source": [
    "**5. To print the values and index of the Series**"
   ]
  },
  {
   "cell_type": "code",
   "execution_count": null,
   "id": "3da58560",
   "metadata": {
    "id": "3da58560",
    "outputId": "77ca89d1-4e3b-4d07-9b16-b4647847f734"
   },
   "outputs": [
    {
     "data": {
      "text/plain": [
       "Index(['Maths', 'Science', 'English', 'Social Science'], dtype='object')"
      ]
     },
     "execution_count": 6,
     "metadata": {},
     "output_type": "execute_result"
    }
   ],
   "source": [
    "# print the index of the series\n",
    "marks_series.index"
   ]
  },
  {
   "cell_type": "code",
   "execution_count": null,
   "id": "4cbacdc8",
   "metadata": {
    "id": "4cbacdc8",
    "outputId": "a3792800-f98b-4ddd-866b-170ba2dff07e"
   },
   "outputs": [
    {
     "data": {
      "text/plain": [
       "array([60, 89, 74, 86], dtype=int64)"
      ]
     },
     "execution_count": 7,
     "metadata": {},
     "output_type": "execute_result"
    }
   ],
   "source": [
    "# prints the values of the series\n",
    "marks_series.values"
   ]
  },
  {
   "cell_type": "markdown",
   "id": "b8f73c15",
   "metadata": {
    "id": "b8f73c15"
   },
   "source": [
    "**6. To create a series from a dictionary**"
   ]
  },
  {
   "cell_type": "code",
   "execution_count": null,
   "id": "22332e7d",
   "metadata": {
    "id": "22332e7d",
    "outputId": "ffd2b794-96ac-4dd4-eb23-1aefab8c1b61"
   },
   "outputs": [
    {
     "data": {
      "text/plain": [
       "Maths             60\n",
       "Science           89\n",
       "English           76\n",
       "Social Science    86\n",
       "dtype: int64"
      ]
     },
     "execution_count": 8,
     "metadata": {},
     "output_type": "execute_result"
    }
   ],
   "source": [
    "# declare a dictionary\n",
    "data = {'Maths': 60, 'Science': 89, 'English': 76, 'Social Science': 86}\n",
    "\n",
    "# create a series from the dictionary\n",
    "# the dictionary keys are the index names\n",
    "# the dictionary values are the series values\n",
    "pd.Series(data)"
   ]
  },
  {
   "cell_type": "markdown",
   "id": "50fbd232",
   "metadata": {
    "id": "50fbd232"
   },
   "source": [
    "On passing a `dict`, the index in the resulting Series will have the dict’s keys in given order."
   ]
  },
  {
   "cell_type": "markdown",
   "id": "966cedad",
   "metadata": {
    "id": "966cedad"
   },
   "source": [
    "**7. To create a series using library `numpy`**"
   ]
  },
  {
   "cell_type": "code",
   "execution_count": null,
   "id": "b432761d",
   "metadata": {
    "id": "b432761d",
    "outputId": "6ec0eba3-f2ef-4f5a-b228-3d40cb884104"
   },
   "outputs": [
    {
     "data": {
      "text/plain": [
       "array([ 0. ,  2.5,  5. ,  7.5, 10. ])"
      ]
     },
     "execution_count": 9,
     "metadata": {},
     "output_type": "execute_result"
    }
   ],
   "source": [
    "# import the numpy library\n",
    "import numpy as np\n",
    "\n",
    "# declare the variable 'sequence' using linspace()\n",
    "sequence = np.linspace(0,10, 5)\n",
    "\n",
    "# print the array 'sequence'\n",
    "sequence"
   ]
  },
  {
   "cell_type": "markdown",
   "id": "d383ab70",
   "metadata": {
    "id": "d383ab70"
   },
   "source": [
    "We see that we obtain an array. We can now convert it to a Series."
   ]
  },
  {
   "cell_type": "code",
   "execution_count": null,
   "id": "f27f02c2",
   "metadata": {
    "id": "f27f02c2",
    "outputId": "a4d40a9a-7308-4d4a-a6b8-e021d3880e4d"
   },
   "outputs": [
    {
     "data": {
      "text/plain": [
       "0     0.0\n",
       "1     2.5\n",
       "2     5.0\n",
       "3     7.5\n",
       "4    10.0\n",
       "dtype: float64"
      ]
     },
     "execution_count": 10,
     "metadata": {},
     "output_type": "execute_result"
    }
   ],
   "source": [
    "# create a series from the above sequence\n",
    "pd.Series(sequence)"
   ]
  },
  {
   "cell_type": "markdown",
   "id": "f40f886a",
   "metadata": {
    "id": "f40f886a"
   },
   "source": [
    "**8. A series with missing values**\n",
    "\n",
    "If we pass a key that is not defined, then its value will be `NaN`."
   ]
  },
  {
   "cell_type": "code",
   "execution_count": null,
   "id": "95ff6606",
   "metadata": {
    "id": "95ff6606",
    "outputId": "1ecd1845-5249-4788-b955-2f8ba6627b42"
   },
   "outputs": [
    {
     "name": "stdout",
     "output_type": "stream",
     "text": [
      "Maths             60.0\n",
      "Science           89.0\n",
      "Art and Craft      NaN\n",
      "Social Science    86.0\n",
      "dtype: float64\n"
     ]
    }
   ],
   "source": [
    "# create a list of subjects\n",
    "subjects = [\"Maths\", \"Science\", \"Art and Craft\" , \"Social Science\"]\n",
    "\n",
    "# declare a dictionary\n",
    "data = {'Maths': 60, 'Science': 89, 'English': 76, 'Social Science': 86}\n",
    "\n",
    "# create a series from the dictionary\n",
    "marks_series = pd.Series(data, index = subjects)\n",
    "\n",
    "# print series\n",
    "print(marks_series)"
   ]
  },
  {
   "cell_type": "markdown",
   "id": "a15c0599",
   "metadata": {
    "id": "a15c0599"
   },
   "source": [
    "<a id=\"manipulatingS\"> </a>\n",
    "### 3.2 Manipulating Series"
   ]
  },
  {
   "cell_type": "markdown",
   "id": "51943d97",
   "metadata": {
    "id": "51943d97"
   },
   "source": [
    "**1. To check for null values using `.isnull`**"
   ]
  },
  {
   "cell_type": "code",
   "execution_count": null,
   "id": "8e6912e9",
   "metadata": {
    "id": "8e6912e9",
    "outputId": "fd80b3dd-2156-45a3-8808-326d0989ceb2"
   },
   "outputs": [
    {
     "data": {
      "text/plain": [
       "Maths             False\n",
       "Science           False\n",
       "Art and Craft      True\n",
       "Social Science    False\n",
       "dtype: bool"
      ]
     },
     "execution_count": 12,
     "metadata": {},
     "output_type": "execute_result"
    }
   ],
   "source": [
    "# check for nulls in the data\n",
    "marks_series.isnull()"
   ]
  },
  {
   "cell_type": "markdown",
   "id": "744b6976",
   "metadata": {
    "id": "744b6976"
   },
   "source": [
    "`False` indicates that the value is not null."
   ]
  },
  {
   "cell_type": "markdown",
   "id": "66b0bf36",
   "metadata": {
    "id": "66b0bf36"
   },
   "source": [
    "**2. To check for null values using `.notnull`**"
   ]
  },
  {
   "cell_type": "code",
   "execution_count": null,
   "id": "80547729",
   "metadata": {
    "id": "80547729",
    "outputId": "2d3b3101-5cac-462f-9bcb-952abebe52d4"
   },
   "outputs": [
    {
     "data": {
      "text/plain": [
       "Maths              True\n",
       "Science            True\n",
       "Art and Craft     False\n",
       "Social Science     True\n",
       "dtype: bool"
      ]
     },
     "execution_count": 13,
     "metadata": {},
     "output_type": "execute_result"
    }
   ],
   "source": [
    "# check for nulls in the data\n",
    "marks_series.notnull()"
   ]
  },
  {
   "cell_type": "markdown",
   "id": "5a51686b",
   "metadata": {
    "id": "5a51686b"
   },
   "source": [
    "` True` indicates that the value is not null."
   ]
  },
  {
   "cell_type": "markdown",
   "id": "f82bce65",
   "metadata": {
    "id": "f82bce65"
   },
   "source": [
    "**3. To know the subjects in which marks score is more than 75**"
   ]
  },
  {
   "cell_type": "code",
   "execution_count": null,
   "id": "77c91dc9",
   "metadata": {
    "id": "77c91dc9",
    "outputId": "fc69fba0-2d18-4ef0-af34-e7c2c0ae4700"
   },
   "outputs": [
    {
     "data": {
      "text/plain": [
       "Science           89.0\n",
       "Social Science    86.0\n",
       "dtype: float64"
      ]
     },
     "execution_count": 14,
     "metadata": {},
     "output_type": "execute_result"
    }
   ],
   "source": [
    "# check for marks more than 75\n",
    "marks_series[marks_series > 75]"
   ]
  },
  {
   "cell_type": "markdown",
   "id": "06f5226c",
   "metadata": {
    "id": "06f5226c"
   },
   "source": [
    "**4. To assign 68 marks to 'Art and Craft'**"
   ]
  },
  {
   "cell_type": "code",
   "execution_count": null,
   "id": "4709a55f",
   "metadata": {
    "id": "4709a55f"
   },
   "outputs": [],
   "source": [
    "# assign 68 marks to 'Art and Craft'\n",
    "marks_series[\"Art and Craft\"] = 68"
   ]
  },
  {
   "cell_type": "code",
   "execution_count": null,
   "id": "514adb6d",
   "metadata": {
    "id": "514adb6d",
    "outputId": "6499eb9b-cad5-4bfa-d511-58bd147d6ef7"
   },
   "outputs": [
    {
     "data": {
      "text/plain": [
       "Maths             60.0\n",
       "Science           89.0\n",
       "Art and Craft     68.0\n",
       "Social Science    86.0\n",
       "dtype: float64"
      ]
     },
     "execution_count": 16,
     "metadata": {},
     "output_type": "execute_result"
    }
   ],
   "source": [
    "# print the series\n",
    "marks_series"
   ]
  },
  {
   "cell_type": "markdown",
   "id": "eb6e3d45",
   "metadata": {
    "id": "eb6e3d45"
   },
   "source": [
    "**5. To check whether Maths marks are 73**"
   ]
  },
  {
   "cell_type": "code",
   "execution_count": null,
   "id": "19a8a03d",
   "metadata": {
    "id": "19a8a03d",
    "outputId": "4f1a579e-249c-4396-ae8f-86debad4042a"
   },
   "outputs": [
    {
     "data": {
      "text/plain": [
       "False"
      ]
     },
     "execution_count": 17,
     "metadata": {},
     "output_type": "execute_result"
    }
   ],
   "source": [
    "# check whether Maths marks are 73\n",
    "marks_series.Maths == 73"
   ]
  },
  {
   "cell_type": "code",
   "execution_count": null,
   "id": "075aa36e",
   "metadata": {
    "id": "075aa36e",
    "outputId": "e0acca17-43f2-4a83-a6f7-7b7149ba1eba"
   },
   "outputs": [
    {
     "data": {
      "text/plain": [
       "False"
      ]
     },
     "execution_count": 18,
     "metadata": {},
     "output_type": "execute_result"
    }
   ],
   "source": [
    "# or you may use\n",
    "marks_series[\"Maths\"] == 73"
   ]
  },
  {
   "cell_type": "markdown",
   "id": "0d0c7e33",
   "metadata": {
    "id": "0d0c7e33"
   },
   "source": [
    "**6. To create a series by generating numpy random numbers**"
   ]
  },
  {
   "cell_type": "code",
   "execution_count": null,
   "id": "2b61ceaf",
   "metadata": {
    "id": "2b61ceaf"
   },
   "outputs": [],
   "source": [
    "# create the numbers series\n",
    "# generate a sequence of 15 random numbers using random()\n",
    "# round(): rounds off the number to nearest integer\n",
    "num = pd.Series(np.random.random(15)*10).round()"
   ]
  },
  {
   "cell_type": "markdown",
   "id": "9cf28939",
   "metadata": {
    "id": "9cf28939"
   },
   "source": [
    "**7. To find the square of the numbers series**"
   ]
  },
  {
   "cell_type": "code",
   "execution_count": null,
   "id": "e72b8f79",
   "metadata": {
    "id": "e72b8f79",
    "outputId": "41a4ea58-6cb0-4758-e9e2-7a46ba51fed5"
   },
   "outputs": [
    {
     "data": {
      "text/plain": [
       "0.0       0.0\n",
       "6.0      36.0\n",
       "9.0      81.0\n",
       "8.0      64.0\n",
       "6.0      36.0\n",
       "2.0       4.0\n",
       "1.0       1.0\n",
       "10.0    100.0\n",
       "5.0      25.0\n",
       "9.0      81.0\n",
       "3.0       9.0\n",
       "0.0       0.0\n",
       "5.0      25.0\n",
       "10.0    100.0\n",
       "4.0      16.0\n",
       "dtype: float64"
      ]
     },
     "execution_count": 20,
     "metadata": {},
     "output_type": "execute_result"
    }
   ],
   "source": [
    "# declare a variable square\n",
    "# variable 'square' contains the\n",
    "square = pd.Series(num*num)\n",
    "square.index = [num]\n",
    "square"
   ]
  },
  {
   "cell_type": "markdown",
   "id": "2ced92c0",
   "metadata": {
    "id": "2ced92c0"
   },
   "source": [
    "**8. To assign index name and object name**"
   ]
  },
  {
   "cell_type": "code",
   "execution_count": null,
   "id": "59aeb41c",
   "metadata": {
    "id": "59aeb41c",
    "outputId": "e69a5bab-1683-447a-dab4-ae1980b96fc8"
   },
   "outputs": [
    {
     "data": {
      "text/plain": [
       "0.0       0.0\n",
       "6.0      36.0\n",
       "9.0      81.0\n",
       "8.0      64.0\n",
       "6.0      36.0\n",
       "2.0       4.0\n",
       "1.0       1.0\n",
       "10.0    100.0\n",
       "5.0      25.0\n",
       "9.0      81.0\n",
       "3.0       9.0\n",
       "0.0       0.0\n",
       "5.0      25.0\n",
       "10.0    100.0\n",
       "4.0      16.0\n",
       "Name: Square, dtype: float64"
      ]
     },
     "execution_count": 21,
     "metadata": {},
     "output_type": "execute_result"
    }
   ],
   "source": [
    "# assign object name\n",
    "square.name = 'Square'\n",
    "\n",
    "# assign index name\n",
    "square.index.name = 'Number'\n",
    "\n",
    "# print the series\n",
    "square"
   ]
  },
  {
   "cell_type": "markdown",
   "id": "2dd143f1",
   "metadata": {
    "id": "2dd143f1"
   },
   "source": [
    "**Note:** A Series’s index can be altered in-place by assignment\n",
    "\n",
    "From the output, it is not clear that the index column is labeled, to check whether it is labeled let us print it\n",
    "\n",
    "We use `Series.index` to print the index."
   ]
  },
  {
   "cell_type": "code",
   "execution_count": null,
   "id": "65c2c374",
   "metadata": {
    "id": "65c2c374",
    "outputId": "bdc4d84b-c19f-45ea-ec87-3978483d935b"
   },
   "outputs": [
    {
     "data": {
      "text/plain": [
       "MultiIndex([( 0.0,),\n",
       "            ( 6.0,),\n",
       "            ( 9.0,),\n",
       "            ( 8.0,),\n",
       "            ( 6.0,),\n",
       "            ( 2.0,),\n",
       "            ( 1.0,),\n",
       "            (10.0,),\n",
       "            ( 5.0,),\n",
       "            ( 9.0,),\n",
       "            ( 3.0,),\n",
       "            ( 0.0,),\n",
       "            ( 5.0,),\n",
       "            (10.0,),\n",
       "            ( 4.0,)],\n",
       "           name='Number')"
      ]
     },
     "execution_count": 22,
     "metadata": {},
     "output_type": "execute_result"
    }
   ],
   "source": [
    "# print the index\n",
    "square.index"
   ]
  },
  {
   "cell_type": "markdown",
   "id": "bdbc522e",
   "metadata": {
    "id": "bdbc522e"
   },
   "source": [
    "From `name='Number'`, it is seen that the column is labeled."
   ]
  },
  {
   "cell_type": "markdown",
   "id": "723d2817",
   "metadata": {
    "id": "723d2817"
   },
   "source": [
    "**9. Add a number 5 to every element of the series**"
   ]
  },
  {
   "cell_type": "code",
   "execution_count": null,
   "id": "29ce0914",
   "metadata": {
    "id": "29ce0914",
    "outputId": "5680ace8-ba6a-47e4-da29-ffff2d8d75b1"
   },
   "outputs": [
    {
     "data": {
      "text/plain": [
       "0.0       5.0\n",
       "6.0      41.0\n",
       "9.0      86.0\n",
       "8.0      69.0\n",
       "6.0      41.0\n",
       "2.0       9.0\n",
       "1.0       6.0\n",
       "10.0    105.0\n",
       "5.0      30.0\n",
       "9.0      86.0\n",
       "3.0      14.0\n",
       "0.0       5.0\n",
       "5.0      30.0\n",
       "10.0    105.0\n",
       "4.0      21.0\n",
       "Name: Square, dtype: float64"
      ]
     },
     "execution_count": 23,
     "metadata": {},
     "output_type": "execute_result"
    }
   ],
   "source": [
    "# add 5 to each element\n",
    "square + 5"
   ]
  },
  {
   "cell_type": "markdown",
   "id": "d8fdab41",
   "metadata": {
    "id": "d8fdab41"
   },
   "source": [
    "The number 5 has been added to all the variables."
   ]
  },
  {
   "cell_type": "markdown",
   "id": "9e6ab5e7",
   "metadata": {
    "id": "9e6ab5e7"
   },
   "source": [
    "**10. To extract a value specifying the index**"
   ]
  },
  {
   "cell_type": "code",
   "execution_count": null,
   "id": "fb1e4a52",
   "metadata": {
    "id": "fb1e4a52",
    "outputId": "34e3a84d-7168-4934-97ba-d83f42d3575a"
   },
   "outputs": [
    {
     "data": {
      "text/plain": [
       "6.0    36.0\n",
       "6.0    36.0\n",
       "Name: Square, dtype: float64"
      ]
     },
     "execution_count": 26,
     "metadata": {},
     "output_type": "execute_result"
    }
   ],
   "source": [
    "# obtain the value having index 7\n",
    "square[6]"
   ]
  },
  {
   "cell_type": "markdown",
   "id": "de440b9c",
   "metadata": {
    "id": "de440b9c"
   },
   "source": [
    "All values with index as '7' are obtained"
   ]
  },
  {
   "cell_type": "markdown",
   "id": "06450738",
   "metadata": {
    "id": "06450738"
   },
   "source": [
    "**10. To extract a value specifying the index**"
   ]
  },
  {
   "cell_type": "markdown",
   "id": "232df108",
   "metadata": {
    "id": "232df108"
   },
   "source": [
    "All values with index as '7' are obtained"
   ]
  },
  {
   "cell_type": "markdown",
   "id": "762ac727",
   "metadata": {
    "id": "762ac727"
   },
   "source": [
    "**11. To extract a range of values specifying the location**"
   ]
  },
  {
   "cell_type": "code",
   "execution_count": null,
   "id": "a027cc96",
   "metadata": {
    "id": "a027cc96",
    "outputId": "faf0aa02-2b94-4e5f-97b7-448943c886aa"
   },
   "outputs": [
    {
     "data": {
      "text/plain": [
       "8.0    64.0\n",
       "6.0    36.0\n",
       "2.0     4.0\n",
       "1.0     1.0\n",
       "Name: Square, dtype: float64"
      ]
     },
     "execution_count": 27,
     "metadata": {},
     "output_type": "execute_result"
    }
   ],
   "source": [
    "# extract values having the location\n",
    "# obtain the values from the 3rd position till the 6th position\n",
    "# indexing starts from 0\n",
    "# the 7th position is not included\n",
    "square[3:7]"
   ]
  },
  {
   "cell_type": "markdown",
   "id": "c2194866",
   "metadata": {
    "id": "c2194866"
   },
   "source": [
    "We use `.iloc` to get the values of the specified index of numbers"
   ]
  },
  {
   "cell_type": "code",
   "execution_count": null,
   "id": "69a7f213",
   "metadata": {
    "id": "69a7f213",
    "outputId": "b10d666f-d1ea-4418-fae2-db3c156e6ae4"
   },
   "outputs": [
    {
     "data": {
      "text/plain": [
       "4.0"
      ]
     },
     "execution_count": 28,
     "metadata": {},
     "output_type": "execute_result"
    }
   ],
   "source": [
    "# obtain the value in the 5th position\n",
    "square.iloc[5]"
   ]
  },
  {
   "cell_type": "code",
   "execution_count": null,
   "id": "9ec4d512",
   "metadata": {
    "id": "9ec4d512",
    "outputId": "5369589c-7ef7-4dad-d9d1-b55821ac2774"
   },
   "outputs": [
    {
     "data": {
      "text/plain": [
       "8.0      64.0\n",
       "6.0      36.0\n",
       "2.0       4.0\n",
       "1.0       1.0\n",
       "10.0    100.0\n",
       "5.0      25.0\n",
       "Name: Square, dtype: float64"
      ]
     },
     "execution_count": 29,
     "metadata": {},
     "output_type": "execute_result"
    }
   ],
   "source": [
    "# obtain the values from the 3rd till the 8th position\n",
    "# indexing starts from 0\n",
    "# the 7th position is not included\n",
    "square.iloc[3:9]"
   ]
  },
  {
   "cell_type": "markdown",
   "id": "2375c00a",
   "metadata": {
    "id": "2375c00a"
   },
   "source": [
    "**13. Sorting a numeric series**"
   ]
  },
  {
   "cell_type": "code",
   "execution_count": null,
   "id": "ab602294",
   "metadata": {
    "id": "ab602294",
    "outputId": "4a9164cb-8fe3-4a40-e04b-17e5acb3cab3"
   },
   "outputs": [
    {
     "data": {
      "text/plain": [
       "0    23.0\n",
       "1    45.0\n",
       "2     NaN\n",
       "3    41.0\n",
       "4    23.0\n",
       "5    34.0\n",
       "6    55.0\n",
       "7     NaN\n",
       "8    34.0\n",
       "9    20.0\n",
       "dtype: float64"
      ]
     },
     "execution_count": 30,
     "metadata": {},
     "output_type": "execute_result"
    }
   ],
   "source": [
    "# create a pandas series\n",
    "age = pd.Series([23, 45, np.nan, 41, 23, 34, 55, np.nan, 34, 20])\n",
    "\n",
    "# print values\n",
    "age"
   ]
  },
  {
   "cell_type": "code",
   "execution_count": null,
   "id": "47c475fd",
   "metadata": {
    "id": "47c475fd",
    "outputId": "b51811fe-b365-4294-c354-ec6e8a0afce6"
   },
   "outputs": [
    {
     "data": {
      "text/plain": [
       "9    20.0\n",
       "0    23.0\n",
       "4    23.0\n",
       "5    34.0\n",
       "8    34.0\n",
       "3    41.0\n",
       "1    45.0\n",
       "6    55.0\n",
       "2     NaN\n",
       "7     NaN\n",
       "dtype: float64"
      ]
     },
     "execution_count": 31,
     "metadata": {},
     "output_type": "execute_result"
    }
   ],
   "source": [
    "# ascending order\n",
    "# sort_values: sorts the values\n",
    "# ascending : if specified as True, it sorts values in ascending order (default value is True)\n",
    "age.sort_values(ascending = True)"
   ]
  },
  {
   "cell_type": "code",
   "execution_count": null,
   "id": "30511439",
   "metadata": {
    "id": "30511439",
    "outputId": "2bcd1f85-869d-40da-d470-3a4fe3d432c8"
   },
   "outputs": [
    {
     "data": {
      "text/plain": [
       "6    55.0\n",
       "1    45.0\n",
       "3    41.0\n",
       "5    34.0\n",
       "8    34.0\n",
       "0    23.0\n",
       "4    23.0\n",
       "9    20.0\n",
       "2     NaN\n",
       "7     NaN\n",
       "dtype: float64"
      ]
     },
     "execution_count": 32,
     "metadata": {},
     "output_type": "execute_result"
    }
   ],
   "source": [
    "# arrange in descending order\n",
    "# sort_values: sorts the values\n",
    "# ascending : if specified as True, it sorts values in ascending order (default value is True)\n",
    "# set ascending to False to sort the values in ascending order\n",
    "age.sort_values(ascending = False)"
   ]
  },
  {
   "cell_type": "markdown",
   "id": "cf753a3f",
   "metadata": {
    "id": "cf753a3f"
   },
   "source": [
    "**14. Sorting a categorical series**"
   ]
  },
  {
   "cell_type": "code",
   "execution_count": null,
   "id": "3b78bf71",
   "metadata": {
    "id": "3b78bf71",
    "outputId": "e52f17f1-40f3-446b-da1b-51f5ad6647c0"
   },
   "outputs": [
    {
     "data": {
      "text/plain": [
       "0    a\n",
       "1    j\n",
       "2    d\n",
       "3    f\n",
       "4    t\n",
       "5    a\n",
       "dtype: object"
      ]
     },
     "execution_count": 33,
     "metadata": {},
     "output_type": "execute_result"
    }
   ],
   "source": [
    "# create a pandas series\n",
    "string_values = pd.Series([\"a\", \"j\", \"d\", \"f\", \"t\", \"a\"])\n",
    "\n",
    "# print the values\n",
    "string_values"
   ]
  },
  {
   "cell_type": "code",
   "execution_count": null,
   "id": "362d656a",
   "metadata": {
    "id": "362d656a",
    "outputId": "7c154816-b2b4-4eb1-ef62-80ec10cb24f7"
   },
   "outputs": [
    {
     "data": {
      "text/plain": [
       "0    a\n",
       "5    a\n",
       "2    d\n",
       "3    f\n",
       "1    j\n",
       "4    t\n",
       "dtype: object"
      ]
     },
     "execution_count": 34,
     "metadata": {},
     "output_type": "execute_result"
    }
   ],
   "source": [
    "# ascending order\n",
    "# sort_values: sorts the values\n",
    "# ascending : if specified as True, it sorts values in ascending order (default value is True)\n",
    "string_values.sort_values(ascending = True)"
   ]
  },
  {
   "cell_type": "code",
   "execution_count": null,
   "id": "556cfd90",
   "metadata": {
    "id": "556cfd90",
    "outputId": "8f4ca50b-e27a-4118-d8af-a11898a4678d"
   },
   "outputs": [
    {
     "data": {
      "text/plain": [
       "4    t\n",
       "1    j\n",
       "3    f\n",
       "2    d\n",
       "0    a\n",
       "5    a\n",
       "dtype: object"
      ]
     },
     "execution_count": 35,
     "metadata": {},
     "output_type": "execute_result"
    }
   ],
   "source": [
    "# descending order\n",
    "# sort_values: sorts the values\n",
    "# ascending : if specified as True, it sorts values in ascending order (default value is True)\n",
    "# set ascending to False to sort the values in ascending order\n",
    "string_values.sort_values(ascending = False)"
   ]
  },
  {
   "cell_type": "markdown",
   "id": "f0098435",
   "metadata": {
    "id": "f0098435"
   },
   "source": [
    "**15. Sorting based on index**"
   ]
  },
  {
   "cell_type": "code",
   "execution_count": null,
   "id": "091b5323",
   "metadata": {
    "id": "091b5323",
    "outputId": "c692f982-c772-4afa-c709-4284d6810919"
   },
   "outputs": [
    {
     "data": {
      "text/plain": [
       "0.0       0.0\n",
       "6.0      36.0\n",
       "9.0      81.0\n",
       "8.0      64.0\n",
       "6.0      36.0\n",
       "2.0       4.0\n",
       "1.0       1.0\n",
       "10.0    100.0\n",
       "5.0      25.0\n",
       "9.0      81.0\n",
       "3.0       9.0\n",
       "0.0       0.0\n",
       "5.0      25.0\n",
       "10.0    100.0\n",
       "4.0      16.0\n",
       "Name: Square, dtype: float64"
      ]
     },
     "execution_count": 36,
     "metadata": {},
     "output_type": "execute_result"
    }
   ],
   "source": [
    "# recall the series 'square'\n",
    "square"
   ]
  },
  {
   "cell_type": "code",
   "execution_count": null,
   "id": "51200a20",
   "metadata": {
    "id": "51200a20",
    "outputId": "a678a93a-f25a-4641-bb1d-385bb8a2b65a"
   },
   "outputs": [
    {
     "data": {
      "text/plain": [
       "0.0       0.0\n",
       "0.0       0.0\n",
       "1.0       1.0\n",
       "2.0       4.0\n",
       "3.0       9.0\n",
       "4.0      16.0\n",
       "5.0      25.0\n",
       "5.0      25.0\n",
       "6.0      36.0\n",
       "6.0      36.0\n",
       "8.0      64.0\n",
       "9.0      81.0\n",
       "9.0      81.0\n",
       "10.0    100.0\n",
       "10.0    100.0\n",
       "Name: Square, dtype: float64"
      ]
     },
     "execution_count": 37,
     "metadata": {},
     "output_type": "execute_result"
    }
   ],
   "source": [
    "# sort in ascending order based on index\n",
    "# sort_index: sorts the series based on the index\n",
    "# ascending : if specified as True, it sorts values in ascending order (default value is True)\n",
    "square.sort_index(ascending = True)"
   ]
  },
  {
   "cell_type": "code",
   "execution_count": null,
   "id": "edecd68d",
   "metadata": {
    "id": "edecd68d",
    "outputId": "1d46715f-6c91-4b69-94bb-e92f045862b2"
   },
   "outputs": [
    {
     "data": {
      "text/plain": [
       "10.0    100.0\n",
       "10.0    100.0\n",
       "9.0      81.0\n",
       "9.0      81.0\n",
       "8.0      64.0\n",
       "6.0      36.0\n",
       "6.0      36.0\n",
       "5.0      25.0\n",
       "5.0      25.0\n",
       "4.0      16.0\n",
       "3.0       9.0\n",
       "2.0       4.0\n",
       "1.0       1.0\n",
       "0.0       0.0\n",
       "0.0       0.0\n",
       "Name: Square, dtype: float64"
      ]
     },
     "execution_count": 38,
     "metadata": {},
     "output_type": "execute_result"
    }
   ],
   "source": [
    "# sort in descending order based on index\n",
    "# sort_index: sorts the series based on the index\n",
    "# ascending : if specified as True, it sorts values in ascending order (default value is True)\n",
    "# set ascending to False to sort the values in ascending order\n",
    "square.sort_index(ascending = False)"
   ]
  },
  {
   "cell_type": "markdown",
   "id": "2cf0d4b6",
   "metadata": {
    "id": "2cf0d4b6"
   },
   "source": [
    "**16. Rank a Series**"
   ]
  },
  {
   "cell_type": "code",
   "execution_count": null,
   "id": "b5878c67",
   "metadata": {
    "id": "b5878c67",
    "outputId": "f74fa16d-196c-4849-d1ba-a3af4fb4c398"
   },
   "outputs": [
    {
     "data": {
      "text/plain": [
       "Maths             60.0\n",
       "Science           89.0\n",
       "Art and Craft     68.0\n",
       "Social Science    86.0\n",
       "dtype: float64"
      ]
     },
     "execution_count": 39,
     "metadata": {},
     "output_type": "execute_result"
    }
   ],
   "source": [
    "# recall the marks_series\n",
    "marks_series"
   ]
  },
  {
   "cell_type": "code",
   "execution_count": null,
   "id": "2fe7cb4b",
   "metadata": {
    "id": "2fe7cb4b",
    "outputId": "92ed1ebc-ce8f-4c22-a161-d0f541f2f466",
    "scrolled": true
   },
   "outputs": [
    {
     "data": {
      "text/plain": [
       "Maths             1.0\n",
       "Science           4.0\n",
       "Art and Craft     2.0\n",
       "Social Science    3.0\n",
       "dtype: float64"
      ]
     },
     "execution_count": 40,
     "metadata": {},
     "output_type": "execute_result"
    }
   ],
   "source": [
    "# rank the marks in ascending order\n",
    "# rank(): ranks the values of a series\n",
    "marks_series.rank()"
   ]
  },
  {
   "cell_type": "code",
   "execution_count": null,
   "id": "5cd34aaa",
   "metadata": {
    "id": "5cd34aaa",
    "outputId": "b08563dc-e3e7-449c-d797-6426d6d91ba0"
   },
   "outputs": [
    {
     "data": {
      "text/plain": [
       "Maths             4.0\n",
       "Science           1.0\n",
       "Art and Craft     3.0\n",
       "Social Science    2.0\n",
       "dtype: float64"
      ]
     },
     "execution_count": 41,
     "metadata": {},
     "output_type": "execute_result"
    }
   ],
   "source": [
    "# rank the marks in ascending order\n",
    "# rank(): ranks the values of a series\n",
    "# ascending : if specified as True, it sorts values in ascending order (default value is True)\n",
    "# set ascending to False to sort the values in ascending order\n",
    "marks_series.rank(ascending = False)"
   ]
  },
  {
   "cell_type": "markdown",
   "id": "06c2b0d8",
   "metadata": {
    "id": "06c2b0d8"
   },
   "source": [
    "<a id=\"dataframes\"> </a>\n",
    "## 4. Pandas DataFrames"
   ]
  },
  {
   "cell_type": "markdown",
   "id": "8f8adefd",
   "metadata": {
    "id": "8f8adefd"
   },
   "source": [
    " A DataFrame is a tabular representation of data containing an ordered collection of columns, each of which can be a different type (such as numeric, string, boolean). <br><br>\n",
    "                        The DataFrame has both row and column index; it can be thought of as a dict of Series all sharing the same index. In a data frame, the data is stored as one or more two-dimensional blocks rather than a list, dict, or some other collection of one-dimensional arrays. <br><br>\n",
    "                        While a DataFrame is physically two-dimensional, it can be used to represent higher dimensional data in a tabular format using hierarchical indexing.\n",
    "                   "
   ]
  },
  {
   "cell_type": "markdown",
   "id": "450784fa",
   "metadata": {
    "id": "450784fa"
   },
   "source": [
    "<a id=\"manipulatingDF\"> </a>\n",
    "### 4.2  Manipulating DataFrames"
   ]
  },
  {
   "cell_type": "markdown",
   "id": "fc6c449c",
   "metadata": {
    "id": "fc6c449c"
   },
   "source": [
    "<a id=\"creatingDF\"> </a>\n",
    "### 4.1 Creating DataFrames"
   ]
  },
  {
   "cell_type": "markdown",
   "id": "52a2a45b",
   "metadata": {
    "id": "52a2a45b"
   },
   "source": [
    "**1. Creating a data frame a dictionary**"
   ]
  },
  {
   "cell_type": "code",
   "execution_count": 24,
   "id": "7a1ba677",
   "metadata": {
    "colab": {
     "base_uri": "https://localhost:8080/",
     "height": 211
    },
    "executionInfo": {
     "elapsed": 14,
     "status": "error",
     "timestamp": 1721106906224,
     "user": {
      "displayName": "vijay singh",
      "userId": "01132446089631357410"
     },
     "user_tz": -330
    },
    "id": "7a1ba677",
    "outputId": "b10f90da-08ae-417d-d4b0-06b4d482bb4d"
   },
   "outputs": [
    {
     "data": {
      "text/html": [
       "<div>\n",
       "<style scoped>\n",
       "    .dataframe tbody tr th:only-of-type {\n",
       "        vertical-align: middle;\n",
       "    }\n",
       "\n",
       "    .dataframe tbody tr th {\n",
       "        vertical-align: top;\n",
       "    }\n",
       "\n",
       "    .dataframe thead th {\n",
       "        text-align: right;\n",
       "    }\n",
       "</style>\n",
       "<table border=\"1\" class=\"dataframe\">\n",
       "  <thead>\n",
       "    <tr style=\"text-align: right;\">\n",
       "      <th></th>\n",
       "      <th>Subject</th>\n",
       "      <th>Marks</th>\n",
       "      <th>GPA</th>\n",
       "    </tr>\n",
       "  </thead>\n",
       "  <tbody>\n",
       "    <tr>\n",
       "      <th>0</th>\n",
       "      <td>Maths</td>\n",
       "      <td>45</td>\n",
       "      <td>2.5</td>\n",
       "    </tr>\n",
       "    <tr>\n",
       "      <th>1</th>\n",
       "      <td>History</td>\n",
       "      <td>65</td>\n",
       "      <td>3.0</td>\n",
       "    </tr>\n",
       "    <tr>\n",
       "      <th>2</th>\n",
       "      <td>Science</td>\n",
       "      <td>78</td>\n",
       "      <td>3.5</td>\n",
       "    </tr>\n",
       "    <tr>\n",
       "      <th>3</th>\n",
       "      <td>English</td>\n",
       "      <td>65</td>\n",
       "      <td>2.0</td>\n",
       "    </tr>\n",
       "    <tr>\n",
       "      <th>4</th>\n",
       "      <td>Georaphy</td>\n",
       "      <td>80</td>\n",
       "      <td>4.0</td>\n",
       "    </tr>\n",
       "    <tr>\n",
       "      <th>5</th>\n",
       "      <td>Art</td>\n",
       "      <td>78</td>\n",
       "      <td>4.0</td>\n",
       "    </tr>\n",
       "  </tbody>\n",
       "</table>\n",
       "</div>"
      ],
      "text/plain": [
       "    Subject  Marks  GPA\n",
       "0     Maths     45  2.5\n",
       "1   History     65  3.0\n",
       "2   Science     78  3.5\n",
       "3   English     65  2.0\n",
       "4  Georaphy     80  4.0\n",
       "5       Art     78  4.0"
      ]
     },
     "execution_count": 24,
     "metadata": {},
     "output_type": "execute_result"
    }
   ],
   "source": [
    "# create a dictionary\n",
    "import pandas as pd\n",
    "data = {'Subject': ['Maths', 'History', 'Science', 'English', 'Georaphy', 'Art'],\n",
    "        'Marks': (45, 65, 78, 65, 80, 78),\n",
    "        'GPA': [2.5, 3.0, 3.5, 2.0, 4.0, 4.0]}\n",
    "\n",
    "# create the dataframe using DataFrame()\n",
    "df_marks = pd.DataFrame(data)\n",
    "\n",
    "# print the dataframe\n",
    "df_marks"
   ]
  },
  {
   "cell_type": "code",
   "execution_count": 28,
   "id": "PXqoJ9VK92Cm",
   "metadata": {
    "colab": {
     "base_uri": "https://localhost:8080/",
     "height": 174
    },
    "executionInfo": {
     "elapsed": 487,
     "status": "ok",
     "timestamp": 1721107057251,
     "user": {
      "displayName": "vijay singh",
      "userId": "01132446089631357410"
     },
     "user_tz": -330
    },
    "id": "PXqoJ9VK92Cm",
    "outputId": "a9d64dd5-dd03-47fa-a8dd-a1b8367c99df"
   },
   "outputs": [
    {
     "data": {
      "text/html": [
       "<div>\n",
       "<style scoped>\n",
       "    .dataframe tbody tr th:only-of-type {\n",
       "        vertical-align: middle;\n",
       "    }\n",
       "\n",
       "    .dataframe tbody tr th {\n",
       "        vertical-align: top;\n",
       "    }\n",
       "\n",
       "    .dataframe thead th {\n",
       "        text-align: right;\n",
       "    }\n",
       "</style>\n",
       "<table border=\"1\" class=\"dataframe\">\n",
       "  <thead>\n",
       "    <tr style=\"text-align: right;\">\n",
       "      <th></th>\n",
       "      <th>math</th>\n",
       "      <th>python</th>\n",
       "      <th>html</th>\n",
       "      <th>mchine learning</th>\n",
       "    </tr>\n",
       "  </thead>\n",
       "  <tbody>\n",
       "    <tr>\n",
       "      <th>0</th>\n",
       "      <td>65</td>\n",
       "      <td>85</td>\n",
       "      <td>96</td>\n",
       "      <td>36</td>\n",
       "    </tr>\n",
       "  </tbody>\n",
       "</table>\n",
       "</div>"
      ],
      "text/plain": [
       "   math  python  html  mchine learning\n",
       "0    65      85    96               36"
      ]
     },
     "execution_count": 28,
     "metadata": {},
     "output_type": "execute_result"
    }
   ],
   "source": [
    "import pandas as pd\n",
    "subject=['math','python','html','mchine learning']\n",
    "marks=[65,85,96,36]\n",
    "df1=pd.DataFrame(marks,subject).T\n",
    "df1"
   ]
  },
  {
   "cell_type": "markdown",
   "id": "a32f895d",
   "metadata": {
    "id": "a32f895d"
   },
   "source": [
    "**Note:** Like Series, the resulting DataFrame is assigned index automatically. And the 'Marks' values are in a tuple."
   ]
  },
  {
   "cell_type": "markdown",
   "id": "67d003b1",
   "metadata": {
    "id": "67d003b1"
   },
   "source": [
    "**2. Another way to create dataframe from dictionary**"
   ]
  },
  {
   "cell_type": "code",
   "execution_count": 34,
   "id": "6575f558",
   "metadata": {
    "id": "6575f558"
   },
   "outputs": [
    {
     "data": {
      "text/html": [
       "<div>\n",
       "<style scoped>\n",
       "    .dataframe tbody tr th:only-of-type {\n",
       "        vertical-align: middle;\n",
       "    }\n",
       "\n",
       "    .dataframe tbody tr th {\n",
       "        vertical-align: top;\n",
       "    }\n",
       "\n",
       "    .dataframe thead th {\n",
       "        text-align: right;\n",
       "    }\n",
       "</style>\n",
       "<table border=\"1\" class=\"dataframe\">\n",
       "  <thead>\n",
       "    <tr style=\"text-align: right;\">\n",
       "      <th></th>\n",
       "      <th>Subject</th>\n",
       "      <th>Marks</th>\n",
       "      <th>GPA</th>\n",
       "    </tr>\n",
       "  </thead>\n",
       "  <tbody>\n",
       "    <tr>\n",
       "      <th>0</th>\n",
       "      <td>Maths</td>\n",
       "      <td>45</td>\n",
       "      <td>2.5</td>\n",
       "    </tr>\n",
       "    <tr>\n",
       "      <th>1</th>\n",
       "      <td>History</td>\n",
       "      <td>65</td>\n",
       "      <td>3.0</td>\n",
       "    </tr>\n",
       "    <tr>\n",
       "      <th>2</th>\n",
       "      <td>Science</td>\n",
       "      <td>78</td>\n",
       "      <td>3.5</td>\n",
       "    </tr>\n",
       "    <tr>\n",
       "      <th>3</th>\n",
       "      <td>English</td>\n",
       "      <td>65</td>\n",
       "      <td>2.0</td>\n",
       "    </tr>\n",
       "    <tr>\n",
       "      <th>4</th>\n",
       "      <td>Georaphy</td>\n",
       "      <td>80</td>\n",
       "      <td>4.0</td>\n",
       "    </tr>\n",
       "    <tr>\n",
       "      <th>5</th>\n",
       "      <td>Art</td>\n",
       "      <td>78</td>\n",
       "      <td>4.0</td>\n",
       "    </tr>\n",
       "  </tbody>\n",
       "</table>\n",
       "</div>"
      ],
      "text/plain": [
       "    Subject  Marks  GPA\n",
       "0     Maths     45  2.5\n",
       "1   History     65  3.0\n",
       "2   Science     78  3.5\n",
       "3   English     65  2.0\n",
       "4  Georaphy     80  4.0\n",
       "5       Art     78  4.0"
      ]
     },
     "execution_count": 34,
     "metadata": {},
     "output_type": "execute_result"
    }
   ],
   "source": [
    "# creare the dictionary\n",
    "data = [{'Subject': 'Maths', 'Marks': 45, 'GPA':2.5},\n",
    "        {'Subject':'History', 'Marks':65, 'GPA':3.0},\n",
    "        {'Subject':'Science', 'Marks':78, 'GPA':3.5},\n",
    "        {'Subject':'English', 'Marks':65, 'GPA':2.0},\n",
    "        {'Subject':'Georaphy', 'Marks':80, 'GPA':4.0},\n",
    "        {'Subject':'Art', 'Marks':78, 'GPA':4.0}]\n",
    "\n",
    "# create the dataframe using DataFrame()\n",
    "df_marks = pd.DataFrame(data)\n",
    "\n",
    "# print the dataframe\n",
    "df_marks"
   ]
  },
  {
   "cell_type": "code",
   "execution_count": 36,
   "id": "f6232465-29a3-422d-9ab7-21921c337152",
   "metadata": {},
   "outputs": [
    {
     "data": {
      "text/plain": [
       "Subject     object\n",
       "Marks        int64\n",
       "GPA        float64\n",
       "dtype: object"
      ]
     },
     "execution_count": 36,
     "metadata": {},
     "output_type": "execute_result"
    }
   ],
   "source": [
    "df_marks.dtypes"
   ]
  },
  {
   "cell_type": "markdown",
   "id": "0e29f03d",
   "metadata": {
    "id": "0e29f03d"
   },
   "source": [
    "**3. To create dataframe from lists**"
   ]
  },
  {
   "cell_type": "code",
   "execution_count": null,
   "id": "686c1a94",
   "metadata": {
    "id": "686c1a94"
   },
   "outputs": [],
   "source": [
    "# declare the list 'Subject'\n",
    "Subject = ['Maths', 'History', 'Science', 'English', 'Georaphy', 'Art']\n",
    "\n",
    "# declare the list 'Marks'\n",
    "Marks = [45, 65, 78, 65, 80, 78]\n",
    "\n",
    "# declare the list 'CPA'\n",
    "GPA = [2.5, 3.0, 3.5, 2.0, 4.0, 4.0]"
   ]
  },
  {
   "cell_type": "code",
   "execution_count": null,
   "id": "a4c780be",
   "metadata": {
    "id": "a4c780be"
   },
   "outputs": [],
   "source": [
    "# create a DataFrame from the lists\n",
    "# index: specifies the index names\n",
    "df_marks = pd.DataFrame([Subject, Marks, GPA], index = ['Subject','Marks','GPA'])\n",
    "\n",
    "# print the DataFrame\n",
    "df_marks"
   ]
  },
  {
   "cell_type": "markdown",
   "id": "44ec707c",
   "metadata": {
    "id": "44ec707c"
   },
   "source": [
    "However to want a vertical dataframe so we use `.T`. The 'T' stands for transpose."
   ]
  },
  {
   "cell_type": "code",
   "execution_count": null,
   "id": "bae7957f",
   "metadata": {
    "id": "bae7957f"
   },
   "outputs": [],
   "source": [
    "# transpose the DataFrame\n",
    "df_marks.T"
   ]
  },
  {
   "cell_type": "markdown",
   "id": "7f17b202",
   "metadata": {
    "id": "7f17b202"
   },
   "source": [
    "**4. To create dataframe from series**"
   ]
  },
  {
   "cell_type": "code",
   "execution_count": null,
   "id": "03483eb1",
   "metadata": {
    "id": "03483eb1"
   },
   "outputs": [],
   "source": [
    "# declare the series 'Subject'\n",
    "Subject = pd.Series(['Maths', 'History', 'Science', 'English', 'Georaphy', 'Art'])\n",
    "\n",
    "# declare the series 'Marks'\n",
    "Marks = pd.Series([45, 65, 78, 65, 80, 78])\n",
    "\n",
    "# declare the series 'GPA'\n",
    "GPA = pd.Series([2.5, 3.0, 3.5, 2.0, 4.0, 4.0])"
   ]
  },
  {
   "cell_type": "code",
   "execution_count": null,
   "id": "6e9b03e3",
   "metadata": {
    "id": "6e9b03e3"
   },
   "outputs": [],
   "source": [
    "# create a DataFrame from the Series\n",
    "# index: specifies the index names\n",
    "df_marks = pd.DataFrame([Subject, Marks, GPA], index = ['Subject','Marks','GPA'])\n",
    "\n",
    "# print the DataFrame\n",
    "df_marks"
   ]
  },
  {
   "cell_type": "markdown",
   "id": "86a99079",
   "metadata": {
    "id": "86a99079"
   },
   "source": [
    "However to want a vertical dataframe so we use `.T`. The 'T' stands for transpose."
   ]
  },
  {
   "cell_type": "code",
   "execution_count": null,
   "id": "6410a90c",
   "metadata": {
    "id": "6410a90c"
   },
   "outputs": [],
   "source": [
    "# transpose the DataFrame\n",
    "df_marks.T"
   ]
  },
  {
   "cell_type": "markdown",
   "id": "3d05ebdc",
   "metadata": {
    "id": "3d05ebdc"
   },
   "source": [
    "**Remark:** Assign a name to the data frame and then use `.T` to transpose it."
   ]
  },
  {
   "cell_type": "markdown",
   "id": "8cd0ddc1",
   "metadata": {
    "id": "8cd0ddc1"
   },
   "source": [
    "**5. To read data from csv file**"
   ]
  },
  {
   "cell_type": "code",
   "execution_count": 1,
   "id": "f61a63a4",
   "metadata": {
    "id": "f61a63a4"
   },
   "outputs": [
    {
     "data": {
      "text/html": [
       "<div>\n",
       "<style scoped>\n",
       "    .dataframe tbody tr th:only-of-type {\n",
       "        vertical-align: middle;\n",
       "    }\n",
       "\n",
       "    .dataframe tbody tr th {\n",
       "        vertical-align: top;\n",
       "    }\n",
       "\n",
       "    .dataframe thead th {\n",
       "        text-align: right;\n",
       "    }\n",
       "</style>\n",
       "<table border=\"1\" class=\"dataframe\">\n",
       "  <thead>\n",
       "    <tr style=\"text-align: right;\">\n",
       "      <th></th>\n",
       "      <th>Age</th>\n",
       "      <th>Weight (in kg)</th>\n",
       "      <th>Height (in m)</th>\n",
       "    </tr>\n",
       "  </thead>\n",
       "  <tbody>\n",
       "    <tr>\n",
       "      <th>0</th>\n",
       "      <td>45</td>\n",
       "      <td>60</td>\n",
       "      <td>1.35</td>\n",
       "    </tr>\n",
       "    <tr>\n",
       "      <th>1</th>\n",
       "      <td>12</td>\n",
       "      <td>43</td>\n",
       "      <td>1.21</td>\n",
       "    </tr>\n",
       "    <tr>\n",
       "      <th>2</th>\n",
       "      <td>54</td>\n",
       "      <td>78</td>\n",
       "      <td>1.50</td>\n",
       "    </tr>\n",
       "    <tr>\n",
       "      <th>3</th>\n",
       "      <td>26</td>\n",
       "      <td>65</td>\n",
       "      <td>1.21</td>\n",
       "    </tr>\n",
       "    <tr>\n",
       "      <th>4</th>\n",
       "      <td>68</td>\n",
       "      <td>50</td>\n",
       "      <td>1.32</td>\n",
       "    </tr>\n",
       "    <tr>\n",
       "      <th>5</th>\n",
       "      <td>21</td>\n",
       "      <td>43</td>\n",
       "      <td>1.52</td>\n",
       "    </tr>\n",
       "    <tr>\n",
       "      <th>6</th>\n",
       "      <td>10</td>\n",
       "      <td>32</td>\n",
       "      <td>1.65</td>\n",
       "    </tr>\n",
       "    <tr>\n",
       "      <th>7</th>\n",
       "      <td>57</td>\n",
       "      <td>34</td>\n",
       "      <td>1.61</td>\n",
       "    </tr>\n",
       "    <tr>\n",
       "      <th>8</th>\n",
       "      <td>75</td>\n",
       "      <td>23</td>\n",
       "      <td>1.24</td>\n",
       "    </tr>\n",
       "    <tr>\n",
       "      <th>9</th>\n",
       "      <td>32</td>\n",
       "      <td>21</td>\n",
       "      <td>1.52</td>\n",
       "    </tr>\n",
       "    <tr>\n",
       "      <th>10</th>\n",
       "      <td>23</td>\n",
       "      <td>53</td>\n",
       "      <td>1.50</td>\n",
       "    </tr>\n",
       "    <tr>\n",
       "      <th>11</th>\n",
       "      <td>34</td>\n",
       "      <td>65</td>\n",
       "      <td>1.76</td>\n",
       "    </tr>\n",
       "    <tr>\n",
       "      <th>12</th>\n",
       "      <td>55</td>\n",
       "      <td>89</td>\n",
       "      <td>1.65</td>\n",
       "    </tr>\n",
       "    <tr>\n",
       "      <th>13</th>\n",
       "      <td>23</td>\n",
       "      <td>45</td>\n",
       "      <td>1.75</td>\n",
       "    </tr>\n",
       "    <tr>\n",
       "      <th>14</th>\n",
       "      <td>56</td>\n",
       "      <td>76</td>\n",
       "      <td>1.69</td>\n",
       "    </tr>\n",
       "    <tr>\n",
       "      <th>15</th>\n",
       "      <td>67</td>\n",
       "      <td>78</td>\n",
       "      <td>1.85</td>\n",
       "    </tr>\n",
       "    <tr>\n",
       "      <th>16</th>\n",
       "      <td>26</td>\n",
       "      <td>65</td>\n",
       "      <td>1.21</td>\n",
       "    </tr>\n",
       "    <tr>\n",
       "      <th>17</th>\n",
       "      <td>56</td>\n",
       "      <td>74</td>\n",
       "      <td>1.69</td>\n",
       "    </tr>\n",
       "    <tr>\n",
       "      <th>18</th>\n",
       "      <td>67</td>\n",
       "      <td>78</td>\n",
       "      <td>1.85</td>\n",
       "    </tr>\n",
       "    <tr>\n",
       "      <th>19</th>\n",
       "      <td>26</td>\n",
       "      <td>65</td>\n",
       "      <td>1.21</td>\n",
       "    </tr>\n",
       "    <tr>\n",
       "      <th>20</th>\n",
       "      <td>68</td>\n",
       "      <td>50</td>\n",
       "      <td>1.32</td>\n",
       "    </tr>\n",
       "    <tr>\n",
       "      <th>21</th>\n",
       "      <td>56</td>\n",
       "      <td>76</td>\n",
       "      <td>1.69</td>\n",
       "    </tr>\n",
       "    <tr>\n",
       "      <th>22</th>\n",
       "      <td>67</td>\n",
       "      <td>78</td>\n",
       "      <td>1.85</td>\n",
       "    </tr>\n",
       "  </tbody>\n",
       "</table>\n",
       "</div>"
      ],
      "text/plain": [
       "    Age  Weight (in kg)  Height (in m)\n",
       "0    45              60           1.35\n",
       "1    12              43           1.21\n",
       "2    54              78           1.50\n",
       "3    26              65           1.21\n",
       "4    68              50           1.32\n",
       "5    21              43           1.52\n",
       "6    10              32           1.65\n",
       "7    57              34           1.61\n",
       "8    75              23           1.24\n",
       "9    32              21           1.52\n",
       "10   23              53           1.50\n",
       "11   34              65           1.76\n",
       "12   55              89           1.65\n",
       "13   23              45           1.75\n",
       "14   56              76           1.69\n",
       "15   67              78           1.85\n",
       "16   26              65           1.21\n",
       "17   56              74           1.69\n",
       "18   67              78           1.85\n",
       "19   26              65           1.21\n",
       "20   68              50           1.32\n",
       "21   56              76           1.69\n",
       "22   67              78           1.85"
      ]
     },
     "execution_count": 1,
     "metadata": {},
     "output_type": "execute_result"
    }
   ],
   "source": [
    "import pandas as pd\n",
    "df_basic_info = pd.read_csv(\"basic_info.csv\")\n",
    "df_basic_info"
   ]
  },
  {
   "cell_type": "code",
   "execution_count": 7,
   "id": "f30e71ac",
   "metadata": {
    "id": "f30e71ac"
   },
   "outputs": [
    {
     "data": {
      "text/plain": [
       "pandas.core.frame.DataFrame"
      ]
     },
     "execution_count": 7,
     "metadata": {},
     "output_type": "execute_result"
    }
   ],
   "source": [
    "type(df_basic_info)"
   ]
  },
  {
   "cell_type": "markdown",
   "id": "25017a1e",
   "metadata": {
    "id": "25017a1e"
   },
   "source": [
    "On checking the data type, we notice it is read as pandas data frame."
   ]
  },
  {
   "cell_type": "code",
   "execution_count": null,
   "id": "0226ba69",
   "metadata": {
    "id": "0226ba69"
   },
   "outputs": [],
   "source": [
    "print(df_basic_info)"
   ]
  },
  {
   "cell_type": "markdown",
   "id": "e68798e3",
   "metadata": {
    "id": "e68798e3"
   },
   "source": [
    "**6. To print head of the data**"
   ]
  },
  {
   "cell_type": "code",
   "execution_count": 11,
   "id": "6d898697",
   "metadata": {
    "id": "6d898697"
   },
   "outputs": [
    {
     "data": {
      "text/html": [
       "<div>\n",
       "<style scoped>\n",
       "    .dataframe tbody tr th:only-of-type {\n",
       "        vertical-align: middle;\n",
       "    }\n",
       "\n",
       "    .dataframe tbody tr th {\n",
       "        vertical-align: top;\n",
       "    }\n",
       "\n",
       "    .dataframe thead th {\n",
       "        text-align: right;\n",
       "    }\n",
       "</style>\n",
       "<table border=\"1\" class=\"dataframe\">\n",
       "  <thead>\n",
       "    <tr style=\"text-align: right;\">\n",
       "      <th></th>\n",
       "      <th>Age</th>\n",
       "      <th>Weight (in kg)</th>\n",
       "      <th>Height (in m)</th>\n",
       "    </tr>\n",
       "  </thead>\n",
       "  <tbody>\n",
       "    <tr>\n",
       "      <th>0</th>\n",
       "      <td>45</td>\n",
       "      <td>60</td>\n",
       "      <td>1.35</td>\n",
       "    </tr>\n",
       "    <tr>\n",
       "      <th>1</th>\n",
       "      <td>12</td>\n",
       "      <td>43</td>\n",
       "      <td>1.21</td>\n",
       "    </tr>\n",
       "  </tbody>\n",
       "</table>\n",
       "</div>"
      ],
      "text/plain": [
       "   Age  Weight (in kg)  Height (in m)\n",
       "0   45              60           1.35\n",
       "1   12              43           1.21"
      ]
     },
     "execution_count": 11,
     "metadata": {},
     "output_type": "execute_result"
    }
   ],
   "source": [
    "# display the first 5 rows of the DataFrame\n",
    "# head(): displays the first 5 rows\n",
    "# to display more rows, for example 15, use head(15)\n",
    "# the default value is 5\n",
    "df_basic_info.head(2)"
   ]
  },
  {
   "cell_type": "markdown",
   "id": "65cce411",
   "metadata": {
    "id": "65cce411"
   },
   "source": [
    "By default, the `.head()` will display **first** five rows. However, we can set the desired number of rows to be displayed.\n",
    "\n",
    "Say we want to see the first 9 rows, we write the number 9 in the parentheses."
   ]
  },
  {
   "cell_type": "code",
   "execution_count": 13,
   "id": "21f814db",
   "metadata": {
    "id": "21f814db"
   },
   "outputs": [
    {
     "data": {
      "text/html": [
       "<div>\n",
       "<style scoped>\n",
       "    .dataframe tbody tr th:only-of-type {\n",
       "        vertical-align: middle;\n",
       "    }\n",
       "\n",
       "    .dataframe tbody tr th {\n",
       "        vertical-align: top;\n",
       "    }\n",
       "\n",
       "    .dataframe thead th {\n",
       "        text-align: right;\n",
       "    }\n",
       "</style>\n",
       "<table border=\"1\" class=\"dataframe\">\n",
       "  <thead>\n",
       "    <tr style=\"text-align: right;\">\n",
       "      <th></th>\n",
       "      <th>Age</th>\n",
       "      <th>Weight (in kg)</th>\n",
       "      <th>Height (in m)</th>\n",
       "    </tr>\n",
       "  </thead>\n",
       "  <tbody>\n",
       "    <tr>\n",
       "      <th>0</th>\n",
       "      <td>45</td>\n",
       "      <td>60</td>\n",
       "      <td>1.35</td>\n",
       "    </tr>\n",
       "    <tr>\n",
       "      <th>1</th>\n",
       "      <td>12</td>\n",
       "      <td>43</td>\n",
       "      <td>1.21</td>\n",
       "    </tr>\n",
       "    <tr>\n",
       "      <th>2</th>\n",
       "      <td>54</td>\n",
       "      <td>78</td>\n",
       "      <td>1.50</td>\n",
       "    </tr>\n",
       "    <tr>\n",
       "      <th>3</th>\n",
       "      <td>26</td>\n",
       "      <td>65</td>\n",
       "      <td>1.21</td>\n",
       "    </tr>\n",
       "    <tr>\n",
       "      <th>4</th>\n",
       "      <td>68</td>\n",
       "      <td>50</td>\n",
       "      <td>1.32</td>\n",
       "    </tr>\n",
       "    <tr>\n",
       "      <th>5</th>\n",
       "      <td>21</td>\n",
       "      <td>43</td>\n",
       "      <td>1.52</td>\n",
       "    </tr>\n",
       "    <tr>\n",
       "      <th>6</th>\n",
       "      <td>10</td>\n",
       "      <td>32</td>\n",
       "      <td>1.65</td>\n",
       "    </tr>\n",
       "    <tr>\n",
       "      <th>7</th>\n",
       "      <td>57</td>\n",
       "      <td>34</td>\n",
       "      <td>1.61</td>\n",
       "    </tr>\n",
       "    <tr>\n",
       "      <th>8</th>\n",
       "      <td>75</td>\n",
       "      <td>23</td>\n",
       "      <td>1.24</td>\n",
       "    </tr>\n",
       "  </tbody>\n",
       "</table>\n",
       "</div>"
      ],
      "text/plain": [
       "   Age  Weight (in kg)  Height (in m)\n",
       "0   45              60           1.35\n",
       "1   12              43           1.21\n",
       "2   54              78           1.50\n",
       "3   26              65           1.21\n",
       "4   68              50           1.32\n",
       "5   21              43           1.52\n",
       "6   10              32           1.65\n",
       "7   57              34           1.61\n",
       "8   75              23           1.24"
      ]
     },
     "execution_count": 13,
     "metadata": {},
     "output_type": "execute_result"
    }
   ],
   "source": [
    "# display 9 rows\n",
    "df_basic_info.head(9)"
   ]
  },
  {
   "cell_type": "markdown",
   "id": "82e5260a",
   "metadata": {
    "id": "82e5260a"
   },
   "source": [
    "**7. To print tail of the data**"
   ]
  },
  {
   "cell_type": "code",
   "execution_count": 19,
   "id": "fd28235f",
   "metadata": {
    "id": "fd28235f"
   },
   "outputs": [
    {
     "data": {
      "text/html": [
       "<div>\n",
       "<style scoped>\n",
       "    .dataframe tbody tr th:only-of-type {\n",
       "        vertical-align: middle;\n",
       "    }\n",
       "\n",
       "    .dataframe tbody tr th {\n",
       "        vertical-align: top;\n",
       "    }\n",
       "\n",
       "    .dataframe thead th {\n",
       "        text-align: right;\n",
       "    }\n",
       "</style>\n",
       "<table border=\"1\" class=\"dataframe\">\n",
       "  <thead>\n",
       "    <tr style=\"text-align: right;\">\n",
       "      <th></th>\n",
       "      <th>Age</th>\n",
       "      <th>Weight (in kg)</th>\n",
       "      <th>Height (in m)</th>\n",
       "    </tr>\n",
       "  </thead>\n",
       "  <tbody>\n",
       "    <tr>\n",
       "      <th>21</th>\n",
       "      <td>56</td>\n",
       "      <td>76</td>\n",
       "      <td>1.69</td>\n",
       "    </tr>\n",
       "    <tr>\n",
       "      <th>22</th>\n",
       "      <td>67</td>\n",
       "      <td>78</td>\n",
       "      <td>1.85</td>\n",
       "    </tr>\n",
       "  </tbody>\n",
       "</table>\n",
       "</div>"
      ],
      "text/plain": [
       "    Age  Weight (in kg)  Height (in m)\n",
       "21   56              76           1.69\n",
       "22   67              78           1.85"
      ]
     },
     "execution_count": 19,
     "metadata": {},
     "output_type": "execute_result"
    }
   ],
   "source": [
    "# to display the last 5 rows\n",
    "df_basic_info.tail(2)"
   ]
  },
  {
   "cell_type": "markdown",
   "id": "613bb5bd",
   "metadata": {
    "id": "613bb5bd"
   },
   "source": [
    "By default, the `.tail()` will display **last** five rows. However, we can set the desired number of rows to be displayed.\n",
    "\n",
    "Say we want to see the last 14 rows, we write the number 14 in the parentheses."
   ]
  },
  {
   "cell_type": "code",
   "execution_count": null,
   "id": "4881da57",
   "metadata": {
    "id": "4881da57"
   },
   "outputs": [],
   "source": [
    "# to display the last 14 rows\n",
    "df_basic_info.tail(14)"
   ]
  },
  {
   "cell_type": "markdown",
   "id": "707d3fa5",
   "metadata": {
    "id": "707d3fa5"
   },
   "source": [
    "**8. To obtain the dimension of the data**"
   ]
  },
  {
   "cell_type": "code",
   "execution_count": 21,
   "id": "c2c1970c",
   "metadata": {
    "id": "c2c1970c"
   },
   "outputs": [
    {
     "data": {
      "text/plain": [
       "(23, 3)"
      ]
     },
     "execution_count": 21,
     "metadata": {},
     "output_type": "execute_result"
    }
   ],
   "source": [
    "# to display the shape of the data\n",
    "df_basic_info.shape"
   ]
  },
  {
   "cell_type": "markdown",
   "id": "32901b74",
   "metadata": {
    "id": "32901b74"
   },
   "source": [
    "**9. To know the data types of a data frame**"
   ]
  },
  {
   "cell_type": "code",
   "execution_count": null,
   "id": "3a11c128",
   "metadata": {
    "id": "3a11c128"
   },
   "outputs": [],
   "source": [
    "# to know the type of each variable\n",
    "df_basic_info.dtypes"
   ]
  },
  {
   "cell_type": "markdown",
   "id": "4595c214",
   "metadata": {
    "id": "4595c214"
   },
   "source": [
    "We see the data type of each variable."
   ]
  },
  {
   "cell_type": "markdown",
   "id": "2f598e9a",
   "metadata": {
    "id": "2f598e9a"
   },
   "source": [
    "**10. To know some information of the data**"
   ]
  },
  {
   "cell_type": "code",
   "execution_count": 23,
   "id": "3cd55074",
   "metadata": {
    "id": "3cd55074"
   },
   "outputs": [
    {
     "name": "stdout",
     "output_type": "stream",
     "text": [
      "<class 'pandas.core.frame.DataFrame'>\n",
      "RangeIndex: 23 entries, 0 to 22\n",
      "Data columns (total 3 columns):\n",
      " #   Column          Non-Null Count  Dtype  \n",
      "---  ------          --------------  -----  \n",
      " 0   Age             23 non-null     int64  \n",
      " 1   Weight (in kg)  23 non-null     int64  \n",
      " 2   Height (in m)   23 non-null     float64\n",
      "dtypes: float64(1), int64(2)\n",
      "memory usage: 684.0 bytes\n"
     ]
    }
   ],
   "source": [
    "# to know information on the variables in the data\n",
    "df_basic_info.info()"
   ]
  },
  {
   "cell_type": "markdown",
   "id": "562b8753",
   "metadata": {
    "id": "562b8753"
   },
   "source": [
    "We see this output gives the number of rows present in the data `RangeIndex: 23 entries, 0 to 22` There are 23 rows numbered from 0 to 22. And there are a total of three columns - `Data columns (total 3 columns)`.\n",
    "\n",
    "Consider `Age 23 non-null int64` indicates that the column named 'Age' has 23 non-null observations having the data type 'int64'\n",
    "\n",
    "And finally the memory used to save this dataframe is 680 bytes."
   ]
  },
  {
   "cell_type": "markdown",
   "id": "e9dc75f1",
   "metadata": {
    "id": "e9dc75f1"
   },
   "source": [
    "**11. To check the data type of column in the data frame**"
   ]
  },
  {
   "cell_type": "code",
   "execution_count": 25,
   "id": "9aad110f",
   "metadata": {
    "id": "9aad110f"
   },
   "outputs": [
    {
     "data": {
      "text/plain": [
       "pandas.core.series.Series"
      ]
     },
     "execution_count": 25,
     "metadata": {},
     "output_type": "execute_result"
    }
   ],
   "source": [
    "# check the type of each variable\n",
    "type(df_basic_info.Age)"
   ]
  },
  {
   "cell_type": "code",
   "execution_count": null,
   "id": "87b00cb3",
   "metadata": {
    "id": "87b00cb3"
   },
   "outputs": [],
   "source": [
    "# check the type of each variable\n",
    "type(df_basic_info[\"Weight (in kg)\"])"
   ]
  },
  {
   "cell_type": "code",
   "execution_count": null,
   "id": "6ab1551a",
   "metadata": {
    "id": "6ab1551a"
   },
   "outputs": [],
   "source": [
    "# check the type of each variable\n",
    "type(df_basic_info[\"Height (in m)\"])"
   ]
  },
  {
   "cell_type": "markdown",
   "id": "dc99fd22",
   "metadata": {
    "id": "dc99fd22"
   },
   "source": [
    "**Note that every column of the data frame is a pandas Series.**"
   ]
  },
  {
   "cell_type": "markdown",
   "id": "3d4211bb",
   "metadata": {
    "id": "3d4211bb"
   },
   "source": [
    "### Add new column and rows"
   ]
  },
  {
   "cell_type": "markdown",
   "id": "8c78d602",
   "metadata": {
    "id": "8c78d602"
   },
   "source": [
    " **Remark:**   \n",
    " 1. DataFrame[column] works for any column name, but DataFrame.column only works when the column name is a valid Python variable name.<br>\n",
    " 2. New columns cannot be created with the ` df_basic_info.BMI ` syntax.\n",
    "                   "
   ]
  },
  {
   "cell_type": "markdown",
   "id": "8052e308",
   "metadata": {
    "id": "8052e308"
   },
   "source": [
    "**1. Adding a new column to the data set**"
   ]
  },
  {
   "cell_type": "code",
   "execution_count": 27,
   "id": "92f371e5",
   "metadata": {
    "id": "92f371e5"
   },
   "outputs": [],
   "source": [
    "# create a new variable BMI\n",
    "df_basic_info[\"BMI\"] = df_basic_info[\"Weight (in kg)\"] / df_basic_info[\"Height (in m)\"]**2"
   ]
  },
  {
   "cell_type": "code",
   "execution_count": 29,
   "id": "4a7795a6",
   "metadata": {
    "id": "4a7795a6",
    "outputId": "022ce3ac-16a7-48d5-ed2f-90b14e57c20e"
   },
   "outputs": [
    {
     "data": {
      "text/html": [
       "<div>\n",
       "<style scoped>\n",
       "    .dataframe tbody tr th:only-of-type {\n",
       "        vertical-align: middle;\n",
       "    }\n",
       "\n",
       "    .dataframe tbody tr th {\n",
       "        vertical-align: top;\n",
       "    }\n",
       "\n",
       "    .dataframe thead th {\n",
       "        text-align: right;\n",
       "    }\n",
       "</style>\n",
       "<table border=\"1\" class=\"dataframe\">\n",
       "  <thead>\n",
       "    <tr style=\"text-align: right;\">\n",
       "      <th></th>\n",
       "      <th>Age</th>\n",
       "      <th>Weight (in kg)</th>\n",
       "      <th>Height (in m)</th>\n",
       "      <th>BMI</th>\n",
       "    </tr>\n",
       "  </thead>\n",
       "  <tbody>\n",
       "    <tr>\n",
       "      <th>0</th>\n",
       "      <td>45</td>\n",
       "      <td>60</td>\n",
       "      <td>1.35</td>\n",
       "      <td>32.921811</td>\n",
       "    </tr>\n",
       "    <tr>\n",
       "      <th>1</th>\n",
       "      <td>12</td>\n",
       "      <td>43</td>\n",
       "      <td>1.21</td>\n",
       "      <td>29.369579</td>\n",
       "    </tr>\n",
       "    <tr>\n",
       "      <th>2</th>\n",
       "      <td>54</td>\n",
       "      <td>78</td>\n",
       "      <td>1.50</td>\n",
       "      <td>34.666667</td>\n",
       "    </tr>\n",
       "    <tr>\n",
       "      <th>3</th>\n",
       "      <td>26</td>\n",
       "      <td>65</td>\n",
       "      <td>1.21</td>\n",
       "      <td>44.395875</td>\n",
       "    </tr>\n",
       "    <tr>\n",
       "      <th>4</th>\n",
       "      <td>68</td>\n",
       "      <td>50</td>\n",
       "      <td>1.32</td>\n",
       "      <td>28.696051</td>\n",
       "    </tr>\n",
       "  </tbody>\n",
       "</table>\n",
       "</div>"
      ],
      "text/plain": [
       "   Age  Weight (in kg)  Height (in m)        BMI\n",
       "0   45              60           1.35  32.921811\n",
       "1   12              43           1.21  29.369579\n",
       "2   54              78           1.50  34.666667\n",
       "3   26              65           1.21  44.395875\n",
       "4   68              50           1.32  28.696051"
      ]
     },
     "execution_count": 29,
     "metadata": {},
     "output_type": "execute_result"
    }
   ],
   "source": [
    "# print the DataFrame\n",
    "df_basic_info.head()"
   ]
  },
  {
   "cell_type": "code",
   "execution_count": 31,
   "id": "3d35eaef",
   "metadata": {
    "id": "3d35eaef",
    "outputId": "c2492e88-6801-497f-9b55-5d92ab614fe8"
   },
   "outputs": [
    {
     "data": {
      "text/plain": [
       "(23, 4)"
      ]
     },
     "execution_count": 31,
     "metadata": {},
     "output_type": "execute_result"
    }
   ],
   "source": [
    "# check the shape of the DataFrame\n",
    "df_basic_info.shape"
   ]
  },
  {
   "cell_type": "markdown",
   "id": "ef5716d5",
   "metadata": {
    "id": "ef5716d5"
   },
   "source": [
    "**2. Adding a new row to the data set**"
   ]
  },
  {
   "cell_type": "markdown",
   "id": "ecfed67a",
   "metadata": {
    "id": "ecfed67a"
   },
   "source": [
    "A new row can be added using the `loc`"
   ]
  },
  {
   "cell_type": "code",
   "execution_count": 33,
   "id": "147b7514",
   "metadata": {
    "id": "147b7514"
   },
   "outputs": [],
   "source": [
    "# add a new row at the end of the DataFrame\n",
    "df_basic_info.loc[23] = [45, 85, 1.8, 26.3]"
   ]
  },
  {
   "cell_type": "code",
   "execution_count": 35,
   "id": "1d3ed176",
   "metadata": {
    "id": "1d3ed176",
    "outputId": "7337feab-a1c8-4958-d569-f3e54532c10a"
   },
   "outputs": [
    {
     "data": {
      "text/html": [
       "<div>\n",
       "<style scoped>\n",
       "    .dataframe tbody tr th:only-of-type {\n",
       "        vertical-align: middle;\n",
       "    }\n",
       "\n",
       "    .dataframe tbody tr th {\n",
       "        vertical-align: top;\n",
       "    }\n",
       "\n",
       "    .dataframe thead th {\n",
       "        text-align: right;\n",
       "    }\n",
       "</style>\n",
       "<table border=\"1\" class=\"dataframe\">\n",
       "  <thead>\n",
       "    <tr style=\"text-align: right;\">\n",
       "      <th></th>\n",
       "      <th>Age</th>\n",
       "      <th>Weight (in kg)</th>\n",
       "      <th>Height (in m)</th>\n",
       "      <th>BMI</th>\n",
       "    </tr>\n",
       "  </thead>\n",
       "  <tbody>\n",
       "    <tr>\n",
       "      <th>0</th>\n",
       "      <td>45.0</td>\n",
       "      <td>60.0</td>\n",
       "      <td>1.35</td>\n",
       "      <td>32.921811</td>\n",
       "    </tr>\n",
       "    <tr>\n",
       "      <th>1</th>\n",
       "      <td>12.0</td>\n",
       "      <td>43.0</td>\n",
       "      <td>1.21</td>\n",
       "      <td>29.369579</td>\n",
       "    </tr>\n",
       "    <tr>\n",
       "      <th>2</th>\n",
       "      <td>54.0</td>\n",
       "      <td>78.0</td>\n",
       "      <td>1.50</td>\n",
       "      <td>34.666667</td>\n",
       "    </tr>\n",
       "    <tr>\n",
       "      <th>3</th>\n",
       "      <td>26.0</td>\n",
       "      <td>65.0</td>\n",
       "      <td>1.21</td>\n",
       "      <td>44.395875</td>\n",
       "    </tr>\n",
       "    <tr>\n",
       "      <th>4</th>\n",
       "      <td>68.0</td>\n",
       "      <td>50.0</td>\n",
       "      <td>1.32</td>\n",
       "      <td>28.696051</td>\n",
       "    </tr>\n",
       "    <tr>\n",
       "      <th>5</th>\n",
       "      <td>21.0</td>\n",
       "      <td>43.0</td>\n",
       "      <td>1.52</td>\n",
       "      <td>18.611496</td>\n",
       "    </tr>\n",
       "    <tr>\n",
       "      <th>6</th>\n",
       "      <td>10.0</td>\n",
       "      <td>32.0</td>\n",
       "      <td>1.65</td>\n",
       "      <td>11.753903</td>\n",
       "    </tr>\n",
       "    <tr>\n",
       "      <th>7</th>\n",
       "      <td>57.0</td>\n",
       "      <td>34.0</td>\n",
       "      <td>1.61</td>\n",
       "      <td>13.116778</td>\n",
       "    </tr>\n",
       "    <tr>\n",
       "      <th>8</th>\n",
       "      <td>75.0</td>\n",
       "      <td>23.0</td>\n",
       "      <td>1.24</td>\n",
       "      <td>14.958377</td>\n",
       "    </tr>\n",
       "    <tr>\n",
       "      <th>9</th>\n",
       "      <td>32.0</td>\n",
       "      <td>21.0</td>\n",
       "      <td>1.52</td>\n",
       "      <td>9.089335</td>\n",
       "    </tr>\n",
       "    <tr>\n",
       "      <th>10</th>\n",
       "      <td>23.0</td>\n",
       "      <td>53.0</td>\n",
       "      <td>1.50</td>\n",
       "      <td>23.555556</td>\n",
       "    </tr>\n",
       "    <tr>\n",
       "      <th>11</th>\n",
       "      <td>34.0</td>\n",
       "      <td>65.0</td>\n",
       "      <td>1.76</td>\n",
       "      <td>20.983988</td>\n",
       "    </tr>\n",
       "    <tr>\n",
       "      <th>12</th>\n",
       "      <td>55.0</td>\n",
       "      <td>89.0</td>\n",
       "      <td>1.65</td>\n",
       "      <td>32.690542</td>\n",
       "    </tr>\n",
       "    <tr>\n",
       "      <th>13</th>\n",
       "      <td>23.0</td>\n",
       "      <td>45.0</td>\n",
       "      <td>1.75</td>\n",
       "      <td>14.693878</td>\n",
       "    </tr>\n",
       "    <tr>\n",
       "      <th>14</th>\n",
       "      <td>56.0</td>\n",
       "      <td>76.0</td>\n",
       "      <td>1.69</td>\n",
       "      <td>26.609713</td>\n",
       "    </tr>\n",
       "    <tr>\n",
       "      <th>15</th>\n",
       "      <td>67.0</td>\n",
       "      <td>78.0</td>\n",
       "      <td>1.85</td>\n",
       "      <td>22.790358</td>\n",
       "    </tr>\n",
       "    <tr>\n",
       "      <th>16</th>\n",
       "      <td>26.0</td>\n",
       "      <td>65.0</td>\n",
       "      <td>1.21</td>\n",
       "      <td>44.395875</td>\n",
       "    </tr>\n",
       "    <tr>\n",
       "      <th>17</th>\n",
       "      <td>56.0</td>\n",
       "      <td>74.0</td>\n",
       "      <td>1.69</td>\n",
       "      <td>25.909457</td>\n",
       "    </tr>\n",
       "    <tr>\n",
       "      <th>18</th>\n",
       "      <td>67.0</td>\n",
       "      <td>78.0</td>\n",
       "      <td>1.85</td>\n",
       "      <td>22.790358</td>\n",
       "    </tr>\n",
       "    <tr>\n",
       "      <th>19</th>\n",
       "      <td>26.0</td>\n",
       "      <td>65.0</td>\n",
       "      <td>1.21</td>\n",
       "      <td>44.395875</td>\n",
       "    </tr>\n",
       "    <tr>\n",
       "      <th>20</th>\n",
       "      <td>68.0</td>\n",
       "      <td>50.0</td>\n",
       "      <td>1.32</td>\n",
       "      <td>28.696051</td>\n",
       "    </tr>\n",
       "    <tr>\n",
       "      <th>21</th>\n",
       "      <td>56.0</td>\n",
       "      <td>76.0</td>\n",
       "      <td>1.69</td>\n",
       "      <td>26.609713</td>\n",
       "    </tr>\n",
       "    <tr>\n",
       "      <th>22</th>\n",
       "      <td>67.0</td>\n",
       "      <td>78.0</td>\n",
       "      <td>1.85</td>\n",
       "      <td>22.790358</td>\n",
       "    </tr>\n",
       "    <tr>\n",
       "      <th>23</th>\n",
       "      <td>45.0</td>\n",
       "      <td>85.0</td>\n",
       "      <td>1.80</td>\n",
       "      <td>26.300000</td>\n",
       "    </tr>\n",
       "  </tbody>\n",
       "</table>\n",
       "</div>"
      ],
      "text/plain": [
       "     Age  Weight (in kg)  Height (in m)        BMI\n",
       "0   45.0            60.0           1.35  32.921811\n",
       "1   12.0            43.0           1.21  29.369579\n",
       "2   54.0            78.0           1.50  34.666667\n",
       "3   26.0            65.0           1.21  44.395875\n",
       "4   68.0            50.0           1.32  28.696051\n",
       "5   21.0            43.0           1.52  18.611496\n",
       "6   10.0            32.0           1.65  11.753903\n",
       "7   57.0            34.0           1.61  13.116778\n",
       "8   75.0            23.0           1.24  14.958377\n",
       "9   32.0            21.0           1.52   9.089335\n",
       "10  23.0            53.0           1.50  23.555556\n",
       "11  34.0            65.0           1.76  20.983988\n",
       "12  55.0            89.0           1.65  32.690542\n",
       "13  23.0            45.0           1.75  14.693878\n",
       "14  56.0            76.0           1.69  26.609713\n",
       "15  67.0            78.0           1.85  22.790358\n",
       "16  26.0            65.0           1.21  44.395875\n",
       "17  56.0            74.0           1.69  25.909457\n",
       "18  67.0            78.0           1.85  22.790358\n",
       "19  26.0            65.0           1.21  44.395875\n",
       "20  68.0            50.0           1.32  28.696051\n",
       "21  56.0            76.0           1.69  26.609713\n",
       "22  67.0            78.0           1.85  22.790358\n",
       "23  45.0            85.0           1.80  26.300000"
      ]
     },
     "execution_count": 35,
     "metadata": {},
     "output_type": "execute_result"
    }
   ],
   "source": [
    "# display the DataFrame\n",
    "df_basic_info"
   ]
  },
  {
   "cell_type": "markdown",
   "id": "07badee6",
   "metadata": {
    "id": "07badee6"
   },
   "source": [
    "We see that a new column number 23 has be added to the data."
   ]
  },
  {
   "cell_type": "markdown",
   "id": "cac3346b",
   "metadata": {
    "id": "cac3346b"
   },
   "source": [
    "**3. Indexing a dataframe using `.iloc`**\n",
    "\n",
    "`DataFrame.iloc[]` method is used when the index label of a data frame is something other than numeric series of 0, 1, 2, 3….n or in case the user doesn’t know the index label."
   ]
  },
  {
   "cell_type": "markdown",
   "id": "57a90e4c",
   "metadata": {
    "id": "57a90e4c"
   },
   "source": [
    "We shall work on the BMI data set.\n",
    "\n",
    "#### Select the 2nd row"
   ]
  },
  {
   "cell_type": "code",
   "execution_count": 37,
   "id": "74c5bcea",
   "metadata": {
    "id": "74c5bcea",
    "outputId": "71f9af09-de9e-4a1b-f94c-42e056c3cdaf"
   },
   "outputs": [
    {
     "data": {
      "text/plain": [
       "Age               26.000000\n",
       "Weight (in kg)    65.000000\n",
       "Height (in m)      1.210000\n",
       "BMI               44.395875\n",
       "Name: 3, dtype: float64"
      ]
     },
     "execution_count": 37,
     "metadata": {},
     "output_type": "execute_result"
    }
   ],
   "source": [
    "# select the second row\n",
    "df_basic_info.iloc[3]"
   ]
  },
  {
   "cell_type": "markdown",
   "id": "b364e71b",
   "metadata": {
    "id": "b364e71b"
   },
   "source": [
    "#### Select fourth, seventh and tenth rows"
   ]
  },
  {
   "cell_type": "code",
   "execution_count": 39,
   "id": "60304302",
   "metadata": {
    "id": "60304302",
    "outputId": "985064fe-e397-444c-8b75-10e8a2dd196b"
   },
   "outputs": [
    {
     "data": {
      "text/html": [
       "<div>\n",
       "<style scoped>\n",
       "    .dataframe tbody tr th:only-of-type {\n",
       "        vertical-align: middle;\n",
       "    }\n",
       "\n",
       "    .dataframe tbody tr th {\n",
       "        vertical-align: top;\n",
       "    }\n",
       "\n",
       "    .dataframe thead th {\n",
       "        text-align: right;\n",
       "    }\n",
       "</style>\n",
       "<table border=\"1\" class=\"dataframe\">\n",
       "  <thead>\n",
       "    <tr style=\"text-align: right;\">\n",
       "      <th></th>\n",
       "      <th>Age</th>\n",
       "      <th>Weight (in kg)</th>\n",
       "      <th>Height (in m)</th>\n",
       "      <th>BMI</th>\n",
       "    </tr>\n",
       "  </thead>\n",
       "  <tbody>\n",
       "    <tr>\n",
       "      <th>1</th>\n",
       "      <td>12.0</td>\n",
       "      <td>43.0</td>\n",
       "      <td>1.21</td>\n",
       "      <td>29.369579</td>\n",
       "    </tr>\n",
       "    <tr>\n",
       "      <th>5</th>\n",
       "      <td>21.0</td>\n",
       "      <td>43.0</td>\n",
       "      <td>1.52</td>\n",
       "      <td>18.611496</td>\n",
       "    </tr>\n",
       "    <tr>\n",
       "      <th>10</th>\n",
       "      <td>23.0</td>\n",
       "      <td>53.0</td>\n",
       "      <td>1.50</td>\n",
       "      <td>23.555556</td>\n",
       "    </tr>\n",
       "  </tbody>\n",
       "</table>\n",
       "</div>"
      ],
      "text/plain": [
       "     Age  Weight (in kg)  Height (in m)        BMI\n",
       "1   12.0            43.0           1.21  29.369579\n",
       "5   21.0            43.0           1.52  18.611496\n",
       "10  23.0            53.0           1.50  23.555556"
      ]
     },
     "execution_count": 39,
     "metadata": {},
     "output_type": "execute_result"
    }
   ],
   "source": [
    "# select the 4th, 7th and the 10th row\n",
    "df_basic_info.iloc[[1,5,10]]"
   ]
  },
  {
   "cell_type": "markdown",
   "id": "3343a621",
   "metadata": {
    "id": "3343a621"
   },
   "source": [
    "We use two square brackets since we are passing a list of row numbers to be accessed."
   ]
  },
  {
   "cell_type": "markdown",
   "id": "c0e822bb",
   "metadata": {
    "id": "c0e822bb"
   },
   "source": [
    "#### Select 12th to 17th rows"
   ]
  },
  {
   "cell_type": "code",
   "execution_count": null,
   "id": "3aecde7d",
   "metadata": {
    "id": "3aecde7d",
    "outputId": "43417fb8-6e8f-4d88-9739-191a6b362e38",
    "scrolled": true
   },
   "outputs": [
    {
     "data": {
      "text/html": [
       "<div>\n",
       "<style scoped>\n",
       "    .dataframe tbody tr th:only-of-type {\n",
       "        vertical-align: middle;\n",
       "    }\n",
       "\n",
       "    .dataframe tbody tr th {\n",
       "        vertical-align: top;\n",
       "    }\n",
       "\n",
       "    .dataframe thead th {\n",
       "        text-align: right;\n",
       "    }\n",
       "</style>\n",
       "<table border=\"1\" class=\"dataframe\">\n",
       "  <thead>\n",
       "    <tr style=\"text-align: right;\">\n",
       "      <th></th>\n",
       "      <th>Age</th>\n",
       "      <th>Weight (in kg)</th>\n",
       "      <th>Height (in m)</th>\n",
       "      <th>BMI</th>\n",
       "    </tr>\n",
       "  </thead>\n",
       "  <tbody>\n",
       "    <tr>\n",
       "      <th>12</th>\n",
       "      <td>55.0</td>\n",
       "      <td>89.0</td>\n",
       "      <td>1.65</td>\n",
       "      <td>32.690542</td>\n",
       "    </tr>\n",
       "    <tr>\n",
       "      <th>13</th>\n",
       "      <td>23.0</td>\n",
       "      <td>45.0</td>\n",
       "      <td>1.75</td>\n",
       "      <td>14.693878</td>\n",
       "    </tr>\n",
       "    <tr>\n",
       "      <th>14</th>\n",
       "      <td>56.0</td>\n",
       "      <td>76.0</td>\n",
       "      <td>1.69</td>\n",
       "      <td>26.609713</td>\n",
       "    </tr>\n",
       "    <tr>\n",
       "      <th>15</th>\n",
       "      <td>67.0</td>\n",
       "      <td>78.0</td>\n",
       "      <td>1.85</td>\n",
       "      <td>22.790358</td>\n",
       "    </tr>\n",
       "    <tr>\n",
       "      <th>16</th>\n",
       "      <td>26.0</td>\n",
       "      <td>65.0</td>\n",
       "      <td>1.21</td>\n",
       "      <td>44.395875</td>\n",
       "    </tr>\n",
       "    <tr>\n",
       "      <th>17</th>\n",
       "      <td>56.0</td>\n",
       "      <td>74.0</td>\n",
       "      <td>1.69</td>\n",
       "      <td>25.909457</td>\n",
       "    </tr>\n",
       "  </tbody>\n",
       "</table>\n",
       "</div>"
      ],
      "text/plain": [
       "     Age  Weight (in kg)  Height (in m)        BMI\n",
       "12  55.0            89.0           1.65  32.690542\n",
       "13  23.0            45.0           1.75  14.693878\n",
       "14  56.0            76.0           1.69  26.609713\n",
       "15  67.0            78.0           1.85  22.790358\n",
       "16  26.0            65.0           1.21  44.395875\n",
       "17  56.0            74.0           1.69  25.909457"
      ]
     },
     "execution_count": 73,
     "metadata": {},
     "output_type": "execute_result"
    }
   ],
   "source": [
    "# select rows\n",
    "df_basic_info.iloc[12:18]"
   ]
  },
  {
   "cell_type": "markdown",
   "id": "c9022f62",
   "metadata": {
    "id": "c9022f62"
   },
   "source": [
    "#### Select the 1st column"
   ]
  },
  {
   "cell_type": "code",
   "execution_count": null,
   "id": "d74f115f",
   "metadata": {
    "id": "d74f115f",
    "outputId": "965a90b3-d656-4519-e1c1-8eaafb2497d8"
   },
   "outputs": [
    {
     "data": {
      "text/plain": [
       "0     60.0\n",
       "1     43.0\n",
       "2     78.0\n",
       "3     65.0\n",
       "4     50.0\n",
       "5     43.0\n",
       "6     32.0\n",
       "7     34.0\n",
       "8     23.0\n",
       "9     21.0\n",
       "10    53.0\n",
       "11    65.0\n",
       "12    89.0\n",
       "13    45.0\n",
       "14    76.0\n",
       "15    78.0\n",
       "16    65.0\n",
       "17    74.0\n",
       "18    78.0\n",
       "19    65.0\n",
       "20    50.0\n",
       "21    76.0\n",
       "22    78.0\n",
       "24    85.0\n",
       "Name: Weight (in kg), dtype: float64"
      ]
     },
     "execution_count": 75,
     "metadata": {},
     "output_type": "execute_result"
    }
   ],
   "source": [
    "# select the 1st column\n",
    "df_basic_info.iloc[:, 1]"
   ]
  },
  {
   "cell_type": "markdown",
   "id": "9f7461cf",
   "metadata": {
    "id": "9f7461cf"
   },
   "source": [
    "#### Select the last column"
   ]
  },
  {
   "cell_type": "code",
   "execution_count": null,
   "id": "692139cd",
   "metadata": {
    "id": "692139cd",
    "outputId": "8f6249ea-ace8-4e23-d94f-5378b9960258"
   },
   "outputs": [
    {
     "data": {
      "text/plain": [
       "0     32.921811\n",
       "1     29.369579\n",
       "2     34.666667\n",
       "3     44.395875\n",
       "4     28.696051\n",
       "5     18.611496\n",
       "6     11.753903\n",
       "7     13.116778\n",
       "8     14.958377\n",
       "9      9.089335\n",
       "10    23.555556\n",
       "11    20.983988\n",
       "12    32.690542\n",
       "13    14.693878\n",
       "14    26.609713\n",
       "15    22.790358\n",
       "16    44.395875\n",
       "17    25.909457\n",
       "18    22.790358\n",
       "19    44.395875\n",
       "20    28.696051\n",
       "21    26.609713\n",
       "22    22.790358\n",
       "24    26.300000\n",
       "Name: BMI, dtype: float64"
      ]
     },
     "execution_count": 76,
     "metadata": {},
     "output_type": "execute_result"
    }
   ],
   "source": [
    "# select the last column\n",
    "# the colon indicates that all the rows are selected\n",
    "# -1 indicated that the last column is selected\n",
    "df_basic_info.iloc[:,-1]"
   ]
  },
  {
   "cell_type": "markdown",
   "id": "bca36ed7",
   "metadata": {
    "id": "bca36ed7"
   },
   "source": [
    "To select the last column we use -1, to select the second last column we use -2"
   ]
  },
  {
   "cell_type": "markdown",
   "id": "6bdd58f4",
   "metadata": {
    "id": "6bdd58f4"
   },
   "source": [
    "#### Select the first two columns"
   ]
  },
  {
   "cell_type": "code",
   "execution_count": null,
   "id": "5eb7ea6b",
   "metadata": {
    "id": "5eb7ea6b",
    "outputId": "6d23efb6-3611-4856-cc6c-a9b3253baa13"
   },
   "outputs": [
    {
     "data": {
      "text/html": [
       "<div>\n",
       "<style scoped>\n",
       "    .dataframe tbody tr th:only-of-type {\n",
       "        vertical-align: middle;\n",
       "    }\n",
       "\n",
       "    .dataframe tbody tr th {\n",
       "        vertical-align: top;\n",
       "    }\n",
       "\n",
       "    .dataframe thead th {\n",
       "        text-align: right;\n",
       "    }\n",
       "</style>\n",
       "<table border=\"1\" class=\"dataframe\">\n",
       "  <thead>\n",
       "    <tr style=\"text-align: right;\">\n",
       "      <th></th>\n",
       "      <th>Age</th>\n",
       "      <th>Weight (in kg)</th>\n",
       "    </tr>\n",
       "  </thead>\n",
       "  <tbody>\n",
       "    <tr>\n",
       "      <th>0</th>\n",
       "      <td>45.0</td>\n",
       "      <td>60.0</td>\n",
       "    </tr>\n",
       "    <tr>\n",
       "      <th>1</th>\n",
       "      <td>12.0</td>\n",
       "      <td>43.0</td>\n",
       "    </tr>\n",
       "    <tr>\n",
       "      <th>2</th>\n",
       "      <td>54.0</td>\n",
       "      <td>78.0</td>\n",
       "    </tr>\n",
       "    <tr>\n",
       "      <th>3</th>\n",
       "      <td>26.0</td>\n",
       "      <td>65.0</td>\n",
       "    </tr>\n",
       "    <tr>\n",
       "      <th>4</th>\n",
       "      <td>68.0</td>\n",
       "      <td>50.0</td>\n",
       "    </tr>\n",
       "    <tr>\n",
       "      <th>5</th>\n",
       "      <td>21.0</td>\n",
       "      <td>43.0</td>\n",
       "    </tr>\n",
       "    <tr>\n",
       "      <th>6</th>\n",
       "      <td>10.0</td>\n",
       "      <td>32.0</td>\n",
       "    </tr>\n",
       "    <tr>\n",
       "      <th>7</th>\n",
       "      <td>57.0</td>\n",
       "      <td>34.0</td>\n",
       "    </tr>\n",
       "    <tr>\n",
       "      <th>8</th>\n",
       "      <td>75.0</td>\n",
       "      <td>23.0</td>\n",
       "    </tr>\n",
       "    <tr>\n",
       "      <th>9</th>\n",
       "      <td>32.0</td>\n",
       "      <td>21.0</td>\n",
       "    </tr>\n",
       "    <tr>\n",
       "      <th>10</th>\n",
       "      <td>23.0</td>\n",
       "      <td>53.0</td>\n",
       "    </tr>\n",
       "    <tr>\n",
       "      <th>11</th>\n",
       "      <td>34.0</td>\n",
       "      <td>65.0</td>\n",
       "    </tr>\n",
       "    <tr>\n",
       "      <th>12</th>\n",
       "      <td>55.0</td>\n",
       "      <td>89.0</td>\n",
       "    </tr>\n",
       "    <tr>\n",
       "      <th>13</th>\n",
       "      <td>23.0</td>\n",
       "      <td>45.0</td>\n",
       "    </tr>\n",
       "    <tr>\n",
       "      <th>14</th>\n",
       "      <td>56.0</td>\n",
       "      <td>76.0</td>\n",
       "    </tr>\n",
       "    <tr>\n",
       "      <th>15</th>\n",
       "      <td>67.0</td>\n",
       "      <td>78.0</td>\n",
       "    </tr>\n",
       "    <tr>\n",
       "      <th>16</th>\n",
       "      <td>26.0</td>\n",
       "      <td>65.0</td>\n",
       "    </tr>\n",
       "    <tr>\n",
       "      <th>17</th>\n",
       "      <td>56.0</td>\n",
       "      <td>74.0</td>\n",
       "    </tr>\n",
       "    <tr>\n",
       "      <th>18</th>\n",
       "      <td>67.0</td>\n",
       "      <td>78.0</td>\n",
       "    </tr>\n",
       "    <tr>\n",
       "      <th>19</th>\n",
       "      <td>26.0</td>\n",
       "      <td>65.0</td>\n",
       "    </tr>\n",
       "    <tr>\n",
       "      <th>20</th>\n",
       "      <td>68.0</td>\n",
       "      <td>50.0</td>\n",
       "    </tr>\n",
       "    <tr>\n",
       "      <th>21</th>\n",
       "      <td>56.0</td>\n",
       "      <td>76.0</td>\n",
       "    </tr>\n",
       "    <tr>\n",
       "      <th>22</th>\n",
       "      <td>67.0</td>\n",
       "      <td>78.0</td>\n",
       "    </tr>\n",
       "    <tr>\n",
       "      <th>24</th>\n",
       "      <td>45.0</td>\n",
       "      <td>85.0</td>\n",
       "    </tr>\n",
       "  </tbody>\n",
       "</table>\n",
       "</div>"
      ],
      "text/plain": [
       "     Age  Weight (in kg)\n",
       "0   45.0            60.0\n",
       "1   12.0            43.0\n",
       "2   54.0            78.0\n",
       "3   26.0            65.0\n",
       "4   68.0            50.0\n",
       "5   21.0            43.0\n",
       "6   10.0            32.0\n",
       "7   57.0            34.0\n",
       "8   75.0            23.0\n",
       "9   32.0            21.0\n",
       "10  23.0            53.0\n",
       "11  34.0            65.0\n",
       "12  55.0            89.0\n",
       "13  23.0            45.0\n",
       "14  56.0            76.0\n",
       "15  67.0            78.0\n",
       "16  26.0            65.0\n",
       "17  56.0            74.0\n",
       "18  67.0            78.0\n",
       "19  26.0            65.0\n",
       "20  68.0            50.0\n",
       "21  56.0            76.0\n",
       "22  67.0            78.0\n",
       "24  45.0            85.0"
      ]
     },
     "execution_count": 77,
     "metadata": {},
     "output_type": "execute_result"
    }
   ],
   "source": [
    "# select the 1st and 2nd columns\n",
    "# the colon indicates that all the rows are selected\n",
    "# 0:2 indicates that the 1st and 2nd columns are selected\n",
    "df_basic_info.iloc[:,0:2]"
   ]
  },
  {
   "cell_type": "markdown",
   "id": "e8d25e83",
   "metadata": {
    "id": "e8d25e83"
   },
   "source": [
    "#### Select the first two columns and 5 to 10 rows"
   ]
  },
  {
   "cell_type": "code",
   "execution_count": null,
   "id": "b62ecdfb",
   "metadata": {
    "id": "b62ecdfb",
    "outputId": "ac485cda-8d64-4e1c-ba27-7c0bfc02751d"
   },
   "outputs": [
    {
     "data": {
      "text/html": [
       "<div>\n",
       "<style scoped>\n",
       "    .dataframe tbody tr th:only-of-type {\n",
       "        vertical-align: middle;\n",
       "    }\n",
       "\n",
       "    .dataframe tbody tr th {\n",
       "        vertical-align: top;\n",
       "    }\n",
       "\n",
       "    .dataframe thead th {\n",
       "        text-align: right;\n",
       "    }\n",
       "</style>\n",
       "<table border=\"1\" class=\"dataframe\">\n",
       "  <thead>\n",
       "    <tr style=\"text-align: right;\">\n",
       "      <th></th>\n",
       "      <th>Age</th>\n",
       "      <th>Weight (in kg)</th>\n",
       "    </tr>\n",
       "  </thead>\n",
       "  <tbody>\n",
       "    <tr>\n",
       "      <th>5</th>\n",
       "      <td>21.0</td>\n",
       "      <td>43.0</td>\n",
       "    </tr>\n",
       "    <tr>\n",
       "      <th>6</th>\n",
       "      <td>10.0</td>\n",
       "      <td>32.0</td>\n",
       "    </tr>\n",
       "    <tr>\n",
       "      <th>7</th>\n",
       "      <td>57.0</td>\n",
       "      <td>34.0</td>\n",
       "    </tr>\n",
       "    <tr>\n",
       "      <th>8</th>\n",
       "      <td>75.0</td>\n",
       "      <td>23.0</td>\n",
       "    </tr>\n",
       "    <tr>\n",
       "      <th>9</th>\n",
       "      <td>32.0</td>\n",
       "      <td>21.0</td>\n",
       "    </tr>\n",
       "    <tr>\n",
       "      <th>10</th>\n",
       "      <td>23.0</td>\n",
       "      <td>53.0</td>\n",
       "    </tr>\n",
       "  </tbody>\n",
       "</table>\n",
       "</div>"
      ],
      "text/plain": [
       "     Age  Weight (in kg)\n",
       "5   21.0            43.0\n",
       "6   10.0            32.0\n",
       "7   57.0            34.0\n",
       "8   75.0            23.0\n",
       "9   32.0            21.0\n",
       "10  23.0            53.0"
      ]
     },
     "execution_count": 78,
     "metadata": {},
     "output_type": "execute_result"
    }
   ],
   "source": [
    " # 5:11 indicates that the 5th to 10th rows will be selected\n",
    "# 0:2 indicates that the 1st and 2nd columns be selected\n",
    "df_basic_info.iloc[5:11, 0:2]"
   ]
  },
  {
   "cell_type": "markdown",
   "id": "554d2f01",
   "metadata": {
    "id": "554d2f01"
   },
   "source": [
    "**4. Indexing a dataframe using `.loc`**\n",
    "\n",
    "`DataFrame.loc[]` method is a method that takes only index labels and returns row or dataframe if the index label exists in the caller data frame. <br>\n",
    "`DataFrame.loc[Row_names, column_names]` is used to select or index rows or columns based on their name."
   ]
  },
  {
   "cell_type": "markdown",
   "id": "e0d86b89",
   "metadata": {
    "id": "e0d86b89"
   },
   "source": [
    "#### Select 1 to 5 rows and 2nd and 4th columns"
   ]
  },
  {
   "cell_type": "code",
   "execution_count": null,
   "id": "fda4a69c",
   "metadata": {
    "id": "fda4a69c",
    "outputId": "386a6872-9394-4d92-cef5-4a09ae0fb08b"
   },
   "outputs": [
    {
     "data": {
      "text/html": [
       "<div>\n",
       "<style scoped>\n",
       "    .dataframe tbody tr th:only-of-type {\n",
       "        vertical-align: middle;\n",
       "    }\n",
       "\n",
       "    .dataframe tbody tr th {\n",
       "        vertical-align: top;\n",
       "    }\n",
       "\n",
       "    .dataframe thead th {\n",
       "        text-align: right;\n",
       "    }\n",
       "</style>\n",
       "<table border=\"1\" class=\"dataframe\">\n",
       "  <thead>\n",
       "    <tr style=\"text-align: right;\">\n",
       "      <th></th>\n",
       "      <th>Weight (in kg)</th>\n",
       "      <th>BMI</th>\n",
       "    </tr>\n",
       "  </thead>\n",
       "  <tbody>\n",
       "    <tr>\n",
       "      <th>1</th>\n",
       "      <td>43.0</td>\n",
       "      <td>29.369579</td>\n",
       "    </tr>\n",
       "    <tr>\n",
       "      <th>2</th>\n",
       "      <td>78.0</td>\n",
       "      <td>34.666667</td>\n",
       "    </tr>\n",
       "    <tr>\n",
       "      <th>3</th>\n",
       "      <td>65.0</td>\n",
       "      <td>44.395875</td>\n",
       "    </tr>\n",
       "    <tr>\n",
       "      <th>4</th>\n",
       "      <td>50.0</td>\n",
       "      <td>28.696051</td>\n",
       "    </tr>\n",
       "    <tr>\n",
       "      <th>5</th>\n",
       "      <td>43.0</td>\n",
       "      <td>18.611496</td>\n",
       "    </tr>\n",
       "  </tbody>\n",
       "</table>\n",
       "</div>"
      ],
      "text/plain": [
       "   Weight (in kg)        BMI\n",
       "1            43.0  29.369579\n",
       "2            78.0  34.666667\n",
       "3            65.0  44.395875\n",
       "4            50.0  28.696051\n",
       "5            43.0  18.611496"
      ]
     },
     "execution_count": 79,
     "metadata": {},
     "output_type": "execute_result"
    }
   ],
   "source": [
    "# 1:5 indicates that rows with indices 1, 2, 3, 4 and 5 are selected\n",
    "# [\"Weight (in kg)\",\"BMI\"] indicates that the specified columns be selected\n",
    "df_basic_info.loc[1:5,[\"Weight (in kg)\",\"BMI\"]]"
   ]
  },
  {
   "cell_type": "markdown",
   "id": "5b94e473",
   "metadata": {
    "id": "5b94e473"
   },
   "source": [
    "**Note:** the row names are numbers"
   ]
  },
  {
   "cell_type": "markdown",
   "id": "ade8aa8b",
   "metadata": {
    "id": "ade8aa8b"
   },
   "source": [
    "**5. Selecting columns by specifying column names**"
   ]
  },
  {
   "cell_type": "markdown",
   "id": "385ea58c",
   "metadata": {
    "id": "385ea58c"
   },
   "source": [
    "#### Select the column 'Age'"
   ]
  },
  {
   "cell_type": "code",
   "execution_count": 41,
   "id": "0d4a6439",
   "metadata": {
    "id": "0d4a6439",
    "outputId": "47aaf2da-b2c9-4482-8849-791bb300f545"
   },
   "outputs": [
    {
     "data": {
      "text/plain": [
       "0     32.921811\n",
       "1     29.369579\n",
       "2     34.666667\n",
       "3     44.395875\n",
       "4     28.696051\n",
       "5     18.611496\n",
       "6     11.753903\n",
       "7     13.116778\n",
       "8     14.958377\n",
       "9      9.089335\n",
       "10    23.555556\n",
       "11    20.983988\n",
       "12    32.690542\n",
       "13    14.693878\n",
       "14    26.609713\n",
       "15    22.790358\n",
       "16    44.395875\n",
       "17    25.909457\n",
       "18    22.790358\n",
       "19    44.395875\n",
       "20    28.696051\n",
       "21    26.609713\n",
       "22    22.790358\n",
       "23    26.300000\n",
       "Name: BMI, dtype: float64"
      ]
     },
     "execution_count": 41,
     "metadata": {},
     "output_type": "execute_result"
    }
   ],
   "source": [
    "# select the coumn 'Age'\n",
    "df_basic_info.BMI"
   ]
  },
  {
   "cell_type": "markdown",
   "id": "1d70a32a",
   "metadata": {
    "id": "1d70a32a"
   },
   "source": [
    "**Remark:** Using this method we can select only one column."
   ]
  },
  {
   "cell_type": "code",
   "execution_count": 43,
   "id": "181a9e51",
   "metadata": {
    "id": "181a9e51",
    "outputId": "52d1a43c-6220-4881-8523-0396feab4c3a"
   },
   "outputs": [
    {
     "data": {
      "text/plain": [
       "0     32.921811\n",
       "1     29.369579\n",
       "2     34.666667\n",
       "3     44.395875\n",
       "4     28.696051\n",
       "5     18.611496\n",
       "6     11.753903\n",
       "7     13.116778\n",
       "8     14.958377\n",
       "9      9.089335\n",
       "10    23.555556\n",
       "11    20.983988\n",
       "12    32.690542\n",
       "13    14.693878\n",
       "14    26.609713\n",
       "15    22.790358\n",
       "16    44.395875\n",
       "17    25.909457\n",
       "18    22.790358\n",
       "19    44.395875\n",
       "20    28.696051\n",
       "21    26.609713\n",
       "22    22.790358\n",
       "23    26.300000\n",
       "Name: BMI, dtype: float64"
      ]
     },
     "execution_count": 43,
     "metadata": {},
     "output_type": "execute_result"
    }
   ],
   "source": [
    "# OR\n",
    "df_basic_info[\"BMI\"]"
   ]
  },
  {
   "cell_type": "markdown",
   "id": "c0136adf",
   "metadata": {
    "id": "c0136adf"
   },
   "source": [
    "#### Select the column 'Age' and 'BMI'"
   ]
  },
  {
   "cell_type": "code",
   "execution_count": 45,
   "id": "9253b506",
   "metadata": {
    "id": "9253b506",
    "outputId": "9cdb929e-e26e-473d-e4e9-8a45939a5fa2"
   },
   "outputs": [
    {
     "data": {
      "text/html": [
       "<div>\n",
       "<style scoped>\n",
       "    .dataframe tbody tr th:only-of-type {\n",
       "        vertical-align: middle;\n",
       "    }\n",
       "\n",
       "    .dataframe tbody tr th {\n",
       "        vertical-align: top;\n",
       "    }\n",
       "\n",
       "    .dataframe thead th {\n",
       "        text-align: right;\n",
       "    }\n",
       "</style>\n",
       "<table border=\"1\" class=\"dataframe\">\n",
       "  <thead>\n",
       "    <tr style=\"text-align: right;\">\n",
       "      <th></th>\n",
       "      <th>Age</th>\n",
       "      <th>BMI</th>\n",
       "    </tr>\n",
       "  </thead>\n",
       "  <tbody>\n",
       "    <tr>\n",
       "      <th>0</th>\n",
       "      <td>45.0</td>\n",
       "      <td>32.921811</td>\n",
       "    </tr>\n",
       "    <tr>\n",
       "      <th>1</th>\n",
       "      <td>12.0</td>\n",
       "      <td>29.369579</td>\n",
       "    </tr>\n",
       "    <tr>\n",
       "      <th>2</th>\n",
       "      <td>54.0</td>\n",
       "      <td>34.666667</td>\n",
       "    </tr>\n",
       "    <tr>\n",
       "      <th>3</th>\n",
       "      <td>26.0</td>\n",
       "      <td>44.395875</td>\n",
       "    </tr>\n",
       "    <tr>\n",
       "      <th>4</th>\n",
       "      <td>68.0</td>\n",
       "      <td>28.696051</td>\n",
       "    </tr>\n",
       "    <tr>\n",
       "      <th>5</th>\n",
       "      <td>21.0</td>\n",
       "      <td>18.611496</td>\n",
       "    </tr>\n",
       "    <tr>\n",
       "      <th>6</th>\n",
       "      <td>10.0</td>\n",
       "      <td>11.753903</td>\n",
       "    </tr>\n",
       "    <tr>\n",
       "      <th>7</th>\n",
       "      <td>57.0</td>\n",
       "      <td>13.116778</td>\n",
       "    </tr>\n",
       "    <tr>\n",
       "      <th>8</th>\n",
       "      <td>75.0</td>\n",
       "      <td>14.958377</td>\n",
       "    </tr>\n",
       "    <tr>\n",
       "      <th>9</th>\n",
       "      <td>32.0</td>\n",
       "      <td>9.089335</td>\n",
       "    </tr>\n",
       "    <tr>\n",
       "      <th>10</th>\n",
       "      <td>23.0</td>\n",
       "      <td>23.555556</td>\n",
       "    </tr>\n",
       "    <tr>\n",
       "      <th>11</th>\n",
       "      <td>34.0</td>\n",
       "      <td>20.983988</td>\n",
       "    </tr>\n",
       "    <tr>\n",
       "      <th>12</th>\n",
       "      <td>55.0</td>\n",
       "      <td>32.690542</td>\n",
       "    </tr>\n",
       "    <tr>\n",
       "      <th>13</th>\n",
       "      <td>23.0</td>\n",
       "      <td>14.693878</td>\n",
       "    </tr>\n",
       "    <tr>\n",
       "      <th>14</th>\n",
       "      <td>56.0</td>\n",
       "      <td>26.609713</td>\n",
       "    </tr>\n",
       "    <tr>\n",
       "      <th>15</th>\n",
       "      <td>67.0</td>\n",
       "      <td>22.790358</td>\n",
       "    </tr>\n",
       "    <tr>\n",
       "      <th>16</th>\n",
       "      <td>26.0</td>\n",
       "      <td>44.395875</td>\n",
       "    </tr>\n",
       "    <tr>\n",
       "      <th>17</th>\n",
       "      <td>56.0</td>\n",
       "      <td>25.909457</td>\n",
       "    </tr>\n",
       "    <tr>\n",
       "      <th>18</th>\n",
       "      <td>67.0</td>\n",
       "      <td>22.790358</td>\n",
       "    </tr>\n",
       "    <tr>\n",
       "      <th>19</th>\n",
       "      <td>26.0</td>\n",
       "      <td>44.395875</td>\n",
       "    </tr>\n",
       "    <tr>\n",
       "      <th>20</th>\n",
       "      <td>68.0</td>\n",
       "      <td>28.696051</td>\n",
       "    </tr>\n",
       "    <tr>\n",
       "      <th>21</th>\n",
       "      <td>56.0</td>\n",
       "      <td>26.609713</td>\n",
       "    </tr>\n",
       "    <tr>\n",
       "      <th>22</th>\n",
       "      <td>67.0</td>\n",
       "      <td>22.790358</td>\n",
       "    </tr>\n",
       "    <tr>\n",
       "      <th>23</th>\n",
       "      <td>45.0</td>\n",
       "      <td>26.300000</td>\n",
       "    </tr>\n",
       "  </tbody>\n",
       "</table>\n",
       "</div>"
      ],
      "text/plain": [
       "     Age        BMI\n",
       "0   45.0  32.921811\n",
       "1   12.0  29.369579\n",
       "2   54.0  34.666667\n",
       "3   26.0  44.395875\n",
       "4   68.0  28.696051\n",
       "5   21.0  18.611496\n",
       "6   10.0  11.753903\n",
       "7   57.0  13.116778\n",
       "8   75.0  14.958377\n",
       "9   32.0   9.089335\n",
       "10  23.0  23.555556\n",
       "11  34.0  20.983988\n",
       "12  55.0  32.690542\n",
       "13  23.0  14.693878\n",
       "14  56.0  26.609713\n",
       "15  67.0  22.790358\n",
       "16  26.0  44.395875\n",
       "17  56.0  25.909457\n",
       "18  67.0  22.790358\n",
       "19  26.0  44.395875\n",
       "20  68.0  28.696051\n",
       "21  56.0  26.609713\n",
       "22  67.0  22.790358\n",
       "23  45.0  26.300000"
      ]
     },
     "execution_count": 45,
     "metadata": {},
     "output_type": "execute_result"
    }
   ],
   "source": [
    "# select two columns\n",
    "# the column names are passed in a list\n",
    "df_basic_info[[\"Age\",\"BMI\"]]"
   ]
  },
  {
   "cell_type": "markdown",
   "id": "1f45af44",
   "metadata": {
    "id": "1f45af44"
   },
   "source": [
    "**6. Conditional subsetting**"
   ]
  },
  {
   "cell_type": "markdown",
   "id": "4055dda0",
   "metadata": {
    "id": "4055dda0"
   },
   "source": [
    "Selecting rows where the value of `Age` is greater than 47"
   ]
  },
  {
   "cell_type": "code",
   "execution_count": 53,
   "id": "f7ad1140",
   "metadata": {
    "id": "f7ad1140",
    "outputId": "294eec52-ec26-4433-eb0c-953342b77712"
   },
   "outputs": [
    {
     "data": {
      "text/html": [
       "<div>\n",
       "<style scoped>\n",
       "    .dataframe tbody tr th:only-of-type {\n",
       "        vertical-align: middle;\n",
       "    }\n",
       "\n",
       "    .dataframe tbody tr th {\n",
       "        vertical-align: top;\n",
       "    }\n",
       "\n",
       "    .dataframe thead th {\n",
       "        text-align: right;\n",
       "    }\n",
       "</style>\n",
       "<table border=\"1\" class=\"dataframe\">\n",
       "  <thead>\n",
       "    <tr style=\"text-align: right;\">\n",
       "      <th></th>\n",
       "      <th>Age</th>\n",
       "      <th>Weight (in kg)</th>\n",
       "      <th>Height (in m)</th>\n",
       "      <th>BMI</th>\n",
       "    </tr>\n",
       "  </thead>\n",
       "  <tbody>\n",
       "    <tr>\n",
       "      <th>4</th>\n",
       "      <td>68.0</td>\n",
       "      <td>50.0</td>\n",
       "      <td>1.32</td>\n",
       "      <td>28.696051</td>\n",
       "    </tr>\n",
       "    <tr>\n",
       "      <th>7</th>\n",
       "      <td>57.0</td>\n",
       "      <td>34.0</td>\n",
       "      <td>1.61</td>\n",
       "      <td>13.116778</td>\n",
       "    </tr>\n",
       "    <tr>\n",
       "      <th>8</th>\n",
       "      <td>75.0</td>\n",
       "      <td>23.0</td>\n",
       "      <td>1.24</td>\n",
       "      <td>14.958377</td>\n",
       "    </tr>\n",
       "    <tr>\n",
       "      <th>12</th>\n",
       "      <td>55.0</td>\n",
       "      <td>89.0</td>\n",
       "      <td>1.65</td>\n",
       "      <td>32.690542</td>\n",
       "    </tr>\n",
       "    <tr>\n",
       "      <th>14</th>\n",
       "      <td>56.0</td>\n",
       "      <td>76.0</td>\n",
       "      <td>1.69</td>\n",
       "      <td>26.609713</td>\n",
       "    </tr>\n",
       "    <tr>\n",
       "      <th>15</th>\n",
       "      <td>67.0</td>\n",
       "      <td>78.0</td>\n",
       "      <td>1.85</td>\n",
       "      <td>22.790358</td>\n",
       "    </tr>\n",
       "    <tr>\n",
       "      <th>17</th>\n",
       "      <td>56.0</td>\n",
       "      <td>74.0</td>\n",
       "      <td>1.69</td>\n",
       "      <td>25.909457</td>\n",
       "    </tr>\n",
       "    <tr>\n",
       "      <th>18</th>\n",
       "      <td>67.0</td>\n",
       "      <td>78.0</td>\n",
       "      <td>1.85</td>\n",
       "      <td>22.790358</td>\n",
       "    </tr>\n",
       "    <tr>\n",
       "      <th>20</th>\n",
       "      <td>68.0</td>\n",
       "      <td>50.0</td>\n",
       "      <td>1.32</td>\n",
       "      <td>28.696051</td>\n",
       "    </tr>\n",
       "    <tr>\n",
       "      <th>21</th>\n",
       "      <td>56.0</td>\n",
       "      <td>76.0</td>\n",
       "      <td>1.69</td>\n",
       "      <td>26.609713</td>\n",
       "    </tr>\n",
       "    <tr>\n",
       "      <th>22</th>\n",
       "      <td>67.0</td>\n",
       "      <td>78.0</td>\n",
       "      <td>1.85</td>\n",
       "      <td>22.790358</td>\n",
       "    </tr>\n",
       "  </tbody>\n",
       "</table>\n",
       "</div>"
      ],
      "text/plain": [
       "     Age  Weight (in kg)  Height (in m)        BMI\n",
       "4   68.0            50.0           1.32  28.696051\n",
       "7   57.0            34.0           1.61  13.116778\n",
       "8   75.0            23.0           1.24  14.958377\n",
       "12  55.0            89.0           1.65  32.690542\n",
       "14  56.0            76.0           1.69  26.609713\n",
       "15  67.0            78.0           1.85  22.790358\n",
       "17  56.0            74.0           1.69  25.909457\n",
       "18  67.0            78.0           1.85  22.790358\n",
       "20  68.0            50.0           1.32  28.696051\n",
       "21  56.0            76.0           1.69  26.609713\n",
       "22  67.0            78.0           1.85  22.790358"
      ]
     },
     "execution_count": 53,
     "metadata": {},
     "output_type": "execute_result"
    }
   ],
   "source": [
    "# to selct rows where the Age is greater than 47\n",
    "df_basic_info[(df_basic_info['Age'] > 47) & (df_basic_info['BMI']<34)]"
   ]
  },
  {
   "cell_type": "markdown",
   "id": "91c2f67c",
   "metadata": {
    "id": "91c2f67c"
   },
   "source": [
    "Subsetting the age more than 40 *or* weight column value more than 65"
   ]
  },
  {
   "cell_type": "code",
   "execution_count": null,
   "id": "9fee32e7",
   "metadata": {
    "id": "9fee32e7",
    "outputId": "1635dd65-dce4-41d5-cd84-bd0a2f989569"
   },
   "outputs": [
    {
     "data": {
      "text/html": [
       "<div>\n",
       "<style scoped>\n",
       "    .dataframe tbody tr th:only-of-type {\n",
       "        vertical-align: middle;\n",
       "    }\n",
       "\n",
       "    .dataframe tbody tr th {\n",
       "        vertical-align: top;\n",
       "    }\n",
       "\n",
       "    .dataframe thead th {\n",
       "        text-align: right;\n",
       "    }\n",
       "</style>\n",
       "<table border=\"1\" class=\"dataframe\">\n",
       "  <thead>\n",
       "    <tr style=\"text-align: right;\">\n",
       "      <th></th>\n",
       "      <th>Age</th>\n",
       "      <th>Weight (in kg)</th>\n",
       "      <th>Height (in m)</th>\n",
       "      <th>BMI</th>\n",
       "    </tr>\n",
       "  </thead>\n",
       "  <tbody>\n",
       "    <tr>\n",
       "      <th>0</th>\n",
       "      <td>45.0</td>\n",
       "      <td>60.0</td>\n",
       "      <td>1.35</td>\n",
       "      <td>32.921811</td>\n",
       "    </tr>\n",
       "    <tr>\n",
       "      <th>2</th>\n",
       "      <td>54.0</td>\n",
       "      <td>78.0</td>\n",
       "      <td>1.50</td>\n",
       "      <td>34.666667</td>\n",
       "    </tr>\n",
       "    <tr>\n",
       "      <th>4</th>\n",
       "      <td>68.0</td>\n",
       "      <td>50.0</td>\n",
       "      <td>1.32</td>\n",
       "      <td>28.696051</td>\n",
       "    </tr>\n",
       "    <tr>\n",
       "      <th>7</th>\n",
       "      <td>57.0</td>\n",
       "      <td>34.0</td>\n",
       "      <td>1.61</td>\n",
       "      <td>13.116778</td>\n",
       "    </tr>\n",
       "    <tr>\n",
       "      <th>8</th>\n",
       "      <td>75.0</td>\n",
       "      <td>23.0</td>\n",
       "      <td>1.24</td>\n",
       "      <td>14.958377</td>\n",
       "    </tr>\n",
       "    <tr>\n",
       "      <th>12</th>\n",
       "      <td>55.0</td>\n",
       "      <td>89.0</td>\n",
       "      <td>1.65</td>\n",
       "      <td>32.690542</td>\n",
       "    </tr>\n",
       "    <tr>\n",
       "      <th>14</th>\n",
       "      <td>56.0</td>\n",
       "      <td>76.0</td>\n",
       "      <td>1.69</td>\n",
       "      <td>26.609713</td>\n",
       "    </tr>\n",
       "    <tr>\n",
       "      <th>15</th>\n",
       "      <td>67.0</td>\n",
       "      <td>78.0</td>\n",
       "      <td>1.85</td>\n",
       "      <td>22.790358</td>\n",
       "    </tr>\n",
       "    <tr>\n",
       "      <th>17</th>\n",
       "      <td>56.0</td>\n",
       "      <td>74.0</td>\n",
       "      <td>1.69</td>\n",
       "      <td>25.909457</td>\n",
       "    </tr>\n",
       "    <tr>\n",
       "      <th>18</th>\n",
       "      <td>67.0</td>\n",
       "      <td>78.0</td>\n",
       "      <td>1.85</td>\n",
       "      <td>22.790358</td>\n",
       "    </tr>\n",
       "    <tr>\n",
       "      <th>20</th>\n",
       "      <td>68.0</td>\n",
       "      <td>50.0</td>\n",
       "      <td>1.32</td>\n",
       "      <td>28.696051</td>\n",
       "    </tr>\n",
       "    <tr>\n",
       "      <th>21</th>\n",
       "      <td>56.0</td>\n",
       "      <td>76.0</td>\n",
       "      <td>1.69</td>\n",
       "      <td>26.609713</td>\n",
       "    </tr>\n",
       "    <tr>\n",
       "      <th>22</th>\n",
       "      <td>67.0</td>\n",
       "      <td>78.0</td>\n",
       "      <td>1.85</td>\n",
       "      <td>22.790358</td>\n",
       "    </tr>\n",
       "    <tr>\n",
       "      <th>24</th>\n",
       "      <td>45.0</td>\n",
       "      <td>85.0</td>\n",
       "      <td>1.80</td>\n",
       "      <td>26.300000</td>\n",
       "    </tr>\n",
       "  </tbody>\n",
       "</table>\n",
       "</div>"
      ],
      "text/plain": [
       "     Age  Weight (in kg)  Height (in m)        BMI\n",
       "0   45.0            60.0           1.35  32.921811\n",
       "2   54.0            78.0           1.50  34.666667\n",
       "4   68.0            50.0           1.32  28.696051\n",
       "7   57.0            34.0           1.61  13.116778\n",
       "8   75.0            23.0           1.24  14.958377\n",
       "12  55.0            89.0           1.65  32.690542\n",
       "14  56.0            76.0           1.69  26.609713\n",
       "15  67.0            78.0           1.85  22.790358\n",
       "17  56.0            74.0           1.69  25.909457\n",
       "18  67.0            78.0           1.85  22.790358\n",
       "20  68.0            50.0           1.32  28.696051\n",
       "21  56.0            76.0           1.69  26.609713\n",
       "22  67.0            78.0           1.85  22.790358\n",
       "24  45.0            85.0           1.80  26.300000"
      ]
     },
     "execution_count": 85,
     "metadata": {},
     "output_type": "execute_result"
    }
   ],
   "source": [
    "# to select rows where either age is greater than 40 or weight is more than 65\n",
    "df_basic_info[ (df_basic_info[\"Age\"] > 40) | (df_basic_info['Weight (in kg)'] > 65)]"
   ]
  },
  {
   "cell_type": "markdown",
   "id": "a95d20e3",
   "metadata": {
    "id": "a95d20e3"
   },
   "source": [
    "Subsetting the age *and* weight column value more than 65"
   ]
  },
  {
   "cell_type": "code",
   "execution_count": null,
   "id": "8650435c",
   "metadata": {
    "id": "8650435c",
    "outputId": "5858f145-a893-4871-d8de-86543049c772"
   },
   "outputs": [
    {
     "data": {
      "text/html": [
       "<div>\n",
       "<style scoped>\n",
       "    .dataframe tbody tr th:only-of-type {\n",
       "        vertical-align: middle;\n",
       "    }\n",
       "\n",
       "    .dataframe tbody tr th {\n",
       "        vertical-align: top;\n",
       "    }\n",
       "\n",
       "    .dataframe thead th {\n",
       "        text-align: right;\n",
       "    }\n",
       "</style>\n",
       "<table border=\"1\" class=\"dataframe\">\n",
       "  <thead>\n",
       "    <tr style=\"text-align: right;\">\n",
       "      <th></th>\n",
       "      <th>Age</th>\n",
       "      <th>Weight (in kg)</th>\n",
       "      <th>Height (in m)</th>\n",
       "      <th>BMI</th>\n",
       "    </tr>\n",
       "  </thead>\n",
       "  <tbody>\n",
       "    <tr>\n",
       "      <th>15</th>\n",
       "      <td>67.0</td>\n",
       "      <td>78.0</td>\n",
       "      <td>1.85</td>\n",
       "      <td>22.790358</td>\n",
       "    </tr>\n",
       "    <tr>\n",
       "      <th>18</th>\n",
       "      <td>67.0</td>\n",
       "      <td>78.0</td>\n",
       "      <td>1.85</td>\n",
       "      <td>22.790358</td>\n",
       "    </tr>\n",
       "    <tr>\n",
       "      <th>22</th>\n",
       "      <td>67.0</td>\n",
       "      <td>78.0</td>\n",
       "      <td>1.85</td>\n",
       "      <td>22.790358</td>\n",
       "    </tr>\n",
       "  </tbody>\n",
       "</table>\n",
       "</div>"
      ],
      "text/plain": [
       "     Age  Weight (in kg)  Height (in m)        BMI\n",
       "15  67.0            78.0           1.85  22.790358\n",
       "18  67.0            78.0           1.85  22.790358\n",
       "22  67.0            78.0           1.85  22.790358"
      ]
     },
     "execution_count": 86,
     "metadata": {},
     "output_type": "execute_result"
    }
   ],
   "source": [
    "# select rows where both age and weight are more than 65\n",
    "df_basic_info[(df_basic_info[\"Age\"] > 65) & (df_basic_info['Weight (in kg)'] > 65)]"
   ]
  },
  {
   "cell_type": "markdown",
   "id": "df84f05d",
   "metadata": {
    "id": "df84f05d"
   },
   "source": [
    "**7. Sort the data frame on the basis of values in a column**"
   ]
  },
  {
   "cell_type": "markdown",
   "id": "4e01f2b7",
   "metadata": {
    "id": "4e01f2b7"
   },
   "source": [
    "Each column of a pandas DataFrame is treated as a pandas Series. The `.sort_values()` in DataFrames works similar to the `pandas.Series`."
   ]
  },
  {
   "cell_type": "code",
   "execution_count": 57,
   "id": "c6e16817",
   "metadata": {
    "id": "c6e16817",
    "outputId": "ba765a8c-ace5-4805-9ea5-85dee837615c",
    "scrolled": true
   },
   "outputs": [
    {
     "data": {
      "text/html": [
       "<div>\n",
       "<style scoped>\n",
       "    .dataframe tbody tr th:only-of-type {\n",
       "        vertical-align: middle;\n",
       "    }\n",
       "\n",
       "    .dataframe tbody tr th {\n",
       "        vertical-align: top;\n",
       "    }\n",
       "\n",
       "    .dataframe thead th {\n",
       "        text-align: right;\n",
       "    }\n",
       "</style>\n",
       "<table border=\"1\" class=\"dataframe\">\n",
       "  <thead>\n",
       "    <tr style=\"text-align: right;\">\n",
       "      <th></th>\n",
       "      <th>Age</th>\n",
       "      <th>Weight (in kg)</th>\n",
       "      <th>Height (in m)</th>\n",
       "      <th>BMI</th>\n",
       "    </tr>\n",
       "  </thead>\n",
       "  <tbody>\n",
       "    <tr>\n",
       "      <th>8</th>\n",
       "      <td>75.0</td>\n",
       "      <td>23.0</td>\n",
       "      <td>1.24</td>\n",
       "      <td>14.958377</td>\n",
       "    </tr>\n",
       "    <tr>\n",
       "      <th>4</th>\n",
       "      <td>68.0</td>\n",
       "      <td>50.0</td>\n",
       "      <td>1.32</td>\n",
       "      <td>28.696051</td>\n",
       "    </tr>\n",
       "    <tr>\n",
       "      <th>20</th>\n",
       "      <td>68.0</td>\n",
       "      <td>50.0</td>\n",
       "      <td>1.32</td>\n",
       "      <td>28.696051</td>\n",
       "    </tr>\n",
       "    <tr>\n",
       "      <th>22</th>\n",
       "      <td>67.0</td>\n",
       "      <td>78.0</td>\n",
       "      <td>1.85</td>\n",
       "      <td>22.790358</td>\n",
       "    </tr>\n",
       "    <tr>\n",
       "      <th>18</th>\n",
       "      <td>67.0</td>\n",
       "      <td>78.0</td>\n",
       "      <td>1.85</td>\n",
       "      <td>22.790358</td>\n",
       "    </tr>\n",
       "    <tr>\n",
       "      <th>15</th>\n",
       "      <td>67.0</td>\n",
       "      <td>78.0</td>\n",
       "      <td>1.85</td>\n",
       "      <td>22.790358</td>\n",
       "    </tr>\n",
       "    <tr>\n",
       "      <th>7</th>\n",
       "      <td>57.0</td>\n",
       "      <td>34.0</td>\n",
       "      <td>1.61</td>\n",
       "      <td>13.116778</td>\n",
       "    </tr>\n",
       "    <tr>\n",
       "      <th>14</th>\n",
       "      <td>56.0</td>\n",
       "      <td>76.0</td>\n",
       "      <td>1.69</td>\n",
       "      <td>26.609713</td>\n",
       "    </tr>\n",
       "    <tr>\n",
       "      <th>21</th>\n",
       "      <td>56.0</td>\n",
       "      <td>76.0</td>\n",
       "      <td>1.69</td>\n",
       "      <td>26.609713</td>\n",
       "    </tr>\n",
       "    <tr>\n",
       "      <th>17</th>\n",
       "      <td>56.0</td>\n",
       "      <td>74.0</td>\n",
       "      <td>1.69</td>\n",
       "      <td>25.909457</td>\n",
       "    </tr>\n",
       "    <tr>\n",
       "      <th>12</th>\n",
       "      <td>55.0</td>\n",
       "      <td>89.0</td>\n",
       "      <td>1.65</td>\n",
       "      <td>32.690542</td>\n",
       "    </tr>\n",
       "    <tr>\n",
       "      <th>2</th>\n",
       "      <td>54.0</td>\n",
       "      <td>78.0</td>\n",
       "      <td>1.50</td>\n",
       "      <td>34.666667</td>\n",
       "    </tr>\n",
       "    <tr>\n",
       "      <th>0</th>\n",
       "      <td>45.0</td>\n",
       "      <td>60.0</td>\n",
       "      <td>1.35</td>\n",
       "      <td>32.921811</td>\n",
       "    </tr>\n",
       "    <tr>\n",
       "      <th>23</th>\n",
       "      <td>45.0</td>\n",
       "      <td>85.0</td>\n",
       "      <td>1.80</td>\n",
       "      <td>26.300000</td>\n",
       "    </tr>\n",
       "    <tr>\n",
       "      <th>11</th>\n",
       "      <td>34.0</td>\n",
       "      <td>65.0</td>\n",
       "      <td>1.76</td>\n",
       "      <td>20.983988</td>\n",
       "    </tr>\n",
       "    <tr>\n",
       "      <th>9</th>\n",
       "      <td>32.0</td>\n",
       "      <td>21.0</td>\n",
       "      <td>1.52</td>\n",
       "      <td>9.089335</td>\n",
       "    </tr>\n",
       "    <tr>\n",
       "      <th>16</th>\n",
       "      <td>26.0</td>\n",
       "      <td>65.0</td>\n",
       "      <td>1.21</td>\n",
       "      <td>44.395875</td>\n",
       "    </tr>\n",
       "    <tr>\n",
       "      <th>19</th>\n",
       "      <td>26.0</td>\n",
       "      <td>65.0</td>\n",
       "      <td>1.21</td>\n",
       "      <td>44.395875</td>\n",
       "    </tr>\n",
       "    <tr>\n",
       "      <th>3</th>\n",
       "      <td>26.0</td>\n",
       "      <td>65.0</td>\n",
       "      <td>1.21</td>\n",
       "      <td>44.395875</td>\n",
       "    </tr>\n",
       "    <tr>\n",
       "      <th>13</th>\n",
       "      <td>23.0</td>\n",
       "      <td>45.0</td>\n",
       "      <td>1.75</td>\n",
       "      <td>14.693878</td>\n",
       "    </tr>\n",
       "    <tr>\n",
       "      <th>10</th>\n",
       "      <td>23.0</td>\n",
       "      <td>53.0</td>\n",
       "      <td>1.50</td>\n",
       "      <td>23.555556</td>\n",
       "    </tr>\n",
       "    <tr>\n",
       "      <th>5</th>\n",
       "      <td>21.0</td>\n",
       "      <td>43.0</td>\n",
       "      <td>1.52</td>\n",
       "      <td>18.611496</td>\n",
       "    </tr>\n",
       "    <tr>\n",
       "      <th>1</th>\n",
       "      <td>12.0</td>\n",
       "      <td>43.0</td>\n",
       "      <td>1.21</td>\n",
       "      <td>29.369579</td>\n",
       "    </tr>\n",
       "    <tr>\n",
       "      <th>6</th>\n",
       "      <td>10.0</td>\n",
       "      <td>32.0</td>\n",
       "      <td>1.65</td>\n",
       "      <td>11.753903</td>\n",
       "    </tr>\n",
       "  </tbody>\n",
       "</table>\n",
       "</div>"
      ],
      "text/plain": [
       "     Age  Weight (in kg)  Height (in m)        BMI\n",
       "8   75.0            23.0           1.24  14.958377\n",
       "4   68.0            50.0           1.32  28.696051\n",
       "20  68.0            50.0           1.32  28.696051\n",
       "22  67.0            78.0           1.85  22.790358\n",
       "18  67.0            78.0           1.85  22.790358\n",
       "15  67.0            78.0           1.85  22.790358\n",
       "7   57.0            34.0           1.61  13.116778\n",
       "14  56.0            76.0           1.69  26.609713\n",
       "21  56.0            76.0           1.69  26.609713\n",
       "17  56.0            74.0           1.69  25.909457\n",
       "12  55.0            89.0           1.65  32.690542\n",
       "2   54.0            78.0           1.50  34.666667\n",
       "0   45.0            60.0           1.35  32.921811\n",
       "23  45.0            85.0           1.80  26.300000\n",
       "11  34.0            65.0           1.76  20.983988\n",
       "9   32.0            21.0           1.52   9.089335\n",
       "16  26.0            65.0           1.21  44.395875\n",
       "19  26.0            65.0           1.21  44.395875\n",
       "3   26.0            65.0           1.21  44.395875\n",
       "13  23.0            45.0           1.75  14.693878\n",
       "10  23.0            53.0           1.50  23.555556\n",
       "5   21.0            43.0           1.52  18.611496\n",
       "1   12.0            43.0           1.21  29.369579\n",
       "6   10.0            32.0           1.65  11.753903"
      ]
     },
     "execution_count": 57,
     "metadata": {},
     "output_type": "execute_result"
    }
   ],
   "source": [
    "# sort the data frame on basis of 'Age' values\n",
    "# by default the values will get sorted in ascending order\n",
    "df_basic_info.sort_values('Age',ascending=False)\n",
    "\n",
    "# Note: 'ascending = False' will sort the data frame in descending order"
   ]
  },
  {
   "cell_type": "markdown",
   "id": "15079d7a",
   "metadata": {
    "id": "15079d7a"
   },
   "source": [
    "**8. Rank the dataframe**"
   ]
  },
  {
   "cell_type": "code",
   "execution_count": null,
   "id": "ac46f58c",
   "metadata": {
    "id": "ac46f58c",
    "outputId": "d03db8a6-92b8-46ea-d88b-98a5de8fea29"
   },
   "outputs": [
    {
     "data": {
      "text/html": [
       "<div>\n",
       "<style scoped>\n",
       "    .dataframe tbody tr th:only-of-type {\n",
       "        vertical-align: middle;\n",
       "    }\n",
       "\n",
       "    .dataframe tbody tr th {\n",
       "        vertical-align: top;\n",
       "    }\n",
       "\n",
       "    .dataframe thead th {\n",
       "        text-align: right;\n",
       "    }\n",
       "</style>\n",
       "<table border=\"1\" class=\"dataframe\">\n",
       "  <thead>\n",
       "    <tr style=\"text-align: right;\">\n",
       "      <th></th>\n",
       "      <th>Age</th>\n",
       "      <th>Weight (in kg)</th>\n",
       "      <th>Height (in m)</th>\n",
       "      <th>BMI</th>\n",
       "      <th>Rank_min</th>\n",
       "    </tr>\n",
       "  </thead>\n",
       "  <tbody>\n",
       "    <tr>\n",
       "      <th>0</th>\n",
       "      <td>45.0</td>\n",
       "      <td>60.0</td>\n",
       "      <td>1.35</td>\n",
       "      <td>32.921811</td>\n",
       "      <td>5.0</td>\n",
       "    </tr>\n",
       "    <tr>\n",
       "      <th>1</th>\n",
       "      <td>12.0</td>\n",
       "      <td>43.0</td>\n",
       "      <td>1.21</td>\n",
       "      <td>29.369579</td>\n",
       "      <td>7.0</td>\n",
       "    </tr>\n",
       "    <tr>\n",
       "      <th>2</th>\n",
       "      <td>54.0</td>\n",
       "      <td>78.0</td>\n",
       "      <td>1.50</td>\n",
       "      <td>34.666667</td>\n",
       "      <td>4.0</td>\n",
       "    </tr>\n",
       "    <tr>\n",
       "      <th>3</th>\n",
       "      <td>26.0</td>\n",
       "      <td>65.0</td>\n",
       "      <td>1.21</td>\n",
       "      <td>44.395875</td>\n",
       "      <td>1.0</td>\n",
       "    </tr>\n",
       "    <tr>\n",
       "      <th>4</th>\n",
       "      <td>68.0</td>\n",
       "      <td>50.0</td>\n",
       "      <td>1.32</td>\n",
       "      <td>28.696051</td>\n",
       "      <td>8.0</td>\n",
       "    </tr>\n",
       "    <tr>\n",
       "      <th>5</th>\n",
       "      <td>21.0</td>\n",
       "      <td>43.0</td>\n",
       "      <td>1.52</td>\n",
       "      <td>18.611496</td>\n",
       "      <td>19.0</td>\n",
       "    </tr>\n",
       "    <tr>\n",
       "      <th>6</th>\n",
       "      <td>10.0</td>\n",
       "      <td>32.0</td>\n",
       "      <td>1.65</td>\n",
       "      <td>11.753903</td>\n",
       "      <td>23.0</td>\n",
       "    </tr>\n",
       "    <tr>\n",
       "      <th>7</th>\n",
       "      <td>57.0</td>\n",
       "      <td>34.0</td>\n",
       "      <td>1.61</td>\n",
       "      <td>13.116778</td>\n",
       "      <td>22.0</td>\n",
       "    </tr>\n",
       "    <tr>\n",
       "      <th>8</th>\n",
       "      <td>75.0</td>\n",
       "      <td>23.0</td>\n",
       "      <td>1.24</td>\n",
       "      <td>14.958377</td>\n",
       "      <td>20.0</td>\n",
       "    </tr>\n",
       "    <tr>\n",
       "      <th>9</th>\n",
       "      <td>32.0</td>\n",
       "      <td>21.0</td>\n",
       "      <td>1.52</td>\n",
       "      <td>9.089335</td>\n",
       "      <td>24.0</td>\n",
       "    </tr>\n",
       "    <tr>\n",
       "      <th>10</th>\n",
       "      <td>23.0</td>\n",
       "      <td>53.0</td>\n",
       "      <td>1.50</td>\n",
       "      <td>23.555556</td>\n",
       "      <td>14.0</td>\n",
       "    </tr>\n",
       "    <tr>\n",
       "      <th>11</th>\n",
       "      <td>34.0</td>\n",
       "      <td>65.0</td>\n",
       "      <td>1.76</td>\n",
       "      <td>20.983988</td>\n",
       "      <td>18.0</td>\n",
       "    </tr>\n",
       "    <tr>\n",
       "      <th>12</th>\n",
       "      <td>55.0</td>\n",
       "      <td>89.0</td>\n",
       "      <td>1.65</td>\n",
       "      <td>32.690542</td>\n",
       "      <td>6.0</td>\n",
       "    </tr>\n",
       "    <tr>\n",
       "      <th>13</th>\n",
       "      <td>23.0</td>\n",
       "      <td>45.0</td>\n",
       "      <td>1.75</td>\n",
       "      <td>14.693878</td>\n",
       "      <td>21.0</td>\n",
       "    </tr>\n",
       "    <tr>\n",
       "      <th>14</th>\n",
       "      <td>56.0</td>\n",
       "      <td>76.0</td>\n",
       "      <td>1.69</td>\n",
       "      <td>26.609713</td>\n",
       "      <td>10.0</td>\n",
       "    </tr>\n",
       "    <tr>\n",
       "      <th>15</th>\n",
       "      <td>67.0</td>\n",
       "      <td>78.0</td>\n",
       "      <td>1.85</td>\n",
       "      <td>22.790358</td>\n",
       "      <td>15.0</td>\n",
       "    </tr>\n",
       "    <tr>\n",
       "      <th>16</th>\n",
       "      <td>26.0</td>\n",
       "      <td>65.0</td>\n",
       "      <td>1.21</td>\n",
       "      <td>44.395875</td>\n",
       "      <td>1.0</td>\n",
       "    </tr>\n",
       "    <tr>\n",
       "      <th>17</th>\n",
       "      <td>56.0</td>\n",
       "      <td>74.0</td>\n",
       "      <td>1.69</td>\n",
       "      <td>25.909457</td>\n",
       "      <td>13.0</td>\n",
       "    </tr>\n",
       "    <tr>\n",
       "      <th>18</th>\n",
       "      <td>67.0</td>\n",
       "      <td>78.0</td>\n",
       "      <td>1.85</td>\n",
       "      <td>22.790358</td>\n",
       "      <td>15.0</td>\n",
       "    </tr>\n",
       "    <tr>\n",
       "      <th>19</th>\n",
       "      <td>26.0</td>\n",
       "      <td>65.0</td>\n",
       "      <td>1.21</td>\n",
       "      <td>44.395875</td>\n",
       "      <td>1.0</td>\n",
       "    </tr>\n",
       "    <tr>\n",
       "      <th>20</th>\n",
       "      <td>68.0</td>\n",
       "      <td>50.0</td>\n",
       "      <td>1.32</td>\n",
       "      <td>28.696051</td>\n",
       "      <td>8.0</td>\n",
       "    </tr>\n",
       "    <tr>\n",
       "      <th>21</th>\n",
       "      <td>56.0</td>\n",
       "      <td>76.0</td>\n",
       "      <td>1.69</td>\n",
       "      <td>26.609713</td>\n",
       "      <td>10.0</td>\n",
       "    </tr>\n",
       "    <tr>\n",
       "      <th>22</th>\n",
       "      <td>67.0</td>\n",
       "      <td>78.0</td>\n",
       "      <td>1.85</td>\n",
       "      <td>22.790358</td>\n",
       "      <td>15.0</td>\n",
       "    </tr>\n",
       "    <tr>\n",
       "      <th>24</th>\n",
       "      <td>45.0</td>\n",
       "      <td>85.0</td>\n",
       "      <td>1.80</td>\n",
       "      <td>26.300000</td>\n",
       "      <td>12.0</td>\n",
       "    </tr>\n",
       "  </tbody>\n",
       "</table>\n",
       "</div>"
      ],
      "text/plain": [
       "     Age  Weight (in kg)  Height (in m)        BMI  Rank_min\n",
       "0   45.0            60.0           1.35  32.921811       5.0\n",
       "1   12.0            43.0           1.21  29.369579       7.0\n",
       "2   54.0            78.0           1.50  34.666667       4.0\n",
       "3   26.0            65.0           1.21  44.395875       1.0\n",
       "4   68.0            50.0           1.32  28.696051       8.0\n",
       "5   21.0            43.0           1.52  18.611496      19.0\n",
       "6   10.0            32.0           1.65  11.753903      23.0\n",
       "7   57.0            34.0           1.61  13.116778      22.0\n",
       "8   75.0            23.0           1.24  14.958377      20.0\n",
       "9   32.0            21.0           1.52   9.089335      24.0\n",
       "10  23.0            53.0           1.50  23.555556      14.0\n",
       "11  34.0            65.0           1.76  20.983988      18.0\n",
       "12  55.0            89.0           1.65  32.690542       6.0\n",
       "13  23.0            45.0           1.75  14.693878      21.0\n",
       "14  56.0            76.0           1.69  26.609713      10.0\n",
       "15  67.0            78.0           1.85  22.790358      15.0\n",
       "16  26.0            65.0           1.21  44.395875       1.0\n",
       "17  56.0            74.0           1.69  25.909457      13.0\n",
       "18  67.0            78.0           1.85  22.790358      15.0\n",
       "19  26.0            65.0           1.21  44.395875       1.0\n",
       "20  68.0            50.0           1.32  28.696051       8.0\n",
       "21  56.0            76.0           1.69  26.609713      10.0\n",
       "22  67.0            78.0           1.85  22.790358      15.0\n",
       "24  45.0            85.0           1.80  26.300000      12.0"
      ]
     },
     "execution_count": 88,
     "metadata": {},
     "output_type": "execute_result"
    }
   ],
   "source": [
    "# rank the data frame 'data' in descending order based on 'BMI'\n",
    "# 'method = min' assigns the minimum rank to highest equal value of 'BMI'\n",
    "df_basic_info['Rank_min'] = df_basic_info['BMI'].rank(ascending = 0, method  = 'min')\n",
    "\n",
    "# print the data\n",
    "df_basic_info"
   ]
  },
  {
   "cell_type": "markdown",
   "id": "2fcc09e0",
   "metadata": {
    "id": "2fcc09e0"
   },
   "source": [
    "From the above data frame, we can see that 'BMI = 44.395875' is repeating thrice; thus the method = 'min' will assign the minimum rank (=1) to all the three values of BMI. The rank '4' will be assigned to the second largest value of BMI and so on. Thus, there is no rank equal to 2 and 3."
   ]
  },
  {
   "cell_type": "code",
   "execution_count": null,
   "id": "afd306b5",
   "metadata": {
    "id": "afd306b5",
    "outputId": "2a654a63-4548-4a82-bf9d-e9b00812e102"
   },
   "outputs": [
    {
     "data": {
      "text/html": [
       "<div>\n",
       "<style scoped>\n",
       "    .dataframe tbody tr th:only-of-type {\n",
       "        vertical-align: middle;\n",
       "    }\n",
       "\n",
       "    .dataframe tbody tr th {\n",
       "        vertical-align: top;\n",
       "    }\n",
       "\n",
       "    .dataframe thead th {\n",
       "        text-align: right;\n",
       "    }\n",
       "</style>\n",
       "<table border=\"1\" class=\"dataframe\">\n",
       "  <thead>\n",
       "    <tr style=\"text-align: right;\">\n",
       "      <th></th>\n",
       "      <th>Age</th>\n",
       "      <th>Weight (in kg)</th>\n",
       "      <th>Height (in m)</th>\n",
       "      <th>BMI</th>\n",
       "      <th>Rank_min</th>\n",
       "      <th>Rank_densed</th>\n",
       "    </tr>\n",
       "  </thead>\n",
       "  <tbody>\n",
       "    <tr>\n",
       "      <th>0</th>\n",
       "      <td>45.0</td>\n",
       "      <td>60.0</td>\n",
       "      <td>1.35</td>\n",
       "      <td>32.921811</td>\n",
       "      <td>5.0</td>\n",
       "      <td>16.0</td>\n",
       "    </tr>\n",
       "    <tr>\n",
       "      <th>1</th>\n",
       "      <td>12.0</td>\n",
       "      <td>43.0</td>\n",
       "      <td>1.21</td>\n",
       "      <td>29.369579</td>\n",
       "      <td>7.0</td>\n",
       "      <td>14.0</td>\n",
       "    </tr>\n",
       "    <tr>\n",
       "      <th>2</th>\n",
       "      <td>54.0</td>\n",
       "      <td>78.0</td>\n",
       "      <td>1.50</td>\n",
       "      <td>34.666667</td>\n",
       "      <td>4.0</td>\n",
       "      <td>17.0</td>\n",
       "    </tr>\n",
       "    <tr>\n",
       "      <th>3</th>\n",
       "      <td>26.0</td>\n",
       "      <td>65.0</td>\n",
       "      <td>1.21</td>\n",
       "      <td>44.395875</td>\n",
       "      <td>1.0</td>\n",
       "      <td>18.0</td>\n",
       "    </tr>\n",
       "    <tr>\n",
       "      <th>4</th>\n",
       "      <td>68.0</td>\n",
       "      <td>50.0</td>\n",
       "      <td>1.32</td>\n",
       "      <td>28.696051</td>\n",
       "      <td>8.0</td>\n",
       "      <td>13.0</td>\n",
       "    </tr>\n",
       "    <tr>\n",
       "      <th>5</th>\n",
       "      <td>21.0</td>\n",
       "      <td>43.0</td>\n",
       "      <td>1.52</td>\n",
       "      <td>18.611496</td>\n",
       "      <td>19.0</td>\n",
       "      <td>6.0</td>\n",
       "    </tr>\n",
       "    <tr>\n",
       "      <th>6</th>\n",
       "      <td>10.0</td>\n",
       "      <td>32.0</td>\n",
       "      <td>1.65</td>\n",
       "      <td>11.753903</td>\n",
       "      <td>23.0</td>\n",
       "      <td>2.0</td>\n",
       "    </tr>\n",
       "    <tr>\n",
       "      <th>7</th>\n",
       "      <td>57.0</td>\n",
       "      <td>34.0</td>\n",
       "      <td>1.61</td>\n",
       "      <td>13.116778</td>\n",
       "      <td>22.0</td>\n",
       "      <td>3.0</td>\n",
       "    </tr>\n",
       "    <tr>\n",
       "      <th>8</th>\n",
       "      <td>75.0</td>\n",
       "      <td>23.0</td>\n",
       "      <td>1.24</td>\n",
       "      <td>14.958377</td>\n",
       "      <td>20.0</td>\n",
       "      <td>5.0</td>\n",
       "    </tr>\n",
       "    <tr>\n",
       "      <th>9</th>\n",
       "      <td>32.0</td>\n",
       "      <td>21.0</td>\n",
       "      <td>1.52</td>\n",
       "      <td>9.089335</td>\n",
       "      <td>24.0</td>\n",
       "      <td>1.0</td>\n",
       "    </tr>\n",
       "    <tr>\n",
       "      <th>10</th>\n",
       "      <td>23.0</td>\n",
       "      <td>53.0</td>\n",
       "      <td>1.50</td>\n",
       "      <td>23.555556</td>\n",
       "      <td>14.0</td>\n",
       "      <td>9.0</td>\n",
       "    </tr>\n",
       "    <tr>\n",
       "      <th>11</th>\n",
       "      <td>34.0</td>\n",
       "      <td>65.0</td>\n",
       "      <td>1.76</td>\n",
       "      <td>20.983988</td>\n",
       "      <td>18.0</td>\n",
       "      <td>7.0</td>\n",
       "    </tr>\n",
       "    <tr>\n",
       "      <th>12</th>\n",
       "      <td>55.0</td>\n",
       "      <td>89.0</td>\n",
       "      <td>1.65</td>\n",
       "      <td>32.690542</td>\n",
       "      <td>6.0</td>\n",
       "      <td>15.0</td>\n",
       "    </tr>\n",
       "    <tr>\n",
       "      <th>13</th>\n",
       "      <td>23.0</td>\n",
       "      <td>45.0</td>\n",
       "      <td>1.75</td>\n",
       "      <td>14.693878</td>\n",
       "      <td>21.0</td>\n",
       "      <td>4.0</td>\n",
       "    </tr>\n",
       "    <tr>\n",
       "      <th>14</th>\n",
       "      <td>56.0</td>\n",
       "      <td>76.0</td>\n",
       "      <td>1.69</td>\n",
       "      <td>26.609713</td>\n",
       "      <td>10.0</td>\n",
       "      <td>12.0</td>\n",
       "    </tr>\n",
       "    <tr>\n",
       "      <th>15</th>\n",
       "      <td>67.0</td>\n",
       "      <td>78.0</td>\n",
       "      <td>1.85</td>\n",
       "      <td>22.790358</td>\n",
       "      <td>15.0</td>\n",
       "      <td>8.0</td>\n",
       "    </tr>\n",
       "    <tr>\n",
       "      <th>16</th>\n",
       "      <td>26.0</td>\n",
       "      <td>65.0</td>\n",
       "      <td>1.21</td>\n",
       "      <td>44.395875</td>\n",
       "      <td>1.0</td>\n",
       "      <td>18.0</td>\n",
       "    </tr>\n",
       "    <tr>\n",
       "      <th>17</th>\n",
       "      <td>56.0</td>\n",
       "      <td>74.0</td>\n",
       "      <td>1.69</td>\n",
       "      <td>25.909457</td>\n",
       "      <td>13.0</td>\n",
       "      <td>10.0</td>\n",
       "    </tr>\n",
       "    <tr>\n",
       "      <th>18</th>\n",
       "      <td>67.0</td>\n",
       "      <td>78.0</td>\n",
       "      <td>1.85</td>\n",
       "      <td>22.790358</td>\n",
       "      <td>15.0</td>\n",
       "      <td>8.0</td>\n",
       "    </tr>\n",
       "    <tr>\n",
       "      <th>19</th>\n",
       "      <td>26.0</td>\n",
       "      <td>65.0</td>\n",
       "      <td>1.21</td>\n",
       "      <td>44.395875</td>\n",
       "      <td>1.0</td>\n",
       "      <td>18.0</td>\n",
       "    </tr>\n",
       "    <tr>\n",
       "      <th>20</th>\n",
       "      <td>68.0</td>\n",
       "      <td>50.0</td>\n",
       "      <td>1.32</td>\n",
       "      <td>28.696051</td>\n",
       "      <td>8.0</td>\n",
       "      <td>13.0</td>\n",
       "    </tr>\n",
       "    <tr>\n",
       "      <th>21</th>\n",
       "      <td>56.0</td>\n",
       "      <td>76.0</td>\n",
       "      <td>1.69</td>\n",
       "      <td>26.609713</td>\n",
       "      <td>10.0</td>\n",
       "      <td>12.0</td>\n",
       "    </tr>\n",
       "    <tr>\n",
       "      <th>22</th>\n",
       "      <td>67.0</td>\n",
       "      <td>78.0</td>\n",
       "      <td>1.85</td>\n",
       "      <td>22.790358</td>\n",
       "      <td>15.0</td>\n",
       "      <td>8.0</td>\n",
       "    </tr>\n",
       "    <tr>\n",
       "      <th>24</th>\n",
       "      <td>45.0</td>\n",
       "      <td>85.0</td>\n",
       "      <td>1.80</td>\n",
       "      <td>26.300000</td>\n",
       "      <td>12.0</td>\n",
       "      <td>11.0</td>\n",
       "    </tr>\n",
       "  </tbody>\n",
       "</table>\n",
       "</div>"
      ],
      "text/plain": [
       "     Age  Weight (in kg)  Height (in m)        BMI  Rank_min  Rank_densed\n",
       "0   45.0            60.0           1.35  32.921811       5.0         16.0\n",
       "1   12.0            43.0           1.21  29.369579       7.0         14.0\n",
       "2   54.0            78.0           1.50  34.666667       4.0         17.0\n",
       "3   26.0            65.0           1.21  44.395875       1.0         18.0\n",
       "4   68.0            50.0           1.32  28.696051       8.0         13.0\n",
       "5   21.0            43.0           1.52  18.611496      19.0          6.0\n",
       "6   10.0            32.0           1.65  11.753903      23.0          2.0\n",
       "7   57.0            34.0           1.61  13.116778      22.0          3.0\n",
       "8   75.0            23.0           1.24  14.958377      20.0          5.0\n",
       "9   32.0            21.0           1.52   9.089335      24.0          1.0\n",
       "10  23.0            53.0           1.50  23.555556      14.0          9.0\n",
       "11  34.0            65.0           1.76  20.983988      18.0          7.0\n",
       "12  55.0            89.0           1.65  32.690542       6.0         15.0\n",
       "13  23.0            45.0           1.75  14.693878      21.0          4.0\n",
       "14  56.0            76.0           1.69  26.609713      10.0         12.0\n",
       "15  67.0            78.0           1.85  22.790358      15.0          8.0\n",
       "16  26.0            65.0           1.21  44.395875       1.0         18.0\n",
       "17  56.0            74.0           1.69  25.909457      13.0         10.0\n",
       "18  67.0            78.0           1.85  22.790358      15.0          8.0\n",
       "19  26.0            65.0           1.21  44.395875       1.0         18.0\n",
       "20  68.0            50.0           1.32  28.696051       8.0         13.0\n",
       "21  56.0            76.0           1.69  26.609713      10.0         12.0\n",
       "22  67.0            78.0           1.85  22.790358      15.0          8.0\n",
       "24  45.0            85.0           1.80  26.300000      12.0         11.0"
      ]
     },
     "execution_count": 89,
     "metadata": {},
     "output_type": "execute_result"
    }
   ],
   "source": [
    "# method = 'dense' assigns same rank to all the same BMI values\n",
    "df_basic_info['Rank_densed'] = df_basic_info['BMI'].rank(method = 'dense')\n",
    "\n",
    "# print the data\n",
    "df_basic_info"
   ]
  },
  {
   "cell_type": "markdown",
   "id": "58cf331d",
   "metadata": {
    "id": "58cf331d"
   },
   "source": [
    "Here, the dense method assigns minimum rank (=1) to the minimum value (=9.089335) of the BMI. Rank 2 will be assigned to next smallest value and so on. The value 44.395875 which repeats thrice has the same rank - 18 to the three observations."
   ]
  },
  {
   "cell_type": "markdown",
   "id": "35737803",
   "metadata": {
    "id": "35737803"
   },
   "source": [
    "**9. To check for missing values**"
   ]
  },
  {
   "cell_type": "markdown",
   "id": "05828a4f",
   "metadata": {
    "id": "05828a4f"
   },
   "source": [
    "We shall import a new dataset."
   ]
  },
  {
   "cell_type": "code",
   "execution_count": 59,
   "id": "086d1a36",
   "metadata": {
    "id": "086d1a36",
    "outputId": "feff1516-fe67-432c-a7a3-0d12a77440ed"
   },
   "outputs": [
    {
     "data": {
      "text/html": [
       "<div>\n",
       "<style scoped>\n",
       "    .dataframe tbody tr th:only-of-type {\n",
       "        vertical-align: middle;\n",
       "    }\n",
       "\n",
       "    .dataframe tbody tr th {\n",
       "        vertical-align: top;\n",
       "    }\n",
       "\n",
       "    .dataframe thead th {\n",
       "        text-align: right;\n",
       "    }\n",
       "</style>\n",
       "<table border=\"1\" class=\"dataframe\">\n",
       "  <thead>\n",
       "    <tr style=\"text-align: right;\">\n",
       "      <th></th>\n",
       "      <th>Age</th>\n",
       "      <th>Weight (in kg)</th>\n",
       "      <th>Height (in m)</th>\n",
       "    </tr>\n",
       "  </thead>\n",
       "  <tbody>\n",
       "    <tr>\n",
       "      <th>0</th>\n",
       "      <td>45.0</td>\n",
       "      <td>60.0</td>\n",
       "      <td>1.35</td>\n",
       "    </tr>\n",
       "    <tr>\n",
       "      <th>1</th>\n",
       "      <td>12.0</td>\n",
       "      <td>43.0</td>\n",
       "      <td>1.21</td>\n",
       "    </tr>\n",
       "    <tr>\n",
       "      <th>2</th>\n",
       "      <td>54.0</td>\n",
       "      <td>78.0</td>\n",
       "      <td>1.50</td>\n",
       "    </tr>\n",
       "    <tr>\n",
       "      <th>3</th>\n",
       "      <td>26.0</td>\n",
       "      <td>65.0</td>\n",
       "      <td>1.21</td>\n",
       "    </tr>\n",
       "    <tr>\n",
       "      <th>4</th>\n",
       "      <td>68.0</td>\n",
       "      <td>50.0</td>\n",
       "      <td>1.32</td>\n",
       "    </tr>\n",
       "    <tr>\n",
       "      <th>5</th>\n",
       "      <td>21.0</td>\n",
       "      <td>NaN</td>\n",
       "      <td>1.52</td>\n",
       "    </tr>\n",
       "    <tr>\n",
       "      <th>6</th>\n",
       "      <td>10.0</td>\n",
       "      <td>32.0</td>\n",
       "      <td>1.65</td>\n",
       "    </tr>\n",
       "    <tr>\n",
       "      <th>7</th>\n",
       "      <td>57.0</td>\n",
       "      <td>34.0</td>\n",
       "      <td>1.61</td>\n",
       "    </tr>\n",
       "    <tr>\n",
       "      <th>8</th>\n",
       "      <td>75.0</td>\n",
       "      <td>23.0</td>\n",
       "      <td>1.24</td>\n",
       "    </tr>\n",
       "    <tr>\n",
       "      <th>9</th>\n",
       "      <td>32.0</td>\n",
       "      <td>21.0</td>\n",
       "      <td>1.52</td>\n",
       "    </tr>\n",
       "    <tr>\n",
       "      <th>10</th>\n",
       "      <td>23.0</td>\n",
       "      <td>NaN</td>\n",
       "      <td>1.50</td>\n",
       "    </tr>\n",
       "    <tr>\n",
       "      <th>11</th>\n",
       "      <td>34.0</td>\n",
       "      <td>65.0</td>\n",
       "      <td>1.76</td>\n",
       "    </tr>\n",
       "    <tr>\n",
       "      <th>12</th>\n",
       "      <td>55.0</td>\n",
       "      <td>89.0</td>\n",
       "      <td>1.65</td>\n",
       "    </tr>\n",
       "    <tr>\n",
       "      <th>13</th>\n",
       "      <td>23.0</td>\n",
       "      <td>45.0</td>\n",
       "      <td>1.75</td>\n",
       "    </tr>\n",
       "    <tr>\n",
       "      <th>14</th>\n",
       "      <td>56.0</td>\n",
       "      <td>76.0</td>\n",
       "      <td>1.69</td>\n",
       "    </tr>\n",
       "    <tr>\n",
       "      <th>15</th>\n",
       "      <td>67.0</td>\n",
       "      <td>78.0</td>\n",
       "      <td>1.85</td>\n",
       "    </tr>\n",
       "    <tr>\n",
       "      <th>16</th>\n",
       "      <td>26.0</td>\n",
       "      <td>65.0</td>\n",
       "      <td>1.21</td>\n",
       "    </tr>\n",
       "    <tr>\n",
       "      <th>17</th>\n",
       "      <td>56.0</td>\n",
       "      <td>74.0</td>\n",
       "      <td>1.69</td>\n",
       "    </tr>\n",
       "    <tr>\n",
       "      <th>18</th>\n",
       "      <td>67.0</td>\n",
       "      <td>78.0</td>\n",
       "      <td>NaN</td>\n",
       "    </tr>\n",
       "    <tr>\n",
       "      <th>19</th>\n",
       "      <td>26.0</td>\n",
       "      <td>65.0</td>\n",
       "      <td>1.21</td>\n",
       "    </tr>\n",
       "    <tr>\n",
       "      <th>20</th>\n",
       "      <td>68.0</td>\n",
       "      <td>50.0</td>\n",
       "      <td>1.32</td>\n",
       "    </tr>\n",
       "    <tr>\n",
       "      <th>21</th>\n",
       "      <td>NaN</td>\n",
       "      <td>76.0</td>\n",
       "      <td>1.69</td>\n",
       "    </tr>\n",
       "    <tr>\n",
       "      <th>22</th>\n",
       "      <td>67.0</td>\n",
       "      <td>78.0</td>\n",
       "      <td>1.85</td>\n",
       "    </tr>\n",
       "  </tbody>\n",
       "</table>\n",
       "</div>"
      ],
      "text/plain": [
       "     Age  Weight (in kg)  Height (in m)\n",
       "0   45.0            60.0           1.35\n",
       "1   12.0            43.0           1.21\n",
       "2   54.0            78.0           1.50\n",
       "3   26.0            65.0           1.21\n",
       "4   68.0            50.0           1.32\n",
       "5   21.0             NaN           1.52\n",
       "6   10.0            32.0           1.65\n",
       "7   57.0            34.0           1.61\n",
       "8   75.0            23.0           1.24\n",
       "9   32.0            21.0           1.52\n",
       "10  23.0             NaN           1.50\n",
       "11  34.0            65.0           1.76\n",
       "12  55.0            89.0           1.65\n",
       "13  23.0            45.0           1.75\n",
       "14  56.0            76.0           1.69\n",
       "15  67.0            78.0           1.85\n",
       "16  26.0            65.0           1.21\n",
       "17  56.0            74.0           1.69\n",
       "18  67.0            78.0            NaN\n",
       "19  26.0            65.0           1.21\n",
       "20  68.0            50.0           1.32\n",
       "21   NaN            76.0           1.69\n",
       "22  67.0            78.0           1.85"
      ]
     },
     "execution_count": 59,
     "metadata": {},
     "output_type": "execute_result"
    }
   ],
   "source": [
    "# read the dataset\n",
    "df_basic_info_missing = pd.read_csv(\"basic_info_missingdata.csv\")\n",
    "\n",
    "# print the dataset\n",
    "df_basic_info_missing"
   ]
  },
  {
   "cell_type": "markdown",
   "id": "3bf19bc4",
   "metadata": {
    "id": "3bf19bc4"
   },
   "source": [
    "Check for missing values"
   ]
  },
  {
   "cell_type": "code",
   "execution_count": 63,
   "id": "207161fe",
   "metadata": {
    "id": "207161fe",
    "outputId": "7730c451-d9dd-4807-a6c8-aaeec48a3f96"
   },
   "outputs": [
    {
     "data": {
      "text/plain": [
       "Age               1\n",
       "Weight (in kg)    2\n",
       "Height (in m)     1\n",
       "dtype: int64"
      ]
     },
     "execution_count": 63,
     "metadata": {},
     "output_type": "execute_result"
    }
   ],
   "source": [
    "# isnull() returns True for a missing value\n",
    "# sum() gives the sum of True values\n",
    "df_basic_info_missing.isnull().sum()"
   ]
  },
  {
   "cell_type": "markdown",
   "id": "82718550",
   "metadata": {
    "id": "82718550"
   },
   "source": [
    "The function `.isnull` check whether the data is missing. The `sum()` sums the number of 'True' values in the column. The final output gives the number of missing values in each column.\n",
    "\n",
    "Here, we see there are 2 missing values in the 'weight' column and one missing value in other columns."
   ]
  },
  {
   "cell_type": "code",
   "execution_count": 65,
   "id": "d7044805-4fcc-4cf0-a55b-74a9fe4caa3d",
   "metadata": {},
   "outputs": [
    {
     "data": {
      "text/plain": [
       "44.0"
      ]
     },
     "execution_count": 65,
     "metadata": {},
     "output_type": "execute_result"
    }
   ],
   "source": [
    "df_basic_info_missing.Age.mean()"
   ]
  },
  {
   "cell_type": "code",
   "execution_count": 67,
   "id": "b97f9a70-0554-452d-99cd-c50c309b9c7a",
   "metadata": {},
   "outputs": [
    {
     "data": {
      "text/plain": [
       "0     45.0\n",
       "1     12.0\n",
       "2     54.0\n",
       "3     26.0\n",
       "4     68.0\n",
       "5     21.0\n",
       "6     10.0\n",
       "7     57.0\n",
       "8     75.0\n",
       "9     32.0\n",
       "10    23.0\n",
       "11    34.0\n",
       "12    55.0\n",
       "13    23.0\n",
       "14    56.0\n",
       "15    67.0\n",
       "16    26.0\n",
       "17    56.0\n",
       "18    67.0\n",
       "19    26.0\n",
       "20    68.0\n",
       "21    44.0\n",
       "22    67.0\n",
       "Name: Age, dtype: float64"
      ]
     },
     "execution_count": 67,
     "metadata": {},
     "output_type": "execute_result"
    }
   ],
   "source": [
    "df_basic_info_missing.Age.fillna(df_basic_info_missing.Age.mean())"
   ]
  },
  {
   "cell_type": "markdown",
   "id": "eb0245f6",
   "metadata": {
    "id": "eb0245f6"
   },
   "source": [
    "<a id=\"reading_data\"> </a>\n",
    "## 5.  Reading Data from Different Sources"
   ]
  },
  {
   "cell_type": "code",
   "execution_count": null,
   "id": "18df1063",
   "metadata": {
    "id": "18df1063",
    "outputId": "43c2bc70-8ed7-482a-d1bd-f9b2f0cf7eae"
   },
   "outputs": [
    {
     "data": {
      "text/html": [
       "<div>\n",
       "<style scoped>\n",
       "    .dataframe tbody tr th:only-of-type {\n",
       "        vertical-align: middle;\n",
       "    }\n",
       "\n",
       "    .dataframe tbody tr th {\n",
       "        vertical-align: top;\n",
       "    }\n",
       "\n",
       "    .dataframe thead th {\n",
       "        text-align: right;\n",
       "    }\n",
       "</style>\n",
       "<table border=\"1\" class=\"dataframe\">\n",
       "  <thead>\n",
       "    <tr style=\"text-align: right;\">\n",
       "      <th></th>\n",
       "      <th>Age</th>\n",
       "      <th>Gender</th>\n",
       "      <th>Salary</th>\n",
       "    </tr>\n",
       "  </thead>\n",
       "  <tbody>\n",
       "    <tr>\n",
       "      <th>0</th>\n",
       "      <td>45</td>\n",
       "      <td>Male</td>\n",
       "      <td>40000</td>\n",
       "    </tr>\n",
       "    <tr>\n",
       "      <th>1</th>\n",
       "      <td>12</td>\n",
       "      <td>Male</td>\n",
       "      <td>0</td>\n",
       "    </tr>\n",
       "    <tr>\n",
       "      <th>2</th>\n",
       "      <td>54</td>\n",
       "      <td>Female</td>\n",
       "      <td>150000</td>\n",
       "    </tr>\n",
       "    <tr>\n",
       "      <th>3</th>\n",
       "      <td>26</td>\n",
       "      <td>Male</td>\n",
       "      <td>30000</td>\n",
       "    </tr>\n",
       "    <tr>\n",
       "      <th>4</th>\n",
       "      <td>64</td>\n",
       "      <td>Female</td>\n",
       "      <td>15000</td>\n",
       "    </tr>\n",
       "    <tr>\n",
       "      <th>5</th>\n",
       "      <td>21</td>\n",
       "      <td>Female</td>\n",
       "      <td>25600</td>\n",
       "    </tr>\n",
       "  </tbody>\n",
       "</table>\n",
       "</div>"
      ],
      "text/plain": [
       "   Age  Gender  Salary\n",
       "0   45    Male   40000\n",
       "1   12    Male       0\n",
       "2   54  Female  150000\n",
       "3   26    Male   30000\n",
       "4   64  Female   15000\n",
       "5   21  Female   25600"
      ]
     },
     "execution_count": 93,
     "metadata": {},
     "output_type": "execute_result"
    }
   ],
   "source": [
    "# to read a xlsx file\n",
    "pd.read_excel('employee_info.xlsx')"
   ]
  },
  {
   "cell_type": "markdown",
   "id": "feaf9d21",
   "metadata": {
    "id": "feaf9d21"
   },
   "source": [
    "**2. Read a `.zip` file**\n",
    "\n",
    "The zipped file contain a .csv file"
   ]
  },
  {
   "cell_type": "code",
   "execution_count": null,
   "id": "03152c41",
   "metadata": {
    "id": "03152c41",
    "outputId": "8cd6529a-6b88-4e0f-bf81-1b766163a529"
   },
   "outputs": [
    {
     "name": "stdout",
     "output_type": "stream",
     "text": [
      "   Age  Weight (in kg)  Height (in m)\n",
      "0   45              60           1.35\n",
      "1   12              43           1.21\n",
      "2   54              78           1.50\n",
      "3   26              65           1.21\n",
      "4   68              50           1.32\n"
     ]
    }
   ],
   "source": [
    "# import the library zipfile\n",
    "import zipfile\n",
    "\n",
    "# Zipfile reads the zipped file\n",
    "# from the zipped file open the csv as f\n",
    "# read the csv file\n",
    "with zipfile.ZipFile('data.zip') as z:\n",
    "    with z.open('example.csv') as f:\n",
    "        file = pd.read_csv(f)\n",
    "        print(file.head())"
   ]
  },
  {
   "cell_type": "markdown",
   "id": "1b597efc",
   "metadata": {
    "id": "1b597efc"
   },
   "source": [
    "**3. Read a `.html` file**"
   ]
  },
  {
   "cell_type": "code",
   "execution_count": null,
   "id": "2cf1038d",
   "metadata": {
    "id": "2cf1038d",
    "outputId": "fd74e471-2183-4365-fba4-c7e2afcb3a1b"
   },
   "outputs": [
    {
     "data": {
      "text/plain": [
       "[   Age  Gender  Salary\n",
       " 1                     \n",
       " 2   45    Male   40000\n",
       " 3   12    Male       0\n",
       " 4   54  Female  150000\n",
       " 5   26    Male   30000\n",
       " 6   64  Female   15000\n",
       " 7   21  Female   25600]"
      ]
     },
     "execution_count": 95,
     "metadata": {},
     "output_type": "execute_result"
    }
   ],
   "source": [
    "# read the html using read_html()\n",
    "# header = 1 indicates that the first row contains the headings\n",
    "# index_col = 0 indicates that the first column contains the index\n",
    "df_emp = pd.read_html('employee.html', header=1, index_col=0)\n",
    "\n",
    "# print the data\n",
    "df_emp"
   ]
  },
  {
   "cell_type": "markdown",
   "id": "6d1aedc6",
   "metadata": {
    "id": "6d1aedc6"
   },
   "source": [
    "**4. Read a `.txt` file**"
   ]
  },
  {
   "cell_type": "code",
   "execution_count": null,
   "id": "e5db340b",
   "metadata": {
    "id": "e5db340b",
    "outputId": "bdd4cfc0-56ce-47da-ba4b-e9c2d4b5daa7"
   },
   "outputs": [
    {
     "data": {
      "text/html": [
       "<div>\n",
       "<style scoped>\n",
       "    .dataframe tbody tr th:only-of-type {\n",
       "        vertical-align: middle;\n",
       "    }\n",
       "\n",
       "    .dataframe tbody tr th {\n",
       "        vertical-align: top;\n",
       "    }\n",
       "\n",
       "    .dataframe thead th {\n",
       "        text-align: right;\n",
       "    }\n",
       "</style>\n",
       "<table border=\"1\" class=\"dataframe\">\n",
       "  <thead>\n",
       "    <tr style=\"text-align: right;\">\n",
       "      <th></th>\n",
       "      <th>Country</th>\n",
       "      <th>Birth rate</th>\n",
       "      <th>Life expectancy</th>\n",
       "    </tr>\n",
       "  </thead>\n",
       "  <tbody>\n",
       "    <tr>\n",
       "      <th>0</th>\n",
       "      <td>Vietnam</td>\n",
       "      <td>1.822</td>\n",
       "      <td>74.828244</td>\n",
       "    </tr>\n",
       "    <tr>\n",
       "      <th>1</th>\n",
       "      <td>Vanuatu</td>\n",
       "      <td>3.869</td>\n",
       "      <td>70.819488</td>\n",
       "    </tr>\n",
       "    <tr>\n",
       "      <th>2</th>\n",
       "      <td>Tonga</td>\n",
       "      <td>3.911</td>\n",
       "      <td>72.150659</td>\n",
       "    </tr>\n",
       "    <tr>\n",
       "      <th>3</th>\n",
       "      <td>Timor-Leste</td>\n",
       "      <td>5.578</td>\n",
       "      <td>61.999854</td>\n",
       "    </tr>\n",
       "    <tr>\n",
       "      <th>4</th>\n",
       "      <td>Thailand</td>\n",
       "      <td>1.579</td>\n",
       "      <td>73.927659</td>\n",
       "    </tr>\n",
       "  </tbody>\n",
       "</table>\n",
       "</div>"
      ],
      "text/plain": [
       "       Country  Birth rate  Life expectancy\n",
       "0      Vietnam       1.822        74.828244\n",
       "1      Vanuatu       3.869        70.819488\n",
       "2        Tonga       3.911        72.150659\n",
       "3  Timor-Leste       5.578        61.999854\n",
       "4     Thailand       1.579        73.927659"
      ]
     },
     "execution_count": 96,
     "metadata": {},
     "output_type": "execute_result"
    }
   ],
   "source": [
    "# read the text file\n",
    "# sep is the delimiter use\n",
    "df_demography = pd.read_csv('demography.txt', sep=\"\\t\")\n",
    "\n",
    "# print the head of the data\n",
    "df_demography.head()"
   ]
  },
  {
   "cell_type": "markdown",
   "id": "03135e14",
   "metadata": {
    "id": "03135e14"
   },
   "source": [
    "**5. Read a `.json` file**"
   ]
  },
  {
   "cell_type": "code",
   "execution_count": null,
   "id": "4321df47",
   "metadata": {
    "id": "4321df47",
    "outputId": "260d8635-c166-4f8c-fa7d-8430ae7d110c"
   },
   "outputs": [
    {
     "data": {
      "text/html": [
       "<div>\n",
       "<style scoped>\n",
       "    .dataframe tbody tr th:only-of-type {\n",
       "        vertical-align: middle;\n",
       "    }\n",
       "\n",
       "    .dataframe tbody tr th {\n",
       "        vertical-align: top;\n",
       "    }\n",
       "\n",
       "    .dataframe thead th {\n",
       "        text-align: right;\n",
       "    }\n",
       "</style>\n",
       "<table border=\"1\" class=\"dataframe\">\n",
       "  <thead>\n",
       "    <tr style=\"text-align: right;\">\n",
       "      <th></th>\n",
       "      <th>sepalLength</th>\n",
       "      <th>sepalWidth</th>\n",
       "      <th>petalLength</th>\n",
       "      <th>petalWidth</th>\n",
       "      <th>species</th>\n",
       "    </tr>\n",
       "  </thead>\n",
       "  <tbody>\n",
       "    <tr>\n",
       "      <th>0</th>\n",
       "      <td>5.1</td>\n",
       "      <td>3.5</td>\n",
       "      <td>1.4</td>\n",
       "      <td>0.2</td>\n",
       "      <td>setosa</td>\n",
       "    </tr>\n",
       "    <tr>\n",
       "      <th>1</th>\n",
       "      <td>4.9</td>\n",
       "      <td>3.0</td>\n",
       "      <td>1.4</td>\n",
       "      <td>0.2</td>\n",
       "      <td>setosa</td>\n",
       "    </tr>\n",
       "    <tr>\n",
       "      <th>2</th>\n",
       "      <td>4.7</td>\n",
       "      <td>3.2</td>\n",
       "      <td>1.3</td>\n",
       "      <td>0.2</td>\n",
       "      <td>setosa</td>\n",
       "    </tr>\n",
       "    <tr>\n",
       "      <th>3</th>\n",
       "      <td>4.6</td>\n",
       "      <td>3.1</td>\n",
       "      <td>1.5</td>\n",
       "      <td>0.2</td>\n",
       "      <td>setosa</td>\n",
       "    </tr>\n",
       "    <tr>\n",
       "      <th>4</th>\n",
       "      <td>5.0</td>\n",
       "      <td>3.6</td>\n",
       "      <td>1.4</td>\n",
       "      <td>0.2</td>\n",
       "      <td>setosa</td>\n",
       "    </tr>\n",
       "    <tr>\n",
       "      <th>...</th>\n",
       "      <td>...</td>\n",
       "      <td>...</td>\n",
       "      <td>...</td>\n",
       "      <td>...</td>\n",
       "      <td>...</td>\n",
       "    </tr>\n",
       "    <tr>\n",
       "      <th>145</th>\n",
       "      <td>6.7</td>\n",
       "      <td>3.0</td>\n",
       "      <td>5.2</td>\n",
       "      <td>2.3</td>\n",
       "      <td>virginica</td>\n",
       "    </tr>\n",
       "    <tr>\n",
       "      <th>146</th>\n",
       "      <td>6.3</td>\n",
       "      <td>2.5</td>\n",
       "      <td>5.0</td>\n",
       "      <td>1.9</td>\n",
       "      <td>virginica</td>\n",
       "    </tr>\n",
       "    <tr>\n",
       "      <th>147</th>\n",
       "      <td>6.5</td>\n",
       "      <td>3.0</td>\n",
       "      <td>5.2</td>\n",
       "      <td>2.0</td>\n",
       "      <td>virginica</td>\n",
       "    </tr>\n",
       "    <tr>\n",
       "      <th>148</th>\n",
       "      <td>6.2</td>\n",
       "      <td>3.4</td>\n",
       "      <td>5.4</td>\n",
       "      <td>2.3</td>\n",
       "      <td>virginica</td>\n",
       "    </tr>\n",
       "    <tr>\n",
       "      <th>149</th>\n",
       "      <td>5.9</td>\n",
       "      <td>3.0</td>\n",
       "      <td>5.1</td>\n",
       "      <td>1.8</td>\n",
       "      <td>virginica</td>\n",
       "    </tr>\n",
       "  </tbody>\n",
       "</table>\n",
       "<p>150 rows × 5 columns</p>\n",
       "</div>"
      ],
      "text/plain": [
       "     sepalLength  sepalWidth  petalLength  petalWidth    species\n",
       "0            5.1         3.5          1.4         0.2     setosa\n",
       "1            4.9         3.0          1.4         0.2     setosa\n",
       "2            4.7         3.2          1.3         0.2     setosa\n",
       "3            4.6         3.1          1.5         0.2     setosa\n",
       "4            5.0         3.6          1.4         0.2     setosa\n",
       "..           ...         ...          ...         ...        ...\n",
       "145          6.7         3.0          5.2         2.3  virginica\n",
       "146          6.3         2.5          5.0         1.9  virginica\n",
       "147          6.5         3.0          5.2         2.0  virginica\n",
       "148          6.2         3.4          5.4         2.3  virginica\n",
       "149          5.9         3.0          5.1         1.8  virginica\n",
       "\n",
       "[150 rows x 5 columns]"
      ]
     },
     "execution_count": 97,
     "metadata": {},
     "output_type": "execute_result"
    }
   ],
   "source": [
    "# read the file\n",
    "pd.read_json('iris.json')"
   ]
  },
  {
   "cell_type": "markdown",
   "id": "e93f873f",
   "metadata": {
    "id": "e93f873f"
   },
   "source": [
    "**6. Read a `.xml` file**"
   ]
  },
  {
   "cell_type": "code",
   "execution_count": null,
   "id": "dfd06da4",
   "metadata": {
    "id": "dfd06da4",
    "outputId": "42410b4a-52a2-4821-b548-f37a22e32d76"
   },
   "outputs": [
    {
     "data": {
      "text/html": [
       "<div>\n",
       "<style scoped>\n",
       "    .dataframe tbody tr th:only-of-type {\n",
       "        vertical-align: middle;\n",
       "    }\n",
       "\n",
       "    .dataframe tbody tr th {\n",
       "        vertical-align: top;\n",
       "    }\n",
       "\n",
       "    .dataframe thead th {\n",
       "        text-align: right;\n",
       "    }\n",
       "</style>\n",
       "<table border=\"1\" class=\"dataframe\">\n",
       "  <thead>\n",
       "    <tr style=\"text-align: right;\">\n",
       "      <th></th>\n",
       "      <th>Name</th>\n",
       "      <th>Gender</th>\n",
       "      <th>Marks</th>\n",
       "    </tr>\n",
       "  </thead>\n",
       "  <tbody>\n",
       "    <tr>\n",
       "      <th>0</th>\n",
       "      <td>Student_1</td>\n",
       "      <td>Female</td>\n",
       "      <td>9.5</td>\n",
       "    </tr>\n",
       "    <tr>\n",
       "      <th>1</th>\n",
       "      <td>Student_2</td>\n",
       "      <td>Male</td>\n",
       "      <td>8.2</td>\n",
       "    </tr>\n",
       "    <tr>\n",
       "      <th>2</th>\n",
       "      <td>Student_3</td>\n",
       "      <td>Male</td>\n",
       "      <td>7.8</td>\n",
       "    </tr>\n",
       "    <tr>\n",
       "      <th>3</th>\n",
       "      <td>Student_4</td>\n",
       "      <td>Female</td>\n",
       "      <td>8.5</td>\n",
       "    </tr>\n",
       "  </tbody>\n",
       "</table>\n",
       "</div>"
      ],
      "text/plain": [
       "        Name  Gender Marks\n",
       "0  Student_1  Female   9.5\n",
       "1  Student_2    Male   8.2\n",
       "2  Student_3    Male   7.8\n",
       "3  Student_4  Female   8.5"
      ]
     },
     "execution_count": 98,
     "metadata": {},
     "output_type": "execute_result"
    }
   ],
   "source": [
    "# import the library to xml file\n",
    "import xml.etree.ElementTree as ET\n",
    "\n",
    "# extract the xml file\n",
    "tree = ET.parse(\"student_data.xml\")\n",
    "root = tree.getroot()\n",
    "\n",
    "# assign column names of the output DataFrame\n",
    "df_col = [\"Name\", \"Gender\", \"Marks\"]\n",
    "\n",
    "# create an empty list\n",
    "rows = []\n",
    "\n",
    "for node in root:\n",
    "    name = node.attrib.get(\"name\")\n",
    "    gender = node.find(\"gender\").text if node is not None else None\n",
    "    marks = node.find(\"marks\").text if node is not None else None\n",
    "\n",
    "    # append each observation in the data to ‘rows’\n",
    "    rows.append({\"Name\": name, \"Gender\": gender,\n",
    "                 \"Marks\": marks})\n",
    "\n",
    "# create a DataFrame\n",
    "df_student = pd.DataFrame(rows, columns = df_col)\n",
    "\n",
    "# print the DataFrame\n",
    "df_student"
   ]
  },
  {
   "cell_type": "code",
   "execution_count": null,
   "id": "2a595a59",
   "metadata": {
    "id": "2a595a59",
    "outputId": "40dfbabb-788a-45ea-bd07-040b1f1055a2"
   },
   "outputs": [
    {
     "data": {
      "text/html": [
       "<div>\n",
       "<style scoped>\n",
       "    .dataframe tbody tr th:only-of-type {\n",
       "        vertical-align: middle;\n",
       "    }\n",
       "\n",
       "    .dataframe tbody tr th {\n",
       "        vertical-align: top;\n",
       "    }\n",
       "\n",
       "    .dataframe thead th {\n",
       "        text-align: right;\n",
       "    }\n",
       "</style>\n",
       "<table border=\"1\" class=\"dataframe\">\n",
       "  <thead>\n",
       "    <tr style=\"text-align: right;\">\n",
       "      <th></th>\n",
       "      <th>name</th>\n",
       "      <th>gender</th>\n",
       "      <th>marks</th>\n",
       "    </tr>\n",
       "  </thead>\n",
       "  <tbody>\n",
       "    <tr>\n",
       "      <th>0</th>\n",
       "      <td>Student_1</td>\n",
       "      <td>Female</td>\n",
       "      <td>9.5</td>\n",
       "    </tr>\n",
       "    <tr>\n",
       "      <th>1</th>\n",
       "      <td>Student_2</td>\n",
       "      <td>Male</td>\n",
       "      <td>8.2</td>\n",
       "    </tr>\n",
       "    <tr>\n",
       "      <th>2</th>\n",
       "      <td>Student_3</td>\n",
       "      <td>Male</td>\n",
       "      <td>7.8</td>\n",
       "    </tr>\n",
       "    <tr>\n",
       "      <th>3</th>\n",
       "      <td>Student_4</td>\n",
       "      <td>Female</td>\n",
       "      <td>8.5</td>\n",
       "    </tr>\n",
       "  </tbody>\n",
       "</table>\n",
       "</div>"
      ],
      "text/plain": [
       "        name  gender  marks\n",
       "0  Student_1  Female    9.5\n",
       "1  Student_2    Male    8.2\n",
       "2  Student_3    Male    7.8\n",
       "3  Student_4  Female    8.5"
      ]
     },
     "execution_count": 99,
     "metadata": {},
     "output_type": "execute_result"
    }
   ],
   "source": [
    "import pandas as pd\n",
    "pd.read_xml('student_data.xml')"
   ]
  }
 ],
 "metadata": {
  "colab": {
   "provenance": []
  },
  "kernelspec": {
   "display_name": "Python 3 (ipykernel)",
   "language": "python",
   "name": "python3"
  },
  "language_info": {
   "codemirror_mode": {
    "name": "ipython",
    "version": 3
   },
   "file_extension": ".py",
   "mimetype": "text/x-python",
   "name": "python",
   "nbconvert_exporter": "python",
   "pygments_lexer": "ipython3",
   "version": "3.12.7"
  }
 },
 "nbformat": 4,
 "nbformat_minor": 5
}
