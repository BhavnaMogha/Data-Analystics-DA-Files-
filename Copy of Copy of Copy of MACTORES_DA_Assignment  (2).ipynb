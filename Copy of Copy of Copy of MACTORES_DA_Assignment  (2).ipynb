{
 "cells": [
  {
   "cell_type": "markdown",
   "id": "1bfab070",
   "metadata": {
    "id": "1bfab070"
   },
   "source": [
    "### Section 1:\n",
    "##### Instructions\n",
    "    Attempt all questions of this section\n",
    "    Answers to be written in the cell after the cell with the question (marked with #ANSWER comment)\n",
    "    Do not edit any cell marked with # DO NOT EDIT comment at the start\n",
    "    No any other tab is open except the jupyter.\n",
    "    Screen size should be full.\n",
    "\n",
    "\n"
   ]
  },
  {
   "cell_type": "markdown",
   "id": "7e919608",
   "metadata": {
    "id": "7e919608"
   },
   "source": [
    "## All The Best"
   ]
  },
  {
   "cell_type": "markdown",
   "id": "95eb548d",
   "metadata": {
    "id": "95eb548d"
   },
   "source": [
    "#### Q1. Counting the number of odd and even items in a list\n",
    "\n",
    "    Steps:\n",
    "    1. Iterate throught the list of numbers given in lon\n",
    "    2. If the number is odd then increase the value of count_even by one, else increase the value of\n",
    "       count_odd by one"
   ]
  },
  {
   "cell_type": "code",
   "execution_count": null,
   "id": "d0ec3cfb",
   "metadata": {
    "id": "d0ec3cfb"
   },
   "outputs": [],
   "source": [
    "# DO NOT EDIT\n",
    "\n",
    "lon = [6,26,46,71,0,2,5,6,61,3,2,5,6,7,2,6,7,3,7,9,6,7,2,6,2]\n",
    "\n",
    "\n",
    "\n",
    "\n",
    "\n"
   ]
  },
  {
   "cell_type": "code",
   "execution_count": null,
   "id": "f80ccd4a",
   "metadata": {
    "id": "f80ccd4a"
   },
   "outputs": [],
   "source": [
    "# ANSWER"
   ]
  },
  {
   "cell_type": "code",
   "execution_count": null,
   "id": "61cafe8a",
   "metadata": {
    "id": "61cafe8a"
   },
   "outputs": [],
   "source": [
    "# DO NOT EDIT\n",
    "\n"
   ]
  },
  {
   "cell_type": "markdown",
   "id": "958b13f0",
   "metadata": {
    "id": "958b13f0"
   },
   "source": [
    "#### Q2. Editing items in a list\n",
    "\n",
    "    Steps:\n",
    "    1. Iterate throught the list of numbers given in lon\n",
    "    2. If the number is even then increase the value of the next element in the list by one\n",
    "    3. If the number if odd then don't do anything.\n",
    "\n",
    "    Example\n",
    "    The first element in the list is 6, so we have to increase the next element i.e 26 by 1.\n",
    "    The second element should be changed to 26 + 1 = 27.\n",
    "    In the second iteration the number is 27 (as it is changed now) so no change to be done in the\n",
    "    list\n",
    "    Continue with the remaining numbers in the list.\n",
    "\n",
    "\n"
   ]
  },
  {
   "cell_type": "code",
   "execution_count": null,
   "id": "d2321f16",
   "metadata": {
    "id": "d2321f16"
   },
   "outputs": [],
   "source": [
    "# ANSWER"
   ]
  },
  {
   "cell_type": "code",
   "execution_count": null,
   "id": "a22a67a7",
   "metadata": {
    "id": "a22a67a7"
   },
   "outputs": [],
   "source": [
    "# DO NOT EDIT\n",
    "\n",
    "\n",
    "lon = [6,26,46,71,0,2,5,6,61,3,2,5,6,7,2,6,7,3,7,9,6,7,2,6,2]\n"
   ]
  },
  {
   "cell_type": "markdown",
   "id": "dd2d119f",
   "metadata": {
    "id": "dd2d119f"
   },
   "source": [
    "#### Q3.  Writing a function to calculate the distance between two points\n",
    "\n",
    "    Consider two points on the x-y plane [x0, y0] and [x1, y1]\n",
    "    The distance between two points is given by the euclidean distance\n",
    "\n",
    "\\begin{align*}\n",
    "distance &= \\sqrt{(x1 - x0)^2\\! +(y1 - y0)^2\\!}\n",
    "\\end{align*}\n",
    "\n",
    "    Steps:\n",
    "    1. Edit the function distance written in the next cell\n",
    "    2. a and b are two lists with x and y coordinates\n",
    "    3. Example a = [1,1] and b = [2.5,0]\n",
    "    4. Store the calculated distance in the variable distance"
   ]
  },
  {
   "cell_type": "code",
   "execution_count": null,
   "id": "d404209e",
   "metadata": {
    "id": "d404209e"
   },
   "outputs": [],
   "source": [
    "# ANSWER\n"
   ]
  },
  {
   "cell_type": "code",
   "execution_count": null,
   "id": "ccfb9676",
   "metadata": {
    "id": "ccfb9676"
   },
   "outputs": [],
   "source": [
    "# DO NOT EDIT\n"
   ]
  },
  {
   "cell_type": "markdown",
   "id": "67dff146",
   "metadata": {
    "id": "67dff146"
   },
   "source": [
    "#### Q4 Finding the nearest point to [0,0]\n",
    "\n",
    "    Steps:\n",
    "    from the ten points (x,y cordinates are considered as one point), calculate the distances\n",
    "    for each point from [0, 0]. Print the the points nearest to [0,0]"
   ]
  },
  {
   "cell_type": "code",
   "execution_count": null,
   "id": "978271e4",
   "metadata": {
    "id": "978271e4"
   },
   "outputs": [],
   "source": [
    "# DO NOT EDIT\n",
    "# DO NOT EDIT\n",
    "\n",
    "points = [[0.26124953, 0.65709475],\n",
    "          [0.13592751, 0.57147712],\n",
    "          [0.3289748 , 0.12776297],\n",
    "          [0.80833177, 0.67241004],\n",
    "          [0.99802025, 0.94917782],\n",
    "          [0.74073727, 0.18226178],\n",
    "          [0.38854961, 0.81627411],\n",
    "          [0.60282049, 0.04726195],\n",
    "          [0.07190173, 0.6739353 ],\n",
    "          [0.05232909, 0.78875172]]\n",
    "\n"
   ]
  },
  {
   "cell_type": "code",
   "execution_count": null,
   "id": "4f35a3eb",
   "metadata": {
    "id": "4f35a3eb"
   },
   "outputs": [],
   "source": [
    "#ANSWER\n"
   ]
  },
  {
   "cell_type": "markdown",
   "id": "cd095213",
   "metadata": {
    "id": "cd095213"
   },
   "source": [
    "### Section 2 - Pandas:\n",
    "\n",
    "    Attempt all questions of this section\n",
    "    Answers to be written in the cell after the cell with the question (marked with #answer comment)\n",
    "    Do not edit any cell marked with # DO NOT EDIT comment at the start"
   ]
  },
  {
   "cell_type": "markdown",
   "id": "16d5e740",
   "metadata": {
    "id": "16d5e740"
   },
   "source": [
    "#### Q1 . Creating a pandas dataframe from dictionary\n",
    "\n",
    "    Convert the dictionary data into a pandas dataframe df"
   ]
  },
  {
   "cell_type": "code",
   "execution_count": null,
   "id": "e3503d99",
   "metadata": {
    "id": "e3503d99"
   },
   "outputs": [],
   "source": [
    "# DO NOT EDIT\n",
    "data = {'class_name': ['A', 'B', 'C', 'A', 'A', 'C', 'B', 'C', 'A', 'B']*3,\n",
    "        'student_id': [i for i in range(1,31)],\n",
    "        'marks': [100*np.random.rand() for i in range(1, 31)]}\n"
   ]
  },
  {
   "cell_type": "code",
   "execution_count": null,
   "id": "b3532483",
   "metadata": {
    "id": "b3532483"
   },
   "outputs": [],
   "source": [
    "# ANSWER\n",
    "\n"
   ]
  },
  {
   "cell_type": "markdown",
   "id": "df032faa",
   "metadata": {
    "id": "df032faa"
   },
   "source": [
    "#### Q2. Filter all rows in dataframe df where class_name = 'A'"
   ]
  },
  {
   "cell_type": "code",
   "execution_count": null,
   "id": "65178ee6",
   "metadata": {
    "id": "65178ee6"
   },
   "outputs": [],
   "source": [
    "# ANSWER\n"
   ]
  },
  {
   "cell_type": "markdown",
   "id": "78bdca77",
   "metadata": {
    "id": "78bdca77"
   },
   "source": [
    "#### Q3. Filter all rows in the dataframe df where class_name = 'B' and marks is greater than 50"
   ]
  },
  {
   "cell_type": "code",
   "execution_count": null,
   "id": "22cccbe0",
   "metadata": {
    "id": "22cccbe0"
   },
   "outputs": [],
   "source": [
    "# ANSWER\n"
   ]
  },
  {
   "cell_type": "markdown",
   "id": "f9f5356f",
   "metadata": {
    "id": "f9f5356f"
   },
   "source": [
    "#### Q4. Which student got the highest marks amongst all the students"
   ]
  },
  {
   "cell_type": "markdown",
   "id": "b3a578fe",
   "metadata": {
    "id": "b3a578fe"
   },
   "source": []
  },
  {
   "cell_type": "code",
   "execution_count": null,
   "id": "90c08205",
   "metadata": {
    "id": "90c08205"
   },
   "outputs": [],
   "source": [
    "# ANSWER\n"
   ]
  },
  {
   "cell_type": "markdown",
   "id": "ac5a820d",
   "metadata": {
    "id": "ac5a820d"
   },
   "source": [
    "#### Q5. Find the highest scoring student in each class"
   ]
  },
  {
   "cell_type": "code",
   "execution_count": null,
   "id": "467a1022",
   "metadata": {
    "id": "467a1022"
   },
   "outputs": [],
   "source": [
    "# ANSWER\n"
   ]
  },
  {
   "cell_type": "markdown",
   "id": "f441c571",
   "metadata": {
    "id": "f441c571"
   },
   "source": [
    "#### Q6. Print the index of rows where marks is less than 30"
   ]
  },
  {
   "cell_type": "code",
   "execution_count": null,
   "id": "7811b5fa",
   "metadata": {
    "id": "7811b5fa"
   },
   "outputs": [],
   "source": [
    "# ANSWER\n"
   ]
  },
  {
   "cell_type": "markdown",
   "id": "dfd4cef7",
   "metadata": {
    "id": "dfd4cef7"
   },
   "source": [
    "#### Q7. Create a new column named \"marks_squared\" It should have all the marks squared"
   ]
  },
  {
   "cell_type": "code",
   "execution_count": null,
   "id": "6d595345",
   "metadata": {
    "id": "6d595345"
   },
   "outputs": [],
   "source": [
    "# ANSWER\n"
   ]
  },
  {
   "cell_type": "markdown",
   "id": "3c350897",
   "metadata": {
    "id": "3c350897"
   },
   "source": [
    "#### Q8. Create a new column named \"passed\". If marks is above 40 the keep the value as True else False"
   ]
  },
  {
   "cell_type": "code",
   "execution_count": null,
   "id": "7e948c86",
   "metadata": {
    "id": "7e948c86"
   },
   "outputs": [],
   "source": [
    "# ANSWER\n",
    "\n"
   ]
  },
  {
   "cell_type": "markdown",
   "id": "2f93b8d5",
   "metadata": {
    "id": "2f93b8d5"
   },
   "source": [
    "#### Q9. Create a new column named \"passed_int\". If passed=True then value is 1 else 0"
   ]
  },
  {
   "cell_type": "code",
   "execution_count": null,
   "id": "21ed3abe",
   "metadata": {
    "id": "21ed3abe"
   },
   "outputs": [],
   "source": [
    "# ANSWER\n"
   ]
  },
  {
   "cell_type": "markdown",
   "id": "401ad16d",
   "metadata": {
    "id": "401ad16d"
   },
   "source": [
    "#### Q10. Calculate the average marks for each class. Store this in a DataFrame named 'clas_avg'"
   ]
  },
  {
   "cell_type": "code",
   "execution_count": null,
   "id": "6b67c7e2",
   "metadata": {
    "id": "6b67c7e2"
   },
   "outputs": [],
   "source": [
    "# ANSWER\n"
   ]
  },
  {
   "cell_type": "markdown",
   "id": "e766f768",
   "metadata": {
    "id": "e766f768"
   },
   "source": [
    "#### Q11. Rename the column containing average marks as  'avg_marks'"
   ]
  },
  {
   "cell_type": "code",
   "execution_count": null,
   "id": "a6a65a60",
   "metadata": {
    "id": "a6a65a60"
   },
   "outputs": [],
   "source": [
    "# ANSWER\n"
   ]
  },
  {
   "cell_type": "markdown",
   "id": "7448def6",
   "metadata": {
    "id": "7448def6"
   },
   "source": [
    "#### Q12. Join/Merge the two dataframes 'df' and 'clas_avg' on the common column 'class_name'. The resulting dataframe should be stored in a new dataframe called 'result'"
   ]
  },
  {
   "cell_type": "code",
   "execution_count": null,
   "id": "5848c906",
   "metadata": {
    "id": "5848c906"
   },
   "outputs": [],
   "source": []
  },
  {
   "cell_type": "markdown",
   "id": "c5cee3ba",
   "metadata": {
    "id": "c5cee3ba"
   },
   "source": [
    "#### Q13. Create a new column 'diff_from_mean' in the dataframe 'result' . This column should store the difference of the students marks from the average class marks in 'avg_marks'."
   ]
  },
  {
   "cell_type": "code",
   "execution_count": null,
   "id": "427277a4",
   "metadata": {
    "id": "427277a4"
   },
   "outputs": [],
   "source": [
    "# ANSWER\n"
   ]
  },
  {
   "cell_type": "markdown",
   "id": "cc72ae48",
   "metadata": {
    "id": "cc72ae48"
   },
   "source": [
    "#### Q14. Which class has the most number of students with marks greater than 55."
   ]
  },
  {
   "cell_type": "code",
   "execution_count": null,
   "id": "9bc3d677",
   "metadata": {
    "id": "9bc3d677"
   },
   "outputs": [],
   "source": [
    "\n",
    "# ANSWER\n"
   ]
  },
  {
   "cell_type": "markdown",
   "id": "18996c2e",
   "metadata": {
    "id": "18996c2e"
   },
   "source": [
    "#### Q15. Export the results DataFrame to a csv file. Name the csv file as 'python_1.csv'. Do not save indexes in the csv."
   ]
  },
  {
   "cell_type": "code",
   "execution_count": null,
   "id": "a53155a2",
   "metadata": {
    "id": "a53155a2"
   },
   "outputs": [],
   "source": []
  },
  {
   "cell_type": "markdown",
   "id": "e4fb10e2",
   "metadata": {
    "id": "e4fb10e2"
   },
   "source": [
    "### Thank You."
   ]
  },
  {
   "cell_type": "code",
   "execution_count": null,
   "id": "9a8364da",
   "metadata": {
    "id": "9a8364da"
   },
   "outputs": [],
   "source": []
  }
 ],
 "metadata": {
  "colab": {
   "provenance": []
  },
  "kernelspec": {
   "display_name": "Python 3 (ipykernel)",
   "language": "python",
   "name": "python3"
  },
  "language_info": {
   "codemirror_mode": {
    "name": "ipython",
    "version": 3
   },
   "file_extension": ".py",
   "mimetype": "text/x-python",
   "name": "python",
   "nbconvert_exporter": "python",
   "pygments_lexer": "ipython3",
   "version": "3.12.9"
  },
  "vscode": {
   "interpreter": {
    "hash": "3ffbf0abc1ab77b078092e586942f471caceca6a6a6c676a4d26e0d52144ddd1"
   }
  }
 },
 "nbformat": 4,
 "nbformat_minor": 5
}
