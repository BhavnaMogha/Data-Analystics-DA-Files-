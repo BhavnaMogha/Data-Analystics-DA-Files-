{
 "cells": [
  {
   "cell_type": "code",
   "execution_count": null,
   "id": "d4ad8dd1-4fe3-4f8f-864b-c295ce5b2463",
   "metadata": {},
   "outputs": [],
   "source": [
    "# Analytics\n",
    "#1. Numpy - it is used for mathmatical operation on array\n",
    "#2. Pandas - data manipulation , Data Celaning, Data Preprocessing, Insights \n",
    "#3. Matplotlib - Visualization\n",
    "#4. Seaborn - Advance visualization\n",
    "# Projects"
   ]
  },
  {
   "cell_type": "markdown",
   "id": "94735dba-48b9-4218-9cfa-188d091ff7a4",
   "metadata": {},
   "source": [
    "# Numpy"
   ]
  },
  {
   "cell_type": "code",
   "execution_count": 2,
   "id": "e64f9d2f-e275-4ac9-88a3-4b081faf17d9",
   "metadata": {},
   "outputs": [
    {
     "ename": "TypeError",
     "evalue": "unsupported operand type(s) for /: 'list' and 'list'",
     "output_type": "error",
     "traceback": [
      "\u001b[1;31m---------------------------------------------------------------------------\u001b[0m",
      "\u001b[1;31mTypeError\u001b[0m                                 Traceback (most recent call last)",
      "Cell \u001b[1;32mIn[2], line 4\u001b[0m\n\u001b[0;32m      1\u001b[0m di \u001b[38;5;241m=\u001b[39m [\u001b[38;5;241m10\u001b[39m , \u001b[38;5;241m20\u001b[39m , \u001b[38;5;241m30\u001b[39m]\n\u001b[0;32m      2\u001b[0m ti\u001b[38;5;241m=\u001b[39m [\u001b[38;5;241m5\u001b[39m , \u001b[38;5;241m10\u001b[39m , \u001b[38;5;241m15\u001b[39m]\n\u001b[1;32m----> 4\u001b[0m sp\u001b[38;5;241m=\u001b[39mdi\u001b[38;5;241m/\u001b[39mti\n\u001b[0;32m      5\u001b[0m sp\n",
      "\u001b[1;31mTypeError\u001b[0m: unsupported operand type(s) for /: 'list' and 'list'"
     ]
    }
   ],
   "source": [
    "di = [10 , 20 , 30]\n",
    "ti= [5 , 10 , 15]\n",
    "\n",
    "sp=di/ti\n",
    "sp"
   ]
  },
  {
   "cell_type": "code",
   "execution_count": 3,
   "id": "47f24944-a192-4a1f-9fdc-d221f14a4be5",
   "metadata": {},
   "outputs": [
    {
     "name": "stdout",
     "output_type": "stream",
     "text": [
      "[10, 20, 30, 5, 10, 15]\n"
     ]
    }
   ],
   "source": [
    "print(di+ti)"
   ]
  },
  {
   "cell_type": "code",
   "execution_count": 17,
   "id": "efdc572a-7ea2-47c7-8d15-478fee206dde",
   "metadata": {},
   "outputs": [],
   "source": [
    "# Numpy - stands for numerical python. It is a python foundational library that is used to perform the mathematcal operation on array, linear algebric functions and many more.\n",
    "# numpy consists 2 thing that is array & matrix."
   ]
  },
  {
   "cell_type": "code",
   "execution_count": 1,
   "id": "e5ce52d2-0eb8-496d-9ba4-2285665bbc0c",
   "metadata": {},
   "outputs": [],
   "source": [
    "import numpy as np"
   ]
  },
  {
   "cell_type": "code",
   "execution_count": 7,
   "id": "d8b862ff-717c-4130-9259-3efc5247ce2f",
   "metadata": {},
   "outputs": [],
   "source": [
    "d = numpy.array(di)\n",
    "t = numpy.array(ti)"
   ]
  },
  {
   "cell_type": "code",
   "execution_count": 9,
   "id": "459674db-8140-4ef5-8bef-2c805dbcd749",
   "metadata": {},
   "outputs": [
    {
     "name": "stdout",
     "output_type": "stream",
     "text": [
      "[10 20 30]\n"
     ]
    },
    {
     "data": {
      "text/plain": [
       "array([ 5, 10, 15])"
      ]
     },
     "execution_count": 9,
     "metadata": {},
     "output_type": "execute_result"
    }
   ],
   "source": [
    "print(d)\n",
    "t"
   ]
  },
  {
   "cell_type": "code",
   "execution_count": 16,
   "id": "35a60958-5c06-4473-a1b7-4258e8178927",
   "metadata": {},
   "outputs": [
    {
     "data": {
      "text/plain": [
       "array([2., 2., 2.])"
      ]
     },
     "execution_count": 16,
     "metadata": {},
     "output_type": "execute_result"
    }
   ],
   "source": [
    "sp=d/t\n",
    "sp"
   ]
  },
  {
   "cell_type": "code",
   "execution_count": 19,
   "id": "b7361c72-2886-4b90-8ff6-3f1a6f26f1f5",
   "metadata": {},
   "outputs": [],
   "source": [
    "# array - # it is a collection of numerical data types."
   ]
  },
  {
   "cell_type": "code",
   "execution_count": 20,
   "id": "5570962a-92b4-40f7-807f-22c199b7611f",
   "metadata": {},
   "outputs": [],
   "source": [
    "#Array Vs list\n",
    "\n",
    "# list - we cant perform the mathematical operation in list\n",
    "    # -  list are my mutable data type that stores the elements comma seperatdely\n",
    "    # - time complexity of list is very high\n",
    "\n",
    "\n",
    "\n",
    "\n",
    "# array - we camn perfoirm the mathematical operations in array\n",
    "        # it is a method in a python library numpy that stores the elements in row & column\n",
    "        # time complexity of array is faster that why we stor data in the form of array"
   ]
  },
  {
   "cell_type": "markdown",
   "id": "d61b6661-8b22-46c2-97d3-0fcc942157eb",
   "metadata": {},
   "source": [
    "# Propeties opf array\n",
    "- ndim\n",
    "- shape\n",
    "- size\n",
    "- dtype"
   ]
  },
  {
   "cell_type": "code",
   "execution_count": 38,
   "id": "0766569e-a54d-43b6-96d0-56e18b2128da",
   "metadata": {},
   "outputs": [
    {
     "name": "stdout",
     "output_type": "stream",
     "text": [
      "[1 2 3 4 5]\n",
      "<class 'numpy.ndarray'>\n",
      "1\n",
      "(5,)\n"
     ]
    }
   ],
   "source": [
    "a=np.array([1,2,3,4,5])\n",
    "print(a)\n",
    "print(type(a))\n",
    "print(a.ndim)\n",
    "print(a.shape)"
   ]
  },
  {
   "cell_type": "code",
   "execution_count": 47,
   "id": "9d98485e-9af7-4ea8-ba63-ece60bdc3f96",
   "metadata": {},
   "outputs": [
    {
     "name": "stdout",
     "output_type": "stream",
     "text": [
      "[[1 2 3 4 5]] <class 'numpy.ndarray'>\n",
      "2\n",
      "(1, 5)\n",
      "5\n"
     ]
    }
   ],
   "source": [
    "b=np.array([[1,2,3,4,5]])\n",
    "print(b,type(b))\n",
    "print(b.ndim)\n",
    "print(b.shape)\n",
    "print(b.size)\n"
   ]
  },
  {
   "cell_type": "code",
   "execution_count": 48,
   "id": "a5e9b087-a537-46a8-a559-de1b869577c5",
   "metadata": {},
   "outputs": [
    {
     "name": "stdout",
     "output_type": "stream",
     "text": [
      "[[1 2 3]\n",
      " [5 6 7]\n",
      " [7 8 9]] <class 'numpy.ndarray'>\n",
      "(3, 3)\n",
      "9\n",
      "int32\n"
     ]
    }
   ],
   "source": [
    "c=np.array([[1,2,3],[5,6,7],[7,8,9]])\n",
    "print(c,type(c))\n",
    "# print(c.ndim)\n",
    "print(c.shape)\n",
    "print(c.size)\n",
    "print(c.dtype)"
   ]
  },
  {
   "cell_type": "code",
   "execution_count": 44,
   "id": "263219b7-f4f7-4452-b36b-3c79fc12dced",
   "metadata": {},
   "outputs": [
    {
     "name": "stdout",
     "output_type": "stream",
     "text": [
      "[[1]\n",
      " [3]\n",
      " [4]]\n",
      "2\n",
      "(3, 1)\n",
      "3\n"
     ]
    }
   ],
   "source": [
    "x=np.array([[1],[3],[4]])\n",
    "print(x)\n",
    "print(x.ndim)\n",
    "print(x.shape)\n",
    "print(x.size)"
   ]
  },
  {
   "cell_type": "code",
   "execution_count": 40,
   "id": "2738fcec-5302-4538-8ed4-e4ad9c828120",
   "metadata": {},
   "outputs": [
    {
     "name": "stdout",
     "output_type": "stream",
     "text": [
      "[[[[1 2 3]\n",
      "   [5 6 7]\n",
      "   [7 8 9]]]] <class 'numpy.ndarray'>\n",
      "4\n",
      "(1, 1, 3, 3)\n"
     ]
    }
   ],
   "source": [
    "d=np.array([[[[1,2,3],[5,6,7],[7,8,9]]]])\n",
    "print(d,type(d))\n",
    "print(d.ndim)\n",
    "print(d.shape)\n",
    "# print(d.size)"
   ]
  },
  {
   "cell_type": "code",
   "execution_count": 50,
   "id": "4a6e4dca-f912-4ddf-a519-b15a9f6f38db",
   "metadata": {},
   "outputs": [
    {
     "name": "stdout",
     "output_type": "stream",
     "text": [
      "[[[[1.  2.  3. ]\n",
      "   [5.  6.1 7. ]\n",
      "   [7.  8.  9. ]\n",
      "   [7.  8.  9. ]\n",
      "   [1.  1.  1. ]]]] <class 'numpy.ndarray'>\n",
      "4\n",
      "(1, 1, 5, 3)\n",
      "15\n",
      "float64\n"
     ]
    }
   ],
   "source": [
    "e=np.array([[[[1,2,3],[5,6.1,7],[7,8,9],[7,8,9],[1,1,1]]]])\n",
    "print(e,type(e))\n",
    "print(e.ndim)\n",
    "print(e.shape)\n",
    "print(e.size)\n",
    "print(e.dtype)"
   ]
  },
  {
   "cell_type": "markdown",
   "id": "08cc3c52-924f-437b-a1d2-119ecee52e3d",
   "metadata": {},
   "source": [
    "# Indexing & Slicing"
   ]
  },
  {
   "cell_type": "code",
   "execution_count": 55,
   "id": "67e77257-44e3-456f-a041-c36fd19c1fb5",
   "metadata": {},
   "outputs": [
    {
     "name": "stdout",
     "output_type": "stream",
     "text": [
      "[[[ 1  2  3  4  5  6 -7  8  9]]]\n"
     ]
    }
   ],
   "source": [
    "a=np.array([[[1,2,3,4,5,6,-7,8,9]]])\n",
    "print(a)\n",
    "# print(a.ndim)\n",
    "# print(a.shape)\n",
    "# print(a.size)\n",
    "# print(a.dtype)"
   ]
  },
  {
   "cell_type": "code",
   "execution_count": 63,
   "id": "87e23e7b-9406-4157-8426-dc86dddd39e7",
   "metadata": {},
   "outputs": [
    {
     "name": "stdout",
     "output_type": "stream",
     "text": [
      "1\n",
      "-7\n",
      "-7\n",
      "4\n"
     ]
    }
   ],
   "source": [
    "# print(a[0][0][1])\n",
    "print(a[0][0][0])\n",
    "print(a[0][0][-3])\n",
    "print(a[-1][-1][-3])\n",
    "print(a[0][-1][3])"
   ]
  },
  {
   "cell_type": "code",
   "execution_count": 64,
   "id": "b1d9f858-a4e2-4b5e-9faf-30a3d7b0e7f4",
   "metadata": {},
   "outputs": [
    {
     "name": "stdout",
     "output_type": "stream",
     "text": [
      "[[ 1  2  3]\n",
      " [ 4  5  6]\n",
      " [ 7  8  9]\n",
      " [11 12  3]]\n"
     ]
    }
   ],
   "source": [
    "c=np.array([[1,2,3],[4,5,6],[7,8,9],[11,12,3]])\n",
    "print(c)"
   ]
  },
  {
   "cell_type": "code",
   "execution_count": 71,
   "id": "587586d6-f158-47d1-b93f-0812a097d229",
   "metadata": {},
   "outputs": [
    {
     "name": "stdout",
     "output_type": "stream",
     "text": [
      "12\n"
     ]
    }
   ],
   "source": [
    "# print(c[0])\n",
    "# print(c[0][0])\n",
    "# print(c[-1][-2])\n",
    "print(c[-1][1])\n",
    "# print(c[-4][-2])\n",
    "# print(c[2][-2])"
   ]
  },
  {
   "cell_type": "code",
   "execution_count": 76,
   "id": "8ae2fa33-1619-4374-aece-9cbd2aead02c",
   "metadata": {},
   "outputs": [
    {
     "name": "stdout",
     "output_type": "stream",
     "text": [
      "[[[[ 1  2  3]\n",
      "   [ 4  5  6]\n",
      "   [ 7  8  9]\n",
      "   [11 12  3]]]]\n",
      "11\n"
     ]
    }
   ],
   "source": [
    "d=np.array([[[[1,2,3],[4,5,6],[7,8,9],[11,12,3]]]])\n",
    "print(d)\n",
    "# print(d.shape)\n",
    "# print(d.size)\n",
    "# print(d[0][0][0])\n",
    "print(d[0][0][-1][-3])"
   ]
  },
  {
   "cell_type": "code",
   "execution_count": 79,
   "id": "450dc137-e505-44d7-abb0-50a53051e005",
   "metadata": {},
   "outputs": [
    {
     "name": "stdout",
     "output_type": "stream",
     "text": [
      "[[[[ 1  2  3  4  5]\n",
      "   [ 6  7  8  9  0]\n",
      "   [11 12 13 14 15]\n",
      "   [16 17 18 19 20]]]]\n"
     ]
    }
   ],
   "source": [
    "f=np.array([[[[1,2,3,4,5],[6,7,8,9,0],[11,12,13,14,15],[16,17,18,19,20]]]])\n",
    "print(f)\n",
    "# print(f.ndim)\n",
    "# print(f.size)\n",
    "# print(f.shape)"
   ]
  },
  {
   "cell_type": "code",
   "execution_count": 85,
   "id": "75b378b2-0390-47ce-b23f-3d102bff8c70",
   "metadata": {},
   "outputs": [],
   "source": [
    "# print(f[0][0][-2])\n",
    "# print(f[-1][0][-4][0])\n",
    "# print(f[0][0][1])\n",
    "# print(f[0][-1][3][2])"
   ]
  },
  {
   "cell_type": "code",
   "execution_count": 84,
   "id": "15b531a1-df5b-40d5-88e3-a2e36e010a23",
   "metadata": {},
   "outputs": [
    {
     "name": "stdout",
     "output_type": "stream",
     "text": [
      "[[[[ 1  2  3  4  5]\n",
      "   [ 6  7  8  9  0]\n",
      "   [11 12 13 14 15]\n",
      "   [16 17 18 19 20]]]]\n"
     ]
    }
   ],
   "source": [
    "print(f)"
   ]
  },
  {
   "cell_type": "code",
   "execution_count": 98,
   "id": "6e5c4f05-f71a-4eaf-b0db-c766a77c3fbf",
   "metadata": {},
   "outputs": [],
   "source": [
    "# print(f[0][0[star_row : end_row , start_col : end_col ])\n",
    "# print(f[0][0][1 : 3 ,1:3  ])"
   ]
  },
  {
   "cell_type": "code",
   "execution_count": 99,
   "id": "a16cf751-199b-4f9e-8832-f668b9c01c9a",
   "metadata": {},
   "outputs": [
    {
     "name": "stdout",
     "output_type": "stream",
     "text": [
      "[[[[ 1  2  3  4  5]\n",
      "   [ 6  7  8  9  0]\n",
      "   [11 12 13 14 15]\n",
      "   [16 17 18 19 20]]]]\n"
     ]
    }
   ],
   "source": [
    "print(f)"
   ]
  },
  {
   "cell_type": "code",
   "execution_count": 106,
   "id": "de3a8adf-bab2-400d-a48e-45d4d7d702f1",
   "metadata": {},
   "outputs": [
    {
     "name": "stdout",
     "output_type": "stream",
     "text": [
      "[[6 7 8 9]]\n"
     ]
    }
   ],
   "source": [
    "# print(f[0][0][rows,columns])\n",
    "# print(f[0][0][1:3 , 2:4])\n",
    "# print(f[0][0][1:3,1:4])\n",
    "# print(f[0][0][-4:-3,-4:-3])\n",
    "# print(f[-1][-1][-1:,-1:])\n",
    "# print(f[-1][-1][-1:,:-1])\n",
    "# print(f[-1][0][-2:,2:100])\n",
    "# print(f[0][0][1:4,-4:-1])\n",
    "print(f[0][-1][-3:-2,0:4])\n"
   ]
  },
  {
   "cell_type": "markdown",
   "id": "835e1e0e-3c59-44e1-af2e-d58c539187ed",
   "metadata": {},
   "source": [
    "# Shape manipulation"
   ]
  },
  {
   "cell_type": "code",
   "execution_count": 108,
   "id": "4c69a1b7-9bf3-4b10-8744-60bebbea842f",
   "metadata": {},
   "outputs": [
    {
     "data": {
      "text/plain": [
       "array([[ 1,  2,  3,  4,  5,  6],\n",
       "       [ 7,  8,  9, 10, 11, 12]])"
      ]
     },
     "execution_count": 108,
     "metadata": {},
     "output_type": "execute_result"
    }
   ],
   "source": [
    "x=np.array([[1,2,3,4,5,6],[7,8,9,10,11,12]])\n",
    "x"
   ]
  },
  {
   "cell_type": "code",
   "execution_count": 113,
   "id": "aba381fb-7661-4478-93a0-0041ff1abb00",
   "metadata": {},
   "outputs": [
    {
     "ename": "ValueError",
     "evalue": "cannot reshape array of size 12 into shape (2,12)",
     "output_type": "error",
     "traceback": [
      "\u001b[1;31m---------------------------------------------------------------------------\u001b[0m",
      "\u001b[1;31mValueError\u001b[0m                                Traceback (most recent call last)",
      "Cell \u001b[1;32mIn[113], line 1\u001b[0m\n\u001b[1;32m----> 1\u001b[0m x\u001b[38;5;241m.\u001b[39mreshape(\u001b[38;5;241m2\u001b[39m,\u001b[38;5;241m12\u001b[39m)\n",
      "\u001b[1;31mValueError\u001b[0m: cannot reshape array of size 12 into shape (2,12)"
     ]
    }
   ],
   "source": [
    "x.reshape(2,12)"
   ]
  },
  {
   "cell_type": "markdown",
   "id": "44004eb2-0b83-4949-bd75-bf929469646b",
   "metadata": {},
   "source": [
    "# Broadcasting"
   ]
  },
  {
   "cell_type": "code",
   "execution_count": 10,
   "id": "2fced65c-95cb-4d80-81e2-2c7db768a470",
   "metadata": {},
   "outputs": [],
   "source": [
    "a = np.array([[1,2,3],[4,5,6],[1,1,1]])\n",
    "b = np.array([[1,1,1],[2,2,2],[4,4,4]])"
   ]
  },
  {
   "cell_type": "code",
   "execution_count": 4,
   "id": "bad14547-67e2-4e81-9891-36228f5abecb",
   "metadata": {},
   "outputs": [
    {
     "data": {
      "text/plain": [
       "array([[1, 2, 3],\n",
       "       [4, 5, 6],\n",
       "       [1, 1, 1]])"
      ]
     },
     "execution_count": 4,
     "metadata": {},
     "output_type": "execute_result"
    }
   ],
   "source": [
    "a"
   ]
  },
  {
   "cell_type": "code",
   "execution_count": 5,
   "id": "5628330f-5043-457a-b810-8a4878862fc8",
   "metadata": {},
   "outputs": [
    {
     "data": {
      "text/plain": [
       "array([[1, 1, 1],\n",
       "       [2, 2, 2],\n",
       "       [4, 4, 4]])"
      ]
     },
     "execution_count": 5,
     "metadata": {},
     "output_type": "execute_result"
    }
   ],
   "source": [
    "b"
   ]
  },
  {
   "cell_type": "code",
   "execution_count": 6,
   "id": "689280ed-2d78-4f68-8a68-69df9847ab89",
   "metadata": {},
   "outputs": [
    {
     "name": "stdout",
     "output_type": "stream",
     "text": [
      "[[2 3 4]\n",
      " [6 7 8]\n",
      " [5 5 5]]\n"
     ]
    }
   ],
   "source": [
    "print(a+b)"
   ]
  },
  {
   "cell_type": "code",
   "execution_count": 8,
   "id": "6e647040-e0b7-47fd-a426-6924087526d8",
   "metadata": {},
   "outputs": [
    {
     "name": "stdout",
     "output_type": "stream",
     "text": [
      "[[ 1  1  1]\n",
      " [ 4  4  4]\n",
      " [16 16 16]]\n"
     ]
    }
   ],
   "source": [
    "print(b**2)"
   ]
  },
  {
   "cell_type": "code",
   "execution_count": 9,
   "id": "1ce99e23-4318-48ed-9ddd-ad190e34ac76",
   "metadata": {},
   "outputs": [
    {
     "data": {
      "text/plain": [
       "array([[1.        , 1.        , 1.        ],\n",
       "       [1.41421356, 1.41421356, 1.41421356],\n",
       "       [2.        , 2.        , 2.        ]])"
      ]
     },
     "execution_count": 9,
     "metadata": {},
     "output_type": "execute_result"
    }
   ],
   "source": [
    "np.sqrt(b)"
   ]
  },
  {
   "cell_type": "code",
   "execution_count": 11,
   "id": "32434ba4-59dd-4b5f-84f1-c701367429e6",
   "metadata": {},
   "outputs": [
    {
     "data": {
      "text/plain": [
       "array([[1, 2, 3],\n",
       "       [4, 5, 6],\n",
       "       [1, 1, 1]])"
      ]
     },
     "execution_count": 11,
     "metadata": {},
     "output_type": "execute_result"
    }
   ],
   "source": [
    "a"
   ]
  },
  {
   "cell_type": "code",
   "execution_count": 12,
   "id": "f0263605-ec60-44de-be43-f18ee05d560e",
   "metadata": {},
   "outputs": [
    {
     "data": {
      "text/plain": [
       "24"
      ]
     },
     "execution_count": 12,
     "metadata": {},
     "output_type": "execute_result"
    }
   ],
   "source": [
    "np.sum(a)"
   ]
  },
  {
   "cell_type": "code",
   "execution_count": 14,
   "id": "9420a708-de96-45a7-85ea-1615478229fa",
   "metadata": {},
   "outputs": [
    {
     "data": {
      "text/plain": [
       "array([ 6,  8, 10])"
      ]
     },
     "execution_count": 14,
     "metadata": {},
     "output_type": "execute_result"
    }
   ],
   "source": [
    "np.sum(a,axis = 0)"
   ]
  },
  {
   "cell_type": "code",
   "execution_count": 15,
   "id": "a2bb912c-4560-4cc9-a61b-0c01fb8d287f",
   "metadata": {},
   "outputs": [
    {
     "data": {
      "text/plain": [
       "array([ 6, 15,  3])"
      ]
     },
     "execution_count": 15,
     "metadata": {},
     "output_type": "execute_result"
    }
   ],
   "source": [
    "np.sum(a,axis = 1)"
   ]
  },
  {
   "cell_type": "code",
   "execution_count": 34,
   "id": "0b5f0b00-4430-4fc7-a0fa-20d76e40ad86",
   "metadata": {},
   "outputs": [
    {
     "data": {
      "text/plain": [
       "array([[0, 1],\n",
       "       [1, 2]])"
      ]
     },
     "execution_count": 34,
     "metadata": {},
     "output_type": "execute_result"
    }
   ],
   "source": [
    "np.fromfunction(lambda i,j: i+j,(2,2),dtype=int) "
   ]
  },
  {
   "cell_type": "code",
   "execution_count": 35,
   "id": "c1b412bb-ff03-459f-bf2f-a054f71fb20c",
   "metadata": {},
   "outputs": [
    {
     "data": {
      "text/plain": [
       "array([[False, False],\n",
       "       [ True, False]])"
      ]
     },
     "execution_count": 35,
     "metadata": {},
     "output_type": "execute_result"
    }
   ],
   "source": [
    "np.fromfunction(lambda i,j: i>j,(2,2),dtype=int) "
   ]
  },
  {
   "cell_type": "code",
   "execution_count": 53,
   "id": "c60a1f70-0950-45d9-983f-2e84da67ff2b",
   "metadata": {},
   "outputs": [],
   "source": [
    "a = np.array([[[1,2,3],[4,5,6]]])\n",
    "b = np.array([[1,1,1],[2,2,2]])"
   ]
  },
  {
   "cell_type": "code",
   "execution_count": 54,
   "id": "586a7480-d2d9-4163-93bd-cb11eec7ae15",
   "metadata": {},
   "outputs": [
    {
     "name": "stdout",
     "output_type": "stream",
     "text": [
      "[[[1 2 3]\n",
      "  [4 5 6]]] <class 'numpy.ndarray'>\n"
     ]
    }
   ],
   "source": [
    "print(a,type(a))"
   ]
  },
  {
   "cell_type": "code",
   "execution_count": 55,
   "id": "6ec298aa-2bb7-4567-b326-2003aa2e0fb8",
   "metadata": {},
   "outputs": [
    {
     "name": "stdout",
     "output_type": "stream",
     "text": [
      "[[[ 1  2  3]\n",
      "  [ 8 10 12]]]\n"
     ]
    }
   ],
   "source": [
    "print(a*b)"
   ]
  },
  {
   "cell_type": "code",
   "execution_count": 50,
   "id": "11a19bba-2b74-40f8-845b-0f3fd78071c9",
   "metadata": {},
   "outputs": [],
   "source": [
    "x = np.matrix([[1,2,3],[4,5,6]])\n",
    "y = np.matrix([[1,1,1],[2,2,2]])"
   ]
  },
  {
   "cell_type": "code",
   "execution_count": 66,
   "id": "d478df70-6327-4a51-ad52-e625742bb90f",
   "metadata": {},
   "outputs": [
    {
     "data": {
      "text/plain": [
       "numpy.matrix"
      ]
     },
     "execution_count": 66,
     "metadata": {},
     "output_type": "execute_result"
    }
   ],
   "source": [
    "type(x)"
   ]
  },
  {
   "cell_type": "code",
   "execution_count": 58,
   "id": "335d51a6-6bf9-47d1-8c73-6795bcf8ea88",
   "metadata": {},
   "outputs": [
    {
     "data": {
      "text/plain": [
       "matrix([[1, 1, 1],\n",
       "        [2, 2, 2]])"
      ]
     },
     "execution_count": 58,
     "metadata": {},
     "output_type": "execute_result"
    }
   ],
   "source": [
    "y"
   ]
  },
  {
   "cell_type": "code",
   "execution_count": 52,
   "id": "705130aa-89bb-44b4-b703-4e3c235af2c5",
   "metadata": {},
   "outputs": [
    {
     "name": "stdout",
     "output_type": "stream",
     "text": [
      "[[1 2 3]\n",
      " [4 5 6]] <class 'numpy.matrix'>\n"
     ]
    }
   ],
   "source": [
    "print(x,type(x))"
   ]
  },
  {
   "cell_type": "code",
   "execution_count": 57,
   "id": "250b0005-5759-40de-be25-647b878ca8ac",
   "metadata": {},
   "outputs": [
    {
     "name": "stdout",
     "output_type": "stream",
     "text": [
      "(2, 3)\n"
     ]
    }
   ],
   "source": [
    "print(y.shape)"
   ]
  },
  {
   "cell_type": "code",
   "execution_count": 62,
   "id": "388860a2-e2bf-4f14-a5e4-63fa7aee7eef",
   "metadata": {},
   "outputs": [],
   "source": [
    "y = y.T\n"
   ]
  },
  {
   "cell_type": "code",
   "execution_count": 63,
   "id": "f24a5b5d-3d97-43ca-abcc-8f10428d9f0d",
   "metadata": {},
   "outputs": [
    {
     "data": {
      "text/plain": [
       "matrix([[1, 2],\n",
       "        [1, 2],\n",
       "        [1, 2]])"
      ]
     },
     "execution_count": 63,
     "metadata": {},
     "output_type": "execute_result"
    }
   ],
   "source": [
    "y"
   ]
  },
  {
   "cell_type": "code",
   "execution_count": 64,
   "id": "192f4842-e46b-42da-8871-b8be4a9eaf9b",
   "metadata": {},
   "outputs": [
    {
     "data": {
      "text/plain": [
       "(3, 2)"
      ]
     },
     "execution_count": 64,
     "metadata": {},
     "output_type": "execute_result"
    }
   ],
   "source": [
    "y.shape"
   ]
  },
  {
   "cell_type": "code",
   "execution_count": 65,
   "id": "16874f50-a43b-497f-be4b-de54fd5ddb86",
   "metadata": {},
   "outputs": [
    {
     "name": "stdout",
     "output_type": "stream",
     "text": [
      "[[ 6 12]\n",
      " [15 30]]\n"
     ]
    }
   ],
   "source": [
    "print(x*y)"
   ]
  },
  {
   "cell_type": "markdown",
   "id": "7fb41bf3-8172-4d29-ac9c-b62c4a0191b3",
   "metadata": {},
   "source": [
    "# array creation"
   ]
  },
  {
   "cell_type": "code",
   "execution_count": 70,
   "id": "94aa81a6-db5b-4522-9f38-f9670440c679",
   "metadata": {},
   "outputs": [
    {
     "data": {
      "text/plain": [
       "array([[0, 0, 0],\n",
       "       [0, 0, 0]])"
      ]
     },
     "execution_count": 70,
     "metadata": {},
     "output_type": "execute_result"
    }
   ],
   "source": [
    "np.zeros((2,3),dtype=int)"
   ]
  },
  {
   "cell_type": "code",
   "execution_count": 71,
   "id": "ed853ae3-c0f0-4a73-b98f-2959e0e06d60",
   "metadata": {},
   "outputs": [
    {
     "data": {
      "text/plain": [
       "array([[1, 1, 1],\n",
       "       [1, 1, 1]])"
      ]
     },
     "execution_count": 71,
     "metadata": {},
     "output_type": "execute_result"
    }
   ],
   "source": [
    "np.ones((2,3),dtype=int)"
   ]
  },
  {
   "cell_type": "code",
   "execution_count": 75,
   "id": "a2e67833-7074-466e-975f-d7c7bb889eb4",
   "metadata": {},
   "outputs": [
    {
     "data": {
      "text/plain": [
       "array([[100, 100, 100, 100],\n",
       "       [100, 100, 100, 100],\n",
       "       [100, 100, 100, 100]])"
      ]
     },
     "execution_count": 75,
     "metadata": {},
     "output_type": "execute_result"
    }
   ],
   "source": [
    "np.full((3,4),100)"
   ]
  },
  {
   "cell_type": "code",
   "execution_count": 85,
   "id": "9bb4448f-0cdc-40c5-9a9f-49b1b3d6f549",
   "metadata": {},
   "outputs": [
    {
     "data": {
      "text/plain": [
       "array([[1, 1, 1, 1, 1],\n",
       "       [1, 0, 0, 0, 1],\n",
       "       [1, 0, 9, 0, 1],\n",
       "       [1, 0, 0, 0, 1],\n",
       "       [1, 1, 1, 1, 1]])"
      ]
     },
     "execution_count": 85,
     "metadata": {},
     "output_type": "execute_result"
    }
   ],
   "source": [
    "a = np.ones((5,5),dtype=int)\n",
    "a[1:4,1:4 ]=b\n",
    "a"
   ]
  },
  {
   "cell_type": "code",
   "execution_count": 83,
   "id": "3741dffb-dd13-44d2-aba2-c0a0dadb98c6",
   "metadata": {},
   "outputs": [
    {
     "data": {
      "text/plain": [
       "array([[0, 0, 0],\n",
       "       [0, 0, 0],\n",
       "       [0, 0, 0]])"
      ]
     },
     "execution_count": 83,
     "metadata": {},
     "output_type": "execute_result"
    }
   ],
   "source": [
    "b = np.zeros((3,3),dtype=int)\n",
    "b"
   ]
  },
  {
   "cell_type": "code",
   "execution_count": 84,
   "id": "aa89dc31-86e7-40bc-939e-5fe2f2188dec",
   "metadata": {},
   "outputs": [
    {
     "data": {
      "text/plain": [
       "array([[0, 0, 0],\n",
       "       [0, 9, 0],\n",
       "       [0, 0, 0]])"
      ]
     },
     "execution_count": 84,
     "metadata": {},
     "output_type": "execute_result"
    }
   ],
   "source": [
    "b[1][1]=9\n",
    "b"
   ]
  },
  {
   "cell_type": "code",
   "execution_count": 95,
   "id": "2954c833-110d-4d7a-91ff-e0daddbfbc6c",
   "metadata": {},
   "outputs": [
    {
     "name": "stdin",
     "output_type": "stream",
     "text": [
      "enter a  1\n",
      "enter a  2\n",
      "enter a  4\n",
      "enter a  5\n",
      "enter a  67\n",
      "enter a  3\n",
      "enter a  76\n",
      "enter a  3\n",
      "enter a  7\n",
      "enter a  7\n",
      "enter a  9\n",
      "enter a  6\n",
      "enter a  0\n",
      "enter a  6\n",
      "enter a  9\n",
      "enter a  3\n",
      "enter a  6\n",
      "enter a  3\n",
      "enter a  2\n",
      "enter a  6\n",
      "enter a  78\n",
      "enter a  3\n",
      "enter a  5\n",
      "enter a  3\n",
      "enter a  56\n"
     ]
    }
   ],
   "source": [
    "L=[]\n",
    "\n",
    "for i in range(25):\n",
    "    a=int(input('enter a '))\n",
    "    L.append(a)\n",
    "\n"
   ]
  },
  {
   "cell_type": "code",
   "execution_count": 96,
   "id": "b42732c0-14ad-43ff-9380-bd6e606457c2",
   "metadata": {},
   "outputs": [
    {
     "name": "stdout",
     "output_type": "stream",
     "text": [
      "[1, 2, 4, 5, 67, 3, 76, 3, 7, 7, 9, 6, 0, 6, 9, 3, 6, 3, 2, 6, 78, 3, 5, 3, 56]\n"
     ]
    }
   ],
   "source": [
    "print(L)"
   ]
  },
  {
   "cell_type": "code",
   "execution_count": 97,
   "id": "367bec70-7c96-4b82-9105-03a63af42cee",
   "metadata": {},
   "outputs": [
    {
     "data": {
      "text/plain": [
       "array([[ 1,  2,  4,  5, 67],\n",
       "       [ 3, 76,  3,  7,  7],\n",
       "       [ 9,  6,  0,  6,  9],\n",
       "       [ 3,  6,  3,  2,  6],\n",
       "       [78,  3,  5,  3, 56]])"
      ]
     },
     "execution_count": 97,
     "metadata": {},
     "output_type": "execute_result"
    }
   ],
   "source": [
    "np.array(L,ndmin=2).reshape(5,5)"
   ]
  },
  {
   "cell_type": "code",
   "execution_count": 100,
   "id": "6d1223f8-76d3-4ff7-9553-da29295d2032",
   "metadata": {},
   "outputs": [
    {
     "data": {
      "text/plain": [
       "8"
      ]
     },
     "execution_count": 100,
     "metadata": {},
     "output_type": "execute_result"
    }
   ],
   "source": [
    "a = np.array([[1,2,3,4]],ndmin=8)\n",
    "\n",
    "a.ndim"
   ]
  },
  {
   "cell_type": "code",
   "execution_count": 101,
   "id": "3adeab57-51ba-43c0-85a7-51e227cfcfde",
   "metadata": {},
   "outputs": [
    {
     "data": {
      "text/plain": [
       "array([[[[[[[[1, 2, 3, 4]]]]]]]])"
      ]
     },
     "execution_count": 101,
     "metadata": {},
     "output_type": "execute_result"
    }
   ],
   "source": [
    "a"
   ]
  },
  {
   "cell_type": "code",
   "execution_count": 102,
   "id": "465c2b1c-6972-4e0f-bb4f-096b7d9288f7",
   "metadata": {},
   "outputs": [
    {
     "data": {
      "text/plain": [
       "array([1, 2, 3, 4])"
      ]
     },
     "execution_count": 102,
     "metadata": {},
     "output_type": "execute_result"
    }
   ],
   "source": [
    "np.ravel(a)"
   ]
  },
  {
   "cell_type": "code",
   "execution_count": 103,
   "id": "7baa92a3-9b4a-4dcf-a427-8406c387ebb0",
   "metadata": {},
   "outputs": [
    {
     "data": {
      "text/plain": [
       "array([1, 2, 3, 4, 5, 6, 7, 8, 9])"
      ]
     },
     "execution_count": 103,
     "metadata": {},
     "output_type": "execute_result"
    }
   ],
   "source": [
    "np.arange(1,10)"
   ]
  },
  {
   "cell_type": "code",
   "execution_count": 104,
   "id": "f2153ad0-42f6-4499-a9f2-67e325e2cc43",
   "metadata": {},
   "outputs": [
    {
     "data": {
      "text/plain": [
       "array([0, 1, 2, 3, 4, 5, 6, 7, 8, 9])"
      ]
     },
     "execution_count": 104,
     "metadata": {},
     "output_type": "execute_result"
    }
   ],
   "source": [
    "np.arange(10)"
   ]
  },
  {
   "cell_type": "code",
   "execution_count": 105,
   "id": "aabe9eb9-5df1-4d84-9761-dde4a62b8346",
   "metadata": {},
   "outputs": [
    {
     "data": {
      "text/plain": [
       "array([1, 4, 7])"
      ]
     },
     "execution_count": 105,
     "metadata": {},
     "output_type": "execute_result"
    }
   ],
   "source": [
    "np.arange(1,10,3)"
   ]
  },
  {
   "cell_type": "code",
   "execution_count": 106,
   "id": "5f86b65a-9853-4d36-aaa8-7fe644c0a4a8",
   "metadata": {},
   "outputs": [
    {
     "data": {
      "text/plain": [
       "array([10,  8,  6,  4])"
      ]
     },
     "execution_count": 106,
     "metadata": {},
     "output_type": "execute_result"
    }
   ],
   "source": [
    "np.arange(10,2,-2)"
   ]
  },
  {
   "cell_type": "markdown",
   "id": "812229d6-aa73-42b7-8ed2-f668e4e810f0",
   "metadata": {},
   "source": [
    "# Random function"
   ]
  },
  {
   "cell_type": "code",
   "execution_count": 212,
   "id": "5ebf3cdb-f77a-400e-83db-8a3b3517a368",
   "metadata": {},
   "outputs": [
    {
     "data": {
      "text/plain": [
       "array([1, 1, 6])"
      ]
     },
     "execution_count": 212,
     "metadata": {},
     "output_type": "execute_result"
    }
   ],
   "source": [
    "np.random.randint(1,7,3)"
   ]
  },
  {
   "cell_type": "code",
   "execution_count": 219,
   "id": "6b0b2bb9-f598-49b2-8853-f579a0feabdb",
   "metadata": {},
   "outputs": [
    {
     "name": "stdout",
     "output_type": "stream",
     "text": [
      "7\n"
     ]
    },
    {
     "name": "stdin",
     "output_type": "stream",
     "text": [
      "guess the number  7\n"
     ]
    },
    {
     "name": "stdout",
     "output_type": "stream",
     "text": [
      "guessed\n"
     ]
    }
   ],
   "source": [
    "comp = np.random.randint(1,10)\n",
    "print(comp)\n",
    "chance = 3\n",
    "\n",
    "while chance>0:\n",
    "\n",
    "    user = int(input('guess the number '))\n",
    "    \n",
    "    if user==comp:\n",
    "        print('guessed')\n",
    "        break\n",
    "    \n",
    "    else:\n",
    "        print('lost')\n",
    "    chance=chance-1"
   ]
  },
  {
   "cell_type": "code",
   "execution_count": null,
   "id": "238956ba-ab82-49f7-a92b-d2303662f83e",
   "metadata": {},
   "outputs": [],
   "source": []
  },
  {
   "cell_type": "code",
   "execution_count": null,
   "id": "c8b46e49-97cd-4e14-a7bb-336c1fd1bfe2",
   "metadata": {},
   "outputs": [],
   "source": [
    "shape\n",
    "indexing & slicing\n",
    "sum - axis =0 , axis =1"
   ]
  },
  {
   "cell_type": "code",
   "execution_count": null,
   "id": "b00bb45c-bad3-465e-a6ba-653b0fa5dc9a",
   "metadata": {},
   "outputs": [],
   "source": []
  },
  {
   "cell_type": "code",
   "execution_count": null,
   "id": "8b65d6ed-d938-4b9d-8abf-7a1b025883c3",
   "metadata": {},
   "outputs": [],
   "source": []
  },
  {
   "cell_type": "code",
   "execution_count": null,
   "id": "eef88d3c-f753-4ced-be10-ee1a856da99d",
   "metadata": {},
   "outputs": [],
   "source": []
  },
  {
   "cell_type": "code",
   "execution_count": null,
   "id": "0578ea37-ca60-48fc-befb-c9b7784df19e",
   "metadata": {},
   "outputs": [],
   "source": []
  },
  {
   "cell_type": "code",
   "execution_count": null,
   "id": "021d3c82-4a82-4bd8-b7db-39649eff6f3d",
   "metadata": {},
   "outputs": [],
   "source": []
  },
  {
   "cell_type": "code",
   "execution_count": null,
   "id": "2cdc891e-b4a6-42d8-93d3-a91d625e51d5",
   "metadata": {},
   "outputs": [],
   "source": []
  },
  {
   "cell_type": "code",
   "execution_count": null,
   "id": "fa9fd4d2-5cf6-47f8-b9a5-dd0b2ef7a8d7",
   "metadata": {},
   "outputs": [],
   "source": []
  },
  {
   "cell_type": "code",
   "execution_count": null,
   "id": "62fce593-3969-4632-8bc6-9b1551e689c0",
   "metadata": {},
   "outputs": [],
   "source": []
  },
  {
   "cell_type": "code",
   "execution_count": null,
   "id": "f6b0ebc8-3e01-4b2e-929a-798b42c5ce42",
   "metadata": {},
   "outputs": [],
   "source": []
  },
  {
   "cell_type": "code",
   "execution_count": null,
   "id": "29e60b39-6706-4a22-b589-8cb6b01845d0",
   "metadata": {},
   "outputs": [],
   "source": []
  },
  {
   "cell_type": "code",
   "execution_count": null,
   "id": "fa3a4398-4f8f-47dd-ac91-38abc5e7e497",
   "metadata": {},
   "outputs": [],
   "source": []
  },
  {
   "cell_type": "code",
   "execution_count": null,
   "id": "50e06b70-f0d7-4db7-b8ab-7212dce094d1",
   "metadata": {},
   "outputs": [],
   "source": []
  },
  {
   "cell_type": "code",
   "execution_count": null,
   "id": "44ec4196-a6c8-485d-a746-d4739a06ee55",
   "metadata": {},
   "outputs": [],
   "source": []
  },
  {
   "cell_type": "code",
   "execution_count": null,
   "id": "6cac82b6-8cd4-4199-b65f-395f28e905a4",
   "metadata": {},
   "outputs": [],
   "source": []
  },
  {
   "cell_type": "code",
   "execution_count": null,
   "id": "2026381d-33f4-4ee0-83f2-c4d3b73ed896",
   "metadata": {},
   "outputs": [],
   "source": []
  },
  {
   "cell_type": "code",
   "execution_count": null,
   "id": "4eb95542-acc8-4be8-a15c-828800f409f0",
   "metadata": {},
   "outputs": [],
   "source": []
  },
  {
   "cell_type": "code",
   "execution_count": null,
   "id": "b19c4215-af78-4ad4-ad54-9d2807fa2b7e",
   "metadata": {},
   "outputs": [],
   "source": []
  },
  {
   "cell_type": "code",
   "execution_count": null,
   "id": "2ed134eb-dccc-4332-8c4e-608820ba0d84",
   "metadata": {},
   "outputs": [],
   "source": []
  },
  {
   "cell_type": "code",
   "execution_count": null,
   "id": "f0c37c7a-001b-4dfd-8e83-10bc899d8569",
   "metadata": {},
   "outputs": [],
   "source": []
  }
 ],
 "metadata": {
  "kernelspec": {
   "display_name": "Python 3 (ipykernel)",
   "language": "python",
   "name": "python3"
  },
  "language_info": {
   "codemirror_mode": {
    "name": "ipython",
    "version": 3
   },
   "file_extension": ".py",
   "mimetype": "text/x-python",
   "name": "python",
   "nbconvert_exporter": "python",
   "pygments_lexer": "ipython3",
   "version": "3.12.9"
  }
 },
 "nbformat": 4,
 "nbformat_minor": 5
}
