{
 "cells": [
  {
   "cell_type": "markdown",
   "id": "2528f450",
   "metadata": {},
   "source": [
    "<table align=\"left\" width=100%>\n",
    "    <tr>\n",
    "        <td width=\"20%\">\n",
    "            <img src=\"https://encrypted-tbn0.gstatic.com/images?q=tbn:ANd9GcQDzY1_-wYPPJ1y_zoQAoW5Ccf0PXEoaT49Jg&s\">\n",
    "        </td>\n",
    "        <td>\n",
    "            <div align=\"center\">\n",
    "                <font color=\"#21618C\" size=8px>\n",
    "                  <b> Vijay S Notebook <br> (Week 3) </b>\n",
    "                </font>\n",
    "            </div>\n",
    "        </td>\n",
    "    </tr>\n",
    "</table>"
   ]
  },
  {
   "cell_type": "markdown",
   "id": "a879485b",
   "metadata": {},
   "source": [
    "## Table of Content\n",
    "1. **[Concatenate](#Concatenate)**\n",
    "2. **[Merging and Joining](#Merging)**\n",
    "3. **[Pivot Table](#Pivote)**\n",
    "4. **[Cross Table](#crosst)**\n",
    "5. **[Duplicate](#Duplicate)**\n",
    "6. **[Dropping Rows and Columns](#drop)**\n",
    "7. **[Map and Replace](#Map)**\n",
    "8. **[Groupby in Pandas](#Groupby)**\n",
    "9. **[Plots using Matplotlib ](#matplotlib)**"
   ]
  },
  {
   "cell_type": "markdown",
   "id": "c562f4a0",
   "metadata": {},
   "source": [
    "<a id=\"Concatenate\"> </a>\n",
    "### 1. Concatenate\n",
    "\n",
    "Concatenation is a process of joining objects along a particular axis, with set logic applied along the other axes, if any (a series does not have any other axes)<br>\n",
    "                   The main parameters involved in pandas concatenation are - object, axis, handling of other axes, and keys."
   ]
  },
  {
   "cell_type": "markdown",
   "id": "4440494f",
   "metadata": {},
   "source": [
    "**Concatenate pandas Series**"
   ]
  },
  {
   "cell_type": "code",
   "execution_count": 3,
   "id": "fa128bb0",
   "metadata": {},
   "outputs": [],
   "source": [
    " \n",
    "import pandas as pd\n",
    "\n",
    "# import the library NumPy as np\n",
    "import numpy as np"
   ]
  },
  {
   "cell_type": "code",
   "execution_count": 4,
   "id": "4ebf3089",
   "metadata": {},
   "outputs": [],
   "source": [
    "# create a series from list\n",
    "sales_a = pd.Series([101,102,103,104,105,106])\n",
    "\n",
    "# create another series from list\n",
    "sales_b = pd.Series([107,108,109,110,111,112])"
   ]
  },
  {
   "cell_type": "code",
   "execution_count": 5,
   "id": "27a02bf9",
   "metadata": {},
   "outputs": [
    {
     "data": {
      "text/plain": [
       "0    101\n",
       "1    102\n",
       "2    103\n",
       "3    104\n",
       "4    105\n",
       "5    106\n",
       "0    107\n",
       "1    108\n",
       "2    109\n",
       "3    110\n",
       "4    111\n",
       "5    112\n",
       "dtype: int64"
      ]
     },
     "execution_count": 5,
     "metadata": {},
     "output_type": "execute_result"
    }
   ],
   "source": [
    "# concatenate the pandas series\n",
    "pd.concat([sales_a,sales_b])"
   ]
  },
  {
   "cell_type": "markdown",
   "id": "21031182",
   "metadata": {},
   "source": [
    "**Add a hierarchical index to a pandas Series**"
   ]
  },
  {
   "cell_type": "code",
   "execution_count": 6,
   "id": "0eeda164",
   "metadata": {},
   "outputs": [
    {
     "data": {
      "text/plain": [
       "a  0    101\n",
       "   1    102\n",
       "   2    103\n",
       "   3    104\n",
       "   4    105\n",
       "   5    106\n",
       "b  0    107\n",
       "   1    108\n",
       "   2    109\n",
       "   3    110\n",
       "   4    111\n",
       "   5    112\n",
       "dtype: int64"
      ]
     },
     "execution_count": 6,
     "metadata": {},
     "output_type": "execute_result"
    }
   ],
   "source": [
    "# concatenate the series \n",
    "# keys adds hierarchical indexes\n",
    "pd.concat([sales_a,sales_b], keys = ['a', 'b'])"
   ]
  },
  {
   "cell_type": "markdown",
   "id": "a6a09fb6",
   "metadata": {},
   "source": [
    "**Label the index**"
   ]
  },
  {
   "cell_type": "code",
   "execution_count": 7,
   "id": "61e113fc",
   "metadata": {
    "scrolled": true
   },
   "outputs": [
    {
     "data": {
      "text/plain": [
       "Series  Row ID\n",
       "a       0         101\n",
       "        1         102\n",
       "        2         103\n",
       "        3         104\n",
       "        4         105\n",
       "        5         106\n",
       "b       0         107\n",
       "        1         108\n",
       "        2         109\n",
       "        3         110\n",
       "        4         111\n",
       "        5         112\n",
       "dtype: int64"
      ]
     },
     "execution_count": 7,
     "metadata": {},
     "output_type": "execute_result"
    }
   ],
   "source": [
    "# 'names' parameter assigns labels to 'keys' and 'indexes'\n",
    "pd.concat([sales_a, sales_b], keys=['a', 'b'], names=['Series', 'Row ID'])"
   ]
  },
  {
   "cell_type": "markdown",
   "id": "25df3912",
   "metadata": {},
   "source": [
    "**Concatenating DataFrames**\n",
    "\n",
    "To concatenate DataFrames, let us first create three DataFrame\n",
    "1. df_prof_info_A: professional information on employees of company A\n",
    "2. df_prof_info_B: professional information on employees of company B\n",
    "3. df_pers_info_A: personal information on employees of company A\n"
   ]
  },
  {
   "cell_type": "code",
   "execution_count": 9,
   "id": "264fa92f",
   "metadata": {},
   "outputs": [
    {
     "name": "stdout",
     "output_type": "stream",
     "text": [
      "The first DataFrame is : \n",
      "      Emp_ID     Name Gender  Company  Salary\n",
      "101    1001     Alex      M    Apple   67000\n",
      "102    1002      Amy      F  Walmart   90000\n",
      "103    1003    Allen      M    Intel   87000\n",
      "104    1004    Alice      F  Cummins   69000\n",
      "105    1005  Stephan      M     Ford   78000\n",
      "\n",
      "\n",
      "\n",
      "The second DataFrame is : \n",
      "      Emp_ID   Name Gender    Company  Salary\n",
      "106    1006  Billy      M  Cognizant   89000\n",
      "107    1007  Brian      M      Apple   80000\n",
      "108    1008   Bran      M      Intel   79000\n",
      "109    1009  Bryce      F    Cummins   97000\n",
      "110    1010  Betty      F    Walmart   88000\n",
      "111    1011  James      M      Intel   89000\n",
      "\n",
      "\n",
      "\n",
      "The third DataFrame is : \n",
      "      Emp_ID       Hometown Gender   Marital  Dependents\n",
      "101    1001       New York      M   Married           1\n",
      "102    1002         London      F  Divorsed           1\n",
      "103    1003  San Francisco      M    Single           3\n",
      "104    1004        Seattle      F   Married           2\n",
      "105    1005         Madrid      M    Single           1\n",
      "\n",
      "\n",
      "\n",
      "The fourth DataFrame is : \n",
      "      Emp_ID       Hometown   Marital  Dependents\n",
      "101    1006          Paris   Married           1\n",
      "102    1007         Boston  Divorsed           1\n",
      "103    1009  San Francisco    Single           3\n",
      "104    1010        Seattle   Married           2\n",
      "105    1011         London    Single           1\n",
      "106    1012         London    Single           2\n"
     ]
    }
   ],
   "source": [
    "# create a DataFrame from a dictionary\n",
    "df_prof_info_A = pd.DataFrame({\n",
    "   'Emp_ID': [1001,1002,1003,1004,1005],\n",
    "   'Name': ['Alex', 'Amy', 'Allen', 'Alice', 'Stephan'],\n",
    "   'Gender':['M', 'F', 'M', 'F', 'M'],\n",
    "   'Company':['Apple','Walmart','Intel','Cummins','Ford'],\n",
    "   'Salary':[67000,90000,87000,69000,78000]},\n",
    "   index=[101,102,103,104,105])\n",
    "\n",
    "# print the DataFrame\n",
    "print(\"The first DataFrame is : \\n\",df_prof_info_A)\n",
    "\n",
    "print(\"\\n\\n\")\n",
    "\n",
    "# create a DataFrame from a dictionary\n",
    "df_prof_info_B = pd.DataFrame({\n",
    "    'Emp_ID': [1006,1007,1008,1009,1010,1011],\n",
    "   'Name': ['Billy', 'Brian', 'Bran', 'Bryce', 'Betty','James'],\n",
    "    'Gender':['M', 'M', 'M', 'F', 'F','M'],\n",
    "   'Company':['Cognizant','Apple','Intel','Cummins','Walmart','Intel'],\n",
    "   'Salary':[89000,80000,79000,97000,88000,89000]},\n",
    "   index=[106,107,108,109,110,111])\n",
    "\n",
    "# print the DataFrame\n",
    "print(\"The second DataFrame is : \\n\",df_prof_info_B)\n",
    "\n",
    "print(\"\\n\\n\")\n",
    "\n",
    "# create a DataFrame from a dictionary\n",
    "df_pers_info_A = pd.DataFrame({\n",
    "     'Emp_ID': [1001,1002,1003,1004,1005],\n",
    "   'Hometown': ['New York', 'London', 'San Francisco', 'Seattle', 'Madrid'],\n",
    "     'Gender':['M', 'F', 'M', 'F', 'M'],\n",
    "    'Marital':['Married','Divorsed','Single','Married','Single'],\n",
    "   'Dependents':[1,1,3,2,1]},\n",
    "   index=[101,102,103,104,105])\n",
    "\n",
    "# print the DataFrame\n",
    "print(\"The third DataFrame is : \\n\",df_pers_info_A)\n",
    "\n",
    "print(\"\\n\\n\")\n",
    "\n",
    "# create a DataFrame from a dictionary\n",
    "df_pers_info_B = pd.DataFrame({\n",
    "     'Emp_ID': [1006,1007,1009,1010,1011,1012],\n",
    "   'Hometown': ['Paris', 'Boston', 'San Francisco', 'Seattle', 'London','London'],\n",
    "    'Marital':['Married','Divorsed','Single','Married','Single','Single'],\n",
    "   'Dependents':[1,1,3,2,1,2]},\n",
    "   index=[101,102,103,104,105,106])\n",
    "\n",
    "# print the DataFrame\n",
    "print(\"The fourth DataFrame is : \\n\",df_pers_info_B)"
   ]
  },
  {
   "cell_type": "markdown",
   "id": "3dbb6972",
   "metadata": {},
   "source": [
    "**Concatenating pandas DataFrames using `.concat()`**"
   ]
  },
  {
   "cell_type": "markdown",
   "id": "cfbac6ea",
   "metadata": {},
   "source": [
    "**Combine DataFrames vertically**"
   ]
  },
  {
   "cell_type": "code",
   "execution_count": 11,
   "id": "5d9ae620",
   "metadata": {
    "scrolled": true
   },
   "outputs": [
    {
     "name": "stdout",
     "output_type": "stream",
     "text": [
      "     Emp_ID     Name Gender    Company  Salary\n",
      "101    1001     Alex      M      Apple   67000\n",
      "102    1002      Amy      F    Walmart   90000\n",
      "103    1003    Allen      M      Intel   87000\n",
      "104    1004    Alice      F    Cummins   69000\n",
      "105    1005  Stephan      M       Ford   78000\n",
      "106    1006    Billy      M  Cognizant   89000\n",
      "107    1007    Brian      M      Apple   80000\n",
      "108    1008     Bran      M      Intel   79000\n",
      "109    1009    Bryce      F    Cummins   97000\n",
      "110    1010    Betty      F    Walmart   88000\n",
      "111    1011    James      M      Intel   89000\n"
     ]
    }
   ],
   "source": [
    "# concatenate the data frame\n",
    "print(pd.concat([df_prof_info_A,df_prof_info_B]))"
   ]
  },
  {
   "cell_type": "code",
   "execution_count": 12,
   "id": "c9fa4657",
   "metadata": {},
   "outputs": [
    {
     "data": {
      "text/html": [
       "<div>\n",
       "<style scoped>\n",
       "    .dataframe tbody tr th:only-of-type {\n",
       "        vertical-align: middle;\n",
       "    }\n",
       "\n",
       "    .dataframe tbody tr th {\n",
       "        vertical-align: top;\n",
       "    }\n",
       "\n",
       "    .dataframe thead th {\n",
       "        text-align: right;\n",
       "    }\n",
       "</style>\n",
       "<table border=\"1\" class=\"dataframe\">\n",
       "  <thead>\n",
       "    <tr style=\"text-align: right;\">\n",
       "      <th></th>\n",
       "      <th>Emp_ID</th>\n",
       "      <th>Name</th>\n",
       "      <th>Gender</th>\n",
       "      <th>Company</th>\n",
       "      <th>Salary</th>\n",
       "      <th>Emp_ID</th>\n",
       "      <th>Hometown</th>\n",
       "      <th>Gender</th>\n",
       "      <th>Marital</th>\n",
       "      <th>Dependents</th>\n",
       "    </tr>\n",
       "  </thead>\n",
       "  <tbody>\n",
       "    <tr>\n",
       "      <th>101</th>\n",
       "      <td>1001</td>\n",
       "      <td>Alex</td>\n",
       "      <td>M</td>\n",
       "      <td>Apple</td>\n",
       "      <td>67000</td>\n",
       "      <td>1001</td>\n",
       "      <td>New York</td>\n",
       "      <td>M</td>\n",
       "      <td>Married</td>\n",
       "      <td>1</td>\n",
       "    </tr>\n",
       "    <tr>\n",
       "      <th>102</th>\n",
       "      <td>1002</td>\n",
       "      <td>Amy</td>\n",
       "      <td>F</td>\n",
       "      <td>Walmart</td>\n",
       "      <td>90000</td>\n",
       "      <td>1002</td>\n",
       "      <td>London</td>\n",
       "      <td>F</td>\n",
       "      <td>Divorsed</td>\n",
       "      <td>1</td>\n",
       "    </tr>\n",
       "    <tr>\n",
       "      <th>103</th>\n",
       "      <td>1003</td>\n",
       "      <td>Allen</td>\n",
       "      <td>M</td>\n",
       "      <td>Intel</td>\n",
       "      <td>87000</td>\n",
       "      <td>1003</td>\n",
       "      <td>San Francisco</td>\n",
       "      <td>M</td>\n",
       "      <td>Single</td>\n",
       "      <td>3</td>\n",
       "    </tr>\n",
       "    <tr>\n",
       "      <th>104</th>\n",
       "      <td>1004</td>\n",
       "      <td>Alice</td>\n",
       "      <td>F</td>\n",
       "      <td>Cummins</td>\n",
       "      <td>69000</td>\n",
       "      <td>1004</td>\n",
       "      <td>Seattle</td>\n",
       "      <td>F</td>\n",
       "      <td>Married</td>\n",
       "      <td>2</td>\n",
       "    </tr>\n",
       "    <tr>\n",
       "      <th>105</th>\n",
       "      <td>1005</td>\n",
       "      <td>Stephan</td>\n",
       "      <td>M</td>\n",
       "      <td>Ford</td>\n",
       "      <td>78000</td>\n",
       "      <td>1005</td>\n",
       "      <td>Madrid</td>\n",
       "      <td>M</td>\n",
       "      <td>Single</td>\n",
       "      <td>1</td>\n",
       "    </tr>\n",
       "  </tbody>\n",
       "</table>\n",
       "</div>"
      ],
      "text/plain": [
       "     Emp_ID     Name Gender  Company  Salary  Emp_ID       Hometown Gender  \\\n",
       "101    1001     Alex      M    Apple   67000    1001       New York      M   \n",
       "102    1002      Amy      F  Walmart   90000    1002         London      F   \n",
       "103    1003    Allen      M    Intel   87000    1003  San Francisco      M   \n",
       "104    1004    Alice      F  Cummins   69000    1004        Seattle      F   \n",
       "105    1005  Stephan      M     Ford   78000    1005         Madrid      M   \n",
       "\n",
       "      Marital  Dependents  \n",
       "101   Married           1  \n",
       "102  Divorsed           1  \n",
       "103    Single           3  \n",
       "104   Married           2  \n",
       "105    Single           1  "
      ]
     },
     "execution_count": 12,
     "metadata": {},
     "output_type": "execute_result"
    }
   ],
   "source": [
    "# combine Pandas Dataframes horizontally\n",
    "# axis specifies the axis to concatenate along, here 1 indicates columns\n",
    "pd.concat([df_prof_info_A, df_pers_info_A], axis=1)"
   ]
  },
  {
   "cell_type": "markdown",
   "id": "5940c924",
   "metadata": {},
   "source": [
    "Combining DataFrames horizontally with duplicate columns removed."
   ]
  },
  {
   "cell_type": "code",
   "execution_count": 13,
   "id": "16c599b3",
   "metadata": {},
   "outputs": [
    {
     "data": {
      "text/html": [
       "<div>\n",
       "<style scoped>\n",
       "    .dataframe tbody tr th:only-of-type {\n",
       "        vertical-align: middle;\n",
       "    }\n",
       "\n",
       "    .dataframe tbody tr th {\n",
       "        vertical-align: top;\n",
       "    }\n",
       "\n",
       "    .dataframe thead th {\n",
       "        text-align: right;\n",
       "    }\n",
       "</style>\n",
       "<table border=\"1\" class=\"dataframe\">\n",
       "  <thead>\n",
       "    <tr style=\"text-align: right;\">\n",
       "      <th></th>\n",
       "      <th>Emp_ID</th>\n",
       "      <th>Name</th>\n",
       "      <th>Gender</th>\n",
       "      <th>Company</th>\n",
       "      <th>Salary</th>\n",
       "      <th>Hometown</th>\n",
       "      <th>Marital</th>\n",
       "      <th>Dependents</th>\n",
       "    </tr>\n",
       "  </thead>\n",
       "  <tbody>\n",
       "    <tr>\n",
       "      <th>101</th>\n",
       "      <td>1001</td>\n",
       "      <td>Alex</td>\n",
       "      <td>M</td>\n",
       "      <td>Apple</td>\n",
       "      <td>67000</td>\n",
       "      <td>New York</td>\n",
       "      <td>Married</td>\n",
       "      <td>1</td>\n",
       "    </tr>\n",
       "    <tr>\n",
       "      <th>102</th>\n",
       "      <td>1002</td>\n",
       "      <td>Amy</td>\n",
       "      <td>F</td>\n",
       "      <td>Walmart</td>\n",
       "      <td>90000</td>\n",
       "      <td>London</td>\n",
       "      <td>Divorsed</td>\n",
       "      <td>1</td>\n",
       "    </tr>\n",
       "    <tr>\n",
       "      <th>103</th>\n",
       "      <td>1003</td>\n",
       "      <td>Allen</td>\n",
       "      <td>M</td>\n",
       "      <td>Intel</td>\n",
       "      <td>87000</td>\n",
       "      <td>San Francisco</td>\n",
       "      <td>Single</td>\n",
       "      <td>3</td>\n",
       "    </tr>\n",
       "    <tr>\n",
       "      <th>104</th>\n",
       "      <td>1004</td>\n",
       "      <td>Alice</td>\n",
       "      <td>F</td>\n",
       "      <td>Cummins</td>\n",
       "      <td>69000</td>\n",
       "      <td>Seattle</td>\n",
       "      <td>Married</td>\n",
       "      <td>2</td>\n",
       "    </tr>\n",
       "    <tr>\n",
       "      <th>105</th>\n",
       "      <td>1005</td>\n",
       "      <td>Stephan</td>\n",
       "      <td>M</td>\n",
       "      <td>Ford</td>\n",
       "      <td>78000</td>\n",
       "      <td>Madrid</td>\n",
       "      <td>Single</td>\n",
       "      <td>1</td>\n",
       "    </tr>\n",
       "  </tbody>\n",
       "</table>\n",
       "</div>"
      ],
      "text/plain": [
       "    Emp_ID     Name Gender  Company Salary       Hometown   Marital Dependents\n",
       "101   1001     Alex      M    Apple  67000       New York   Married          1\n",
       "102   1002      Amy      F  Walmart  90000         London  Divorsed          1\n",
       "103   1003    Allen      M    Intel  87000  San Francisco    Single          3\n",
       "104   1004    Alice      F  Cummins  69000        Seattle   Married          2\n",
       "105   1005  Stephan      M     Ford  78000         Madrid    Single          1"
      ]
     },
     "execution_count": 13,
     "metadata": {},
     "output_type": "execute_result"
    }
   ],
   "source": [
    "# combine DataFrame with duplicate columns removed\n",
    "# T: transposes the DataFrame\n",
    "# drop_duplicates(): drops the duplicate rows in a DataFrame\n",
    "pd.concat([df_prof_info_A, df_pers_info_A], axis=1).T.drop_duplicates().T"
   ]
  },
  {
   "cell_type": "markdown",
   "id": "72d97ac5",
   "metadata": {},
   "source": [
    "**Concatenating data frames ignoring index values**"
   ]
  },
  {
   "cell_type": "code",
   "execution_count": 14,
   "id": "b70743ca",
   "metadata": {},
   "outputs": [
    {
     "data": {
      "text/html": [
       "<div>\n",
       "<style scoped>\n",
       "    .dataframe tbody tr th:only-of-type {\n",
       "        vertical-align: middle;\n",
       "    }\n",
       "\n",
       "    .dataframe tbody tr th {\n",
       "        vertical-align: top;\n",
       "    }\n",
       "\n",
       "    .dataframe thead th {\n",
       "        text-align: right;\n",
       "    }\n",
       "</style>\n",
       "<table border=\"1\" class=\"dataframe\">\n",
       "  <thead>\n",
       "    <tr style=\"text-align: right;\">\n",
       "      <th></th>\n",
       "      <th>Emp_ID</th>\n",
       "      <th>Name</th>\n",
       "      <th>Gender</th>\n",
       "      <th>Company</th>\n",
       "      <th>Salary</th>\n",
       "    </tr>\n",
       "  </thead>\n",
       "  <tbody>\n",
       "    <tr>\n",
       "      <th>0</th>\n",
       "      <td>1001</td>\n",
       "      <td>Alex</td>\n",
       "      <td>M</td>\n",
       "      <td>Apple</td>\n",
       "      <td>67000</td>\n",
       "    </tr>\n",
       "    <tr>\n",
       "      <th>1</th>\n",
       "      <td>1002</td>\n",
       "      <td>Amy</td>\n",
       "      <td>F</td>\n",
       "      <td>Walmart</td>\n",
       "      <td>90000</td>\n",
       "    </tr>\n",
       "    <tr>\n",
       "      <th>2</th>\n",
       "      <td>1003</td>\n",
       "      <td>Allen</td>\n",
       "      <td>M</td>\n",
       "      <td>Intel</td>\n",
       "      <td>87000</td>\n",
       "    </tr>\n",
       "    <tr>\n",
       "      <th>3</th>\n",
       "      <td>1004</td>\n",
       "      <td>Alice</td>\n",
       "      <td>F</td>\n",
       "      <td>Cummins</td>\n",
       "      <td>69000</td>\n",
       "    </tr>\n",
       "    <tr>\n",
       "      <th>4</th>\n",
       "      <td>1005</td>\n",
       "      <td>Stephan</td>\n",
       "      <td>M</td>\n",
       "      <td>Ford</td>\n",
       "      <td>78000</td>\n",
       "    </tr>\n",
       "    <tr>\n",
       "      <th>5</th>\n",
       "      <td>1006</td>\n",
       "      <td>Billy</td>\n",
       "      <td>M</td>\n",
       "      <td>Cognizant</td>\n",
       "      <td>89000</td>\n",
       "    </tr>\n",
       "    <tr>\n",
       "      <th>6</th>\n",
       "      <td>1007</td>\n",
       "      <td>Brian</td>\n",
       "      <td>M</td>\n",
       "      <td>Apple</td>\n",
       "      <td>80000</td>\n",
       "    </tr>\n",
       "    <tr>\n",
       "      <th>7</th>\n",
       "      <td>1008</td>\n",
       "      <td>Bran</td>\n",
       "      <td>M</td>\n",
       "      <td>Intel</td>\n",
       "      <td>79000</td>\n",
       "    </tr>\n",
       "    <tr>\n",
       "      <th>8</th>\n",
       "      <td>1009</td>\n",
       "      <td>Bryce</td>\n",
       "      <td>F</td>\n",
       "      <td>Cummins</td>\n",
       "      <td>97000</td>\n",
       "    </tr>\n",
       "    <tr>\n",
       "      <th>9</th>\n",
       "      <td>1010</td>\n",
       "      <td>Betty</td>\n",
       "      <td>F</td>\n",
       "      <td>Walmart</td>\n",
       "      <td>88000</td>\n",
       "    </tr>\n",
       "    <tr>\n",
       "      <th>10</th>\n",
       "      <td>1011</td>\n",
       "      <td>James</td>\n",
       "      <td>M</td>\n",
       "      <td>Intel</td>\n",
       "      <td>89000</td>\n",
       "    </tr>\n",
       "  </tbody>\n",
       "</table>\n",
       "</div>"
      ],
      "text/plain": [
       "    Emp_ID     Name Gender    Company  Salary\n",
       "0     1001     Alex      M      Apple   67000\n",
       "1     1002      Amy      F    Walmart   90000\n",
       "2     1003    Allen      M      Intel   87000\n",
       "3     1004    Alice      F    Cummins   69000\n",
       "4     1005  Stephan      M       Ford   78000\n",
       "5     1006    Billy      M  Cognizant   89000\n",
       "6     1007    Brian      M      Apple   80000\n",
       "7     1008     Bran      M      Intel   79000\n",
       "8     1009    Bryce      F    Cummins   97000\n",
       "9     1010    Betty      F    Walmart   88000\n",
       "10    1011    James      M      Intel   89000"
      ]
     },
     "execution_count": 14,
     "metadata": {},
     "output_type": "execute_result"
    }
   ],
   "source": [
    "# concatenate DataFrames\n",
    "# ignore_index if True, assigns index values begining with zero\n",
    "pd.concat([df_prof_info_A, df_prof_info_B], ignore_index=True)"
   ]
  },
  {
   "cell_type": "markdown",
   "id": "136a43df",
   "metadata": {},
   "source": [
    "**Concatenating Pandas Dataframes using `.append()`**"
   ]
  },
  {
   "cell_type": "code",
   "execution_count": 16,
   "id": "df1f42b1",
   "metadata": {},
   "outputs": [
    {
     "ename": "AttributeError",
     "evalue": "'DataFrame' object has no attribute 'appends'",
     "output_type": "error",
     "traceback": [
      "\u001b[1;31m---------------------------------------------------------------------------\u001b[0m",
      "\u001b[1;31mAttributeError\u001b[0m                            Traceback (most recent call last)",
      "\u001b[1;32m~\\AppData\\Local\\Temp\\ipykernel_5760\\1494716953.py\u001b[0m in \u001b[0;36m?\u001b[1;34m()\u001b[0m\n\u001b[0;32m      1\u001b[0m \u001b[1;31m# append DataFrame df_company_B to df_company_A\u001b[0m\u001b[1;33m\u001b[0m\u001b[1;33m\u001b[0m\u001b[0m\n\u001b[1;32m----> 2\u001b[1;33m \u001b[0mdf_prof_info_A\u001b[0m\u001b[1;33m.\u001b[0m\u001b[0mappends\u001b[0m\u001b[1;33m(\u001b[0m\u001b[0mdf_prof_info_B\u001b[0m\u001b[1;33m)\u001b[0m\u001b[1;33m\u001b[0m\u001b[1;33m\u001b[0m\u001b[0m\n\u001b[0m",
      "\u001b[1;32m~\\anaconda3\\Lib\\site-packages\\pandas\\core\\generic.py\u001b[0m in \u001b[0;36m?\u001b[1;34m(self, name)\u001b[0m\n\u001b[0;32m   5985\u001b[0m             \u001b[1;32mand\u001b[0m \u001b[0mname\u001b[0m \u001b[1;32mnot\u001b[0m \u001b[1;32min\u001b[0m \u001b[0mself\u001b[0m\u001b[1;33m.\u001b[0m\u001b[0m_accessors\u001b[0m\u001b[1;33m\u001b[0m\u001b[1;33m\u001b[0m\u001b[0m\n\u001b[0;32m   5986\u001b[0m             \u001b[1;32mand\u001b[0m \u001b[0mself\u001b[0m\u001b[1;33m.\u001b[0m\u001b[0m_info_axis\u001b[0m\u001b[1;33m.\u001b[0m\u001b[0m_can_hold_identifiers_and_holds_name\u001b[0m\u001b[1;33m(\u001b[0m\u001b[0mname\u001b[0m\u001b[1;33m)\u001b[0m\u001b[1;33m\u001b[0m\u001b[1;33m\u001b[0m\u001b[0m\n\u001b[0;32m   5987\u001b[0m         ):\n\u001b[0;32m   5988\u001b[0m             \u001b[1;32mreturn\u001b[0m \u001b[0mself\u001b[0m\u001b[1;33m[\u001b[0m\u001b[0mname\u001b[0m\u001b[1;33m]\u001b[0m\u001b[1;33m\u001b[0m\u001b[1;33m\u001b[0m\u001b[0m\n\u001b[1;32m-> 5989\u001b[1;33m         \u001b[1;32mreturn\u001b[0m \u001b[0mobject\u001b[0m\u001b[1;33m.\u001b[0m\u001b[0m__getattribute__\u001b[0m\u001b[1;33m(\u001b[0m\u001b[0mself\u001b[0m\u001b[1;33m,\u001b[0m \u001b[0mname\u001b[0m\u001b[1;33m)\u001b[0m\u001b[1;33m\u001b[0m\u001b[1;33m\u001b[0m\u001b[0m\n\u001b[0m",
      "\u001b[1;31mAttributeError\u001b[0m: 'DataFrame' object has no attribute 'appends'"
     ]
    }
   ],
   "source": [
    "# append DataFrame df_company_B to df_company_A\n",
    "df_prof_info_A.appends(df_prof_info_B)"
   ]
  },
  {
   "cell_type": "markdown",
   "id": "8734536f",
   "metadata": {},
   "source": [
    "<a id=\"Merging\"> </a>\n",
    "### 2. Merging and Joining\n",
    "\n",
    "Merging two datasets is a process of bringing two datasets to form one, by aligning the rows from both the datasets based on common attributes or columns"
   ]
  },
  {
   "cell_type": "markdown",
   "id": "a435a895",
   "metadata": {},
   "source": [
    "### Concatenate using `.merge()`"
   ]
  },
  {
   "cell_type": "markdown",
   "id": "cc1967aa",
   "metadata": {},
   "source": [
    "Concatenate the personal and professional information on employees in company A."
   ]
  },
  {
   "cell_type": "code",
   "execution_count": 17,
   "id": "c970abfd",
   "metadata": {},
   "outputs": [
    {
     "data": {
      "text/html": [
       "<div>\n",
       "<style scoped>\n",
       "    .dataframe tbody tr th:only-of-type {\n",
       "        vertical-align: middle;\n",
       "    }\n",
       "\n",
       "    .dataframe tbody tr th {\n",
       "        vertical-align: top;\n",
       "    }\n",
       "\n",
       "    .dataframe thead th {\n",
       "        text-align: right;\n",
       "    }\n",
       "</style>\n",
       "<table border=\"1\" class=\"dataframe\">\n",
       "  <thead>\n",
       "    <tr style=\"text-align: right;\">\n",
       "      <th></th>\n",
       "      <th>Emp_ID</th>\n",
       "      <th>Name</th>\n",
       "      <th>Gender</th>\n",
       "      <th>Company</th>\n",
       "      <th>Salary</th>\n",
       "      <th>Hometown</th>\n",
       "      <th>Marital</th>\n",
       "      <th>Dependents</th>\n",
       "    </tr>\n",
       "  </thead>\n",
       "  <tbody>\n",
       "    <tr>\n",
       "      <th>0</th>\n",
       "      <td>1001</td>\n",
       "      <td>Alex</td>\n",
       "      <td>M</td>\n",
       "      <td>Apple</td>\n",
       "      <td>67000</td>\n",
       "      <td>New York</td>\n",
       "      <td>Married</td>\n",
       "      <td>1</td>\n",
       "    </tr>\n",
       "    <tr>\n",
       "      <th>1</th>\n",
       "      <td>1002</td>\n",
       "      <td>Amy</td>\n",
       "      <td>F</td>\n",
       "      <td>Walmart</td>\n",
       "      <td>90000</td>\n",
       "      <td>London</td>\n",
       "      <td>Divorsed</td>\n",
       "      <td>1</td>\n",
       "    </tr>\n",
       "    <tr>\n",
       "      <th>2</th>\n",
       "      <td>1003</td>\n",
       "      <td>Allen</td>\n",
       "      <td>M</td>\n",
       "      <td>Intel</td>\n",
       "      <td>87000</td>\n",
       "      <td>San Francisco</td>\n",
       "      <td>Single</td>\n",
       "      <td>3</td>\n",
       "    </tr>\n",
       "    <tr>\n",
       "      <th>3</th>\n",
       "      <td>1004</td>\n",
       "      <td>Alice</td>\n",
       "      <td>F</td>\n",
       "      <td>Cummins</td>\n",
       "      <td>69000</td>\n",
       "      <td>Seattle</td>\n",
       "      <td>Married</td>\n",
       "      <td>2</td>\n",
       "    </tr>\n",
       "    <tr>\n",
       "      <th>4</th>\n",
       "      <td>1005</td>\n",
       "      <td>Stephan</td>\n",
       "      <td>M</td>\n",
       "      <td>Ford</td>\n",
       "      <td>78000</td>\n",
       "      <td>Madrid</td>\n",
       "      <td>Single</td>\n",
       "      <td>1</td>\n",
       "    </tr>\n",
       "  </tbody>\n",
       "</table>\n",
       "</div>"
      ],
      "text/plain": [
       "  Emp_ID     Name Gender   Company Salary       Hometown   Marital Dependents\n",
       "0   1001     Alex       M    Apple  67000       New York   Married          1\n",
       "1   1002      Amy       F  Walmart  90000         London  Divorsed          1\n",
       "2   1003    Allen       M    Intel  87000  San Francisco    Single          3\n",
       "3   1004    Alice       F  Cummins  69000        Seattle   Married          2\n",
       "4   1005  Stephan       M     Ford  78000         Madrid    Single          1"
      ]
     },
     "execution_count": 17,
     "metadata": {},
     "output_type": "execute_result"
    }
   ],
   "source": [
    "# concatenate the DataFrames \n",
    "# 'on' specifies the column(s) based on which to join the DataFrames \n",
    "# suffixes: specifies the suffix for duplicate columns\n",
    "# the (' ',' ') indicates there are no suffixes given\n",
    "# T: transposes the DataFrame\n",
    "# drop_duplicates(): drops the duplicate rows in a DataFrame\n",
    "pd.merge(df_prof_info_A, df_pers_info_A, on='Emp_ID',suffixes=(' ',' ') ).T.drop_duplicates().T"
   ]
  },
  {
   "cell_type": "markdown",
   "id": "6455057f",
   "metadata": {},
   "source": [
    "The rows having common employee ID's are merged to give the resultant DataFrame."
   ]
  },
  {
   "cell_type": "markdown",
   "id": "1bd1e04c",
   "metadata": {},
   "source": [
    "**Merging using multiple keys**"
   ]
  },
  {
   "cell_type": "markdown",
   "id": "3c541db5",
   "metadata": {},
   "source": [
    "Now, let us Concatenate the personal and professional information on employees in company A. "
   ]
  },
  {
   "cell_type": "code",
   "execution_count": 18,
   "id": "a35a0867",
   "metadata": {},
   "outputs": [
    {
     "data": {
      "text/html": [
       "<div>\n",
       "<style scoped>\n",
       "    .dataframe tbody tr th:only-of-type {\n",
       "        vertical-align: middle;\n",
       "    }\n",
       "\n",
       "    .dataframe tbody tr th {\n",
       "        vertical-align: top;\n",
       "    }\n",
       "\n",
       "    .dataframe thead th {\n",
       "        text-align: right;\n",
       "    }\n",
       "</style>\n",
       "<table border=\"1\" class=\"dataframe\">\n",
       "  <thead>\n",
       "    <tr style=\"text-align: right;\">\n",
       "      <th></th>\n",
       "      <th>Emp_ID</th>\n",
       "      <th>Name</th>\n",
       "      <th>Gender</th>\n",
       "      <th>Company</th>\n",
       "      <th>Salary</th>\n",
       "      <th>Hometown</th>\n",
       "      <th>Marital</th>\n",
       "      <th>Dependents</th>\n",
       "    </tr>\n",
       "  </thead>\n",
       "  <tbody>\n",
       "    <tr>\n",
       "      <th>0</th>\n",
       "      <td>1001</td>\n",
       "      <td>Alex</td>\n",
       "      <td>M</td>\n",
       "      <td>Apple</td>\n",
       "      <td>67000</td>\n",
       "      <td>New York</td>\n",
       "      <td>Married</td>\n",
       "      <td>1</td>\n",
       "    </tr>\n",
       "    <tr>\n",
       "      <th>1</th>\n",
       "      <td>1002</td>\n",
       "      <td>Amy</td>\n",
       "      <td>F</td>\n",
       "      <td>Walmart</td>\n",
       "      <td>90000</td>\n",
       "      <td>London</td>\n",
       "      <td>Divorsed</td>\n",
       "      <td>1</td>\n",
       "    </tr>\n",
       "    <tr>\n",
       "      <th>2</th>\n",
       "      <td>1003</td>\n",
       "      <td>Allen</td>\n",
       "      <td>M</td>\n",
       "      <td>Intel</td>\n",
       "      <td>87000</td>\n",
       "      <td>San Francisco</td>\n",
       "      <td>Single</td>\n",
       "      <td>3</td>\n",
       "    </tr>\n",
       "    <tr>\n",
       "      <th>3</th>\n",
       "      <td>1004</td>\n",
       "      <td>Alice</td>\n",
       "      <td>F</td>\n",
       "      <td>Cummins</td>\n",
       "      <td>69000</td>\n",
       "      <td>Seattle</td>\n",
       "      <td>Married</td>\n",
       "      <td>2</td>\n",
       "    </tr>\n",
       "    <tr>\n",
       "      <th>4</th>\n",
       "      <td>1005</td>\n",
       "      <td>Stephan</td>\n",
       "      <td>M</td>\n",
       "      <td>Ford</td>\n",
       "      <td>78000</td>\n",
       "      <td>Madrid</td>\n",
       "      <td>Single</td>\n",
       "      <td>1</td>\n",
       "    </tr>\n",
       "  </tbody>\n",
       "</table>\n",
       "</div>"
      ],
      "text/plain": [
       "   Emp_ID     Name Gender  Company  Salary       Hometown   Marital  \\\n",
       "0    1001     Alex      M    Apple   67000       New York   Married   \n",
       "1    1002      Amy      F  Walmart   90000         London  Divorsed   \n",
       "2    1003    Allen      M    Intel   87000  San Francisco    Single   \n",
       "3    1004    Alice      F  Cummins   69000        Seattle   Married   \n",
       "4    1005  Stephan      M     Ford   78000         Madrid    Single   \n",
       "\n",
       "   Dependents  \n",
       "0           1  \n",
       "1           1  \n",
       "2           3  \n",
       "3           2  \n",
       "4           1  "
      ]
     },
     "execution_count": 18,
     "metadata": {},
     "output_type": "execute_result"
    }
   ],
   "source": [
    "# concatenate the DataFrames \n",
    "# 'on' specifies the column(s) based on which to join the DataFrames \n",
    "pd.merge(df_prof_info_A, df_pers_info_A, on=[\"Emp_ID\",\"Gender\"])"
   ]
  },
  {
   "cell_type": "markdown",
   "id": "e6db6d64",
   "metadata": {},
   "source": [
    "The rows having common employee ID and gender are merged to give the resultant DataFrame."
   ]
  },
  {
   "cell_type": "markdown",
   "id": "47359b04",
   "metadata": {},
   "source": [
    "**Merging on the Basis of Index**"
   ]
  },
  {
   "cell_type": "markdown",
   "id": "9697cfe3",
   "metadata": {},
   "source": [
    "This function helps to merge two DataFrames, based on their index."
   ]
  },
  {
   "cell_type": "code",
   "execution_count": 20,
   "id": "c2f23628",
   "metadata": {},
   "outputs": [
    {
     "data": {
      "text/html": [
       "<div>\n",
       "<style scoped>\n",
       "    .dataframe tbody tr th:only-of-type {\n",
       "        vertical-align: middle;\n",
       "    }\n",
       "\n",
       "    .dataframe tbody tr th {\n",
       "        vertical-align: top;\n",
       "    }\n",
       "\n",
       "    .dataframe thead th {\n",
       "        text-align: right;\n",
       "    }\n",
       "</style>\n",
       "<table border=\"1\" class=\"dataframe\">\n",
       "  <thead>\n",
       "    <tr style=\"text-align: right;\">\n",
       "      <th></th>\n",
       "      <th>Emp_ID</th>\n",
       "      <th>Name</th>\n",
       "      <th>Gender</th>\n",
       "      <th>Company</th>\n",
       "      <th>Salary</th>\n",
       "      <th>Hometown</th>\n",
       "      <th>Marital</th>\n",
       "      <th>Dependents</th>\n",
       "    </tr>\n",
       "  </thead>\n",
       "  <tbody>\n",
       "    <tr>\n",
       "      <th>0</th>\n",
       "      <td>1001</td>\n",
       "      <td>Alex</td>\n",
       "      <td>M</td>\n",
       "      <td>Apple</td>\n",
       "      <td>67000</td>\n",
       "      <td>New York</td>\n",
       "      <td>Married</td>\n",
       "      <td>1</td>\n",
       "    </tr>\n",
       "    <tr>\n",
       "      <th>1</th>\n",
       "      <td>1002</td>\n",
       "      <td>Amy</td>\n",
       "      <td>F</td>\n",
       "      <td>Walmart</td>\n",
       "      <td>90000</td>\n",
       "      <td>London</td>\n",
       "      <td>Divorsed</td>\n",
       "      <td>1</td>\n",
       "    </tr>\n",
       "    <tr>\n",
       "      <th>2</th>\n",
       "      <td>1003</td>\n",
       "      <td>Allen</td>\n",
       "      <td>M</td>\n",
       "      <td>Intel</td>\n",
       "      <td>87000</td>\n",
       "      <td>San Francisco</td>\n",
       "      <td>Single</td>\n",
       "      <td>3</td>\n",
       "    </tr>\n",
       "    <tr>\n",
       "      <th>3</th>\n",
       "      <td>1004</td>\n",
       "      <td>Alice</td>\n",
       "      <td>F</td>\n",
       "      <td>Cummins</td>\n",
       "      <td>69000</td>\n",
       "      <td>Seattle</td>\n",
       "      <td>Married</td>\n",
       "      <td>2</td>\n",
       "    </tr>\n",
       "    <tr>\n",
       "      <th>4</th>\n",
       "      <td>1005</td>\n",
       "      <td>Stephan</td>\n",
       "      <td>M</td>\n",
       "      <td>Ford</td>\n",
       "      <td>78000</td>\n",
       "      <td>Madrid</td>\n",
       "      <td>Single</td>\n",
       "      <td>1</td>\n",
       "    </tr>\n",
       "  </tbody>\n",
       "</table>\n",
       "</div>"
      ],
      "text/plain": [
       "  Emp_ID     Name Gender   Company Salary       Hometown   Marital Dependents\n",
       "0   1001     Alex       M    Apple  67000       New York   Married          1\n",
       "1   1002      Amy       F  Walmart  90000         London  Divorsed          1\n",
       "2   1003    Allen       M    Intel  87000  San Francisco    Single          3\n",
       "3   1004    Alice       F  Cummins  69000        Seattle   Married          2\n",
       "4   1005  Stephan       M     Ford  78000         Madrid    Single          1"
      ]
     },
     "execution_count": 20,
     "metadata": {},
     "output_type": "execute_result"
    }
   ],
   "source": [
    "# merge the DataFrames based on their index\n",
    "# 'left_index' considers index of left DataFrame to merge, here it is set to True, so it is considered\n",
    "# 'right_index' considers index of right DataFrame to merge, here it is set to False, so it is not considered\n",
    "# 'on' specifies the column(s) based on which to join the DataFrames \n",
    "# suffixes: specifies the suffix for duplicate columns\n",
    "# the (' ',' ') indicates there are no suffixes given\n",
    "# T: transposes the DataFrame\n",
    "# drop_duplicates(): drops the duplicate rows in a DataFrame\n",
    "pd.merge(df_prof_info_A, df_pers_info_A,  right_index = False,  on='Emp_ID', suffixes =(' ',' ')\n",
    "        ).T.drop_duplicates().T"
   ]
  },
  {
   "cell_type": "markdown",
   "id": "65d885b2",
   "metadata": {},
   "source": [
    "Note the resultant DataFrame takes the index of the DataFrame to the left. "
   ]
  },
  {
   "cell_type": "markdown",
   "id": "bfcc5381",
   "metadata": {},
   "source": [
    "**`merge()` allows you to perform natural join, left join, right join, and full outer join in pandas.**"
   ]
  },
  {
   "cell_type": "markdown",
   "id": "1a2d952b",
   "metadata": {},
   "source": [
    "**Understanding the Different Types of Merge:**\n",
    "\n",
    "Left outer join: includes all the rows of your DataFrame x and only those from y that match. (how=‘left’).\n",
    "\n",
    "Right outer join: includes all the rows of your DataFrame y and only those from x that match. (how=‘right’).\n",
    "\n",
    "Inner join: includes those rows that are common to both the DataFrames. (how=‘inner’).\n",
    "\n",
    "Full outer join: includes all rows from both DataFrames. (how=‘outer’)."
   ]
  },
  {
   "cell_type": "markdown",
   "id": "c0995822",
   "metadata": {},
   "source": [
    "**Inner Join:**<br>\n",
    "It returns only the rows in which the left table has matching keys in the right table."
   ]
  },
  {
   "cell_type": "code",
   "execution_count": 21,
   "id": "724a70a5",
   "metadata": {},
   "outputs": [
    {
     "data": {
      "text/html": [
       "<div>\n",
       "<style scoped>\n",
       "    .dataframe tbody tr th:only-of-type {\n",
       "        vertical-align: middle;\n",
       "    }\n",
       "\n",
       "    .dataframe tbody tr th {\n",
       "        vertical-align: top;\n",
       "    }\n",
       "\n",
       "    .dataframe thead th {\n",
       "        text-align: right;\n",
       "    }\n",
       "</style>\n",
       "<table border=\"1\" class=\"dataframe\">\n",
       "  <thead>\n",
       "    <tr style=\"text-align: right;\">\n",
       "      <th></th>\n",
       "      <th>Emp_ID</th>\n",
       "      <th>Name</th>\n",
       "      <th>Gender</th>\n",
       "      <th>Company</th>\n",
       "      <th>Salary</th>\n",
       "      <th>Hometown</th>\n",
       "      <th>Marital</th>\n",
       "      <th>Dependents</th>\n",
       "    </tr>\n",
       "  </thead>\n",
       "  <tbody>\n",
       "    <tr>\n",
       "      <th>0</th>\n",
       "      <td>1006</td>\n",
       "      <td>Billy</td>\n",
       "      <td>M</td>\n",
       "      <td>Cognizant</td>\n",
       "      <td>89000</td>\n",
       "      <td>Paris</td>\n",
       "      <td>Married</td>\n",
       "      <td>1</td>\n",
       "    </tr>\n",
       "    <tr>\n",
       "      <th>1</th>\n",
       "      <td>1007</td>\n",
       "      <td>Brian</td>\n",
       "      <td>M</td>\n",
       "      <td>Apple</td>\n",
       "      <td>80000</td>\n",
       "      <td>Boston</td>\n",
       "      <td>Divorsed</td>\n",
       "      <td>1</td>\n",
       "    </tr>\n",
       "    <tr>\n",
       "      <th>2</th>\n",
       "      <td>1009</td>\n",
       "      <td>Bryce</td>\n",
       "      <td>F</td>\n",
       "      <td>Cummins</td>\n",
       "      <td>97000</td>\n",
       "      <td>San Francisco</td>\n",
       "      <td>Single</td>\n",
       "      <td>3</td>\n",
       "    </tr>\n",
       "    <tr>\n",
       "      <th>3</th>\n",
       "      <td>1010</td>\n",
       "      <td>Betty</td>\n",
       "      <td>F</td>\n",
       "      <td>Walmart</td>\n",
       "      <td>88000</td>\n",
       "      <td>Seattle</td>\n",
       "      <td>Married</td>\n",
       "      <td>2</td>\n",
       "    </tr>\n",
       "    <tr>\n",
       "      <th>4</th>\n",
       "      <td>1011</td>\n",
       "      <td>James</td>\n",
       "      <td>M</td>\n",
       "      <td>Intel</td>\n",
       "      <td>89000</td>\n",
       "      <td>London</td>\n",
       "      <td>Single</td>\n",
       "      <td>1</td>\n",
       "    </tr>\n",
       "  </tbody>\n",
       "</table>\n",
       "</div>"
      ],
      "text/plain": [
       "   Emp_ID   Name Gender    Company  Salary       Hometown   Marital  \\\n",
       "0    1006  Billy      M  Cognizant   89000          Paris   Married   \n",
       "1    1007  Brian      M      Apple   80000         Boston  Divorsed   \n",
       "2    1009  Bryce      F    Cummins   97000  San Francisco    Single   \n",
       "3    1010  Betty      F    Walmart   88000        Seattle   Married   \n",
       "4    1011  James      M      Intel   89000         London    Single   \n",
       "\n",
       "   Dependents  \n",
       "0           1  \n",
       "1           1  \n",
       "2           3  \n",
       "3           2  \n",
       "4           1  "
      ]
     },
     "execution_count": 21,
     "metadata": {},
     "output_type": "execute_result"
    }
   ],
   "source": [
    "# print the inner join of the DataFrames\n",
    "# on specifies the column(s) based on which to join the DataFrames \n",
    "# how specifies the type of join\n",
    "pd.merge(df_prof_info_B, df_pers_info_B, on='Emp_ID', how='inner')"
   ]
  },
  {
   "cell_type": "markdown",
   "id": "68cd7935",
   "metadata": {},
   "source": [
    "In professional info B we have employee ID's as 1006,1007,1008,1009,1010,1011 and we have personal info B for employee ID's 1006,1007,1009,1010,1011,1012. Because of the inner join, we notice that 1008 from the first DataFrame (professinal info) and 1012 from second DataFrame (personal info) are not part to the resultant outcome. In other words, inner join will include those rows that are common to both the DataFrames."
   ]
  },
  {
   "cell_type": "markdown",
   "id": "0d76d516",
   "metadata": {},
   "source": [
    "**Outer Join:**<br>\n",
    "It returns all rows from both tables, joining records from the left, which has matching keys in the right table."
   ]
  },
  {
   "cell_type": "code",
   "execution_count": 22,
   "id": "284fd6b6",
   "metadata": {},
   "outputs": [
    {
     "data": {
      "text/html": [
       "<div>\n",
       "<style scoped>\n",
       "    .dataframe tbody tr th:only-of-type {\n",
       "        vertical-align: middle;\n",
       "    }\n",
       "\n",
       "    .dataframe tbody tr th {\n",
       "        vertical-align: top;\n",
       "    }\n",
       "\n",
       "    .dataframe thead th {\n",
       "        text-align: right;\n",
       "    }\n",
       "</style>\n",
       "<table border=\"1\" class=\"dataframe\">\n",
       "  <thead>\n",
       "    <tr style=\"text-align: right;\">\n",
       "      <th></th>\n",
       "      <th>Emp_ID</th>\n",
       "      <th>Name</th>\n",
       "      <th>Gender</th>\n",
       "      <th>Company</th>\n",
       "      <th>Salary</th>\n",
       "      <th>Hometown</th>\n",
       "      <th>Marital</th>\n",
       "      <th>Dependents</th>\n",
       "    </tr>\n",
       "  </thead>\n",
       "  <tbody>\n",
       "    <tr>\n",
       "      <th>0</th>\n",
       "      <td>1006</td>\n",
       "      <td>Billy</td>\n",
       "      <td>M</td>\n",
       "      <td>Cognizant</td>\n",
       "      <td>89000.0</td>\n",
       "      <td>Paris</td>\n",
       "      <td>Married</td>\n",
       "      <td>1.0</td>\n",
       "    </tr>\n",
       "    <tr>\n",
       "      <th>1</th>\n",
       "      <td>1007</td>\n",
       "      <td>Brian</td>\n",
       "      <td>M</td>\n",
       "      <td>Apple</td>\n",
       "      <td>80000.0</td>\n",
       "      <td>Boston</td>\n",
       "      <td>Divorsed</td>\n",
       "      <td>1.0</td>\n",
       "    </tr>\n",
       "    <tr>\n",
       "      <th>2</th>\n",
       "      <td>1008</td>\n",
       "      <td>Bran</td>\n",
       "      <td>M</td>\n",
       "      <td>Intel</td>\n",
       "      <td>79000.0</td>\n",
       "      <td>NaN</td>\n",
       "      <td>NaN</td>\n",
       "      <td>NaN</td>\n",
       "    </tr>\n",
       "    <tr>\n",
       "      <th>3</th>\n",
       "      <td>1009</td>\n",
       "      <td>Bryce</td>\n",
       "      <td>F</td>\n",
       "      <td>Cummins</td>\n",
       "      <td>97000.0</td>\n",
       "      <td>San Francisco</td>\n",
       "      <td>Single</td>\n",
       "      <td>3.0</td>\n",
       "    </tr>\n",
       "    <tr>\n",
       "      <th>4</th>\n",
       "      <td>1010</td>\n",
       "      <td>Betty</td>\n",
       "      <td>F</td>\n",
       "      <td>Walmart</td>\n",
       "      <td>88000.0</td>\n",
       "      <td>Seattle</td>\n",
       "      <td>Married</td>\n",
       "      <td>2.0</td>\n",
       "    </tr>\n",
       "    <tr>\n",
       "      <th>5</th>\n",
       "      <td>1011</td>\n",
       "      <td>James</td>\n",
       "      <td>M</td>\n",
       "      <td>Intel</td>\n",
       "      <td>89000.0</td>\n",
       "      <td>London</td>\n",
       "      <td>Single</td>\n",
       "      <td>1.0</td>\n",
       "    </tr>\n",
       "    <tr>\n",
       "      <th>6</th>\n",
       "      <td>1012</td>\n",
       "      <td>NaN</td>\n",
       "      <td>NaN</td>\n",
       "      <td>NaN</td>\n",
       "      <td>NaN</td>\n",
       "      <td>London</td>\n",
       "      <td>Single</td>\n",
       "      <td>2.0</td>\n",
       "    </tr>\n",
       "  </tbody>\n",
       "</table>\n",
       "</div>"
      ],
      "text/plain": [
       "   Emp_ID   Name Gender    Company   Salary       Hometown   Marital  \\\n",
       "0    1006  Billy      M  Cognizant  89000.0          Paris   Married   \n",
       "1    1007  Brian      M      Apple  80000.0         Boston  Divorsed   \n",
       "2    1008   Bran      M      Intel  79000.0            NaN       NaN   \n",
       "3    1009  Bryce      F    Cummins  97000.0  San Francisco    Single   \n",
       "4    1010  Betty      F    Walmart  88000.0        Seattle   Married   \n",
       "5    1011  James      M      Intel  89000.0         London    Single   \n",
       "6    1012    NaN    NaN        NaN      NaN         London    Single   \n",
       "\n",
       "   Dependents  \n",
       "0         1.0  \n",
       "1         1.0  \n",
       "2         NaN  \n",
       "3         3.0  \n",
       "4         2.0  \n",
       "5         1.0  \n",
       "6         2.0  "
      ]
     },
     "execution_count": 22,
     "metadata": {},
     "output_type": "execute_result"
    }
   ],
   "source": [
    "# print the outer join of the DataFrames\n",
    "# on specifies the column(s) based on which to join the DataFrames \n",
    "# how specifies the type of join\n",
    "pd.merge(df_prof_info_B, df_pers_info_B, on='Emp_ID', how='outer')"
   ]
  },
  {
   "cell_type": "markdown",
   "id": "91f7bfbc",
   "metadata": {},
   "source": [
    "In professional info B we have employee ID's as 1006,1007,1008,1009,1010,1011 and we have personal info B for employee ID's 1006,1007,1009,1010,1011,1012. <br>The employee Id 1008 has no personal information available and the employee ID 1012 has no professional information available. <br>So, the outer join merged all the observations from both the DataFrames and all the missing values are marked with `NaN`."
   ]
  },
  {
   "cell_type": "markdown",
   "id": "a91adc02",
   "metadata": {},
   "source": [
    "**Left Outer Join:**<br>\n",
    "It returns all rows from the left table and any rows with matching keys from the right table."
   ]
  },
  {
   "cell_type": "code",
   "execution_count": 23,
   "id": "f5076af9",
   "metadata": {},
   "outputs": [
    {
     "data": {
      "text/html": [
       "<div>\n",
       "<style scoped>\n",
       "    .dataframe tbody tr th:only-of-type {\n",
       "        vertical-align: middle;\n",
       "    }\n",
       "\n",
       "    .dataframe tbody tr th {\n",
       "        vertical-align: top;\n",
       "    }\n",
       "\n",
       "    .dataframe thead th {\n",
       "        text-align: right;\n",
       "    }\n",
       "</style>\n",
       "<table border=\"1\" class=\"dataframe\">\n",
       "  <thead>\n",
       "    <tr style=\"text-align: right;\">\n",
       "      <th></th>\n",
       "      <th>Emp_ID</th>\n",
       "      <th>Name</th>\n",
       "      <th>Gender</th>\n",
       "      <th>Company</th>\n",
       "      <th>Salary</th>\n",
       "      <th>Hometown</th>\n",
       "      <th>Marital</th>\n",
       "      <th>Dependents</th>\n",
       "    </tr>\n",
       "  </thead>\n",
       "  <tbody>\n",
       "    <tr>\n",
       "      <th>0</th>\n",
       "      <td>1006</td>\n",
       "      <td>Billy</td>\n",
       "      <td>M</td>\n",
       "      <td>Cognizant</td>\n",
       "      <td>89000</td>\n",
       "      <td>Paris</td>\n",
       "      <td>Married</td>\n",
       "      <td>1.0</td>\n",
       "    </tr>\n",
       "    <tr>\n",
       "      <th>1</th>\n",
       "      <td>1007</td>\n",
       "      <td>Brian</td>\n",
       "      <td>M</td>\n",
       "      <td>Apple</td>\n",
       "      <td>80000</td>\n",
       "      <td>Boston</td>\n",
       "      <td>Divorsed</td>\n",
       "      <td>1.0</td>\n",
       "    </tr>\n",
       "    <tr>\n",
       "      <th>2</th>\n",
       "      <td>1008</td>\n",
       "      <td>Bran</td>\n",
       "      <td>M</td>\n",
       "      <td>Intel</td>\n",
       "      <td>79000</td>\n",
       "      <td>NaN</td>\n",
       "      <td>NaN</td>\n",
       "      <td>NaN</td>\n",
       "    </tr>\n",
       "    <tr>\n",
       "      <th>3</th>\n",
       "      <td>1009</td>\n",
       "      <td>Bryce</td>\n",
       "      <td>F</td>\n",
       "      <td>Cummins</td>\n",
       "      <td>97000</td>\n",
       "      <td>San Francisco</td>\n",
       "      <td>Single</td>\n",
       "      <td>3.0</td>\n",
       "    </tr>\n",
       "    <tr>\n",
       "      <th>4</th>\n",
       "      <td>1010</td>\n",
       "      <td>Betty</td>\n",
       "      <td>F</td>\n",
       "      <td>Walmart</td>\n",
       "      <td>88000</td>\n",
       "      <td>Seattle</td>\n",
       "      <td>Married</td>\n",
       "      <td>2.0</td>\n",
       "    </tr>\n",
       "    <tr>\n",
       "      <th>5</th>\n",
       "      <td>1011</td>\n",
       "      <td>James</td>\n",
       "      <td>M</td>\n",
       "      <td>Intel</td>\n",
       "      <td>89000</td>\n",
       "      <td>London</td>\n",
       "      <td>Single</td>\n",
       "      <td>1.0</td>\n",
       "    </tr>\n",
       "  </tbody>\n",
       "</table>\n",
       "</div>"
      ],
      "text/plain": [
       "   Emp_ID   Name Gender    Company  Salary       Hometown   Marital  \\\n",
       "0    1006  Billy      M  Cognizant   89000          Paris   Married   \n",
       "1    1007  Brian      M      Apple   80000         Boston  Divorsed   \n",
       "2    1008   Bran      M      Intel   79000            NaN       NaN   \n",
       "3    1009  Bryce      F    Cummins   97000  San Francisco    Single   \n",
       "4    1010  Betty      F    Walmart   88000        Seattle   Married   \n",
       "5    1011  James      M      Intel   89000         London    Single   \n",
       "\n",
       "   Dependents  \n",
       "0         1.0  \n",
       "1         1.0  \n",
       "2         NaN  \n",
       "3         3.0  \n",
       "4         2.0  \n",
       "5         1.0  "
      ]
     },
     "execution_count": 23,
     "metadata": {},
     "output_type": "execute_result"
    }
   ],
   "source": [
    "# print the left join of the DataFrames\n",
    "# on specifies the column(s) based on which to join the DataFrames \n",
    "# how specifies the type of join\n",
    "pd.merge(df_prof_info_B, df_pers_info_B, on = 'Emp_ID', how ='left')"
   ]
  },
  {
   "cell_type": "markdown",
   "id": "78734ce0",
   "metadata": {},
   "source": [
    "We notice that employee ID 1008 is present in left DataFrame but not present in the right DataFrame.\n",
    "\n",
    "Whereas employee ID 1012 is present in right DataFrame but not present in the left DataFrame.\n",
    "\n",
    "Because of `how = 'left'`, it took all the observations from the left DataFrame (professional info) but it took only those observations from the right DataFrame (personal info) which are present in the left DataFrame and all the missing values are marked with `NaN`."
   ]
  },
  {
   "cell_type": "markdown",
   "id": "61bf96a0",
   "metadata": {},
   "source": [
    "**Right Outer Join:**<br>\n",
    "It returns all rows from the right table and any rows with matching keys from the left table."
   ]
  },
  {
   "cell_type": "code",
   "execution_count": 24,
   "id": "2ce8b5db",
   "metadata": {},
   "outputs": [
    {
     "data": {
      "text/html": [
       "<div>\n",
       "<style scoped>\n",
       "    .dataframe tbody tr th:only-of-type {\n",
       "        vertical-align: middle;\n",
       "    }\n",
       "\n",
       "    .dataframe tbody tr th {\n",
       "        vertical-align: top;\n",
       "    }\n",
       "\n",
       "    .dataframe thead th {\n",
       "        text-align: right;\n",
       "    }\n",
       "</style>\n",
       "<table border=\"1\" class=\"dataframe\">\n",
       "  <thead>\n",
       "    <tr style=\"text-align: right;\">\n",
       "      <th></th>\n",
       "      <th>Emp_ID</th>\n",
       "      <th>Name</th>\n",
       "      <th>Gender</th>\n",
       "      <th>Company</th>\n",
       "      <th>Salary</th>\n",
       "      <th>Hometown</th>\n",
       "      <th>Marital</th>\n",
       "      <th>Dependents</th>\n",
       "    </tr>\n",
       "  </thead>\n",
       "  <tbody>\n",
       "    <tr>\n",
       "      <th>0</th>\n",
       "      <td>1006</td>\n",
       "      <td>Billy</td>\n",
       "      <td>M</td>\n",
       "      <td>Cognizant</td>\n",
       "      <td>89000.0</td>\n",
       "      <td>Paris</td>\n",
       "      <td>Married</td>\n",
       "      <td>1</td>\n",
       "    </tr>\n",
       "    <tr>\n",
       "      <th>1</th>\n",
       "      <td>1007</td>\n",
       "      <td>Brian</td>\n",
       "      <td>M</td>\n",
       "      <td>Apple</td>\n",
       "      <td>80000.0</td>\n",
       "      <td>Boston</td>\n",
       "      <td>Divorsed</td>\n",
       "      <td>1</td>\n",
       "    </tr>\n",
       "    <tr>\n",
       "      <th>2</th>\n",
       "      <td>1009</td>\n",
       "      <td>Bryce</td>\n",
       "      <td>F</td>\n",
       "      <td>Cummins</td>\n",
       "      <td>97000.0</td>\n",
       "      <td>San Francisco</td>\n",
       "      <td>Single</td>\n",
       "      <td>3</td>\n",
       "    </tr>\n",
       "    <tr>\n",
       "      <th>3</th>\n",
       "      <td>1010</td>\n",
       "      <td>Betty</td>\n",
       "      <td>F</td>\n",
       "      <td>Walmart</td>\n",
       "      <td>88000.0</td>\n",
       "      <td>Seattle</td>\n",
       "      <td>Married</td>\n",
       "      <td>2</td>\n",
       "    </tr>\n",
       "    <tr>\n",
       "      <th>4</th>\n",
       "      <td>1011</td>\n",
       "      <td>James</td>\n",
       "      <td>M</td>\n",
       "      <td>Intel</td>\n",
       "      <td>89000.0</td>\n",
       "      <td>London</td>\n",
       "      <td>Single</td>\n",
       "      <td>1</td>\n",
       "    </tr>\n",
       "    <tr>\n",
       "      <th>5</th>\n",
       "      <td>1012</td>\n",
       "      <td>NaN</td>\n",
       "      <td>NaN</td>\n",
       "      <td>NaN</td>\n",
       "      <td>NaN</td>\n",
       "      <td>London</td>\n",
       "      <td>Single</td>\n",
       "      <td>2</td>\n",
       "    </tr>\n",
       "  </tbody>\n",
       "</table>\n",
       "</div>"
      ],
      "text/plain": [
       "   Emp_ID   Name Gender    Company   Salary       Hometown   Marital  \\\n",
       "0    1006  Billy      M  Cognizant  89000.0          Paris   Married   \n",
       "1    1007  Brian      M      Apple  80000.0         Boston  Divorsed   \n",
       "2    1009  Bryce      F    Cummins  97000.0  San Francisco    Single   \n",
       "3    1010  Betty      F    Walmart  88000.0        Seattle   Married   \n",
       "4    1011  James      M      Intel  89000.0         London    Single   \n",
       "5    1012    NaN    NaN        NaN      NaN         London    Single   \n",
       "\n",
       "   Dependents  \n",
       "0           1  \n",
       "1           1  \n",
       "2           3  \n",
       "3           2  \n",
       "4           1  \n",
       "5           2  "
      ]
     },
     "execution_count": 24,
     "metadata": {},
     "output_type": "execute_result"
    }
   ],
   "source": [
    "# print the right join of the DataFrames\n",
    "# on specifies the column(s) based on which to join the DataFrames \n",
    "# how specifies the type of join\n",
    "pd.merge(df_prof_info_B, df_pers_info_B, on='Emp_ID', how='right')"
   ]
  },
  {
   "cell_type": "markdown",
   "id": "1b74e3cb",
   "metadata": {},
   "source": [
    "We notice that employee ID 1012 is present in right DataFrame but not present in the left DataFrame.\n",
    "\n",
    "Whereas employee ID 1008 is present in left DataFrame but not present in the right DataFrame.\n",
    "\n",
    "Because of `how = 'right'`, it took all the observations from the right DataFrame (personal info) but it took only those observations from the left DataFrame (professional info) which are present in the right DataFrame and all the missing values are marked with `NaN`."
   ]
  },
  {
   "cell_type": "markdown",
   "id": "9b35bb90",
   "metadata": {},
   "source": [
    "<a id=\"Pivote\"> </a>\n",
    "### 3. Pivot Table\n",
    "\n",
    "\n",
    "The pivot_table() is used to create a new table for the given index. Pivot has three arguments - index, columns, and values."
   ]
  },
  {
   "cell_type": "code",
   "execution_count": 25,
   "id": "e6d4c14b",
   "metadata": {},
   "outputs": [
    {
     "data": {
      "text/html": [
       "<div>\n",
       "<style scoped>\n",
       "    .dataframe tbody tr th:only-of-type {\n",
       "        vertical-align: middle;\n",
       "    }\n",
       "\n",
       "    .dataframe tbody tr th {\n",
       "        vertical-align: top;\n",
       "    }\n",
       "\n",
       "    .dataframe thead th {\n",
       "        text-align: right;\n",
       "    }\n",
       "</style>\n",
       "<table border=\"1\" class=\"dataframe\">\n",
       "  <thead>\n",
       "    <tr style=\"text-align: right;\">\n",
       "      <th></th>\n",
       "      <th>Months</th>\n",
       "      <th>Sales</th>\n",
       "      <th>Seasons</th>\n",
       "    </tr>\n",
       "  </thead>\n",
       "  <tbody>\n",
       "    <tr>\n",
       "      <th>0</th>\n",
       "      <td>Jan</td>\n",
       "      <td>22000</td>\n",
       "      <td>Winter</td>\n",
       "    </tr>\n",
       "    <tr>\n",
       "      <th>1</th>\n",
       "      <td>Feb</td>\n",
       "      <td>27000</td>\n",
       "      <td>Winter</td>\n",
       "    </tr>\n",
       "    <tr>\n",
       "      <th>2</th>\n",
       "      <td>Mar</td>\n",
       "      <td>25000</td>\n",
       "      <td>Spring</td>\n",
       "    </tr>\n",
       "    <tr>\n",
       "      <th>3</th>\n",
       "      <td>Apr</td>\n",
       "      <td>29000</td>\n",
       "      <td>Spring</td>\n",
       "    </tr>\n",
       "    <tr>\n",
       "      <th>4</th>\n",
       "      <td>May</td>\n",
       "      <td>35000</td>\n",
       "      <td>Spring</td>\n",
       "    </tr>\n",
       "    <tr>\n",
       "      <th>5</th>\n",
       "      <td>June</td>\n",
       "      <td>67000</td>\n",
       "      <td>Summer</td>\n",
       "    </tr>\n",
       "    <tr>\n",
       "      <th>6</th>\n",
       "      <td>July</td>\n",
       "      <td>78000</td>\n",
       "      <td>Summer</td>\n",
       "    </tr>\n",
       "    <tr>\n",
       "      <th>7</th>\n",
       "      <td>Aug</td>\n",
       "      <td>67000</td>\n",
       "      <td>Summer</td>\n",
       "    </tr>\n",
       "    <tr>\n",
       "      <th>8</th>\n",
       "      <td>Sep</td>\n",
       "      <td>56000</td>\n",
       "      <td>Fall</td>\n",
       "    </tr>\n",
       "    <tr>\n",
       "      <th>9</th>\n",
       "      <td>Oct</td>\n",
       "      <td>56000</td>\n",
       "      <td>Fall</td>\n",
       "    </tr>\n",
       "    <tr>\n",
       "      <th>10</th>\n",
       "      <td>Nov</td>\n",
       "      <td>89000</td>\n",
       "      <td>Fall</td>\n",
       "    </tr>\n",
       "    <tr>\n",
       "      <th>11</th>\n",
       "      <td>Dec</td>\n",
       "      <td>60000</td>\n",
       "      <td>Winter</td>\n",
       "    </tr>\n",
       "  </tbody>\n",
       "</table>\n",
       "</div>"
      ],
      "text/plain": [
       "   Months  Sales Seasons\n",
       "0     Jan  22000  Winter\n",
       "1     Feb  27000  Winter\n",
       "2     Mar  25000  Spring\n",
       "3     Apr  29000  Spring\n",
       "4     May  35000  Spring\n",
       "5    June  67000  Summer\n",
       "6    July  78000  Summer\n",
       "7     Aug  67000  Summer\n",
       "8     Sep  56000    Fall\n",
       "9     Oct  56000    Fall\n",
       "10    Nov  89000    Fall\n",
       "11    Dec  60000  Winter"
      ]
     },
     "execution_count": 25,
     "metadata": {},
     "output_type": "execute_result"
    }
   ],
   "source": [
    "# create a dictionary\n",
    "sales = {'Months': ['Jan','Feb','Mar','Apr','May','June','July','Aug','Sep','Oct','Nov','Dec'],\n",
    "        'Sales': [22000,27000,25000,29000,35000,67000,78000,67000,56000,56000,89000,60000],\n",
    "         'Seasons': ['Winter','Winter','Spring','Spring','Spring','Summer','Summer','Summer','Fall','Fall','Fall','Winter']\n",
    "        }\n",
    "\n",
    "# create a DataFrame\n",
    "df_sales = pd.DataFrame(sales, columns= ['Months', 'Sales','Seasons'])\n",
    "\n",
    "# print the DataFrame\n",
    "df_sales"
   ]
  },
  {
   "cell_type": "markdown",
   "id": "fd36b28b",
   "metadata": {},
   "source": [
    "The simplest pivot table must have a dataframe and an index . In this case, let us use the 'Months' as our index."
   ]
  },
  {
   "cell_type": "code",
   "execution_count": 26,
   "id": "c500525f",
   "metadata": {},
   "outputs": [
    {
     "ename": "TypeError",
     "evalue": "Could not convert Spring to numeric",
     "output_type": "error",
     "traceback": [
      "\u001b[1;31m---------------------------------------------------------------------------\u001b[0m",
      "\u001b[1;31mNotImplementedError\u001b[0m                       Traceback (most recent call last)",
      "File \u001b[1;32m~\\anaconda3\\Lib\\site-packages\\pandas\\core\\groupby\\groupby.py:1490\u001b[0m, in \u001b[0;36mGroupBy._cython_agg_general.<locals>.array_func\u001b[1;34m(values)\u001b[0m\n\u001b[0;32m   1489\u001b[0m \u001b[38;5;28;01mtry\u001b[39;00m:\n\u001b[1;32m-> 1490\u001b[0m     result \u001b[38;5;241m=\u001b[39m \u001b[38;5;28mself\u001b[39m\u001b[38;5;241m.\u001b[39mgrouper\u001b[38;5;241m.\u001b[39m_cython_operation(\n\u001b[0;32m   1491\u001b[0m         \u001b[38;5;124m\"\u001b[39m\u001b[38;5;124maggregate\u001b[39m\u001b[38;5;124m\"\u001b[39m,\n\u001b[0;32m   1492\u001b[0m         values,\n\u001b[0;32m   1493\u001b[0m         how,\n\u001b[0;32m   1494\u001b[0m         axis\u001b[38;5;241m=\u001b[39mdata\u001b[38;5;241m.\u001b[39mndim \u001b[38;5;241m-\u001b[39m \u001b[38;5;241m1\u001b[39m,\n\u001b[0;32m   1495\u001b[0m         min_count\u001b[38;5;241m=\u001b[39mmin_count,\n\u001b[0;32m   1496\u001b[0m         \u001b[38;5;241m*\u001b[39m\u001b[38;5;241m*\u001b[39mkwargs,\n\u001b[0;32m   1497\u001b[0m     )\n\u001b[0;32m   1498\u001b[0m \u001b[38;5;28;01mexcept\u001b[39;00m \u001b[38;5;167;01mNotImplementedError\u001b[39;00m:\n\u001b[0;32m   1499\u001b[0m     \u001b[38;5;66;03m# generally if we have numeric_only=False\u001b[39;00m\n\u001b[0;32m   1500\u001b[0m     \u001b[38;5;66;03m# and non-applicable functions\u001b[39;00m\n\u001b[0;32m   1501\u001b[0m     \u001b[38;5;66;03m# try to python agg\u001b[39;00m\n\u001b[0;32m   1502\u001b[0m     \u001b[38;5;66;03m# TODO: shouldn't min_count matter?\u001b[39;00m\n",
      "File \u001b[1;32m~\\anaconda3\\Lib\\site-packages\\pandas\\core\\groupby\\ops.py:959\u001b[0m, in \u001b[0;36mBaseGrouper._cython_operation\u001b[1;34m(self, kind, values, how, axis, min_count, **kwargs)\u001b[0m\n\u001b[0;32m    958\u001b[0m ngroups \u001b[38;5;241m=\u001b[39m \u001b[38;5;28mself\u001b[39m\u001b[38;5;241m.\u001b[39mngroups\n\u001b[1;32m--> 959\u001b[0m \u001b[38;5;28;01mreturn\u001b[39;00m cy_op\u001b[38;5;241m.\u001b[39mcython_operation(\n\u001b[0;32m    960\u001b[0m     values\u001b[38;5;241m=\u001b[39mvalues,\n\u001b[0;32m    961\u001b[0m     axis\u001b[38;5;241m=\u001b[39maxis,\n\u001b[0;32m    962\u001b[0m     min_count\u001b[38;5;241m=\u001b[39mmin_count,\n\u001b[0;32m    963\u001b[0m     comp_ids\u001b[38;5;241m=\u001b[39mids,\n\u001b[0;32m    964\u001b[0m     ngroups\u001b[38;5;241m=\u001b[39mngroups,\n\u001b[0;32m    965\u001b[0m     \u001b[38;5;241m*\u001b[39m\u001b[38;5;241m*\u001b[39mkwargs,\n\u001b[0;32m    966\u001b[0m )\n",
      "File \u001b[1;32m~\\anaconda3\\Lib\\site-packages\\pandas\\core\\groupby\\ops.py:657\u001b[0m, in \u001b[0;36mWrappedCythonOp.cython_operation\u001b[1;34m(self, values, axis, min_count, comp_ids, ngroups, **kwargs)\u001b[0m\n\u001b[0;32m    649\u001b[0m     \u001b[38;5;28;01mreturn\u001b[39;00m \u001b[38;5;28mself\u001b[39m\u001b[38;5;241m.\u001b[39m_ea_wrap_cython_operation(\n\u001b[0;32m    650\u001b[0m         values,\n\u001b[0;32m    651\u001b[0m         min_count\u001b[38;5;241m=\u001b[39mmin_count,\n\u001b[1;32m   (...)\u001b[0m\n\u001b[0;32m    654\u001b[0m         \u001b[38;5;241m*\u001b[39m\u001b[38;5;241m*\u001b[39mkwargs,\n\u001b[0;32m    655\u001b[0m     )\n\u001b[1;32m--> 657\u001b[0m \u001b[38;5;28;01mreturn\u001b[39;00m \u001b[38;5;28mself\u001b[39m\u001b[38;5;241m.\u001b[39m_cython_op_ndim_compat(\n\u001b[0;32m    658\u001b[0m     values,\n\u001b[0;32m    659\u001b[0m     min_count\u001b[38;5;241m=\u001b[39mmin_count,\n\u001b[0;32m    660\u001b[0m     ngroups\u001b[38;5;241m=\u001b[39mngroups,\n\u001b[0;32m    661\u001b[0m     comp_ids\u001b[38;5;241m=\u001b[39mcomp_ids,\n\u001b[0;32m    662\u001b[0m     mask\u001b[38;5;241m=\u001b[39m\u001b[38;5;28;01mNone\u001b[39;00m,\n\u001b[0;32m    663\u001b[0m     \u001b[38;5;241m*\u001b[39m\u001b[38;5;241m*\u001b[39mkwargs,\n\u001b[0;32m    664\u001b[0m )\n",
      "File \u001b[1;32m~\\anaconda3\\Lib\\site-packages\\pandas\\core\\groupby\\ops.py:497\u001b[0m, in \u001b[0;36mWrappedCythonOp._cython_op_ndim_compat\u001b[1;34m(self, values, min_count, ngroups, comp_ids, mask, result_mask, **kwargs)\u001b[0m\n\u001b[0;32m    495\u001b[0m     \u001b[38;5;28;01mreturn\u001b[39;00m res\u001b[38;5;241m.\u001b[39mT\n\u001b[1;32m--> 497\u001b[0m \u001b[38;5;28;01mreturn\u001b[39;00m \u001b[38;5;28mself\u001b[39m\u001b[38;5;241m.\u001b[39m_call_cython_op(\n\u001b[0;32m    498\u001b[0m     values,\n\u001b[0;32m    499\u001b[0m     min_count\u001b[38;5;241m=\u001b[39mmin_count,\n\u001b[0;32m    500\u001b[0m     ngroups\u001b[38;5;241m=\u001b[39mngroups,\n\u001b[0;32m    501\u001b[0m     comp_ids\u001b[38;5;241m=\u001b[39mcomp_ids,\n\u001b[0;32m    502\u001b[0m     mask\u001b[38;5;241m=\u001b[39mmask,\n\u001b[0;32m    503\u001b[0m     result_mask\u001b[38;5;241m=\u001b[39mresult_mask,\n\u001b[0;32m    504\u001b[0m     \u001b[38;5;241m*\u001b[39m\u001b[38;5;241m*\u001b[39mkwargs,\n\u001b[0;32m    505\u001b[0m )\n",
      "File \u001b[1;32m~\\anaconda3\\Lib\\site-packages\\pandas\\core\\groupby\\ops.py:541\u001b[0m, in \u001b[0;36mWrappedCythonOp._call_cython_op\u001b[1;34m(self, values, min_count, ngroups, comp_ids, mask, result_mask, **kwargs)\u001b[0m\n\u001b[0;32m    540\u001b[0m out_shape \u001b[38;5;241m=\u001b[39m \u001b[38;5;28mself\u001b[39m\u001b[38;5;241m.\u001b[39m_get_output_shape(ngroups, values)\n\u001b[1;32m--> 541\u001b[0m func \u001b[38;5;241m=\u001b[39m \u001b[38;5;28mself\u001b[39m\u001b[38;5;241m.\u001b[39m_get_cython_function(\u001b[38;5;28mself\u001b[39m\u001b[38;5;241m.\u001b[39mkind, \u001b[38;5;28mself\u001b[39m\u001b[38;5;241m.\u001b[39mhow, values\u001b[38;5;241m.\u001b[39mdtype, is_numeric)\n\u001b[0;32m    542\u001b[0m values \u001b[38;5;241m=\u001b[39m \u001b[38;5;28mself\u001b[39m\u001b[38;5;241m.\u001b[39m_get_cython_vals(values)\n",
      "File \u001b[1;32m~\\anaconda3\\Lib\\site-packages\\pandas\\core\\groupby\\ops.py:173\u001b[0m, in \u001b[0;36mWrappedCythonOp._get_cython_function\u001b[1;34m(cls, kind, how, dtype, is_numeric)\u001b[0m\n\u001b[0;32m    171\u001b[0m \u001b[38;5;28;01mif\u001b[39;00m \u001b[38;5;124m\"\u001b[39m\u001b[38;5;124mobject\u001b[39m\u001b[38;5;124m\"\u001b[39m \u001b[38;5;129;01mnot\u001b[39;00m \u001b[38;5;129;01min\u001b[39;00m f\u001b[38;5;241m.\u001b[39m__signatures__:\n\u001b[0;32m    172\u001b[0m     \u001b[38;5;66;03m# raise NotImplementedError here rather than TypeError later\u001b[39;00m\n\u001b[1;32m--> 173\u001b[0m     \u001b[38;5;28;01mraise\u001b[39;00m \u001b[38;5;167;01mNotImplementedError\u001b[39;00m(\n\u001b[0;32m    174\u001b[0m         \u001b[38;5;124mf\u001b[39m\u001b[38;5;124m\"\u001b[39m\u001b[38;5;124mfunction is not implemented for this dtype: \u001b[39m\u001b[38;5;124m\"\u001b[39m\n\u001b[0;32m    175\u001b[0m         \u001b[38;5;124mf\u001b[39m\u001b[38;5;124m\"\u001b[39m\u001b[38;5;124m[how->\u001b[39m\u001b[38;5;132;01m{\u001b[39;00mhow\u001b[38;5;132;01m}\u001b[39;00m\u001b[38;5;124m,dtype->\u001b[39m\u001b[38;5;132;01m{\u001b[39;00mdtype_str\u001b[38;5;132;01m}\u001b[39;00m\u001b[38;5;124m]\u001b[39m\u001b[38;5;124m\"\u001b[39m\n\u001b[0;32m    176\u001b[0m     )\n\u001b[0;32m    177\u001b[0m \u001b[38;5;28;01mreturn\u001b[39;00m f\n",
      "\u001b[1;31mNotImplementedError\u001b[0m: function is not implemented for this dtype: [how->mean,dtype->object]",
      "\nDuring handling of the above exception, another exception occurred:\n",
      "\u001b[1;31mValueError\u001b[0m                                Traceback (most recent call last)",
      "File \u001b[1;32m~\\anaconda3\\Lib\\site-packages\\pandas\\core\\nanops.py:1692\u001b[0m, in \u001b[0;36m_ensure_numeric\u001b[1;34m(x)\u001b[0m\n\u001b[0;32m   1691\u001b[0m \u001b[38;5;28;01mtry\u001b[39;00m:\n\u001b[1;32m-> 1692\u001b[0m     x \u001b[38;5;241m=\u001b[39m \u001b[38;5;28mfloat\u001b[39m(x)\n\u001b[0;32m   1693\u001b[0m \u001b[38;5;28;01mexcept\u001b[39;00m (\u001b[38;5;167;01mTypeError\u001b[39;00m, \u001b[38;5;167;01mValueError\u001b[39;00m):\n\u001b[0;32m   1694\u001b[0m     \u001b[38;5;66;03m# e.g. \"1+1j\" or \"foo\"\u001b[39;00m\n",
      "\u001b[1;31mValueError\u001b[0m: could not convert string to float: 'Spring'",
      "\nDuring handling of the above exception, another exception occurred:\n",
      "\u001b[1;31mValueError\u001b[0m                                Traceback (most recent call last)",
      "File \u001b[1;32m~\\anaconda3\\Lib\\site-packages\\pandas\\core\\nanops.py:1696\u001b[0m, in \u001b[0;36m_ensure_numeric\u001b[1;34m(x)\u001b[0m\n\u001b[0;32m   1695\u001b[0m \u001b[38;5;28;01mtry\u001b[39;00m:\n\u001b[1;32m-> 1696\u001b[0m     x \u001b[38;5;241m=\u001b[39m \u001b[38;5;28mcomplex\u001b[39m(x)\n\u001b[0;32m   1697\u001b[0m \u001b[38;5;28;01mexcept\u001b[39;00m \u001b[38;5;167;01mValueError\u001b[39;00m \u001b[38;5;28;01mas\u001b[39;00m err:\n\u001b[0;32m   1698\u001b[0m     \u001b[38;5;66;03m# e.g. \"foo\"\u001b[39;00m\n",
      "\u001b[1;31mValueError\u001b[0m: complex() arg is a malformed string",
      "\nThe above exception was the direct cause of the following exception:\n",
      "\u001b[1;31mTypeError\u001b[0m                                 Traceback (most recent call last)",
      "Cell \u001b[1;32mIn[26], line 2\u001b[0m\n\u001b[0;32m      1\u001b[0m \u001b[38;5;66;03m# create a pivot table where indexes are months\u001b[39;00m\n\u001b[1;32m----> 2\u001b[0m pd\u001b[38;5;241m.\u001b[39mpivot_table(df_sales,index\u001b[38;5;241m=\u001b[39m[\u001b[38;5;124m\"\u001b[39m\u001b[38;5;124mMonths\u001b[39m\u001b[38;5;124m\"\u001b[39m])\n",
      "File \u001b[1;32m~\\anaconda3\\Lib\\site-packages\\pandas\\core\\reshape\\pivot.py:97\u001b[0m, in \u001b[0;36mpivot_table\u001b[1;34m(data, values, index, columns, aggfunc, fill_value, margins, dropna, margins_name, observed, sort)\u001b[0m\n\u001b[0;32m     94\u001b[0m     table \u001b[38;5;241m=\u001b[39m concat(pieces, keys\u001b[38;5;241m=\u001b[39mkeys, axis\u001b[38;5;241m=\u001b[39m\u001b[38;5;241m1\u001b[39m)\n\u001b[0;32m     95\u001b[0m     \u001b[38;5;28;01mreturn\u001b[39;00m table\u001b[38;5;241m.\u001b[39m__finalize__(data, method\u001b[38;5;241m=\u001b[39m\u001b[38;5;124m\"\u001b[39m\u001b[38;5;124mpivot_table\u001b[39m\u001b[38;5;124m\"\u001b[39m)\n\u001b[1;32m---> 97\u001b[0m table \u001b[38;5;241m=\u001b[39m __internal_pivot_table(\n\u001b[0;32m     98\u001b[0m     data,\n\u001b[0;32m     99\u001b[0m     values,\n\u001b[0;32m    100\u001b[0m     index,\n\u001b[0;32m    101\u001b[0m     columns,\n\u001b[0;32m    102\u001b[0m     aggfunc,\n\u001b[0;32m    103\u001b[0m     fill_value,\n\u001b[0;32m    104\u001b[0m     margins,\n\u001b[0;32m    105\u001b[0m     dropna,\n\u001b[0;32m    106\u001b[0m     margins_name,\n\u001b[0;32m    107\u001b[0m     observed,\n\u001b[0;32m    108\u001b[0m     sort,\n\u001b[0;32m    109\u001b[0m )\n\u001b[0;32m    110\u001b[0m \u001b[38;5;28;01mreturn\u001b[39;00m table\u001b[38;5;241m.\u001b[39m__finalize__(data, method\u001b[38;5;241m=\u001b[39m\u001b[38;5;124m\"\u001b[39m\u001b[38;5;124mpivot_table\u001b[39m\u001b[38;5;124m\"\u001b[39m)\n",
      "File \u001b[1;32m~\\anaconda3\\Lib\\site-packages\\pandas\\core\\reshape\\pivot.py:167\u001b[0m, in \u001b[0;36m__internal_pivot_table\u001b[1;34m(data, values, index, columns, aggfunc, fill_value, margins, dropna, margins_name, observed, sort)\u001b[0m\n\u001b[0;32m    164\u001b[0m     values \u001b[38;5;241m=\u001b[39m \u001b[38;5;28mlist\u001b[39m(values)\n\u001b[0;32m    166\u001b[0m grouped \u001b[38;5;241m=\u001b[39m data\u001b[38;5;241m.\u001b[39mgroupby(keys, observed\u001b[38;5;241m=\u001b[39mobserved, sort\u001b[38;5;241m=\u001b[39msort)\n\u001b[1;32m--> 167\u001b[0m agged \u001b[38;5;241m=\u001b[39m grouped\u001b[38;5;241m.\u001b[39magg(aggfunc)\n\u001b[0;32m    169\u001b[0m \u001b[38;5;28;01mif\u001b[39;00m dropna \u001b[38;5;129;01mand\u001b[39;00m \u001b[38;5;28misinstance\u001b[39m(agged, ABCDataFrame) \u001b[38;5;129;01mand\u001b[39;00m \u001b[38;5;28mlen\u001b[39m(agged\u001b[38;5;241m.\u001b[39mcolumns):\n\u001b[0;32m    170\u001b[0m     agged \u001b[38;5;241m=\u001b[39m agged\u001b[38;5;241m.\u001b[39mdropna(how\u001b[38;5;241m=\u001b[39m\u001b[38;5;124m\"\u001b[39m\u001b[38;5;124mall\u001b[39m\u001b[38;5;124m\"\u001b[39m)\n",
      "File \u001b[1;32m~\\anaconda3\\Lib\\site-packages\\pandas\\core\\groupby\\generic.py:1269\u001b[0m, in \u001b[0;36mDataFrameGroupBy.aggregate\u001b[1;34m(self, func, engine, engine_kwargs, *args, **kwargs)\u001b[0m\n\u001b[0;32m   1266\u001b[0m func \u001b[38;5;241m=\u001b[39m maybe_mangle_lambdas(func)\n\u001b[0;32m   1268\u001b[0m op \u001b[38;5;241m=\u001b[39m GroupByApply(\u001b[38;5;28mself\u001b[39m, func, args, kwargs)\n\u001b[1;32m-> 1269\u001b[0m result \u001b[38;5;241m=\u001b[39m op\u001b[38;5;241m.\u001b[39magg()\n\u001b[0;32m   1270\u001b[0m \u001b[38;5;28;01mif\u001b[39;00m \u001b[38;5;129;01mnot\u001b[39;00m is_dict_like(func) \u001b[38;5;129;01mand\u001b[39;00m result \u001b[38;5;129;01mis\u001b[39;00m \u001b[38;5;129;01mnot\u001b[39;00m \u001b[38;5;28;01mNone\u001b[39;00m:\n\u001b[0;32m   1271\u001b[0m     \u001b[38;5;28;01mreturn\u001b[39;00m result\n",
      "File \u001b[1;32m~\\anaconda3\\Lib\\site-packages\\pandas\\core\\apply.py:160\u001b[0m, in \u001b[0;36mApply.agg\u001b[1;34m(self)\u001b[0m\n\u001b[0;32m    157\u001b[0m kwargs \u001b[38;5;241m=\u001b[39m \u001b[38;5;28mself\u001b[39m\u001b[38;5;241m.\u001b[39mkwargs\n\u001b[0;32m    159\u001b[0m \u001b[38;5;28;01mif\u001b[39;00m \u001b[38;5;28misinstance\u001b[39m(arg, \u001b[38;5;28mstr\u001b[39m):\n\u001b[1;32m--> 160\u001b[0m     \u001b[38;5;28;01mreturn\u001b[39;00m \u001b[38;5;28mself\u001b[39m\u001b[38;5;241m.\u001b[39mapply_str()\n\u001b[0;32m    162\u001b[0m \u001b[38;5;28;01mif\u001b[39;00m is_dict_like(arg):\n\u001b[0;32m    163\u001b[0m     \u001b[38;5;28;01mreturn\u001b[39;00m \u001b[38;5;28mself\u001b[39m\u001b[38;5;241m.\u001b[39magg_dict_like()\n",
      "File \u001b[1;32m~\\anaconda3\\Lib\\site-packages\\pandas\\core\\apply.py:496\u001b[0m, in \u001b[0;36mApply.apply_str\u001b[1;34m(self)\u001b[0m\n\u001b[0;32m    494\u001b[0m     \u001b[38;5;28;01mif\u001b[39;00m \u001b[38;5;124m\"\u001b[39m\u001b[38;5;124maxis\u001b[39m\u001b[38;5;124m\"\u001b[39m \u001b[38;5;129;01min\u001b[39;00m arg_names:\n\u001b[0;32m    495\u001b[0m         \u001b[38;5;28mself\u001b[39m\u001b[38;5;241m.\u001b[39mkwargs[\u001b[38;5;124m\"\u001b[39m\u001b[38;5;124maxis\u001b[39m\u001b[38;5;124m\"\u001b[39m] \u001b[38;5;241m=\u001b[39m \u001b[38;5;28mself\u001b[39m\u001b[38;5;241m.\u001b[39maxis\n\u001b[1;32m--> 496\u001b[0m \u001b[38;5;28;01mreturn\u001b[39;00m \u001b[38;5;28mself\u001b[39m\u001b[38;5;241m.\u001b[39m_try_aggregate_string_function(obj, f, \u001b[38;5;241m*\u001b[39m\u001b[38;5;28mself\u001b[39m\u001b[38;5;241m.\u001b[39margs, \u001b[38;5;241m*\u001b[39m\u001b[38;5;241m*\u001b[39m\u001b[38;5;28mself\u001b[39m\u001b[38;5;241m.\u001b[39mkwargs)\n",
      "File \u001b[1;32m~\\anaconda3\\Lib\\site-packages\\pandas\\core\\apply.py:565\u001b[0m, in \u001b[0;36mApply._try_aggregate_string_function\u001b[1;34m(self, obj, arg, *args, **kwargs)\u001b[0m\n\u001b[0;32m    563\u001b[0m \u001b[38;5;28;01mif\u001b[39;00m f \u001b[38;5;129;01mis\u001b[39;00m \u001b[38;5;129;01mnot\u001b[39;00m \u001b[38;5;28;01mNone\u001b[39;00m:\n\u001b[0;32m    564\u001b[0m     \u001b[38;5;28;01mif\u001b[39;00m \u001b[38;5;28mcallable\u001b[39m(f):\n\u001b[1;32m--> 565\u001b[0m         \u001b[38;5;28;01mreturn\u001b[39;00m f(\u001b[38;5;241m*\u001b[39margs, \u001b[38;5;241m*\u001b[39m\u001b[38;5;241m*\u001b[39mkwargs)\n\u001b[0;32m    567\u001b[0m     \u001b[38;5;66;03m# people may try to aggregate on a non-callable attribute\u001b[39;00m\n\u001b[0;32m    568\u001b[0m     \u001b[38;5;66;03m# but don't let them think they can pass args to it\u001b[39;00m\n\u001b[0;32m    569\u001b[0m     \u001b[38;5;28;01massert\u001b[39;00m \u001b[38;5;28mlen\u001b[39m(args) \u001b[38;5;241m==\u001b[39m \u001b[38;5;241m0\u001b[39m\n",
      "File \u001b[1;32m~\\anaconda3\\Lib\\site-packages\\pandas\\core\\groupby\\groupby.py:1855\u001b[0m, in \u001b[0;36mGroupBy.mean\u001b[1;34m(self, numeric_only, engine, engine_kwargs)\u001b[0m\n\u001b[0;32m   1853\u001b[0m     \u001b[38;5;28;01mreturn\u001b[39;00m \u001b[38;5;28mself\u001b[39m\u001b[38;5;241m.\u001b[39m_numba_agg_general(sliding_mean, engine_kwargs)\n\u001b[0;32m   1854\u001b[0m \u001b[38;5;28;01melse\u001b[39;00m:\n\u001b[1;32m-> 1855\u001b[0m     result \u001b[38;5;241m=\u001b[39m \u001b[38;5;28mself\u001b[39m\u001b[38;5;241m.\u001b[39m_cython_agg_general(\n\u001b[0;32m   1856\u001b[0m         \u001b[38;5;124m\"\u001b[39m\u001b[38;5;124mmean\u001b[39m\u001b[38;5;124m\"\u001b[39m,\n\u001b[0;32m   1857\u001b[0m         alt\u001b[38;5;241m=\u001b[39m\u001b[38;5;28;01mlambda\u001b[39;00m x: Series(x)\u001b[38;5;241m.\u001b[39mmean(numeric_only\u001b[38;5;241m=\u001b[39mnumeric_only),\n\u001b[0;32m   1858\u001b[0m         numeric_only\u001b[38;5;241m=\u001b[39mnumeric_only,\n\u001b[0;32m   1859\u001b[0m     )\n\u001b[0;32m   1860\u001b[0m     \u001b[38;5;28;01mreturn\u001b[39;00m result\u001b[38;5;241m.\u001b[39m__finalize__(\u001b[38;5;28mself\u001b[39m\u001b[38;5;241m.\u001b[39mobj, method\u001b[38;5;241m=\u001b[39m\u001b[38;5;124m\"\u001b[39m\u001b[38;5;124mgroupby\u001b[39m\u001b[38;5;124m\"\u001b[39m)\n",
      "File \u001b[1;32m~\\anaconda3\\Lib\\site-packages\\pandas\\core\\groupby\\groupby.py:1507\u001b[0m, in \u001b[0;36mGroupBy._cython_agg_general\u001b[1;34m(self, how, alt, numeric_only, min_count, **kwargs)\u001b[0m\n\u001b[0;32m   1503\u001b[0m         result \u001b[38;5;241m=\u001b[39m \u001b[38;5;28mself\u001b[39m\u001b[38;5;241m.\u001b[39m_agg_py_fallback(values, ndim\u001b[38;5;241m=\u001b[39mdata\u001b[38;5;241m.\u001b[39mndim, alt\u001b[38;5;241m=\u001b[39malt)\n\u001b[0;32m   1505\u001b[0m     \u001b[38;5;28;01mreturn\u001b[39;00m result\n\u001b[1;32m-> 1507\u001b[0m new_mgr \u001b[38;5;241m=\u001b[39m data\u001b[38;5;241m.\u001b[39mgrouped_reduce(array_func)\n\u001b[0;32m   1508\u001b[0m res \u001b[38;5;241m=\u001b[39m \u001b[38;5;28mself\u001b[39m\u001b[38;5;241m.\u001b[39m_wrap_agged_manager(new_mgr)\n\u001b[0;32m   1509\u001b[0m out \u001b[38;5;241m=\u001b[39m \u001b[38;5;28mself\u001b[39m\u001b[38;5;241m.\u001b[39m_wrap_aggregated_output(res)\n",
      "File \u001b[1;32m~\\anaconda3\\Lib\\site-packages\\pandas\\core\\internals\\managers.py:1503\u001b[0m, in \u001b[0;36mBlockManager.grouped_reduce\u001b[1;34m(self, func)\u001b[0m\n\u001b[0;32m   1499\u001b[0m \u001b[38;5;28;01mif\u001b[39;00m blk\u001b[38;5;241m.\u001b[39mis_object:\n\u001b[0;32m   1500\u001b[0m     \u001b[38;5;66;03m# split on object-dtype blocks bc some columns may raise\u001b[39;00m\n\u001b[0;32m   1501\u001b[0m     \u001b[38;5;66;03m#  while others do not.\u001b[39;00m\n\u001b[0;32m   1502\u001b[0m     \u001b[38;5;28;01mfor\u001b[39;00m sb \u001b[38;5;129;01min\u001b[39;00m blk\u001b[38;5;241m.\u001b[39m_split():\n\u001b[1;32m-> 1503\u001b[0m         applied \u001b[38;5;241m=\u001b[39m sb\u001b[38;5;241m.\u001b[39mapply(func)\n\u001b[0;32m   1504\u001b[0m         result_blocks \u001b[38;5;241m=\u001b[39m extend_blocks(applied, result_blocks)\n\u001b[0;32m   1505\u001b[0m \u001b[38;5;28;01melse\u001b[39;00m:\n",
      "File \u001b[1;32m~\\anaconda3\\Lib\\site-packages\\pandas\\core\\internals\\blocks.py:329\u001b[0m, in \u001b[0;36mBlock.apply\u001b[1;34m(self, func, **kwargs)\u001b[0m\n\u001b[0;32m    323\u001b[0m \u001b[38;5;129m@final\u001b[39m\n\u001b[0;32m    324\u001b[0m \u001b[38;5;28;01mdef\u001b[39;00m \u001b[38;5;21mapply\u001b[39m(\u001b[38;5;28mself\u001b[39m, func, \u001b[38;5;241m*\u001b[39m\u001b[38;5;241m*\u001b[39mkwargs) \u001b[38;5;241m-\u001b[39m\u001b[38;5;241m>\u001b[39m \u001b[38;5;28mlist\u001b[39m[Block]:\n\u001b[0;32m    325\u001b[0m \u001b[38;5;250m    \u001b[39m\u001b[38;5;124;03m\"\"\"\u001b[39;00m\n\u001b[0;32m    326\u001b[0m \u001b[38;5;124;03m    apply the function to my values; return a block if we are not\u001b[39;00m\n\u001b[0;32m    327\u001b[0m \u001b[38;5;124;03m    one\u001b[39;00m\n\u001b[0;32m    328\u001b[0m \u001b[38;5;124;03m    \"\"\"\u001b[39;00m\n\u001b[1;32m--> 329\u001b[0m     result \u001b[38;5;241m=\u001b[39m func(\u001b[38;5;28mself\u001b[39m\u001b[38;5;241m.\u001b[39mvalues, \u001b[38;5;241m*\u001b[39m\u001b[38;5;241m*\u001b[39mkwargs)\n\u001b[0;32m    331\u001b[0m     \u001b[38;5;28;01mreturn\u001b[39;00m \u001b[38;5;28mself\u001b[39m\u001b[38;5;241m.\u001b[39m_split_op_result(result)\n",
      "File \u001b[1;32m~\\anaconda3\\Lib\\site-packages\\pandas\\core\\groupby\\groupby.py:1503\u001b[0m, in \u001b[0;36mGroupBy._cython_agg_general.<locals>.array_func\u001b[1;34m(values)\u001b[0m\n\u001b[0;32m   1490\u001b[0m     result \u001b[38;5;241m=\u001b[39m \u001b[38;5;28mself\u001b[39m\u001b[38;5;241m.\u001b[39mgrouper\u001b[38;5;241m.\u001b[39m_cython_operation(\n\u001b[0;32m   1491\u001b[0m         \u001b[38;5;124m\"\u001b[39m\u001b[38;5;124maggregate\u001b[39m\u001b[38;5;124m\"\u001b[39m,\n\u001b[0;32m   1492\u001b[0m         values,\n\u001b[1;32m   (...)\u001b[0m\n\u001b[0;32m   1496\u001b[0m         \u001b[38;5;241m*\u001b[39m\u001b[38;5;241m*\u001b[39mkwargs,\n\u001b[0;32m   1497\u001b[0m     )\n\u001b[0;32m   1498\u001b[0m \u001b[38;5;28;01mexcept\u001b[39;00m \u001b[38;5;167;01mNotImplementedError\u001b[39;00m:\n\u001b[0;32m   1499\u001b[0m     \u001b[38;5;66;03m# generally if we have numeric_only=False\u001b[39;00m\n\u001b[0;32m   1500\u001b[0m     \u001b[38;5;66;03m# and non-applicable functions\u001b[39;00m\n\u001b[0;32m   1501\u001b[0m     \u001b[38;5;66;03m# try to python agg\u001b[39;00m\n\u001b[0;32m   1502\u001b[0m     \u001b[38;5;66;03m# TODO: shouldn't min_count matter?\u001b[39;00m\n\u001b[1;32m-> 1503\u001b[0m     result \u001b[38;5;241m=\u001b[39m \u001b[38;5;28mself\u001b[39m\u001b[38;5;241m.\u001b[39m_agg_py_fallback(values, ndim\u001b[38;5;241m=\u001b[39mdata\u001b[38;5;241m.\u001b[39mndim, alt\u001b[38;5;241m=\u001b[39malt)\n\u001b[0;32m   1505\u001b[0m \u001b[38;5;28;01mreturn\u001b[39;00m result\n",
      "File \u001b[1;32m~\\anaconda3\\Lib\\site-packages\\pandas\\core\\groupby\\groupby.py:1457\u001b[0m, in \u001b[0;36mGroupBy._agg_py_fallback\u001b[1;34m(self, values, ndim, alt)\u001b[0m\n\u001b[0;32m   1452\u001b[0m     ser \u001b[38;5;241m=\u001b[39m df\u001b[38;5;241m.\u001b[39miloc[:, \u001b[38;5;241m0\u001b[39m]\n\u001b[0;32m   1454\u001b[0m \u001b[38;5;66;03m# We do not get here with UDFs, so we know that our dtype\u001b[39;00m\n\u001b[0;32m   1455\u001b[0m \u001b[38;5;66;03m#  should always be preserved by the implemented aggregations\u001b[39;00m\n\u001b[0;32m   1456\u001b[0m \u001b[38;5;66;03m# TODO: Is this exactly right; see WrappedCythonOp get_result_dtype?\u001b[39;00m\n\u001b[1;32m-> 1457\u001b[0m res_values \u001b[38;5;241m=\u001b[39m \u001b[38;5;28mself\u001b[39m\u001b[38;5;241m.\u001b[39mgrouper\u001b[38;5;241m.\u001b[39magg_series(ser, alt, preserve_dtype\u001b[38;5;241m=\u001b[39m\u001b[38;5;28;01mTrue\u001b[39;00m)\n\u001b[0;32m   1459\u001b[0m \u001b[38;5;28;01mif\u001b[39;00m \u001b[38;5;28misinstance\u001b[39m(values, Categorical):\n\u001b[0;32m   1460\u001b[0m     \u001b[38;5;66;03m# Because we only get here with known dtype-preserving\u001b[39;00m\n\u001b[0;32m   1461\u001b[0m     \u001b[38;5;66;03m#  reductions, we cast back to Categorical.\u001b[39;00m\n\u001b[0;32m   1462\u001b[0m     \u001b[38;5;66;03m# TODO: if we ever get \"rank\" working, exclude it here.\u001b[39;00m\n\u001b[0;32m   1463\u001b[0m     res_values \u001b[38;5;241m=\u001b[39m \u001b[38;5;28mtype\u001b[39m(values)\u001b[38;5;241m.\u001b[39m_from_sequence(res_values, dtype\u001b[38;5;241m=\u001b[39mvalues\u001b[38;5;241m.\u001b[39mdtype)\n",
      "File \u001b[1;32m~\\anaconda3\\Lib\\site-packages\\pandas\\core\\groupby\\ops.py:994\u001b[0m, in \u001b[0;36mBaseGrouper.agg_series\u001b[1;34m(self, obj, func, preserve_dtype)\u001b[0m\n\u001b[0;32m    987\u001b[0m \u001b[38;5;28;01mif\u001b[39;00m \u001b[38;5;28mlen\u001b[39m(obj) \u001b[38;5;241m>\u001b[39m \u001b[38;5;241m0\u001b[39m \u001b[38;5;129;01mand\u001b[39;00m \u001b[38;5;129;01mnot\u001b[39;00m \u001b[38;5;28misinstance\u001b[39m(obj\u001b[38;5;241m.\u001b[39m_values, np\u001b[38;5;241m.\u001b[39mndarray):\n\u001b[0;32m    988\u001b[0m     \u001b[38;5;66;03m# we can preserve a little bit more aggressively with EA dtype\u001b[39;00m\n\u001b[0;32m    989\u001b[0m     \u001b[38;5;66;03m#  because maybe_cast_pointwise_result will do a try/except\u001b[39;00m\n\u001b[0;32m    990\u001b[0m     \u001b[38;5;66;03m#  with _from_sequence.  NB we are assuming here that _from_sequence\u001b[39;00m\n\u001b[0;32m    991\u001b[0m     \u001b[38;5;66;03m#  is sufficiently strict that it casts appropriately.\u001b[39;00m\n\u001b[0;32m    992\u001b[0m     preserve_dtype \u001b[38;5;241m=\u001b[39m \u001b[38;5;28;01mTrue\u001b[39;00m\n\u001b[1;32m--> 994\u001b[0m result \u001b[38;5;241m=\u001b[39m \u001b[38;5;28mself\u001b[39m\u001b[38;5;241m.\u001b[39m_aggregate_series_pure_python(obj, func)\n\u001b[0;32m    996\u001b[0m npvalues \u001b[38;5;241m=\u001b[39m lib\u001b[38;5;241m.\u001b[39mmaybe_convert_objects(result, try_float\u001b[38;5;241m=\u001b[39m\u001b[38;5;28;01mFalse\u001b[39;00m)\n\u001b[0;32m    997\u001b[0m \u001b[38;5;28;01mif\u001b[39;00m preserve_dtype:\n",
      "File \u001b[1;32m~\\anaconda3\\Lib\\site-packages\\pandas\\core\\groupby\\ops.py:1015\u001b[0m, in \u001b[0;36mBaseGrouper._aggregate_series_pure_python\u001b[1;34m(self, obj, func)\u001b[0m\n\u001b[0;32m   1012\u001b[0m splitter \u001b[38;5;241m=\u001b[39m \u001b[38;5;28mself\u001b[39m\u001b[38;5;241m.\u001b[39m_get_splitter(obj, axis\u001b[38;5;241m=\u001b[39m\u001b[38;5;241m0\u001b[39m)\n\u001b[0;32m   1014\u001b[0m \u001b[38;5;28;01mfor\u001b[39;00m i, group \u001b[38;5;129;01min\u001b[39;00m \u001b[38;5;28menumerate\u001b[39m(splitter):\n\u001b[1;32m-> 1015\u001b[0m     res \u001b[38;5;241m=\u001b[39m func(group)\n\u001b[0;32m   1016\u001b[0m     res \u001b[38;5;241m=\u001b[39m libreduction\u001b[38;5;241m.\u001b[39mextract_result(res)\n\u001b[0;32m   1018\u001b[0m     \u001b[38;5;28;01mif\u001b[39;00m \u001b[38;5;129;01mnot\u001b[39;00m initialized:\n\u001b[0;32m   1019\u001b[0m         \u001b[38;5;66;03m# We only do this validation on the first iteration\u001b[39;00m\n",
      "File \u001b[1;32m~\\anaconda3\\Lib\\site-packages\\pandas\\core\\groupby\\groupby.py:1857\u001b[0m, in \u001b[0;36mGroupBy.mean.<locals>.<lambda>\u001b[1;34m(x)\u001b[0m\n\u001b[0;32m   1853\u001b[0m     \u001b[38;5;28;01mreturn\u001b[39;00m \u001b[38;5;28mself\u001b[39m\u001b[38;5;241m.\u001b[39m_numba_agg_general(sliding_mean, engine_kwargs)\n\u001b[0;32m   1854\u001b[0m \u001b[38;5;28;01melse\u001b[39;00m:\n\u001b[0;32m   1855\u001b[0m     result \u001b[38;5;241m=\u001b[39m \u001b[38;5;28mself\u001b[39m\u001b[38;5;241m.\u001b[39m_cython_agg_general(\n\u001b[0;32m   1856\u001b[0m         \u001b[38;5;124m\"\u001b[39m\u001b[38;5;124mmean\u001b[39m\u001b[38;5;124m\"\u001b[39m,\n\u001b[1;32m-> 1857\u001b[0m         alt\u001b[38;5;241m=\u001b[39m\u001b[38;5;28;01mlambda\u001b[39;00m x: Series(x)\u001b[38;5;241m.\u001b[39mmean(numeric_only\u001b[38;5;241m=\u001b[39mnumeric_only),\n\u001b[0;32m   1858\u001b[0m         numeric_only\u001b[38;5;241m=\u001b[39mnumeric_only,\n\u001b[0;32m   1859\u001b[0m     )\n\u001b[0;32m   1860\u001b[0m     \u001b[38;5;28;01mreturn\u001b[39;00m result\u001b[38;5;241m.\u001b[39m__finalize__(\u001b[38;5;28mself\u001b[39m\u001b[38;5;241m.\u001b[39mobj, method\u001b[38;5;241m=\u001b[39m\u001b[38;5;124m\"\u001b[39m\u001b[38;5;124mgroupby\u001b[39m\u001b[38;5;124m\"\u001b[39m)\n",
      "File \u001b[1;32m~\\anaconda3\\Lib\\site-packages\\pandas\\core\\generic.py:11556\u001b[0m, in \u001b[0;36mNDFrame._add_numeric_operations.<locals>.mean\u001b[1;34m(self, axis, skipna, numeric_only, **kwargs)\u001b[0m\n\u001b[0;32m  11539\u001b[0m \u001b[38;5;129m@doc\u001b[39m(\n\u001b[0;32m  11540\u001b[0m     _num_doc,\n\u001b[0;32m  11541\u001b[0m     desc\u001b[38;5;241m=\u001b[39m\u001b[38;5;124m\"\u001b[39m\u001b[38;5;124mReturn the mean of the values over the requested axis.\u001b[39m\u001b[38;5;124m\"\u001b[39m,\n\u001b[1;32m   (...)\u001b[0m\n\u001b[0;32m  11554\u001b[0m     \u001b[38;5;241m*\u001b[39m\u001b[38;5;241m*\u001b[39mkwargs,\n\u001b[0;32m  11555\u001b[0m ):\n\u001b[1;32m> 11556\u001b[0m     \u001b[38;5;28;01mreturn\u001b[39;00m NDFrame\u001b[38;5;241m.\u001b[39mmean(\u001b[38;5;28mself\u001b[39m, axis, skipna, numeric_only, \u001b[38;5;241m*\u001b[39m\u001b[38;5;241m*\u001b[39mkwargs)\n",
      "File \u001b[1;32m~\\anaconda3\\Lib\\site-packages\\pandas\\core\\generic.py:11201\u001b[0m, in \u001b[0;36mNDFrame.mean\u001b[1;34m(self, axis, skipna, numeric_only, **kwargs)\u001b[0m\n\u001b[0;32m  11194\u001b[0m \u001b[38;5;28;01mdef\u001b[39;00m \u001b[38;5;21mmean\u001b[39m(\n\u001b[0;32m  11195\u001b[0m     \u001b[38;5;28mself\u001b[39m,\n\u001b[0;32m  11196\u001b[0m     axis: Axis \u001b[38;5;241m|\u001b[39m \u001b[38;5;28;01mNone\u001b[39;00m \u001b[38;5;241m=\u001b[39m \u001b[38;5;241m0\u001b[39m,\n\u001b[1;32m   (...)\u001b[0m\n\u001b[0;32m  11199\u001b[0m     \u001b[38;5;241m*\u001b[39m\u001b[38;5;241m*\u001b[39mkwargs,\n\u001b[0;32m  11200\u001b[0m ) \u001b[38;5;241m-\u001b[39m\u001b[38;5;241m>\u001b[39m Series \u001b[38;5;241m|\u001b[39m \u001b[38;5;28mfloat\u001b[39m:\n\u001b[1;32m> 11201\u001b[0m     \u001b[38;5;28;01mreturn\u001b[39;00m \u001b[38;5;28mself\u001b[39m\u001b[38;5;241m.\u001b[39m_stat_function(\n\u001b[0;32m  11202\u001b[0m         \u001b[38;5;124m\"\u001b[39m\u001b[38;5;124mmean\u001b[39m\u001b[38;5;124m\"\u001b[39m, nanops\u001b[38;5;241m.\u001b[39mnanmean, axis, skipna, numeric_only, \u001b[38;5;241m*\u001b[39m\u001b[38;5;241m*\u001b[39mkwargs\n\u001b[0;32m  11203\u001b[0m     )\n",
      "File \u001b[1;32m~\\anaconda3\\Lib\\site-packages\\pandas\\core\\generic.py:11158\u001b[0m, in \u001b[0;36mNDFrame._stat_function\u001b[1;34m(self, name, func, axis, skipna, numeric_only, **kwargs)\u001b[0m\n\u001b[0;32m  11154\u001b[0m     nv\u001b[38;5;241m.\u001b[39mvalidate_stat_func((), kwargs, fname\u001b[38;5;241m=\u001b[39mname)\n\u001b[0;32m  11156\u001b[0m validate_bool_kwarg(skipna, \u001b[38;5;124m\"\u001b[39m\u001b[38;5;124mskipna\u001b[39m\u001b[38;5;124m\"\u001b[39m, none_allowed\u001b[38;5;241m=\u001b[39m\u001b[38;5;28;01mFalse\u001b[39;00m)\n\u001b[1;32m> 11158\u001b[0m \u001b[38;5;28;01mreturn\u001b[39;00m \u001b[38;5;28mself\u001b[39m\u001b[38;5;241m.\u001b[39m_reduce(\n\u001b[0;32m  11159\u001b[0m     func, name\u001b[38;5;241m=\u001b[39mname, axis\u001b[38;5;241m=\u001b[39maxis, skipna\u001b[38;5;241m=\u001b[39mskipna, numeric_only\u001b[38;5;241m=\u001b[39mnumeric_only\n\u001b[0;32m  11160\u001b[0m )\n",
      "File \u001b[1;32m~\\anaconda3\\Lib\\site-packages\\pandas\\core\\series.py:4670\u001b[0m, in \u001b[0;36mSeries._reduce\u001b[1;34m(self, op, name, axis, skipna, numeric_only, filter_type, **kwds)\u001b[0m\n\u001b[0;32m   4665\u001b[0m     \u001b[38;5;28;01mraise\u001b[39;00m \u001b[38;5;167;01mTypeError\u001b[39;00m(\n\u001b[0;32m   4666\u001b[0m         \u001b[38;5;124mf\u001b[39m\u001b[38;5;124m\"\u001b[39m\u001b[38;5;124mSeries.\u001b[39m\u001b[38;5;132;01m{\u001b[39;00mname\u001b[38;5;132;01m}\u001b[39;00m\u001b[38;5;124m does not allow \u001b[39m\u001b[38;5;132;01m{\u001b[39;00mkwd_name\u001b[38;5;132;01m}\u001b[39;00m\u001b[38;5;124m=\u001b[39m\u001b[38;5;132;01m{\u001b[39;00mnumeric_only\u001b[38;5;132;01m}\u001b[39;00m\u001b[38;5;124m \u001b[39m\u001b[38;5;124m\"\u001b[39m\n\u001b[0;32m   4667\u001b[0m         \u001b[38;5;124m\"\u001b[39m\u001b[38;5;124mwith non-numeric dtypes.\u001b[39m\u001b[38;5;124m\"\u001b[39m\n\u001b[0;32m   4668\u001b[0m     )\n\u001b[0;32m   4669\u001b[0m \u001b[38;5;28;01mwith\u001b[39;00m np\u001b[38;5;241m.\u001b[39merrstate(\u001b[38;5;28mall\u001b[39m\u001b[38;5;241m=\u001b[39m\u001b[38;5;124m\"\u001b[39m\u001b[38;5;124mignore\u001b[39m\u001b[38;5;124m\"\u001b[39m):\n\u001b[1;32m-> 4670\u001b[0m     \u001b[38;5;28;01mreturn\u001b[39;00m op(delegate, skipna\u001b[38;5;241m=\u001b[39mskipna, \u001b[38;5;241m*\u001b[39m\u001b[38;5;241m*\u001b[39mkwds)\n",
      "File \u001b[1;32m~\\anaconda3\\Lib\\site-packages\\pandas\\core\\nanops.py:96\u001b[0m, in \u001b[0;36mdisallow.__call__.<locals>._f\u001b[1;34m(*args, **kwargs)\u001b[0m\n\u001b[0;32m     94\u001b[0m \u001b[38;5;28;01mtry\u001b[39;00m:\n\u001b[0;32m     95\u001b[0m     \u001b[38;5;28;01mwith\u001b[39;00m np\u001b[38;5;241m.\u001b[39merrstate(invalid\u001b[38;5;241m=\u001b[39m\u001b[38;5;124m\"\u001b[39m\u001b[38;5;124mignore\u001b[39m\u001b[38;5;124m\"\u001b[39m):\n\u001b[1;32m---> 96\u001b[0m         \u001b[38;5;28;01mreturn\u001b[39;00m f(\u001b[38;5;241m*\u001b[39margs, \u001b[38;5;241m*\u001b[39m\u001b[38;5;241m*\u001b[39mkwargs)\n\u001b[0;32m     97\u001b[0m \u001b[38;5;28;01mexcept\u001b[39;00m \u001b[38;5;167;01mValueError\u001b[39;00m \u001b[38;5;28;01mas\u001b[39;00m e:\n\u001b[0;32m     98\u001b[0m     \u001b[38;5;66;03m# we want to transform an object array\u001b[39;00m\n\u001b[0;32m     99\u001b[0m     \u001b[38;5;66;03m# ValueError message to the more typical TypeError\u001b[39;00m\n\u001b[0;32m    100\u001b[0m     \u001b[38;5;66;03m# e.g. this is normally a disallowed function on\u001b[39;00m\n\u001b[0;32m    101\u001b[0m     \u001b[38;5;66;03m# object arrays that contain strings\u001b[39;00m\n\u001b[0;32m    102\u001b[0m     \u001b[38;5;28;01mif\u001b[39;00m is_object_dtype(args[\u001b[38;5;241m0\u001b[39m]):\n",
      "File \u001b[1;32m~\\anaconda3\\Lib\\site-packages\\pandas\\core\\nanops.py:158\u001b[0m, in \u001b[0;36mbottleneck_switch.__call__.<locals>.f\u001b[1;34m(values, axis, skipna, **kwds)\u001b[0m\n\u001b[0;32m    156\u001b[0m         result \u001b[38;5;241m=\u001b[39m alt(values, axis\u001b[38;5;241m=\u001b[39maxis, skipna\u001b[38;5;241m=\u001b[39mskipna, \u001b[38;5;241m*\u001b[39m\u001b[38;5;241m*\u001b[39mkwds)\n\u001b[0;32m    157\u001b[0m \u001b[38;5;28;01melse\u001b[39;00m:\n\u001b[1;32m--> 158\u001b[0m     result \u001b[38;5;241m=\u001b[39m alt(values, axis\u001b[38;5;241m=\u001b[39maxis, skipna\u001b[38;5;241m=\u001b[39mskipna, \u001b[38;5;241m*\u001b[39m\u001b[38;5;241m*\u001b[39mkwds)\n\u001b[0;32m    160\u001b[0m \u001b[38;5;28;01mreturn\u001b[39;00m result\n",
      "File \u001b[1;32m~\\anaconda3\\Lib\\site-packages\\pandas\\core\\nanops.py:421\u001b[0m, in \u001b[0;36m_datetimelike_compat.<locals>.new_func\u001b[1;34m(values, axis, skipna, mask, **kwargs)\u001b[0m\n\u001b[0;32m    418\u001b[0m \u001b[38;5;28;01mif\u001b[39;00m datetimelike \u001b[38;5;129;01mand\u001b[39;00m mask \u001b[38;5;129;01mis\u001b[39;00m \u001b[38;5;28;01mNone\u001b[39;00m:\n\u001b[0;32m    419\u001b[0m     mask \u001b[38;5;241m=\u001b[39m isna(values)\n\u001b[1;32m--> 421\u001b[0m result \u001b[38;5;241m=\u001b[39m func(values, axis\u001b[38;5;241m=\u001b[39maxis, skipna\u001b[38;5;241m=\u001b[39mskipna, mask\u001b[38;5;241m=\u001b[39mmask, \u001b[38;5;241m*\u001b[39m\u001b[38;5;241m*\u001b[39mkwargs)\n\u001b[0;32m    423\u001b[0m \u001b[38;5;28;01mif\u001b[39;00m datetimelike:\n\u001b[0;32m    424\u001b[0m     result \u001b[38;5;241m=\u001b[39m _wrap_results(result, orig_values\u001b[38;5;241m.\u001b[39mdtype, fill_value\u001b[38;5;241m=\u001b[39miNaT)\n",
      "File \u001b[1;32m~\\anaconda3\\Lib\\site-packages\\pandas\\core\\nanops.py:727\u001b[0m, in \u001b[0;36mnanmean\u001b[1;34m(values, axis, skipna, mask)\u001b[0m\n\u001b[0;32m    724\u001b[0m     dtype_count \u001b[38;5;241m=\u001b[39m dtype\n\u001b[0;32m    726\u001b[0m count \u001b[38;5;241m=\u001b[39m _get_counts(values\u001b[38;5;241m.\u001b[39mshape, mask, axis, dtype\u001b[38;5;241m=\u001b[39mdtype_count)\n\u001b[1;32m--> 727\u001b[0m the_sum \u001b[38;5;241m=\u001b[39m _ensure_numeric(values\u001b[38;5;241m.\u001b[39msum(axis, dtype\u001b[38;5;241m=\u001b[39mdtype_sum))\n\u001b[0;32m    729\u001b[0m \u001b[38;5;28;01mif\u001b[39;00m axis \u001b[38;5;129;01mis\u001b[39;00m \u001b[38;5;129;01mnot\u001b[39;00m \u001b[38;5;28;01mNone\u001b[39;00m \u001b[38;5;129;01mand\u001b[39;00m \u001b[38;5;28mgetattr\u001b[39m(the_sum, \u001b[38;5;124m\"\u001b[39m\u001b[38;5;124mndim\u001b[39m\u001b[38;5;124m\"\u001b[39m, \u001b[38;5;28;01mFalse\u001b[39;00m):\n\u001b[0;32m    730\u001b[0m     count \u001b[38;5;241m=\u001b[39m cast(np\u001b[38;5;241m.\u001b[39mndarray, count)\n",
      "File \u001b[1;32m~\\anaconda3\\Lib\\site-packages\\pandas\\core\\nanops.py:1699\u001b[0m, in \u001b[0;36m_ensure_numeric\u001b[1;34m(x)\u001b[0m\n\u001b[0;32m   1696\u001b[0m             x \u001b[38;5;241m=\u001b[39m \u001b[38;5;28mcomplex\u001b[39m(x)\n\u001b[0;32m   1697\u001b[0m         \u001b[38;5;28;01mexcept\u001b[39;00m \u001b[38;5;167;01mValueError\u001b[39;00m \u001b[38;5;28;01mas\u001b[39;00m err:\n\u001b[0;32m   1698\u001b[0m             \u001b[38;5;66;03m# e.g. \"foo\"\u001b[39;00m\n\u001b[1;32m-> 1699\u001b[0m             \u001b[38;5;28;01mraise\u001b[39;00m \u001b[38;5;167;01mTypeError\u001b[39;00m(\u001b[38;5;124mf\u001b[39m\u001b[38;5;124m\"\u001b[39m\u001b[38;5;124mCould not convert \u001b[39m\u001b[38;5;132;01m{\u001b[39;00mx\u001b[38;5;132;01m}\u001b[39;00m\u001b[38;5;124m to numeric\u001b[39m\u001b[38;5;124m\"\u001b[39m) \u001b[38;5;28;01mfrom\u001b[39;00m \u001b[38;5;21;01merr\u001b[39;00m\n\u001b[0;32m   1700\u001b[0m \u001b[38;5;28;01mreturn\u001b[39;00m x\n",
      "\u001b[1;31mTypeError\u001b[0m: Could not convert Spring to numeric"
     ]
    }
   ],
   "source": [
    "# create a pivot table where indexes are months\n",
    "pd.pivot_table(df_sales,index=[\"Months\"])"
   ]
  },
  {
   "cell_type": "markdown",
   "id": "b7d7a8c3",
   "metadata": {},
   "source": [
    "It is possible to create pivot tables over multiple indexes. "
   ]
  },
  {
   "cell_type": "code",
   "execution_count": 27,
   "id": "941ad745",
   "metadata": {},
   "outputs": [
    {
     "data": {
      "text/html": [
       "<div>\n",
       "<style scoped>\n",
       "    .dataframe tbody tr th:only-of-type {\n",
       "        vertical-align: middle;\n",
       "    }\n",
       "\n",
       "    .dataframe tbody tr th {\n",
       "        vertical-align: top;\n",
       "    }\n",
       "\n",
       "    .dataframe thead th {\n",
       "        text-align: right;\n",
       "    }\n",
       "</style>\n",
       "<table border=\"1\" class=\"dataframe\">\n",
       "  <thead>\n",
       "    <tr style=\"text-align: right;\">\n",
       "      <th></th>\n",
       "      <th></th>\n",
       "      <th>Sales</th>\n",
       "    </tr>\n",
       "    <tr>\n",
       "      <th>Months</th>\n",
       "      <th>Seasons</th>\n",
       "      <th></th>\n",
       "    </tr>\n",
       "  </thead>\n",
       "  <tbody>\n",
       "    <tr>\n",
       "      <th>Apr</th>\n",
       "      <th>Spring</th>\n",
       "      <td>29000</td>\n",
       "    </tr>\n",
       "    <tr>\n",
       "      <th>Aug</th>\n",
       "      <th>Summer</th>\n",
       "      <td>67000</td>\n",
       "    </tr>\n",
       "    <tr>\n",
       "      <th>Dec</th>\n",
       "      <th>Winter</th>\n",
       "      <td>60000</td>\n",
       "    </tr>\n",
       "    <tr>\n",
       "      <th>Feb</th>\n",
       "      <th>Winter</th>\n",
       "      <td>27000</td>\n",
       "    </tr>\n",
       "    <tr>\n",
       "      <th>Jan</th>\n",
       "      <th>Winter</th>\n",
       "      <td>22000</td>\n",
       "    </tr>\n",
       "    <tr>\n",
       "      <th>July</th>\n",
       "      <th>Summer</th>\n",
       "      <td>78000</td>\n",
       "    </tr>\n",
       "    <tr>\n",
       "      <th>June</th>\n",
       "      <th>Summer</th>\n",
       "      <td>67000</td>\n",
       "    </tr>\n",
       "    <tr>\n",
       "      <th>Mar</th>\n",
       "      <th>Spring</th>\n",
       "      <td>25000</td>\n",
       "    </tr>\n",
       "    <tr>\n",
       "      <th>May</th>\n",
       "      <th>Spring</th>\n",
       "      <td>35000</td>\n",
       "    </tr>\n",
       "    <tr>\n",
       "      <th>Nov</th>\n",
       "      <th>Fall</th>\n",
       "      <td>89000</td>\n",
       "    </tr>\n",
       "    <tr>\n",
       "      <th>Oct</th>\n",
       "      <th>Fall</th>\n",
       "      <td>56000</td>\n",
       "    </tr>\n",
       "    <tr>\n",
       "      <th>Sep</th>\n",
       "      <th>Fall</th>\n",
       "      <td>56000</td>\n",
       "    </tr>\n",
       "  </tbody>\n",
       "</table>\n",
       "</div>"
      ],
      "text/plain": [
       "                Sales\n",
       "Months Seasons       \n",
       "Apr    Spring   29000\n",
       "Aug    Summer   67000\n",
       "Dec    Winter   60000\n",
       "Feb    Winter   27000\n",
       "Jan    Winter   22000\n",
       "July   Summer   78000\n",
       "June   Summer   67000\n",
       "Mar    Spring   25000\n",
       "May    Spring   35000\n",
       "Nov    Fall     89000\n",
       "Oct    Fall     56000\n",
       "Sep    Fall     56000"
      ]
     },
     "execution_count": 27,
     "metadata": {},
     "output_type": "execute_result"
    }
   ],
   "source": [
    "# to create pivot table having multiple indexes\n",
    "# index is a list of column names to be considered as indexes\n",
    "pd.pivot_table(df_sales,index=[\"Months\", \"Seasons\"])"
   ]
  },
  {
   "cell_type": "markdown",
   "id": "ffa4d4d5",
   "metadata": {},
   "source": [
    "To create a pivot table for with the index as 'Seasons'. Also, set the values to be 'Sales'."
   ]
  },
  {
   "cell_type": "code",
   "execution_count": 28,
   "id": "065af29f",
   "metadata": {},
   "outputs": [
    {
     "data": {
      "text/html": [
       "<div>\n",
       "<style scoped>\n",
       "    .dataframe tbody tr th:only-of-type {\n",
       "        vertical-align: middle;\n",
       "    }\n",
       "\n",
       "    .dataframe tbody tr th {\n",
       "        vertical-align: top;\n",
       "    }\n",
       "\n",
       "    .dataframe thead th {\n",
       "        text-align: right;\n",
       "    }\n",
       "</style>\n",
       "<table border=\"1\" class=\"dataframe\">\n",
       "  <thead>\n",
       "    <tr style=\"text-align: right;\">\n",
       "      <th></th>\n",
       "      <th>Sales</th>\n",
       "    </tr>\n",
       "    <tr>\n",
       "      <th>Seasons</th>\n",
       "      <th></th>\n",
       "    </tr>\n",
       "  </thead>\n",
       "  <tbody>\n",
       "    <tr>\n",
       "      <th>Fall</th>\n",
       "      <td>67000.000000</td>\n",
       "    </tr>\n",
       "    <tr>\n",
       "      <th>Spring</th>\n",
       "      <td>29666.666667</td>\n",
       "    </tr>\n",
       "    <tr>\n",
       "      <th>Summer</th>\n",
       "      <td>70666.666667</td>\n",
       "    </tr>\n",
       "    <tr>\n",
       "      <th>Winter</th>\n",
       "      <td>36333.333333</td>\n",
       "    </tr>\n",
       "  </tbody>\n",
       "</table>\n",
       "</div>"
      ],
      "text/plain": [
       "                Sales\n",
       "Seasons              \n",
       "Fall     67000.000000\n",
       "Spring   29666.666667\n",
       "Summer   70666.666667\n",
       "Winter   36333.333333"
      ]
     },
     "execution_count": 28,
     "metadata": {},
     "output_type": "execute_result"
    }
   ],
   "source": [
    "# create a pivot table for with the index as 'Seasons' and values as 'Sales'\n",
    "# index is a list of column names to be considered as indexes\n",
    "# values represent the numeric data\n",
    "pd.pivot_table(df_sales,index=[\"Seasons\"],values=[\"Sales\"])"
   ]
  },
  {
   "cell_type": "markdown",
   "id": "42f42eb4",
   "metadata": {},
   "source": [
    "The output gives the average sale in each season. The argument `aggfunc` by default will find the average of all values for an index. For example, for the index `Fall`, the average of all the observation having index 'Fall' is given\n",
    "\n",
    "However, if one is not interested in the average, it is also possible to find the count or the sum of the observations."
   ]
  },
  {
   "cell_type": "markdown",
   "id": "6b1d107b",
   "metadata": {},
   "source": [
    "Let us find the sum of sales in each season."
   ]
  },
  {
   "cell_type": "code",
   "execution_count": 29,
   "id": "42ccd6fb",
   "metadata": {},
   "outputs": [
    {
     "data": {
      "text/html": [
       "<div>\n",
       "<style scoped>\n",
       "    .dataframe tbody tr th:only-of-type {\n",
       "        vertical-align: middle;\n",
       "    }\n",
       "\n",
       "    .dataframe tbody tr th {\n",
       "        vertical-align: top;\n",
       "    }\n",
       "\n",
       "    .dataframe thead th {\n",
       "        text-align: right;\n",
       "    }\n",
       "</style>\n",
       "<table border=\"1\" class=\"dataframe\">\n",
       "  <thead>\n",
       "    <tr style=\"text-align: right;\">\n",
       "      <th></th>\n",
       "      <th>Sales</th>\n",
       "    </tr>\n",
       "    <tr>\n",
       "      <th>Seasons</th>\n",
       "      <th></th>\n",
       "    </tr>\n",
       "  </thead>\n",
       "  <tbody>\n",
       "    <tr>\n",
       "      <th>Fall</th>\n",
       "      <td>201000</td>\n",
       "    </tr>\n",
       "    <tr>\n",
       "      <th>Spring</th>\n",
       "      <td>89000</td>\n",
       "    </tr>\n",
       "    <tr>\n",
       "      <th>Summer</th>\n",
       "      <td>212000</td>\n",
       "    </tr>\n",
       "    <tr>\n",
       "      <th>Winter</th>\n",
       "      <td>109000</td>\n",
       "    </tr>\n",
       "  </tbody>\n",
       "</table>\n",
       "</div>"
      ],
      "text/plain": [
       "          Sales\n",
       "Seasons        \n",
       "Fall     201000\n",
       "Spring    89000\n",
       "Summer   212000\n",
       "Winter   109000"
      ]
     },
     "execution_count": 29,
     "metadata": {},
     "output_type": "execute_result"
    }
   ],
   "source": [
    "# to create a pivot table for with the index as 'Seasons' and values as 'Sales'\n",
    "# index is a list of column names to be considered as indexes\n",
    "# values represent the numeric data\n",
    "# aggfunc specifies the function \n",
    "pd.pivot_table(df_sales,index=[\"Seasons\"],values=[\"Sales\"], aggfunc=np.sum)"
   ]
  },
  {
   "cell_type": "markdown",
   "id": "5f6af589",
   "metadata": {},
   "source": [
    "The `aggfunc` can take a list of functions. "
   ]
  },
  {
   "cell_type": "code",
   "execution_count": 30,
   "id": "a2e7c8b8",
   "metadata": {},
   "outputs": [
    {
     "data": {
      "text/html": [
       "<div>\n",
       "<style scoped>\n",
       "    .dataframe tbody tr th:only-of-type {\n",
       "        vertical-align: middle;\n",
       "    }\n",
       "\n",
       "    .dataframe tbody tr th {\n",
       "        vertical-align: top;\n",
       "    }\n",
       "\n",
       "    .dataframe thead tr th {\n",
       "        text-align: left;\n",
       "    }\n",
       "\n",
       "    .dataframe thead tr:last-of-type th {\n",
       "        text-align: right;\n",
       "    }\n",
       "</style>\n",
       "<table border=\"1\" class=\"dataframe\">\n",
       "  <thead>\n",
       "    <tr>\n",
       "      <th></th>\n",
       "      <th>mean</th>\n",
       "      <th>len</th>\n",
       "    </tr>\n",
       "    <tr>\n",
       "      <th></th>\n",
       "      <th>Sales</th>\n",
       "      <th>Sales</th>\n",
       "    </tr>\n",
       "    <tr>\n",
       "      <th>Seasons</th>\n",
       "      <th></th>\n",
       "      <th></th>\n",
       "    </tr>\n",
       "  </thead>\n",
       "  <tbody>\n",
       "    <tr>\n",
       "      <th>Fall</th>\n",
       "      <td>67000.000000</td>\n",
       "      <td>3</td>\n",
       "    </tr>\n",
       "    <tr>\n",
       "      <th>Spring</th>\n",
       "      <td>29666.666667</td>\n",
       "      <td>3</td>\n",
       "    </tr>\n",
       "    <tr>\n",
       "      <th>Summer</th>\n",
       "      <td>70666.666667</td>\n",
       "      <td>3</td>\n",
       "    </tr>\n",
       "    <tr>\n",
       "      <th>Winter</th>\n",
       "      <td>36333.333333</td>\n",
       "      <td>3</td>\n",
       "    </tr>\n",
       "  </tbody>\n",
       "</table>\n",
       "</div>"
      ],
      "text/plain": [
       "                 mean   len\n",
       "                Sales Sales\n",
       "Seasons                    \n",
       "Fall     67000.000000     3\n",
       "Spring   29666.666667     3\n",
       "Summer   70666.666667     3\n",
       "Winter   36333.333333     3"
      ]
     },
     "execution_count": 30,
     "metadata": {},
     "output_type": "execute_result"
    }
   ],
   "source": [
    "# to create a pivot table for with the index as 'Seasons' and values as 'Sales'\n",
    "# index is a list of column names to be considered as indexes\n",
    "# values represent the numeric data\n",
    "# aggfunc specifies the function \n",
    "# find the average and count of observations for each season\n",
    "pd.pivot_table(df_sales,index=[\"Seasons\"],values=[\"Sales\"], aggfunc=[np.mean,len])"
   ]
  },
  {
   "cell_type": "markdown",
   "id": "9691fa48",
   "metadata": {},
   "source": [
    "The output gives the function used above the column name. We see that the mean and count of observations are given."
   ]
  },
  {
   "cell_type": "markdown",
   "id": "6016c14b",
   "metadata": {},
   "source": [
    "It is possible to create two-dimensional pivot_tables."
   ]
  },
  {
   "cell_type": "code",
   "execution_count": 31,
   "id": "f418d1bf",
   "metadata": {},
   "outputs": [
    {
     "data": {
      "text/html": [
       "<div>\n",
       "<style scoped>\n",
       "    .dataframe tbody tr th:only-of-type {\n",
       "        vertical-align: middle;\n",
       "    }\n",
       "\n",
       "    .dataframe tbody tr th {\n",
       "        vertical-align: top;\n",
       "    }\n",
       "\n",
       "    .dataframe thead tr th {\n",
       "        text-align: left;\n",
       "    }\n",
       "\n",
       "    .dataframe thead tr:last-of-type th {\n",
       "        text-align: right;\n",
       "    }\n",
       "</style>\n",
       "<table border=\"1\" class=\"dataframe\">\n",
       "  <thead>\n",
       "    <tr>\n",
       "      <th></th>\n",
       "      <th colspan=\"4\" halign=\"left\">sum</th>\n",
       "    </tr>\n",
       "    <tr>\n",
       "      <th></th>\n",
       "      <th colspan=\"4\" halign=\"left\">Sales</th>\n",
       "    </tr>\n",
       "    <tr>\n",
       "      <th>Seasons</th>\n",
       "      <th>Fall</th>\n",
       "      <th>Spring</th>\n",
       "      <th>Summer</th>\n",
       "      <th>Winter</th>\n",
       "    </tr>\n",
       "    <tr>\n",
       "      <th>Months</th>\n",
       "      <th></th>\n",
       "      <th></th>\n",
       "      <th></th>\n",
       "      <th></th>\n",
       "    </tr>\n",
       "  </thead>\n",
       "  <tbody>\n",
       "    <tr>\n",
       "      <th>Apr</th>\n",
       "      <td>NaN</td>\n",
       "      <td>29000.0</td>\n",
       "      <td>NaN</td>\n",
       "      <td>NaN</td>\n",
       "    </tr>\n",
       "    <tr>\n",
       "      <th>Aug</th>\n",
       "      <td>NaN</td>\n",
       "      <td>NaN</td>\n",
       "      <td>67000.0</td>\n",
       "      <td>NaN</td>\n",
       "    </tr>\n",
       "    <tr>\n",
       "      <th>Dec</th>\n",
       "      <td>NaN</td>\n",
       "      <td>NaN</td>\n",
       "      <td>NaN</td>\n",
       "      <td>60000.0</td>\n",
       "    </tr>\n",
       "    <tr>\n",
       "      <th>Feb</th>\n",
       "      <td>NaN</td>\n",
       "      <td>NaN</td>\n",
       "      <td>NaN</td>\n",
       "      <td>27000.0</td>\n",
       "    </tr>\n",
       "    <tr>\n",
       "      <th>Jan</th>\n",
       "      <td>NaN</td>\n",
       "      <td>NaN</td>\n",
       "      <td>NaN</td>\n",
       "      <td>22000.0</td>\n",
       "    </tr>\n",
       "    <tr>\n",
       "      <th>July</th>\n",
       "      <td>NaN</td>\n",
       "      <td>NaN</td>\n",
       "      <td>78000.0</td>\n",
       "      <td>NaN</td>\n",
       "    </tr>\n",
       "    <tr>\n",
       "      <th>June</th>\n",
       "      <td>NaN</td>\n",
       "      <td>NaN</td>\n",
       "      <td>67000.0</td>\n",
       "      <td>NaN</td>\n",
       "    </tr>\n",
       "    <tr>\n",
       "      <th>Mar</th>\n",
       "      <td>NaN</td>\n",
       "      <td>25000.0</td>\n",
       "      <td>NaN</td>\n",
       "      <td>NaN</td>\n",
       "    </tr>\n",
       "    <tr>\n",
       "      <th>May</th>\n",
       "      <td>NaN</td>\n",
       "      <td>35000.0</td>\n",
       "      <td>NaN</td>\n",
       "      <td>NaN</td>\n",
       "    </tr>\n",
       "    <tr>\n",
       "      <th>Nov</th>\n",
       "      <td>89000.0</td>\n",
       "      <td>NaN</td>\n",
       "      <td>NaN</td>\n",
       "      <td>NaN</td>\n",
       "    </tr>\n",
       "    <tr>\n",
       "      <th>Oct</th>\n",
       "      <td>56000.0</td>\n",
       "      <td>NaN</td>\n",
       "      <td>NaN</td>\n",
       "      <td>NaN</td>\n",
       "    </tr>\n",
       "    <tr>\n",
       "      <th>Sep</th>\n",
       "      <td>56000.0</td>\n",
       "      <td>NaN</td>\n",
       "      <td>NaN</td>\n",
       "      <td>NaN</td>\n",
       "    </tr>\n",
       "  </tbody>\n",
       "</table>\n",
       "</div>"
      ],
      "text/plain": [
       "             sum                           \n",
       "           Sales                           \n",
       "Seasons     Fall   Spring   Summer   Winter\n",
       "Months                                     \n",
       "Apr          NaN  29000.0      NaN      NaN\n",
       "Aug          NaN      NaN  67000.0      NaN\n",
       "Dec          NaN      NaN      NaN  60000.0\n",
       "Feb          NaN      NaN      NaN  27000.0\n",
       "Jan          NaN      NaN      NaN  22000.0\n",
       "July         NaN      NaN  78000.0      NaN\n",
       "June         NaN      NaN  67000.0      NaN\n",
       "Mar          NaN  25000.0      NaN      NaN\n",
       "May          NaN  35000.0      NaN      NaN\n",
       "Nov      89000.0      NaN      NaN      NaN\n",
       "Oct      56000.0      NaN      NaN      NaN\n",
       "Sep      56000.0      NaN      NaN      NaN"
      ]
     },
     "execution_count": 31,
     "metadata": {},
     "output_type": "execute_result"
    }
   ],
   "source": [
    "# create a pivot table for with the index as 'Months', values as 'Sales' and columns as 'Seasons'\n",
    "# index is a list of column names to be considered as indexes\n",
    "# values represent the numeric data\n",
    "# columns is categorical variable(s) whose categories form the columns of the pivot table\n",
    "# aggfunc specifies the function \n",
    "# find the sum observations for each season and month\n",
    "pd.pivot_table(df_sales, index = [\"Months\"], values = [\"Sales\"], columns = [\"Seasons\"], aggfunc = [np.sum])"
   ]
  },
  {
   "cell_type": "markdown",
   "id": "31c79318",
   "metadata": {},
   "source": [
    "The above table is a bit gaudy to look. Let us replace the NaN's with 0's."
   ]
  },
  {
   "cell_type": "code",
   "execution_count": 32,
   "id": "74d42bf5",
   "metadata": {},
   "outputs": [
    {
     "data": {
      "text/html": [
       "<div>\n",
       "<style scoped>\n",
       "    .dataframe tbody tr th:only-of-type {\n",
       "        vertical-align: middle;\n",
       "    }\n",
       "\n",
       "    .dataframe tbody tr th {\n",
       "        vertical-align: top;\n",
       "    }\n",
       "\n",
       "    .dataframe thead tr th {\n",
       "        text-align: left;\n",
       "    }\n",
       "\n",
       "    .dataframe thead tr:last-of-type th {\n",
       "        text-align: right;\n",
       "    }\n",
       "</style>\n",
       "<table border=\"1\" class=\"dataframe\">\n",
       "  <thead>\n",
       "    <tr>\n",
       "      <th></th>\n",
       "      <th colspan=\"4\" halign=\"left\">sum</th>\n",
       "    </tr>\n",
       "    <tr>\n",
       "      <th></th>\n",
       "      <th colspan=\"4\" halign=\"left\">Sales</th>\n",
       "    </tr>\n",
       "    <tr>\n",
       "      <th>Seasons</th>\n",
       "      <th>Fall</th>\n",
       "      <th>Spring</th>\n",
       "      <th>Summer</th>\n",
       "      <th>Winter</th>\n",
       "    </tr>\n",
       "    <tr>\n",
       "      <th>Months</th>\n",
       "      <th></th>\n",
       "      <th></th>\n",
       "      <th></th>\n",
       "      <th></th>\n",
       "    </tr>\n",
       "  </thead>\n",
       "  <tbody>\n",
       "    <tr>\n",
       "      <th>Apr</th>\n",
       "      <td>0</td>\n",
       "      <td>29000</td>\n",
       "      <td>0</td>\n",
       "      <td>0</td>\n",
       "    </tr>\n",
       "    <tr>\n",
       "      <th>Aug</th>\n",
       "      <td>0</td>\n",
       "      <td>0</td>\n",
       "      <td>67000</td>\n",
       "      <td>0</td>\n",
       "    </tr>\n",
       "    <tr>\n",
       "      <th>Dec</th>\n",
       "      <td>0</td>\n",
       "      <td>0</td>\n",
       "      <td>0</td>\n",
       "      <td>60000</td>\n",
       "    </tr>\n",
       "    <tr>\n",
       "      <th>Feb</th>\n",
       "      <td>0</td>\n",
       "      <td>0</td>\n",
       "      <td>0</td>\n",
       "      <td>27000</td>\n",
       "    </tr>\n",
       "    <tr>\n",
       "      <th>Jan</th>\n",
       "      <td>0</td>\n",
       "      <td>0</td>\n",
       "      <td>0</td>\n",
       "      <td>22000</td>\n",
       "    </tr>\n",
       "    <tr>\n",
       "      <th>July</th>\n",
       "      <td>0</td>\n",
       "      <td>0</td>\n",
       "      <td>78000</td>\n",
       "      <td>0</td>\n",
       "    </tr>\n",
       "    <tr>\n",
       "      <th>June</th>\n",
       "      <td>0</td>\n",
       "      <td>0</td>\n",
       "      <td>67000</td>\n",
       "      <td>0</td>\n",
       "    </tr>\n",
       "    <tr>\n",
       "      <th>Mar</th>\n",
       "      <td>0</td>\n",
       "      <td>25000</td>\n",
       "      <td>0</td>\n",
       "      <td>0</td>\n",
       "    </tr>\n",
       "    <tr>\n",
       "      <th>May</th>\n",
       "      <td>0</td>\n",
       "      <td>35000</td>\n",
       "      <td>0</td>\n",
       "      <td>0</td>\n",
       "    </tr>\n",
       "    <tr>\n",
       "      <th>Nov</th>\n",
       "      <td>89000</td>\n",
       "      <td>0</td>\n",
       "      <td>0</td>\n",
       "      <td>0</td>\n",
       "    </tr>\n",
       "    <tr>\n",
       "      <th>Oct</th>\n",
       "      <td>56000</td>\n",
       "      <td>0</td>\n",
       "      <td>0</td>\n",
       "      <td>0</td>\n",
       "    </tr>\n",
       "    <tr>\n",
       "      <th>Sep</th>\n",
       "      <td>56000</td>\n",
       "      <td>0</td>\n",
       "      <td>0</td>\n",
       "      <td>0</td>\n",
       "    </tr>\n",
       "  </tbody>\n",
       "</table>\n",
       "</div>"
      ],
      "text/plain": [
       "           sum                     \n",
       "         Sales                     \n",
       "Seasons   Fall Spring Summer Winter\n",
       "Months                             \n",
       "Apr          0  29000      0      0\n",
       "Aug          0      0  67000      0\n",
       "Dec          0      0      0  60000\n",
       "Feb          0      0      0  27000\n",
       "Jan          0      0      0  22000\n",
       "July         0      0  78000      0\n",
       "June         0      0  67000      0\n",
       "Mar          0  25000      0      0\n",
       "May          0  35000      0      0\n",
       "Nov      89000      0      0      0\n",
       "Oct      56000      0      0      0\n",
       "Sep      56000      0      0      0"
      ]
     },
     "execution_count": 32,
     "metadata": {},
     "output_type": "execute_result"
    }
   ],
   "source": [
    "# create a pivot table for with the index as 'Months', values as 'Sales' and columns as 'Seasons'\n",
    "# index is a list of column names to be considered as indexes\n",
    "# values represent the numeric data\n",
    "# columns is categorical variable(s) whose categories form the columns of the pivot table\n",
    "# aggfunc specifies the function \n",
    "# find the sum observations for each season and month\n",
    "# use fill_value to replace all NaN's as 0's\n",
    "pd.pivot_table(df_sales, index = [\"Months\"], values = [\"Sales\"], columns = [\"Seasons\"],\n",
    "               aggfunc = [np.sum], fill_value = 0)"
   ]
  },
  {
   "cell_type": "markdown",
   "id": "6ab61a30",
   "metadata": {},
   "source": [
    "The indexes of the pivot table are the months and the columns are the seasons. "
   ]
  },
  {
   "cell_type": "markdown",
   "id": "a8595fd6",
   "metadata": {},
   "source": [
    "<a id=\"crosst\"> </a>\n",
    "### 4. Cross Table"
   ]
  },
  {
   "cell_type": "markdown",
   "id": "b2104941",
   "metadata": {},
   "source": [
    "Crosstables are similar to pivot tables. They represent the frequency of occurrence of certain groups in the data.\n",
    "\n",
    "Let us first the read the peoples data."
   ]
  },
  {
   "cell_type": "code",
   "execution_count": 3,
   "id": "089af93f",
   "metadata": {},
   "outputs": [
    {
     "data": {
      "text/html": [
       "<div>\n",
       "<style scoped>\n",
       "    .dataframe tbody tr th:only-of-type {\n",
       "        vertical-align: middle;\n",
       "    }\n",
       "\n",
       "    .dataframe tbody tr th {\n",
       "        vertical-align: top;\n",
       "    }\n",
       "\n",
       "    .dataframe thead th {\n",
       "        text-align: right;\n",
       "    }\n",
       "</style>\n",
       "<table border=\"1\" class=\"dataframe\">\n",
       "  <thead>\n",
       "    <tr style=\"text-align: right;\">\n",
       "      <th></th>\n",
       "      <th>Age</th>\n",
       "      <th>Gender</th>\n",
       "      <th>Hometown</th>\n",
       "      <th>Height</th>\n",
       "      <th>Qualification</th>\n",
       "      <th>Smoker</th>\n",
       "    </tr>\n",
       "  </thead>\n",
       "  <tbody>\n",
       "    <tr>\n",
       "      <th>0</th>\n",
       "      <td>45</td>\n",
       "      <td>Male</td>\n",
       "      <td>Mumbai</td>\n",
       "      <td>167</td>\n",
       "      <td>Graduate</td>\n",
       "      <td>Yes</td>\n",
       "    </tr>\n",
       "    <tr>\n",
       "      <th>1</th>\n",
       "      <td>23</td>\n",
       "      <td>Female</td>\n",
       "      <td>Mumbai</td>\n",
       "      <td>170</td>\n",
       "      <td>Graduate</td>\n",
       "      <td>No</td>\n",
       "    </tr>\n",
       "    <tr>\n",
       "      <th>2</th>\n",
       "      <td>27</td>\n",
       "      <td>Male</td>\n",
       "      <td>Mumbai</td>\n",
       "      <td>175</td>\n",
       "      <td>Post-graduate</td>\n",
       "      <td>No</td>\n",
       "    </tr>\n",
       "    <tr>\n",
       "      <th>3</th>\n",
       "      <td>34</td>\n",
       "      <td>Male</td>\n",
       "      <td>Delhi</td>\n",
       "      <td>155</td>\n",
       "      <td>Graduate</td>\n",
       "      <td>No</td>\n",
       "    </tr>\n",
       "    <tr>\n",
       "      <th>4</th>\n",
       "      <td>43</td>\n",
       "      <td>Female</td>\n",
       "      <td>Mumbai</td>\n",
       "      <td>157</td>\n",
       "      <td>Post-graduate</td>\n",
       "      <td>Yes</td>\n",
       "    </tr>\n",
       "  </tbody>\n",
       "</table>\n",
       "</div>"
      ],
      "text/plain": [
       "   Age  Gender Hometown  Height  Qualification Smoker\n",
       "0   45    Male   Mumbai     167       Graduate    Yes\n",
       "1   23  Female   Mumbai     170       Graduate     No\n",
       "2   27    Male   Mumbai     175  Post-graduate     No\n",
       "3   34    Male    Delhi     155       Graduate     No\n",
       "4   43  Female   Mumbai     157  Post-graduate    Yes"
      ]
     },
     "execution_count": 3,
     "metadata": {},
     "output_type": "execute_result"
    }
   ],
   "source": [
    "# read the csv file \n",
    "import pandas as pd\n",
    "df_people = pd.read_csv('people.csv')\n",
    "\n",
    "# print head of the data\n",
    "df_people.head()"
   ]
  },
  {
   "cell_type": "code",
   "execution_count": 34,
   "id": "a50430fa",
   "metadata": {},
   "outputs": [
    {
     "data": {
      "text/html": [
       "<div>\n",
       "<style scoped>\n",
       "    .dataframe tbody tr th:only-of-type {\n",
       "        vertical-align: middle;\n",
       "    }\n",
       "\n",
       "    .dataframe tbody tr th {\n",
       "        vertical-align: top;\n",
       "    }\n",
       "\n",
       "    .dataframe thead th {\n",
       "        text-align: right;\n",
       "    }\n",
       "</style>\n",
       "<table border=\"1\" class=\"dataframe\">\n",
       "  <thead>\n",
       "    <tr style=\"text-align: right;\">\n",
       "      <th>Hometown</th>\n",
       "      <th>Bangalore</th>\n",
       "      <th>Delhi</th>\n",
       "      <th>Mumbai</th>\n",
       "    </tr>\n",
       "    <tr>\n",
       "      <th>Qualification</th>\n",
       "      <th></th>\n",
       "      <th></th>\n",
       "      <th></th>\n",
       "    </tr>\n",
       "  </thead>\n",
       "  <tbody>\n",
       "    <tr>\n",
       "      <th>Diploma</th>\n",
       "      <td>2</td>\n",
       "      <td>3</td>\n",
       "      <td>1</td>\n",
       "    </tr>\n",
       "    <tr>\n",
       "      <th>Graduate</th>\n",
       "      <td>1</td>\n",
       "      <td>2</td>\n",
       "      <td>5</td>\n",
       "    </tr>\n",
       "    <tr>\n",
       "      <th>Post-graduate</th>\n",
       "      <td>3</td>\n",
       "      <td>1</td>\n",
       "      <td>3</td>\n",
       "    </tr>\n",
       "  </tbody>\n",
       "</table>\n",
       "</div>"
      ],
      "text/plain": [
       "Hometown       Bangalore  Delhi  Mumbai\n",
       "Qualification                          \n",
       "Diploma                2      3       1\n",
       "Graduate               1      2       5\n",
       "Post-graduate          3      1       3"
      ]
     },
     "execution_count": 34,
     "metadata": {},
     "output_type": "execute_result"
    }
   ],
   "source": [
    "# find the count of of qualifications people have from each city\n",
    "pd.crosstab(df_people.Qualification, df_people.Hometown)"
   ]
  },
  {
   "cell_type": "markdown",
   "id": "30686dad",
   "metadata": {},
   "source": [
    "We see there are more post-graduates from Mumbai and Banglore than in Delhi.\n",
    "\n",
    "It is possible to rename the column and row names. We use the parameters `rownames` and `columnames` for rows and columns, respectively."
   ]
  },
  {
   "cell_type": "code",
   "execution_count": 35,
   "id": "27529a20",
   "metadata": {},
   "outputs": [
    {
     "data": {
      "text/html": [
       "<div>\n",
       "<style scoped>\n",
       "    .dataframe tbody tr th:only-of-type {\n",
       "        vertical-align: middle;\n",
       "    }\n",
       "\n",
       "    .dataframe tbody tr th {\n",
       "        vertical-align: top;\n",
       "    }\n",
       "\n",
       "    .dataframe thead th {\n",
       "        text-align: right;\n",
       "    }\n",
       "</style>\n",
       "<table border=\"1\" class=\"dataframe\">\n",
       "  <thead>\n",
       "    <tr style=\"text-align: right;\">\n",
       "      <th>City</th>\n",
       "      <th>Bangalore</th>\n",
       "      <th>Delhi</th>\n",
       "      <th>Mumbai</th>\n",
       "    </tr>\n",
       "    <tr>\n",
       "      <th>Highest Qualification</th>\n",
       "      <th></th>\n",
       "      <th></th>\n",
       "      <th></th>\n",
       "    </tr>\n",
       "  </thead>\n",
       "  <tbody>\n",
       "    <tr>\n",
       "      <th>Diploma</th>\n",
       "      <td>2</td>\n",
       "      <td>3</td>\n",
       "      <td>1</td>\n",
       "    </tr>\n",
       "    <tr>\n",
       "      <th>Graduate</th>\n",
       "      <td>1</td>\n",
       "      <td>2</td>\n",
       "      <td>5</td>\n",
       "    </tr>\n",
       "    <tr>\n",
       "      <th>Post-graduate</th>\n",
       "      <td>3</td>\n",
       "      <td>1</td>\n",
       "      <td>3</td>\n",
       "    </tr>\n",
       "  </tbody>\n",
       "</table>\n",
       "</div>"
      ],
      "text/plain": [
       "City                   Bangalore  Delhi  Mumbai\n",
       "Highest Qualification                          \n",
       "Diploma                        2      3       1\n",
       "Graduate                       1      2       5\n",
       "Post-graduate                  3      1       3"
      ]
     },
     "execution_count": 35,
     "metadata": {},
     "output_type": "execute_result"
    }
   ],
   "source": [
    "# find the count of qualifications people have from each city\n",
    "# rownames are the categories of a variable which form the indexes\n",
    "# columnames are the categories of a variable which form the indexes\n",
    "pd.crosstab(df_people.Qualification, df_people.Hometown, rownames = ['Highest Qualification'], colnames=['City'])"
   ]
  },
  {
   "cell_type": "markdown",
   "id": "98f889da",
   "metadata": {},
   "source": [
    "Lets us now see the average age of smokers based on their city of residence"
   ]
  },
  {
   "cell_type": "code",
   "execution_count": 11,
   "id": "61a3f075",
   "metadata": {},
   "outputs": [
    {
     "data": {
      "text/html": [
       "<div>\n",
       "<style scoped>\n",
       "    .dataframe tbody tr th:only-of-type {\n",
       "        vertical-align: middle;\n",
       "    }\n",
       "\n",
       "    .dataframe tbody tr th {\n",
       "        vertical-align: top;\n",
       "    }\n",
       "\n",
       "    .dataframe thead th {\n",
       "        text-align: right;\n",
       "    }\n",
       "</style>\n",
       "<table border=\"1\" class=\"dataframe\">\n",
       "  <thead>\n",
       "    <tr style=\"text-align: right;\">\n",
       "      <th>Smoker</th>\n",
       "      <th>No</th>\n",
       "      <th>Yes</th>\n",
       "    </tr>\n",
       "    <tr>\n",
       "      <th>Hometown</th>\n",
       "      <th></th>\n",
       "      <th></th>\n",
       "    </tr>\n",
       "  </thead>\n",
       "  <tbody>\n",
       "    <tr>\n",
       "      <th>Bangalore</th>\n",
       "      <td>32.333333</td>\n",
       "      <td>52.0</td>\n",
       "    </tr>\n",
       "    <tr>\n",
       "      <th>Delhi</th>\n",
       "      <td>34.000000</td>\n",
       "      <td>50.0</td>\n",
       "    </tr>\n",
       "    <tr>\n",
       "      <th>Mumbai</th>\n",
       "      <td>39.333333</td>\n",
       "      <td>44.0</td>\n",
       "    </tr>\n",
       "  </tbody>\n",
       "</table>\n",
       "</div>"
      ],
      "text/plain": [
       "Smoker            No   Yes\n",
       "Hometown                  \n",
       "Bangalore  32.333333  52.0\n",
       "Delhi      34.000000  50.0\n",
       "Mumbai     39.333333  44.0"
      ]
     },
     "execution_count": 11,
     "metadata": {},
     "output_type": "execute_result"
    }
   ],
   "source": [
    "# find the average age of smokers based on their city of residence\n",
    "# values represent the numeric data\n",
    "# aggfunc specifies the function\n",
    "pd.crosstab(df_people.Hometown, df_people.Smoker, values = df_people.Age, aggfunc = 'mean')"
   ]
  },
  {
   "cell_type": "markdown",
   "id": "10c17ff7",
   "metadata": {},
   "source": [
    "The output gives the average age of each of smoker and non-smoker in each city."
   ]
  },
  {
   "cell_type": "markdown",
   "id": "e2d17dd2",
   "metadata": {},
   "source": [
    "<a id=\"Duplicate\"> </a>\n",
    "### 5. Duplicate"
   ]
  },
  {
   "cell_type": "code",
   "execution_count": 13,
   "id": "49985965",
   "metadata": {},
   "outputs": [
    {
     "data": {
      "text/html": [
       "<div>\n",
       "<style scoped>\n",
       "    .dataframe tbody tr th:only-of-type {\n",
       "        vertical-align: middle;\n",
       "    }\n",
       "\n",
       "    .dataframe tbody tr th {\n",
       "        vertical-align: top;\n",
       "    }\n",
       "\n",
       "    .dataframe thead th {\n",
       "        text-align: right;\n",
       "    }\n",
       "</style>\n",
       "<table border=\"1\" class=\"dataframe\">\n",
       "  <thead>\n",
       "    <tr style=\"text-align: right;\">\n",
       "      <th></th>\n",
       "      <th>Name</th>\n",
       "      <th>Company</th>\n",
       "      <th>Salary</th>\n",
       "    </tr>\n",
       "  </thead>\n",
       "  <tbody>\n",
       "    <tr>\n",
       "      <th>0</th>\n",
       "      <td>Anne</td>\n",
       "      <td>Apple</td>\n",
       "      <td>8500</td>\n",
       "    </tr>\n",
       "    <tr>\n",
       "      <th>1</th>\n",
       "      <td>Bobby</td>\n",
       "      <td>Walmart</td>\n",
       "      <td>6300</td>\n",
       "    </tr>\n",
       "    <tr>\n",
       "      <th>2</th>\n",
       "      <td>James</td>\n",
       "      <td>Walmart</td>\n",
       "      <td>5500</td>\n",
       "    </tr>\n",
       "    <tr>\n",
       "      <th>3</th>\n",
       "      <td>Lewis</td>\n",
       "      <td>Intel</td>\n",
       "      <td>7400</td>\n",
       "    </tr>\n",
       "    <tr>\n",
       "      <th>4</th>\n",
       "      <td>Ross</td>\n",
       "      <td>Apple</td>\n",
       "      <td>3100</td>\n",
       "    </tr>\n",
       "    <tr>\n",
       "      <th>5</th>\n",
       "      <td>Cathrine</td>\n",
       "      <td>Walmart</td>\n",
       "      <td>7700</td>\n",
       "    </tr>\n",
       "    <tr>\n",
       "      <th>6</th>\n",
       "      <td>Anne</td>\n",
       "      <td>Apple</td>\n",
       "      <td>8500</td>\n",
       "    </tr>\n",
       "    <tr>\n",
       "      <th>7</th>\n",
       "      <td>Bobby</td>\n",
       "      <td>Cognizant</td>\n",
       "      <td>6300</td>\n",
       "    </tr>\n",
       "    <tr>\n",
       "      <th>8</th>\n",
       "      <td>Jack</td>\n",
       "      <td>Apple</td>\n",
       "      <td>4200</td>\n",
       "    </tr>\n",
       "    <tr>\n",
       "      <th>9</th>\n",
       "      <td>Alisa</td>\n",
       "      <td>Apple</td>\n",
       "      <td>6200</td>\n",
       "    </tr>\n",
       "    <tr>\n",
       "      <th>10</th>\n",
       "      <td>Alex</td>\n",
       "      <td>Cognizant</td>\n",
       "      <td>8900</td>\n",
       "    </tr>\n",
       "    <tr>\n",
       "      <th>11</th>\n",
       "      <td>Cathrine</td>\n",
       "      <td>Walmart</td>\n",
       "      <td>7700</td>\n",
       "    </tr>\n",
       "  </tbody>\n",
       "</table>\n",
       "</div>"
      ],
      "text/plain": [
       "        Name    Company  Salary\n",
       "0       Anne      Apple    8500\n",
       "1      Bobby    Walmart    6300\n",
       "2      James    Walmart    5500\n",
       "3      Lewis      Intel    7400\n",
       "4       Ross      Apple    3100\n",
       "5   Cathrine    Walmart    7700\n",
       "6       Anne      Apple    8500\n",
       "7      Bobby  Cognizant    6300\n",
       "8       Jack      Apple    4200\n",
       "9      Alisa      Apple    6200\n",
       "10      Alex  Cognizant    8900\n",
       "11  Cathrine    Walmart    7700"
      ]
     },
     "execution_count": 13,
     "metadata": {},
     "output_type": "execute_result"
    }
   ],
   "source": [
    "# create a dictionary\n",
    "data = { 'Name':['Anne','Bobby','James','Lewis','Ross','Cathrine',\n",
    "            'Anne','Bobby','Jack','Alisa','Alex','Cathrine'],\n",
    "    'Company':['Apple','Walmart','Walmart','Intel','Apple','Walmart','Apple',\n",
    "               'Cognizant','Apple','Apple','Cognizant','Walmart'],\n",
    "    'Salary':[8500, 6300, 5500, 7400, 3100, 7700, 8500, 6300, 4200, 6200, 8900, 7700]}\n",
    "\n",
    "# create a DataFrame\n",
    "df_employee = pd.DataFrame(data, columns=['Name','Company','Salary'])\n",
    "df_employee"
   ]
  },
  {
   "cell_type": "markdown",
   "id": "18c49d0b",
   "metadata": {},
   "source": [
    "**Duplicate Rows Based on All Columns**"
   ]
  },
  {
   "cell_type": "code",
   "execution_count": 15,
   "id": "7c1e5285",
   "metadata": {},
   "outputs": [
    {
     "name": "stdout",
     "output_type": "stream",
     "text": [
      "Duplicate Rows except first occurrence based on all columns are :\n",
      "        Name  Company  Salary\n",
      "6       Anne    Apple    8500\n",
      "11  Cathrine  Walmart    7700\n"
     ]
    }
   ],
   "source": [
    "# Select duplicate rows except first occurrence based on all columns\n",
    "duplicate_df = df_employee[df_employee.duplicated()]\n",
    "\n",
    "# print the duplicate rows\n",
    "print(\"Duplicate Rows except first occurrence based on all columns are :\")\n",
    "print(duplicate_df)"
   ]
  },
  {
   "cell_type": "markdown",
   "id": "e0f2f492",
   "metadata": {},
   "source": [
    "**Duplicate Rows Based on Selected Columns**"
   ]
  },
  {
   "cell_type": "markdown",
   "id": "0e244216",
   "metadata": {},
   "source": [
    "Let’s find and select rows based on a single column"
   ]
  },
  {
   "cell_type": "code",
   "execution_count": 39,
   "id": "6ff6fe9f",
   "metadata": {},
   "outputs": [
    {
     "name": "stdout",
     "output_type": "stream",
     "text": [
      "        Name    Company  Salary\n",
      "6       Anne      Apple    8500\n",
      "7      Bobby  Cognizant    6300\n",
      "11  Cathrine    Walmart    7700\n"
     ]
    }
   ],
   "source": [
    "# find and select rows based on the column 'Name'\n",
    "df_duplicate = df_employee[df_employee.duplicated('Name')]\n",
    "\n",
    "# print the duplicates\n",
    "print(df_duplicate)"
   ]
  },
  {
   "cell_type": "markdown",
   "id": "70c616b4",
   "metadata": {},
   "source": [
    "Find and select rows based on two column names."
   ]
  },
  {
   "cell_type": "code",
   "execution_count": 40,
   "id": "69401b8e",
   "metadata": {},
   "outputs": [
    {
     "name": "stdout",
     "output_type": "stream",
     "text": [
      "        Name  Company  Salary\n",
      "6       Anne    Apple    8500\n",
      "11  Cathrine  Walmart    7700\n"
     ]
    }
   ],
   "source": [
    "# find and select rows based on the columns 'Name' and 'Company'\n",
    "df_duplicate = df_employee[df_employee.duplicated(['Name', 'Company'])]\n",
    "\n",
    "# print the duplicates\n",
    "print(df_duplicate)"
   ]
  },
  {
   "cell_type": "markdown",
   "id": "ea4ddaaa",
   "metadata": {},
   "source": [
    "**Drop the Duplicate Rows**\n"
   ]
  },
  {
   "cell_type": "code",
   "execution_count": 41,
   "id": "aeb0ccab",
   "metadata": {},
   "outputs": [
    {
     "data": {
      "text/html": [
       "<div>\n",
       "<style scoped>\n",
       "    .dataframe tbody tr th:only-of-type {\n",
       "        vertical-align: middle;\n",
       "    }\n",
       "\n",
       "    .dataframe tbody tr th {\n",
       "        vertical-align: top;\n",
       "    }\n",
       "\n",
       "    .dataframe thead th {\n",
       "        text-align: right;\n",
       "    }\n",
       "</style>\n",
       "<table border=\"1\" class=\"dataframe\">\n",
       "  <thead>\n",
       "    <tr style=\"text-align: right;\">\n",
       "      <th></th>\n",
       "      <th>Name</th>\n",
       "      <th>Company</th>\n",
       "      <th>Salary</th>\n",
       "    </tr>\n",
       "  </thead>\n",
       "  <tbody>\n",
       "    <tr>\n",
       "      <th>0</th>\n",
       "      <td>Anne</td>\n",
       "      <td>Apple</td>\n",
       "      <td>8500</td>\n",
       "    </tr>\n",
       "    <tr>\n",
       "      <th>1</th>\n",
       "      <td>Bobby</td>\n",
       "      <td>Walmart</td>\n",
       "      <td>6300</td>\n",
       "    </tr>\n",
       "    <tr>\n",
       "      <th>2</th>\n",
       "      <td>James</td>\n",
       "      <td>Walmart</td>\n",
       "      <td>5500</td>\n",
       "    </tr>\n",
       "    <tr>\n",
       "      <th>3</th>\n",
       "      <td>Lewis</td>\n",
       "      <td>Intel</td>\n",
       "      <td>7400</td>\n",
       "    </tr>\n",
       "    <tr>\n",
       "      <th>4</th>\n",
       "      <td>Ross</td>\n",
       "      <td>Apple</td>\n",
       "      <td>3100</td>\n",
       "    </tr>\n",
       "    <tr>\n",
       "      <th>5</th>\n",
       "      <td>Cathrine</td>\n",
       "      <td>Walmart</td>\n",
       "      <td>7700</td>\n",
       "    </tr>\n",
       "    <tr>\n",
       "      <th>7</th>\n",
       "      <td>Bobby</td>\n",
       "      <td>Cognizant</td>\n",
       "      <td>6300</td>\n",
       "    </tr>\n",
       "    <tr>\n",
       "      <th>8</th>\n",
       "      <td>Jack</td>\n",
       "      <td>Apple</td>\n",
       "      <td>4200</td>\n",
       "    </tr>\n",
       "    <tr>\n",
       "      <th>9</th>\n",
       "      <td>Alisa</td>\n",
       "      <td>Apple</td>\n",
       "      <td>6200</td>\n",
       "    </tr>\n",
       "    <tr>\n",
       "      <th>10</th>\n",
       "      <td>Alex</td>\n",
       "      <td>Cognizant</td>\n",
       "      <td>8900</td>\n",
       "    </tr>\n",
       "  </tbody>\n",
       "</table>\n",
       "</div>"
      ],
      "text/plain": [
       "        Name    Company  Salary\n",
       "0       Anne      Apple    8500\n",
       "1      Bobby    Walmart    6300\n",
       "2      James    Walmart    5500\n",
       "3      Lewis      Intel    7400\n",
       "4       Ross      Apple    3100\n",
       "5   Cathrine    Walmart    7700\n",
       "7      Bobby  Cognizant    6300\n",
       "8       Jack      Apple    4200\n",
       "9      Alisa      Apple    6200\n",
       "10      Alex  Cognizant    8900"
      ]
     },
     "execution_count": 41,
     "metadata": {},
     "output_type": "execute_result"
    }
   ],
   "source": [
    "# drop the duplicates values using drop_duplicates()\n",
    "df_employee.drop_duplicates()"
   ]
  },
  {
   "cell_type": "markdown",
   "id": "1282b214",
   "metadata": {},
   "source": [
    "<a id=\"drop\"> </a>\n",
    "### 6. Dropping Rows and Columns"
   ]
  },
  {
   "cell_type": "code",
   "execution_count": 21,
   "id": "4b3b2af1-7689-4367-ad79-013860c819e2",
   "metadata": {},
   "outputs": [],
   "source": [
    "df_employee.drop(index=[0,3],inplace=True)"
   ]
  },
  {
   "cell_type": "code",
   "execution_count": 27,
   "id": "0e0c54d0-8c40-4dc1-9e9f-2185bf0314bc",
   "metadata": {},
   "outputs": [
    {
     "data": {
      "text/html": [
       "<div>\n",
       "<style scoped>\n",
       "    .dataframe tbody tr th:only-of-type {\n",
       "        vertical-align: middle;\n",
       "    }\n",
       "\n",
       "    .dataframe tbody tr th {\n",
       "        vertical-align: top;\n",
       "    }\n",
       "\n",
       "    .dataframe thead th {\n",
       "        text-align: right;\n",
       "    }\n",
       "</style>\n",
       "<table border=\"1\" class=\"dataframe\">\n",
       "  <thead>\n",
       "    <tr style=\"text-align: right;\">\n",
       "      <th></th>\n",
       "      <th>Name</th>\n",
       "      <th>Company</th>\n",
       "    </tr>\n",
       "  </thead>\n",
       "  <tbody>\n",
       "    <tr>\n",
       "      <th>1</th>\n",
       "      <td>Bobby</td>\n",
       "      <td>Walmart</td>\n",
       "    </tr>\n",
       "    <tr>\n",
       "      <th>2</th>\n",
       "      <td>James</td>\n",
       "      <td>Walmart</td>\n",
       "    </tr>\n",
       "    <tr>\n",
       "      <th>4</th>\n",
       "      <td>Ross</td>\n",
       "      <td>Apple</td>\n",
       "    </tr>\n",
       "    <tr>\n",
       "      <th>5</th>\n",
       "      <td>Cathrine</td>\n",
       "      <td>Walmart</td>\n",
       "    </tr>\n",
       "    <tr>\n",
       "      <th>6</th>\n",
       "      <td>Anne</td>\n",
       "      <td>Apple</td>\n",
       "    </tr>\n",
       "    <tr>\n",
       "      <th>7</th>\n",
       "      <td>Bobby</td>\n",
       "      <td>Cognizant</td>\n",
       "    </tr>\n",
       "    <tr>\n",
       "      <th>8</th>\n",
       "      <td>Jack</td>\n",
       "      <td>Apple</td>\n",
       "    </tr>\n",
       "    <tr>\n",
       "      <th>9</th>\n",
       "      <td>Alisa</td>\n",
       "      <td>Apple</td>\n",
       "    </tr>\n",
       "    <tr>\n",
       "      <th>10</th>\n",
       "      <td>Alex</td>\n",
       "      <td>Cognizant</td>\n",
       "    </tr>\n",
       "    <tr>\n",
       "      <th>11</th>\n",
       "      <td>Cathrine</td>\n",
       "      <td>Walmart</td>\n",
       "    </tr>\n",
       "  </tbody>\n",
       "</table>\n",
       "</div>"
      ],
      "text/plain": [
       "        Name    Company\n",
       "1      Bobby    Walmart\n",
       "2      James    Walmart\n",
       "4       Ross      Apple\n",
       "5   Cathrine    Walmart\n",
       "6       Anne      Apple\n",
       "7      Bobby  Cognizant\n",
       "8       Jack      Apple\n",
       "9      Alisa      Apple\n",
       "10      Alex  Cognizant\n",
       "11  Cathrine    Walmart"
      ]
     },
     "execution_count": 27,
     "metadata": {},
     "output_type": "execute_result"
    }
   ],
   "source": [
    "df_employee.drop(columns='Salary',axis=1)"
   ]
  },
  {
   "cell_type": "code",
   "execution_count": 23,
   "id": "b658a7de-e11f-43bd-886c-b86f04776acf",
   "metadata": {},
   "outputs": [
    {
     "data": {
      "text/html": [
       "<div>\n",
       "<style scoped>\n",
       "    .dataframe tbody tr th:only-of-type {\n",
       "        vertical-align: middle;\n",
       "    }\n",
       "\n",
       "    .dataframe tbody tr th {\n",
       "        vertical-align: top;\n",
       "    }\n",
       "\n",
       "    .dataframe thead th {\n",
       "        text-align: right;\n",
       "    }\n",
       "</style>\n",
       "<table border=\"1\" class=\"dataframe\">\n",
       "  <thead>\n",
       "    <tr style=\"text-align: right;\">\n",
       "      <th></th>\n",
       "      <th>Name</th>\n",
       "      <th>Company</th>\n",
       "      <th>Salary</th>\n",
       "    </tr>\n",
       "  </thead>\n",
       "  <tbody>\n",
       "    <tr>\n",
       "      <th>1</th>\n",
       "      <td>Bobby</td>\n",
       "      <td>Walmart</td>\n",
       "      <td>6300</td>\n",
       "    </tr>\n",
       "    <tr>\n",
       "      <th>2</th>\n",
       "      <td>James</td>\n",
       "      <td>Walmart</td>\n",
       "      <td>5500</td>\n",
       "    </tr>\n",
       "    <tr>\n",
       "      <th>4</th>\n",
       "      <td>Ross</td>\n",
       "      <td>Apple</td>\n",
       "      <td>3100</td>\n",
       "    </tr>\n",
       "    <tr>\n",
       "      <th>5</th>\n",
       "      <td>Cathrine</td>\n",
       "      <td>Walmart</td>\n",
       "      <td>7700</td>\n",
       "    </tr>\n",
       "    <tr>\n",
       "      <th>6</th>\n",
       "      <td>Anne</td>\n",
       "      <td>Apple</td>\n",
       "      <td>8500</td>\n",
       "    </tr>\n",
       "    <tr>\n",
       "      <th>7</th>\n",
       "      <td>Bobby</td>\n",
       "      <td>Cognizant</td>\n",
       "      <td>6300</td>\n",
       "    </tr>\n",
       "    <tr>\n",
       "      <th>8</th>\n",
       "      <td>Jack</td>\n",
       "      <td>Apple</td>\n",
       "      <td>4200</td>\n",
       "    </tr>\n",
       "    <tr>\n",
       "      <th>9</th>\n",
       "      <td>Alisa</td>\n",
       "      <td>Apple</td>\n",
       "      <td>6200</td>\n",
       "    </tr>\n",
       "    <tr>\n",
       "      <th>10</th>\n",
       "      <td>Alex</td>\n",
       "      <td>Cognizant</td>\n",
       "      <td>8900</td>\n",
       "    </tr>\n",
       "    <tr>\n",
       "      <th>11</th>\n",
       "      <td>Cathrine</td>\n",
       "      <td>Walmart</td>\n",
       "      <td>7700</td>\n",
       "    </tr>\n",
       "  </tbody>\n",
       "</table>\n",
       "</div>"
      ],
      "text/plain": [
       "        Name    Company  Salary\n",
       "1      Bobby    Walmart    6300\n",
       "2      James    Walmart    5500\n",
       "4       Ross      Apple    3100\n",
       "5   Cathrine    Walmart    7700\n",
       "6       Anne      Apple    8500\n",
       "7      Bobby  Cognizant    6300\n",
       "8       Jack      Apple    4200\n",
       "9      Alisa      Apple    6200\n",
       "10      Alex  Cognizant    8900\n",
       "11  Cathrine    Walmart    7700"
      ]
     },
     "execution_count": 23,
     "metadata": {},
     "output_type": "execute_result"
    }
   ],
   "source": [
    "df_employee"
   ]
  },
  {
   "cell_type": "markdown",
   "id": "d3bd74f6",
   "metadata": {},
   "source": [
    "**1. To drop rows** \n",
    "\n",
    "We shall use the DataFrame `df`."
   ]
  },
  {
   "cell_type": "code",
   "execution_count": 42,
   "id": "85496815",
   "metadata": {},
   "outputs": [
    {
     "data": {
      "text/html": [
       "<div>\n",
       "<style scoped>\n",
       "    .dataframe tbody tr th:only-of-type {\n",
       "        vertical-align: middle;\n",
       "    }\n",
       "\n",
       "    .dataframe tbody tr th {\n",
       "        vertical-align: top;\n",
       "    }\n",
       "\n",
       "    .dataframe thead th {\n",
       "        text-align: right;\n",
       "    }\n",
       "</style>\n",
       "<table border=\"1\" class=\"dataframe\">\n",
       "  <thead>\n",
       "    <tr style=\"text-align: right;\">\n",
       "      <th></th>\n",
       "      <th>Name</th>\n",
       "      <th>Company</th>\n",
       "      <th>Salary</th>\n",
       "    </tr>\n",
       "  </thead>\n",
       "  <tbody>\n",
       "    <tr>\n",
       "      <th>0</th>\n",
       "      <td>Anne</td>\n",
       "      <td>Apple</td>\n",
       "      <td>8500</td>\n",
       "    </tr>\n",
       "    <tr>\n",
       "      <th>2</th>\n",
       "      <td>James</td>\n",
       "      <td>Walmart</td>\n",
       "      <td>5500</td>\n",
       "    </tr>\n",
       "    <tr>\n",
       "      <th>4</th>\n",
       "      <td>Ross</td>\n",
       "      <td>Apple</td>\n",
       "      <td>3100</td>\n",
       "    </tr>\n",
       "    <tr>\n",
       "      <th>6</th>\n",
       "      <td>Anne</td>\n",
       "      <td>Apple</td>\n",
       "      <td>8500</td>\n",
       "    </tr>\n",
       "    <tr>\n",
       "      <th>7</th>\n",
       "      <td>Bobby</td>\n",
       "      <td>Cognizant</td>\n",
       "      <td>6300</td>\n",
       "    </tr>\n",
       "    <tr>\n",
       "      <th>10</th>\n",
       "      <td>Alex</td>\n",
       "      <td>Cognizant</td>\n",
       "      <td>8900</td>\n",
       "    </tr>\n",
       "    <tr>\n",
       "      <th>11</th>\n",
       "      <td>Cathrine</td>\n",
       "      <td>Walmart</td>\n",
       "      <td>7700</td>\n",
       "    </tr>\n",
       "  </tbody>\n",
       "</table>\n",
       "</div>"
      ],
      "text/plain": [
       "        Name    Company  Salary\n",
       "0       Anne      Apple    8500\n",
       "2      James    Walmart    5500\n",
       "4       Ross      Apple    3100\n",
       "6       Anne      Apple    8500\n",
       "7      Bobby  Cognizant    6300\n",
       "10      Alex  Cognizant    8900\n",
       "11  Cathrine    Walmart    7700"
      ]
     },
     "execution_count": 42,
     "metadata": {},
     "output_type": "execute_result"
    }
   ],
   "source": [
    "# drop rows using drop()\n",
    "# index specify the indexes (row names)\n",
    "df_employee.drop(index = [1,9,5,3,8])"
   ]
  },
  {
   "cell_type": "markdown",
   "id": "1cb74324",
   "metadata": {},
   "source": [
    "We see that the index numbers specified have been removed. "
   ]
  },
  {
   "cell_type": "markdown",
   "id": "b5e7e21a",
   "metadata": {},
   "source": [
    "Similarly, we can drop columns."
   ]
  },
  {
   "cell_type": "markdown",
   "id": "a69a360f",
   "metadata": {},
   "source": [
    "**2. To drop columns** \n",
    "\n",
    "We shall use the DataFrame `df` and drop the columns Qualification and Height."
   ]
  },
  {
   "cell_type": "code",
   "execution_count": 43,
   "id": "7668cf5b",
   "metadata": {},
   "outputs": [
    {
     "data": {
      "text/html": [
       "<div>\n",
       "<style scoped>\n",
       "    .dataframe tbody tr th:only-of-type {\n",
       "        vertical-align: middle;\n",
       "    }\n",
       "\n",
       "    .dataframe tbody tr th {\n",
       "        vertical-align: top;\n",
       "    }\n",
       "\n",
       "    .dataframe thead th {\n",
       "        text-align: right;\n",
       "    }\n",
       "</style>\n",
       "<table border=\"1\" class=\"dataframe\">\n",
       "  <thead>\n",
       "    <tr style=\"text-align: right;\">\n",
       "      <th></th>\n",
       "      <th>Company</th>\n",
       "    </tr>\n",
       "  </thead>\n",
       "  <tbody>\n",
       "    <tr>\n",
       "      <th>0</th>\n",
       "      <td>Apple</td>\n",
       "    </tr>\n",
       "    <tr>\n",
       "      <th>1</th>\n",
       "      <td>Walmart</td>\n",
       "    </tr>\n",
       "    <tr>\n",
       "      <th>2</th>\n",
       "      <td>Walmart</td>\n",
       "    </tr>\n",
       "    <tr>\n",
       "      <th>3</th>\n",
       "      <td>Intel</td>\n",
       "    </tr>\n",
       "    <tr>\n",
       "      <th>4</th>\n",
       "      <td>Apple</td>\n",
       "    </tr>\n",
       "    <tr>\n",
       "      <th>5</th>\n",
       "      <td>Walmart</td>\n",
       "    </tr>\n",
       "    <tr>\n",
       "      <th>6</th>\n",
       "      <td>Apple</td>\n",
       "    </tr>\n",
       "    <tr>\n",
       "      <th>7</th>\n",
       "      <td>Cognizant</td>\n",
       "    </tr>\n",
       "    <tr>\n",
       "      <th>8</th>\n",
       "      <td>Apple</td>\n",
       "    </tr>\n",
       "    <tr>\n",
       "      <th>9</th>\n",
       "      <td>Apple</td>\n",
       "    </tr>\n",
       "    <tr>\n",
       "      <th>10</th>\n",
       "      <td>Cognizant</td>\n",
       "    </tr>\n",
       "    <tr>\n",
       "      <th>11</th>\n",
       "      <td>Walmart</td>\n",
       "    </tr>\n",
       "  </tbody>\n",
       "</table>\n",
       "</div>"
      ],
      "text/plain": [
       "      Company\n",
       "0       Apple\n",
       "1     Walmart\n",
       "2     Walmart\n",
       "3       Intel\n",
       "4       Apple\n",
       "5     Walmart\n",
       "6       Apple\n",
       "7   Cognizant\n",
       "8       Apple\n",
       "9       Apple\n",
       "10  Cognizant\n",
       "11    Walmart"
      ]
     },
     "execution_count": 43,
     "metadata": {},
     "output_type": "execute_result"
    }
   ],
   "source": [
    "# drop rows using drop()\n",
    "# columns specify the column names\n",
    "df_employee.drop(columns = ['Name', 'Salary'])"
   ]
  },
  {
   "cell_type": "markdown",
   "id": "4b71582b",
   "metadata": {},
   "source": [
    "We see that the two specifies columns have been dropped."
   ]
  },
  {
   "cell_type": "markdown",
   "id": "e73452a4",
   "metadata": {},
   "source": [
    "Now let us print the DataFrame df_employee."
   ]
  },
  {
   "cell_type": "code",
   "execution_count": 44,
   "id": "6a826f22",
   "metadata": {},
   "outputs": [
    {
     "data": {
      "text/html": [
       "<div>\n",
       "<style scoped>\n",
       "    .dataframe tbody tr th:only-of-type {\n",
       "        vertical-align: middle;\n",
       "    }\n",
       "\n",
       "    .dataframe tbody tr th {\n",
       "        vertical-align: top;\n",
       "    }\n",
       "\n",
       "    .dataframe thead th {\n",
       "        text-align: right;\n",
       "    }\n",
       "</style>\n",
       "<table border=\"1\" class=\"dataframe\">\n",
       "  <thead>\n",
       "    <tr style=\"text-align: right;\">\n",
       "      <th></th>\n",
       "      <th>Name</th>\n",
       "      <th>Company</th>\n",
       "      <th>Salary</th>\n",
       "    </tr>\n",
       "  </thead>\n",
       "  <tbody>\n",
       "    <tr>\n",
       "      <th>0</th>\n",
       "      <td>Anne</td>\n",
       "      <td>Apple</td>\n",
       "      <td>8500</td>\n",
       "    </tr>\n",
       "    <tr>\n",
       "      <th>1</th>\n",
       "      <td>Bobby</td>\n",
       "      <td>Walmart</td>\n",
       "      <td>6300</td>\n",
       "    </tr>\n",
       "    <tr>\n",
       "      <th>2</th>\n",
       "      <td>James</td>\n",
       "      <td>Walmart</td>\n",
       "      <td>5500</td>\n",
       "    </tr>\n",
       "    <tr>\n",
       "      <th>3</th>\n",
       "      <td>Lewis</td>\n",
       "      <td>Intel</td>\n",
       "      <td>7400</td>\n",
       "    </tr>\n",
       "    <tr>\n",
       "      <th>4</th>\n",
       "      <td>Ross</td>\n",
       "      <td>Apple</td>\n",
       "      <td>3100</td>\n",
       "    </tr>\n",
       "    <tr>\n",
       "      <th>5</th>\n",
       "      <td>Cathrine</td>\n",
       "      <td>Walmart</td>\n",
       "      <td>7700</td>\n",
       "    </tr>\n",
       "    <tr>\n",
       "      <th>6</th>\n",
       "      <td>Anne</td>\n",
       "      <td>Apple</td>\n",
       "      <td>8500</td>\n",
       "    </tr>\n",
       "    <tr>\n",
       "      <th>7</th>\n",
       "      <td>Bobby</td>\n",
       "      <td>Cognizant</td>\n",
       "      <td>6300</td>\n",
       "    </tr>\n",
       "    <tr>\n",
       "      <th>8</th>\n",
       "      <td>Jack</td>\n",
       "      <td>Apple</td>\n",
       "      <td>4200</td>\n",
       "    </tr>\n",
       "    <tr>\n",
       "      <th>9</th>\n",
       "      <td>Alisa</td>\n",
       "      <td>Apple</td>\n",
       "      <td>6200</td>\n",
       "    </tr>\n",
       "    <tr>\n",
       "      <th>10</th>\n",
       "      <td>Alex</td>\n",
       "      <td>Cognizant</td>\n",
       "      <td>8900</td>\n",
       "    </tr>\n",
       "    <tr>\n",
       "      <th>11</th>\n",
       "      <td>Cathrine</td>\n",
       "      <td>Walmart</td>\n",
       "      <td>7700</td>\n",
       "    </tr>\n",
       "  </tbody>\n",
       "</table>\n",
       "</div>"
      ],
      "text/plain": [
       "        Name    Company  Salary\n",
       "0       Anne      Apple    8500\n",
       "1      Bobby    Walmart    6300\n",
       "2      James    Walmart    5500\n",
       "3      Lewis      Intel    7400\n",
       "4       Ross      Apple    3100\n",
       "5   Cathrine    Walmart    7700\n",
       "6       Anne      Apple    8500\n",
       "7      Bobby  Cognizant    6300\n",
       "8       Jack      Apple    4200\n",
       "9      Alisa      Apple    6200\n",
       "10      Alex  Cognizant    8900\n",
       "11  Cathrine    Walmart    7700"
      ]
     },
     "execution_count": 44,
     "metadata": {},
     "output_type": "execute_result"
    }
   ],
   "source": [
    "# print the DataFrame df_employee\n",
    "df_employee"
   ]
  },
  {
   "cell_type": "markdown",
   "id": "264aed22",
   "metadata": {},
   "source": [
    "We see the original DataFrame is retained. \n",
    "\n",
    "If we wish to make a permanent change in the DataFrame, we use `inplace`."
   ]
  },
  {
   "cell_type": "markdown",
   "id": "f2f53c40",
   "metadata": {},
   "source": [
    "**Usage of inplace** <br><br>\n",
    "`inplace` is used when we want to make a permanent to the data. This does not change the data at the source but the data which is read initially.<br>\n",
    "\n",
    "Let us drop the fourth row from the data and use `inplace` to make a permanent change."
   ]
  },
  {
   "cell_type": "code",
   "execution_count": 45,
   "id": "819510ec",
   "metadata": {},
   "outputs": [],
   "source": [
    "# drop the fourth row\n",
    "df_employee.drop(index = [3], inplace = True)"
   ]
  },
  {
   "cell_type": "code",
   "execution_count": 46,
   "id": "7ed5abdf",
   "metadata": {},
   "outputs": [
    {
     "data": {
      "text/html": [
       "<div>\n",
       "<style scoped>\n",
       "    .dataframe tbody tr th:only-of-type {\n",
       "        vertical-align: middle;\n",
       "    }\n",
       "\n",
       "    .dataframe tbody tr th {\n",
       "        vertical-align: top;\n",
       "    }\n",
       "\n",
       "    .dataframe thead th {\n",
       "        text-align: right;\n",
       "    }\n",
       "</style>\n",
       "<table border=\"1\" class=\"dataframe\">\n",
       "  <thead>\n",
       "    <tr style=\"text-align: right;\">\n",
       "      <th></th>\n",
       "      <th>Name</th>\n",
       "      <th>Company</th>\n",
       "      <th>Salary</th>\n",
       "    </tr>\n",
       "  </thead>\n",
       "  <tbody>\n",
       "    <tr>\n",
       "      <th>0</th>\n",
       "      <td>Anne</td>\n",
       "      <td>Apple</td>\n",
       "      <td>8500</td>\n",
       "    </tr>\n",
       "    <tr>\n",
       "      <th>1</th>\n",
       "      <td>Bobby</td>\n",
       "      <td>Walmart</td>\n",
       "      <td>6300</td>\n",
       "    </tr>\n",
       "    <tr>\n",
       "      <th>2</th>\n",
       "      <td>James</td>\n",
       "      <td>Walmart</td>\n",
       "      <td>5500</td>\n",
       "    </tr>\n",
       "    <tr>\n",
       "      <th>4</th>\n",
       "      <td>Ross</td>\n",
       "      <td>Apple</td>\n",
       "      <td>3100</td>\n",
       "    </tr>\n",
       "    <tr>\n",
       "      <th>5</th>\n",
       "      <td>Cathrine</td>\n",
       "      <td>Walmart</td>\n",
       "      <td>7700</td>\n",
       "    </tr>\n",
       "    <tr>\n",
       "      <th>6</th>\n",
       "      <td>Anne</td>\n",
       "      <td>Apple</td>\n",
       "      <td>8500</td>\n",
       "    </tr>\n",
       "    <tr>\n",
       "      <th>7</th>\n",
       "      <td>Bobby</td>\n",
       "      <td>Cognizant</td>\n",
       "      <td>6300</td>\n",
       "    </tr>\n",
       "    <tr>\n",
       "      <th>8</th>\n",
       "      <td>Jack</td>\n",
       "      <td>Apple</td>\n",
       "      <td>4200</td>\n",
       "    </tr>\n",
       "    <tr>\n",
       "      <th>9</th>\n",
       "      <td>Alisa</td>\n",
       "      <td>Apple</td>\n",
       "      <td>6200</td>\n",
       "    </tr>\n",
       "    <tr>\n",
       "      <th>10</th>\n",
       "      <td>Alex</td>\n",
       "      <td>Cognizant</td>\n",
       "      <td>8900</td>\n",
       "    </tr>\n",
       "    <tr>\n",
       "      <th>11</th>\n",
       "      <td>Cathrine</td>\n",
       "      <td>Walmart</td>\n",
       "      <td>7700</td>\n",
       "    </tr>\n",
       "  </tbody>\n",
       "</table>\n",
       "</div>"
      ],
      "text/plain": [
       "        Name    Company  Salary\n",
       "0       Anne      Apple    8500\n",
       "1      Bobby    Walmart    6300\n",
       "2      James    Walmart    5500\n",
       "4       Ross      Apple    3100\n",
       "5   Cathrine    Walmart    7700\n",
       "6       Anne      Apple    8500\n",
       "7      Bobby  Cognizant    6300\n",
       "8       Jack      Apple    4200\n",
       "9      Alisa      Apple    6200\n",
       "10      Alex  Cognizant    8900\n",
       "11  Cathrine    Walmart    7700"
      ]
     },
     "execution_count": 46,
     "metadata": {},
     "output_type": "execute_result"
    }
   ],
   "source": [
    "# print df_employee\n",
    "df_employee"
   ]
  },
  {
   "cell_type": "markdown",
   "id": "890cada7",
   "metadata": {},
   "source": [
    "It is apparent the fourth row indexed as 3 is dropped. "
   ]
  },
  {
   "cell_type": "markdown",
   "id": "c3f42fba",
   "metadata": {},
   "source": [
    "<a id=\"Map\"> </a>\n",
    "### 7. Map and Replace"
   ]
  },
  {
   "cell_type": "markdown",
   "id": "7d19ca7c",
   "metadata": {},
   "source": [
    "**`.map()`:**<br>\n",
    "`.map()` function is used to create a new column by mapping the dataframe column values with the dictionary Key"
   ]
  },
  {
   "cell_type": "code",
   "execution_count": 31,
   "id": "412634d4",
   "metadata": {},
   "outputs": [
    {
     "data": {
      "text/html": [
       "<div>\n",
       "<style scoped>\n",
       "    .dataframe tbody tr th:only-of-type {\n",
       "        vertical-align: middle;\n",
       "    }\n",
       "\n",
       "    .dataframe tbody tr th {\n",
       "        vertical-align: top;\n",
       "    }\n",
       "\n",
       "    .dataframe thead th {\n",
       "        text-align: right;\n",
       "    }\n",
       "</style>\n",
       "<table border=\"1\" class=\"dataframe\">\n",
       "  <thead>\n",
       "    <tr style=\"text-align: right;\">\n",
       "      <th></th>\n",
       "      <th>Country</th>\n",
       "      <th>Population</th>\n",
       "    </tr>\n",
       "  </thead>\n",
       "  <tbody>\n",
       "    <tr>\n",
       "      <th>0</th>\n",
       "      <td>China</td>\n",
       "      <td>1403500365</td>\n",
       "    </tr>\n",
       "    <tr>\n",
       "      <th>1</th>\n",
       "      <td>India</td>\n",
       "      <td>1324171354</td>\n",
       "    </tr>\n",
       "    <tr>\n",
       "      <th>2</th>\n",
       "      <td>USA</td>\n",
       "      <td>322179605</td>\n",
       "    </tr>\n",
       "    <tr>\n",
       "      <th>3</th>\n",
       "      <td>Indonesia</td>\n",
       "      <td>261115456</td>\n",
       "    </tr>\n",
       "    <tr>\n",
       "      <th>4</th>\n",
       "      <td>Brazil</td>\n",
       "      <td>207652865</td>\n",
       "    </tr>\n",
       "  </tbody>\n",
       "</table>\n",
       "</div>"
      ],
      "text/plain": [
       "     Country  Population\n",
       "0      China  1403500365\n",
       "1      India  1324171354\n",
       "2        USA   322179605\n",
       "3  Indonesia   261115456\n",
       "4     Brazil   207652865"
      ]
     },
     "execution_count": 31,
     "metadata": {},
     "output_type": "execute_result"
    }
   ],
   "source": [
    "# create a DataFrame from a dictionary\n",
    "df_demography = pd.DataFrame({'Country':['China','India','USA','Indonesia','Brazil'],\n",
    "                  'Population':[1403500365,1324171354,322179605,261115456,207652865]})\n",
    "\n",
    "# print the DataFrame\n",
    "df_demography"
   ]
  },
  {
   "cell_type": "code",
   "execution_count": 35,
   "id": "74095faa-e2c3-4042-a811-1044cd005fcb",
   "metadata": {},
   "outputs": [],
   "source": [
    "df_demography[\"Capital\"]=df_demography[\"Country\"].map(capital)"
   ]
  },
  {
   "cell_type": "code",
   "execution_count": 37,
   "id": "04378cbd-8492-49b0-a92f-d60ea4792dea",
   "metadata": {},
   "outputs": [
    {
     "data": {
      "text/html": [
       "<div>\n",
       "<style scoped>\n",
       "    .dataframe tbody tr th:only-of-type {\n",
       "        vertical-align: middle;\n",
       "    }\n",
       "\n",
       "    .dataframe tbody tr th {\n",
       "        vertical-align: top;\n",
       "    }\n",
       "\n",
       "    .dataframe thead th {\n",
       "        text-align: right;\n",
       "    }\n",
       "</style>\n",
       "<table border=\"1\" class=\"dataframe\">\n",
       "  <thead>\n",
       "    <tr style=\"text-align: right;\">\n",
       "      <th></th>\n",
       "      <th>Country</th>\n",
       "      <th>Population</th>\n",
       "      <th>Capital</th>\n",
       "    </tr>\n",
       "  </thead>\n",
       "  <tbody>\n",
       "    <tr>\n",
       "      <th>0</th>\n",
       "      <td>China</td>\n",
       "      <td>1403500365</td>\n",
       "      <td>Beijing</td>\n",
       "    </tr>\n",
       "    <tr>\n",
       "      <th>1</th>\n",
       "      <td>India</td>\n",
       "      <td>1324171354</td>\n",
       "      <td>New Delhi</td>\n",
       "    </tr>\n",
       "    <tr>\n",
       "      <th>2</th>\n",
       "      <td>USA</td>\n",
       "      <td>322179605</td>\n",
       "      <td>Washington</td>\n",
       "    </tr>\n",
       "    <tr>\n",
       "      <th>3</th>\n",
       "      <td>Indonesia</td>\n",
       "      <td>261115456</td>\n",
       "      <td>Jakarta</td>\n",
       "    </tr>\n",
       "    <tr>\n",
       "      <th>4</th>\n",
       "      <td>Brazil</td>\n",
       "      <td>207652865</td>\n",
       "      <td>Brasília</td>\n",
       "    </tr>\n",
       "  </tbody>\n",
       "</table>\n",
       "</div>"
      ],
      "text/plain": [
       "     Country  Population     Capital\n",
       "0      China  1403500365     Beijing\n",
       "1      India  1324171354   New Delhi\n",
       "2        USA   322179605  Washington\n",
       "3  Indonesia   261115456     Jakarta\n",
       "4     Brazil   207652865    Brasília"
      ]
     },
     "execution_count": 37,
     "metadata": {},
     "output_type": "execute_result"
    }
   ],
   "source": [
    "df_demography"
   ]
  },
  {
   "cell_type": "code",
   "execution_count": 33,
   "id": "fe615090",
   "metadata": {},
   "outputs": [],
   "source": [
    "# create a dictionary\n",
    "capital = {\n",
    "'Germany':'Berlin',   \n",
    "'Brazil':'Brasília',\n",
    "'Hungary':'Budapest',\n",
    "'China':'Beijing',\n",
    "'India':'New Delhi',\n",
    "'Norway':'Oslo',\n",
    "'France':'Paris',\n",
    "'Indonesia': 'Jakarta',\n",
    "'USA':'Washington'\n",
    "}"
   ]
  },
  {
   "cell_type": "markdown",
   "id": "772c9240",
   "metadata": {},
   "source": [
    "Create a new column - Capital in the DataFrame such that it matches the key-value pair from the country column."
   ]
  },
  {
   "cell_type": "code",
   "execution_count": 49,
   "id": "39905e00",
   "metadata": {},
   "outputs": [
    {
     "data": {
      "text/html": [
       "<div>\n",
       "<style scoped>\n",
       "    .dataframe tbody tr th:only-of-type {\n",
       "        vertical-align: middle;\n",
       "    }\n",
       "\n",
       "    .dataframe tbody tr th {\n",
       "        vertical-align: top;\n",
       "    }\n",
       "\n",
       "    .dataframe thead th {\n",
       "        text-align: right;\n",
       "    }\n",
       "</style>\n",
       "<table border=\"1\" class=\"dataframe\">\n",
       "  <thead>\n",
       "    <tr style=\"text-align: right;\">\n",
       "      <th></th>\n",
       "      <th>Country</th>\n",
       "      <th>Population</th>\n",
       "      <th>Capital</th>\n",
       "    </tr>\n",
       "  </thead>\n",
       "  <tbody>\n",
       "    <tr>\n",
       "      <th>0</th>\n",
       "      <td>China</td>\n",
       "      <td>1403500365</td>\n",
       "      <td>Beijing</td>\n",
       "    </tr>\n",
       "    <tr>\n",
       "      <th>1</th>\n",
       "      <td>India</td>\n",
       "      <td>1324171354</td>\n",
       "      <td>New Delhi</td>\n",
       "    </tr>\n",
       "    <tr>\n",
       "      <th>2</th>\n",
       "      <td>USA</td>\n",
       "      <td>322179605</td>\n",
       "      <td>Washington</td>\n",
       "    </tr>\n",
       "    <tr>\n",
       "      <th>3</th>\n",
       "      <td>Indonesia</td>\n",
       "      <td>261115456</td>\n",
       "      <td>Jakarta</td>\n",
       "    </tr>\n",
       "    <tr>\n",
       "      <th>4</th>\n",
       "      <td>Brazil</td>\n",
       "      <td>207652865</td>\n",
       "      <td>Brasília</td>\n",
       "    </tr>\n",
       "  </tbody>\n",
       "</table>\n",
       "</div>"
      ],
      "text/plain": [
       "     Country  Population     Capital\n",
       "0      China  1403500365     Beijing\n",
       "1      India  1324171354   New Delhi\n",
       "2        USA   322179605  Washington\n",
       "3  Indonesia   261115456     Jakarta\n",
       "4     Brazil   207652865    Brasília"
      ]
     },
     "execution_count": 49,
     "metadata": {},
     "output_type": "execute_result"
    }
   ],
   "source": [
    "# create a new column in the DataFrame\n",
    "df_demography['Capital'] = df_demography['Country'].map(capital)\n",
    "\n",
    "# print the DataFrame\n",
    "df_demography"
   ]
  },
  {
   "cell_type": "markdown",
   "id": "4c6f4d28",
   "metadata": {},
   "source": [
    "**replace():**<br>\n",
    "It is used to replace any value in the dataframe."
   ]
  },
  {
   "cell_type": "code",
   "execution_count": 50,
   "id": "be5c874b",
   "metadata": {},
   "outputs": [
    {
     "data": {
      "text/html": [
       "<div>\n",
       "<style scoped>\n",
       "    .dataframe tbody tr th:only-of-type {\n",
       "        vertical-align: middle;\n",
       "    }\n",
       "\n",
       "    .dataframe tbody tr th {\n",
       "        vertical-align: top;\n",
       "    }\n",
       "\n",
       "    .dataframe thead th {\n",
       "        text-align: right;\n",
       "    }\n",
       "</style>\n",
       "<table border=\"1\" class=\"dataframe\">\n",
       "  <thead>\n",
       "    <tr style=\"text-align: right;\">\n",
       "      <th></th>\n",
       "      <th>Country</th>\n",
       "      <th>Population</th>\n",
       "      <th>Capital</th>\n",
       "    </tr>\n",
       "  </thead>\n",
       "  <tbody>\n",
       "    <tr>\n",
       "      <th>0</th>\n",
       "      <td>China</td>\n",
       "      <td>1403500365</td>\n",
       "      <td>Beijing</td>\n",
       "    </tr>\n",
       "    <tr>\n",
       "      <th>1</th>\n",
       "      <td>India</td>\n",
       "      <td>1324171354</td>\n",
       "      <td>New Delhi</td>\n",
       "    </tr>\n",
       "    <tr>\n",
       "      <th>2</th>\n",
       "      <td>USA</td>\n",
       "      <td>322179605</td>\n",
       "      <td>Washington</td>\n",
       "    </tr>\n",
       "    <tr>\n",
       "      <th>3</th>\n",
       "      <td>Indonesia</td>\n",
       "      <td>261115456</td>\n",
       "      <td>Jakarta</td>\n",
       "    </tr>\n",
       "    <tr>\n",
       "      <th>4</th>\n",
       "      <td>Brazil</td>\n",
       "      <td>207652865</td>\n",
       "      <td>Brasília</td>\n",
       "    </tr>\n",
       "  </tbody>\n",
       "</table>\n",
       "</div>"
      ],
      "text/plain": [
       "     Country  Population     Capital\n",
       "0      China  1403500365     Beijing\n",
       "1      India  1324171354   New Delhi\n",
       "2        USA   322179605  Washington\n",
       "3  Indonesia   261115456     Jakarta\n",
       "4     Brazil   207652865    Brasília"
      ]
     },
     "execution_count": 50,
     "metadata": {},
     "output_type": "execute_result"
    }
   ],
   "source": [
    "# print the DataFrame\n",
    "df_demography"
   ]
  },
  {
   "cell_type": "code",
   "execution_count": 39,
   "id": "9af50df9",
   "metadata": {},
   "outputs": [
    {
     "name": "stdout",
     "output_type": "stream",
     "text": [
      "     Country  Population     Capital\n",
      "0      China  1403500365     Beijing\n",
      "1      India  1324171354   New Delhi\n",
      "2        USA         NaN  Washington\n",
      "3  Indonesia   261115456     Jakarta\n",
      "4     Brazil          --    Brasília\n"
     ]
    },
    {
     "name": "stderr",
     "output_type": "stream",
     "text": [
      "C:\\Users\\cipl\\AppData\\Local\\Temp\\ipykernel_14356\\2196033716.py:4: FutureWarning: A value is trying to be set on a copy of a DataFrame or Series through chained assignment using an inplace method.\n",
      "The behavior will change in pandas 3.0. This inplace method will never work because the intermediate object on which we are setting values always behaves as a copy.\n",
      "\n",
      "For example, when doing 'df[col].method(value, inplace=True)', try using 'df.method({col: value}, inplace=True)' or df[col] = df[col].method(value) instead, to perform the operation inplace on the original object.\n",
      "\n",
      "\n",
      "  df_demography['Population'].replace(dictionary, inplace = True)\n"
     ]
    }
   ],
   "source": [
    "dictionary = {322179605: \"NaN\", 207652865: \"--\"}\n",
    "\n",
    "# values 322179605 and 207652865 are replaced by 'NaN' and '--'\n",
    "df_demography['Population'].replace(dictionary, inplace = True)\n",
    "\n",
    "print(df_demography)"
   ]
  },
  {
   "cell_type": "markdown",
   "id": "5e607c8c",
   "metadata": {},
   "source": [
    "<a id=\"Groupby\"> </a>\n",
    "### 8. Groupby in Pandas"
   ]
  },
  {
   "cell_type": "code",
   "execution_count": 41,
   "id": "d566c46b",
   "metadata": {},
   "outputs": [
    {
     "data": {
      "text/html": [
       "<div>\n",
       "<style scoped>\n",
       "    .dataframe tbody tr th:only-of-type {\n",
       "        vertical-align: middle;\n",
       "    }\n",
       "\n",
       "    .dataframe tbody tr th {\n",
       "        vertical-align: top;\n",
       "    }\n",
       "\n",
       "    .dataframe thead th {\n",
       "        text-align: right;\n",
       "    }\n",
       "</style>\n",
       "<table border=\"1\" class=\"dataframe\">\n",
       "  <thead>\n",
       "    <tr style=\"text-align: right;\">\n",
       "      <th></th>\n",
       "      <th>Product_ID</th>\n",
       "      <th>Food_Product</th>\n",
       "      <th>Brand</th>\n",
       "      <th>Sales</th>\n",
       "      <th>Profit</th>\n",
       "    </tr>\n",
       "  </thead>\n",
       "  <tbody>\n",
       "    <tr>\n",
       "      <th>0</th>\n",
       "      <td>101</td>\n",
       "      <td>Cakes</td>\n",
       "      <td>Baskin Robbins</td>\n",
       "      <td>5000</td>\n",
       "      <td>55000</td>\n",
       "    </tr>\n",
       "    <tr>\n",
       "      <th>1</th>\n",
       "      <td>102</td>\n",
       "      <td>Biscuits</td>\n",
       "      <td>Blue Riband</td>\n",
       "      <td>8000</td>\n",
       "      <td>67000</td>\n",
       "    </tr>\n",
       "    <tr>\n",
       "      <th>2</th>\n",
       "      <td>103</td>\n",
       "      <td>Fruit</td>\n",
       "      <td>Peach</td>\n",
       "      <td>7600</td>\n",
       "      <td>89000</td>\n",
       "    </tr>\n",
       "    <tr>\n",
       "      <th>3</th>\n",
       "      <td>104</td>\n",
       "      <td>Beverages</td>\n",
       "      <td>Horlicks</td>\n",
       "      <td>5500</td>\n",
       "      <td>78000</td>\n",
       "    </tr>\n",
       "    <tr>\n",
       "      <th>4</th>\n",
       "      <td>105</td>\n",
       "      <td>Cakes</td>\n",
       "      <td>Mars Muffin</td>\n",
       "      <td>6500</td>\n",
       "      <td>55000</td>\n",
       "    </tr>\n",
       "    <tr>\n",
       "      <th>5</th>\n",
       "      <td>106</td>\n",
       "      <td>Beverages</td>\n",
       "      <td>Mirinda</td>\n",
       "      <td>9000</td>\n",
       "      <td>90000</td>\n",
       "    </tr>\n",
       "  </tbody>\n",
       "</table>\n",
       "</div>"
      ],
      "text/plain": [
       "   Product_ID Food_Product           Brand  Sales  Profit\n",
       "0         101        Cakes  Baskin Robbins   5000   55000\n",
       "1         102     Biscuits     Blue Riband   8000   67000\n",
       "2         103        Fruit           Peach   7600   89000\n",
       "3         104    Beverages        Horlicks   5500   78000\n",
       "4         105        Cakes     Mars Muffin   6500   55000\n",
       "5         106    Beverages         Mirinda   9000   90000"
      ]
     },
     "execution_count": 41,
     "metadata": {},
     "output_type": "execute_result"
    }
   ],
   "source": [
    "# create a DataFrame\n",
    "df_products = pd.DataFrame({ 'Product_ID':[101,102,103,104,105,106],\n",
    " 'Food_Product':['Cakes','Biscuits','Fruit','Beverages','Cakes','Beverages'],\n",
    " 'Brand':['Baskin Robbins','Blue Riband','Peach','Horlicks','Mars Muffin','Mirinda'],\n",
    " 'Sales': [5000, 8000, 7600, 5500, 6500, 9000],\n",
    " 'Profit': [55000, 67000, 89000, 78000, 55000, 90000] })\n",
    "\n",
    "# print the DataFrame\n",
    "df_products"
   ]
  },
  {
   "cell_type": "markdown",
   "id": "bd744f61",
   "metadata": {},
   "source": [
    "**Number of unique values in each column**"
   ]
  },
  {
   "cell_type": "code",
   "execution_count": 43,
   "id": "c7d0efa1",
   "metadata": {},
   "outputs": [],
   "source": [
    "df_products_grouped = df_products.groupby(\"Food_Product\")"
   ]
  },
  {
   "cell_type": "code",
   "execution_count": 45,
   "id": "f11fe16e",
   "metadata": {},
   "outputs": [
    {
     "data": {
      "text/plain": [
       "pandas.core.groupby.generic.DataFrameGroupBy"
      ]
     },
     "execution_count": 45,
     "metadata": {},
     "output_type": "execute_result"
    }
   ],
   "source": [
    "type(df_products_grouped)"
   ]
  },
  {
   "cell_type": "markdown",
   "id": "f87541a1",
   "metadata": {},
   "source": [
    "**Note:** The groupby() applied on a pandas DataFrame returns a `DataFrameGroupBy` object"
   ]
  },
  {
   "cell_type": "code",
   "execution_count": 47,
   "id": "1b004cc6",
   "metadata": {},
   "outputs": [
    {
     "data": {
      "text/html": [
       "<div>\n",
       "<style scoped>\n",
       "    .dataframe tbody tr th:only-of-type {\n",
       "        vertical-align: middle;\n",
       "    }\n",
       "\n",
       "    .dataframe tbody tr th {\n",
       "        vertical-align: top;\n",
       "    }\n",
       "\n",
       "    .dataframe thead th {\n",
       "        text-align: right;\n",
       "    }\n",
       "</style>\n",
       "<table border=\"1\" class=\"dataframe\">\n",
       "  <thead>\n",
       "    <tr style=\"text-align: right;\">\n",
       "      <th></th>\n",
       "      <th>Brand</th>\n",
       "    </tr>\n",
       "    <tr>\n",
       "      <th>Food_Product</th>\n",
       "      <th></th>\n",
       "    </tr>\n",
       "  </thead>\n",
       "  <tbody>\n",
       "    <tr>\n",
       "      <th>Beverages</th>\n",
       "      <td>2</td>\n",
       "    </tr>\n",
       "    <tr>\n",
       "      <th>Biscuits</th>\n",
       "      <td>1</td>\n",
       "    </tr>\n",
       "    <tr>\n",
       "      <th>Cakes</th>\n",
       "      <td>2</td>\n",
       "    </tr>\n",
       "    <tr>\n",
       "      <th>Fruit</th>\n",
       "      <td>1</td>\n",
       "    </tr>\n",
       "  </tbody>\n",
       "</table>\n",
       "</div>"
      ],
      "text/plain": [
       "              Brand\n",
       "Food_Product       \n",
       "Beverages         2\n",
       "Biscuits          1\n",
       "Cakes             2\n",
       "Fruit             1"
      ]
     },
     "execution_count": 47,
     "metadata": {},
     "output_type": "execute_result"
    }
   ],
   "source": [
    "# use the nunique() to find the number of unique values in each column\n",
    "# to_frame converts the data to a DataFrame\n",
    "df_products.groupby(\"Food_Product\")[\"Brand\"].nunique().to_frame()"
   ]
  },
  {
   "cell_type": "markdown",
   "id": "e6b24d4a",
   "metadata": {},
   "source": [
    "**Sort groupby results**"
   ]
  },
  {
   "cell_type": "markdown",
   "id": "619c1d65",
   "metadata": {},
   "source": [
    "Turn the groupby object into a regular dataframe by calling `.to_frame()`. It is then possible to re-index with `reset_index()`."
   ]
  },
  {
   "cell_type": "code",
   "execution_count": 61,
   "id": "9b0744ad",
   "metadata": {},
   "outputs": [
    {
     "data": {
      "text/html": [
       "<div>\n",
       "<style scoped>\n",
       "    .dataframe tbody tr th:only-of-type {\n",
       "        vertical-align: middle;\n",
       "    }\n",
       "\n",
       "    .dataframe tbody tr th {\n",
       "        vertical-align: top;\n",
       "    }\n",
       "\n",
       "    .dataframe thead th {\n",
       "        text-align: right;\n",
       "    }\n",
       "</style>\n",
       "<table border=\"1\" class=\"dataframe\">\n",
       "  <thead>\n",
       "    <tr style=\"text-align: right;\">\n",
       "      <th></th>\n",
       "      <th>Food_Product</th>\n",
       "      <th>Sales</th>\n",
       "    </tr>\n",
       "  </thead>\n",
       "  <tbody>\n",
       "    <tr>\n",
       "      <th>0</th>\n",
       "      <td>Beverages</td>\n",
       "      <td>14500</td>\n",
       "    </tr>\n",
       "    <tr>\n",
       "      <th>1</th>\n",
       "      <td>Biscuits</td>\n",
       "      <td>8000</td>\n",
       "    </tr>\n",
       "    <tr>\n",
       "      <th>2</th>\n",
       "      <td>Cakes</td>\n",
       "      <td>11500</td>\n",
       "    </tr>\n",
       "    <tr>\n",
       "      <th>3</th>\n",
       "      <td>Fruit</td>\n",
       "      <td>7600</td>\n",
       "    </tr>\n",
       "  </tbody>\n",
       "</table>\n",
       "</div>"
      ],
      "text/plain": [
       "  Food_Product  Sales\n",
       "0    Beverages  14500\n",
       "1     Biscuits   8000\n",
       "2        Cakes  11500\n",
       "3        Fruit   7600"
      ]
     },
     "execution_count": 61,
     "metadata": {},
     "output_type": "execute_result"
    }
   ],
   "source": [
    "# use the nunique() to find number of unique values in each column\n",
    "# to_frame converts the data to a DataFrame\n",
    "# reset_index resets the index\n",
    "df_products.groupby('Food_Product')['Sales'].sum().to_frame().reset_index()"
   ]
  },
  {
   "cell_type": "markdown",
   "id": "a229c52c",
   "metadata": {},
   "source": [
    "Now, you call sort_values() to sort the values of the DataFrame."
   ]
  },
  {
   "cell_type": "code",
   "execution_count": 65,
   "id": "dfc7a410",
   "metadata": {},
   "outputs": [
    {
     "data": {
      "text/html": [
       "<div>\n",
       "<style scoped>\n",
       "    .dataframe tbody tr th:only-of-type {\n",
       "        vertical-align: middle;\n",
       "    }\n",
       "\n",
       "    .dataframe tbody tr th {\n",
       "        vertical-align: top;\n",
       "    }\n",
       "\n",
       "    .dataframe thead th {\n",
       "        text-align: right;\n",
       "    }\n",
       "</style>\n",
       "<table border=\"1\" class=\"dataframe\">\n",
       "  <thead>\n",
       "    <tr style=\"text-align: right;\">\n",
       "      <th></th>\n",
       "      <th>Food_Product</th>\n",
       "      <th>Sales</th>\n",
       "    </tr>\n",
       "  </thead>\n",
       "  <tbody>\n",
       "    <tr>\n",
       "      <th>0</th>\n",
       "      <td>Beverages</td>\n",
       "      <td>14500</td>\n",
       "    </tr>\n",
       "    <tr>\n",
       "      <th>2</th>\n",
       "      <td>Cakes</td>\n",
       "      <td>11500</td>\n",
       "    </tr>\n",
       "    <tr>\n",
       "      <th>1</th>\n",
       "      <td>Biscuits</td>\n",
       "      <td>8000</td>\n",
       "    </tr>\n",
       "    <tr>\n",
       "      <th>3</th>\n",
       "      <td>Fruit</td>\n",
       "      <td>7600</td>\n",
       "    </tr>\n",
       "  </tbody>\n",
       "</table>\n",
       "</div>"
      ],
      "text/plain": [
       "  Food_Product  Sales\n",
       "0    Beverages  14500\n",
       "2        Cakes  11500\n",
       "1     Biscuits   8000\n",
       "3        Fruit   7600"
      ]
     },
     "execution_count": 65,
     "metadata": {},
     "output_type": "execute_result"
    }
   ],
   "source": [
    "# use the nunique() to find number of unique values in each column\n",
    "# to_frame converts the data to a DataFrame\n",
    "# reset_index resets the index\n",
    "# sort_values sorts the values \n",
    "# here by='Sales', implies that the values are sort by this variable\n",
    "df_products.groupby('Food_Product')['Sales'].sum().to_frame().reset_index().sort_values(by='Sales',ascending=False)"
   ]
  },
  {
   "cell_type": "markdown",
   "id": "713eb544",
   "metadata": {},
   "source": [
    "<a id=\"matplotlib\"> </a>\n",
    "## 9. Plots using Matplotlib\n",
    "\n",
    "Matplotlib is a Python 2D plotting library. Many libraries are built based on it and use its functions in the backend. pyplot is a subpackage of matplotlib that provides a MATLAB-like way of plotting. <br><br>\n",
    "                        matplotlib.pyplot is a mostly used package because it is elementary to use, and it generates plots in less time."
   ]
  },
  {
   "cell_type": "markdown",
   "id": "4105d5d5",
   "metadata": {},
   "source": [
    "**How to install Matplotlib?**<br>\n",
    "1. You can use-<br>\n",
    "`!pip install matplotlib`<br>"
   ]
  },
  {
   "cell_type": "code",
   "execution_count": 69,
   "id": "f09dd552",
   "metadata": {},
   "outputs": [],
   "source": [
    "# import the library matplotlib\n",
    "import matplotlib.pyplot as plt\n",
    "# to suppress warnings \n",
    "# import the library warnings \n",
    "import warnings \n",
    "# filterwarnings() filters a warning \n",
    "# action: the action to be taken if a warning is shown \n",
    "warnings.filterwarnings(action = 'ignore')"
   ]
  },
  {
   "cell_type": "markdown",
   "id": "a5217e2a",
   "metadata": {},
   "source": [
    "Seaborn library provides a variety of datasets. Plot different visualization plots using various libraries for the 'tips' dataset. "
   ]
  },
  {
   "cell_type": "code",
   "execution_count": 67,
   "id": "5804a062",
   "metadata": {},
   "outputs": [
    {
     "data": {
      "text/html": [
       "<div>\n",
       "<style scoped>\n",
       "    .dataframe tbody tr th:only-of-type {\n",
       "        vertical-align: middle;\n",
       "    }\n",
       "\n",
       "    .dataframe tbody tr th {\n",
       "        vertical-align: top;\n",
       "    }\n",
       "\n",
       "    .dataframe thead th {\n",
       "        text-align: right;\n",
       "    }\n",
       "</style>\n",
       "<table border=\"1\" class=\"dataframe\">\n",
       "  <thead>\n",
       "    <tr style=\"text-align: right;\">\n",
       "      <th></th>\n",
       "      <th>total_bill</th>\n",
       "      <th>tip</th>\n",
       "      <th>sex</th>\n",
       "      <th>smoker</th>\n",
       "      <th>day</th>\n",
       "      <th>time</th>\n",
       "      <th>size</th>\n",
       "    </tr>\n",
       "  </thead>\n",
       "  <tbody>\n",
       "    <tr>\n",
       "      <th>0</th>\n",
       "      <td>16.99</td>\n",
       "      <td>1.01</td>\n",
       "      <td>Female</td>\n",
       "      <td>No</td>\n",
       "      <td>Sun</td>\n",
       "      <td>Dinner</td>\n",
       "      <td>2</td>\n",
       "    </tr>\n",
       "    <tr>\n",
       "      <th>1</th>\n",
       "      <td>10.34</td>\n",
       "      <td>1.66</td>\n",
       "      <td>Male</td>\n",
       "      <td>No</td>\n",
       "      <td>Sun</td>\n",
       "      <td>Dinner</td>\n",
       "      <td>3</td>\n",
       "    </tr>\n",
       "    <tr>\n",
       "      <th>2</th>\n",
       "      <td>21.01</td>\n",
       "      <td>3.50</td>\n",
       "      <td>Male</td>\n",
       "      <td>No</td>\n",
       "      <td>Sun</td>\n",
       "      <td>Dinner</td>\n",
       "      <td>3</td>\n",
       "    </tr>\n",
       "    <tr>\n",
       "      <th>3</th>\n",
       "      <td>23.68</td>\n",
       "      <td>3.31</td>\n",
       "      <td>Male</td>\n",
       "      <td>No</td>\n",
       "      <td>Sun</td>\n",
       "      <td>Dinner</td>\n",
       "      <td>2</td>\n",
       "    </tr>\n",
       "    <tr>\n",
       "      <th>4</th>\n",
       "      <td>24.59</td>\n",
       "      <td>3.61</td>\n",
       "      <td>Female</td>\n",
       "      <td>No</td>\n",
       "      <td>Sun</td>\n",
       "      <td>Dinner</td>\n",
       "      <td>4</td>\n",
       "    </tr>\n",
       "  </tbody>\n",
       "</table>\n",
       "</div>"
      ],
      "text/plain": [
       "   total_bill   tip     sex smoker  day    time  size\n",
       "0       16.99  1.01  Female     No  Sun  Dinner     2\n",
       "1       10.34  1.66    Male     No  Sun  Dinner     3\n",
       "2       21.01  3.50    Male     No  Sun  Dinner     3\n",
       "3       23.68  3.31    Male     No  Sun  Dinner     2\n",
       "4       24.59  3.61  Female     No  Sun  Dinner     4"
      ]
     },
     "execution_count": 67,
     "metadata": {},
     "output_type": "execute_result"
    }
   ],
   "source": [
    "import seaborn as sns\n",
    "# load the 'tips' dataset from seaborn\n",
    "df_tips = sns.load_dataset('tips')\n",
    "\n",
    "# display head() of the dataset\n",
    "df_tips.head()"
   ]
  },
  {
   "cell_type": "markdown",
   "id": "9e9dd5c5",
   "metadata": {},
   "source": [
    "### 9.1 Line Plot\n",
    "A line graph is the most uncomplicated plot that displays the relationship between the one independent and one dependent dataset. In this plot, the points are joined by straight line segments."
   ]
  },
  {
   "cell_type": "code",
   "execution_count": 63,
   "id": "b3c83bd4",
   "metadata": {},
   "outputs": [
    {
     "data": {
      "image/png": "[encoded data removed]",
      "text/plain": [
       "<Figure size 640x480 with 1 Axes>"
      ]
     },
     "metadata": {},
     "output_type": "display_data"
    }
   ],
   "source": [
    "# data\n",
    "# create an array using linspace\n",
    "X = np.linspace(1,20,100)\n",
    "# create an array by taking exponential of X\n",
    "Y = np.exp(X)\n",
    "\n",
    "# line plot\n",
    "plt.plot(X,Y)\n",
    "\n",
    "# display the plot\n",
    "plt.show()"
   ]
  },
  {
   "cell_type": "markdown",
   "id": "9859685b",
   "metadata": {},
   "source": [
    "From the plot, it can be observed that as X increases, Y  increases exponential."
   ]
  },
  {
   "cell_type": "markdown",
   "id": "993ae865",
   "metadata": {},
   "source": [
    "\n",
    "**The above plot can be represented not only by a solid line, but also a dotted line with varied thickness. The points can be marked explicitly using any symbol.**"
   ]
  },
  {
   "cell_type": "code",
   "execution_count": 64,
   "id": "34ffb000",
   "metadata": {},
   "outputs": [
    {
     "data": {
      "image/png": "[encoded data removed]",
      "text/plain": [
       "<Figure size 640x480 with 1 Axes>"
      ]
     },
     "metadata": {},
     "output_type": "display_data"
    }
   ],
   "source": [
    "# data\n",
    "# create an array using linspace\n",
    "X = np.linspace(1,20,100)\n",
    "# create an array by taking exponential of X\n",
    "Y = np.exp(X)\n",
    "\n",
    "# line plot\n",
    "# the argument 'r*' plots each point as a red '*' \n",
    "plt.plot(X,Y, 'r*')\n",
    "\n",
    "# display the plot\n",
    "plt.show()"
   ]
  },
  {
   "cell_type": "markdown",
   "id": "ea0b4203",
   "metadata": {},
   "source": [
    "We can change the colours or shapes of the data points.\n",
    "\n",
    "There can be multiple line plots in one plot. Let us plot three plots together in a single graph. Also, add a plot title."
   ]
  },
  {
   "cell_type": "code",
   "execution_count": 65,
   "id": "c334a66d",
   "metadata": {},
   "outputs": [
    {
     "data": {
      "image/png": "[encoded data removed]",
      "text/plain": [
       "<Figure size 640x480 with 1 Axes>"
      ]
     },
     "metadata": {},
     "output_type": "display_data"
    }
   ],
   "source": [
    "# data\n",
    "# create an array using linspace\n",
    "X = np.linspace(1,20,100)\n",
    "# create an array by taking square of X\n",
    "Y_square = np.square(X)\n",
    "# create an array by taking squareroot of X\n",
    "Y_sqrt = np.sqrt(X)\n",
    "\n",
    "# line plot\n",
    "plt.plot( X,Y_square,'b', X,Y_sqrt,'g')\n",
    "\n",
    "# add title to the plot\n",
    "plt.title('Line Plot')\n",
    "\n",
    "# display the plot\n",
    "plt.show()"
   ]
  },
  {
   "cell_type": "markdown",
   "id": "1d53b1d9",
   "metadata": {},
   "source": [
    "### 9.2 Scatter Plot\n",
    "\n",
    "A scatter plot is a set of points plotted on horizontal and vertical axes. The scatter plot can be used to study the correlation between the two variables. One can also detect the extreme data points using a scatter plot."
   ]
  },
  {
   "cell_type": "code",
   "execution_count": 66,
   "id": "1d50382d",
   "metadata": {},
   "outputs": [
    {
     "data": {
      "text/html": [
       "<div>\n",
       "<style scoped>\n",
       "    .dataframe tbody tr th:only-of-type {\n",
       "        vertical-align: middle;\n",
       "    }\n",
       "\n",
       "    .dataframe tbody tr th {\n",
       "        vertical-align: top;\n",
       "    }\n",
       "\n",
       "    .dataframe thead th {\n",
       "        text-align: right;\n",
       "    }\n",
       "</style>\n",
       "<table border=\"1\" class=\"dataframe\">\n",
       "  <thead>\n",
       "    <tr style=\"text-align: right;\">\n",
       "      <th></th>\n",
       "      <th>total_bill</th>\n",
       "      <th>tip</th>\n",
       "      <th>sex</th>\n",
       "      <th>smoker</th>\n",
       "      <th>day</th>\n",
       "      <th>time</th>\n",
       "      <th>size</th>\n",
       "    </tr>\n",
       "  </thead>\n",
       "  <tbody>\n",
       "    <tr>\n",
       "      <th>0</th>\n",
       "      <td>16.99</td>\n",
       "      <td>1.01</td>\n",
       "      <td>Female</td>\n",
       "      <td>No</td>\n",
       "      <td>Sun</td>\n",
       "      <td>Dinner</td>\n",
       "      <td>2</td>\n",
       "    </tr>\n",
       "    <tr>\n",
       "      <th>1</th>\n",
       "      <td>10.34</td>\n",
       "      <td>1.66</td>\n",
       "      <td>Male</td>\n",
       "      <td>No</td>\n",
       "      <td>Sun</td>\n",
       "      <td>Dinner</td>\n",
       "      <td>3</td>\n",
       "    </tr>\n",
       "    <tr>\n",
       "      <th>2</th>\n",
       "      <td>21.01</td>\n",
       "      <td>3.50</td>\n",
       "      <td>Male</td>\n",
       "      <td>No</td>\n",
       "      <td>Sun</td>\n",
       "      <td>Dinner</td>\n",
       "      <td>3</td>\n",
       "    </tr>\n",
       "    <tr>\n",
       "      <th>3</th>\n",
       "      <td>23.68</td>\n",
       "      <td>3.31</td>\n",
       "      <td>Male</td>\n",
       "      <td>No</td>\n",
       "      <td>Sun</td>\n",
       "      <td>Dinner</td>\n",
       "      <td>2</td>\n",
       "    </tr>\n",
       "    <tr>\n",
       "      <th>4</th>\n",
       "      <td>24.59</td>\n",
       "      <td>3.61</td>\n",
       "      <td>Female</td>\n",
       "      <td>No</td>\n",
       "      <td>Sun</td>\n",
       "      <td>Dinner</td>\n",
       "      <td>4</td>\n",
       "    </tr>\n",
       "  </tbody>\n",
       "</table>\n",
       "</div>"
      ],
      "text/plain": [
       "   total_bill   tip     sex smoker  day    time  size\n",
       "0       16.99  1.01  Female     No  Sun  Dinner     2\n",
       "1       10.34  1.66    Male     No  Sun  Dinner     3\n",
       "2       21.01  3.50    Male     No  Sun  Dinner     3\n",
       "3       23.68  3.31    Male     No  Sun  Dinner     2\n",
       "4       24.59  3.61  Female     No  Sun  Dinner     4"
      ]
     },
     "execution_count": 66,
     "metadata": {},
     "output_type": "execute_result"
    }
   ],
   "source": [
    "# check the head() of the tips dataset\n",
    "df_tips.head()"
   ]
  },
  {
   "cell_type": "markdown",
   "id": "d8dd6546",
   "metadata": {},
   "source": [
    "Plot the scatter plot for the variables 'total_bill' and 'tip'"
   ]
  },
  {
   "cell_type": "code",
   "execution_count": 67,
   "id": "6b02110a",
   "metadata": {},
   "outputs": [
    {
     "data": {
      "image/png": "[encoded data removed]",
      "text/plain": [
       "<Figure size 1500x800 with 1 Axes>"
      ]
     },
     "metadata": {},
     "output_type": "display_data"
    }
   ],
   "source": [
    "# data\n",
    "# let X be the column of total bill\n",
    "X = df_tips['total_bill']\n",
    "# let Y be the column of the tip collected\n",
    "Y = df_tips['tip']\n",
    "\n",
    "# set the plot size\n",
    "plt.figure(figsize=(15,8))\n",
    "\n",
    "# plot the scatter plot\n",
    "plt.scatter(X,Y)\n",
    "\n",
    "# add the axes labels to the plot\n",
    "plt.xlabel('total_bill')\n",
    "plt.ylabel('tip')\n",
    "\n",
    "# display the plot\n",
    "plt.show()"
   ]
  },
  {
   "cell_type": "markdown",
   "id": "ee4bcfe8",
   "metadata": {},
   "source": [
    "We can add different colours, opacity, and shape of data points. Let us customize the above plot."
   ]
  },
  {
   "cell_type": "code",
   "execution_count": 68,
   "id": "b115d6de",
   "metadata": {},
   "outputs": [
    {
     "data": {
      "image/png": "[encoded data removed]",
      "text/plain": [
       "<Figure size 1500x800 with 1 Axes>"
      ]
     },
     "metadata": {},
     "output_type": "display_data"
    }
   ],
   "source": [
    "# plot the scatter plot for the variables 'total_bill' and 'tip'\n",
    "\n",
    "# data\n",
    "# let X be the column of total bill\n",
    "X = df_tips['total_bill']\n",
    "# let Y be the column of the tip collected\n",
    "Y = df_tips['tip']\n",
    "\n",
    "# set the plot size\n",
    "plt.figure(figsize=(15,8))\n",
    "\n",
    "# plot the scatter plot\n",
    "# s is for shape, c is for colour, alpha is for opacity (0 < alpha < 1)\n",
    "plt.scatter(X, Y, s = np.array(Y)**2, c= 'green', alpha= 0.8)\n",
    "\n",
    "# add title \n",
    "plt.title('Scatter Plot')\n",
    "\n",
    "# add the axes labels to the plot\n",
    "plt.xlabel('total_bill')\n",
    "plt.ylabel('tip')\n",
    "\n",
    "# display the plot\n",
    "plt.show()"
   ]
  },
  {
   "cell_type": "markdown",
   "id": "60c785ee",
   "metadata": {},
   "source": [
    "The bubbles with higher radius display that the tip amount is more as compared to the bubbles with less radius."
   ]
  },
  {
   "cell_type": "markdown",
   "id": "9d6f4407",
   "metadata": {},
   "source": [
    "### 9.3 Bar Plot\n",
    " To display categorical data use a  bar plot with bars having lengths proportional to the values that they represent. The comparison between different categories of a categorical variable can be made by studying a bar plot. <br><br>\n",
    "                        In the vertical bar plot, the X-axis displays the categorical variable, and Y-axis contains the values corresponding to different categories."
   ]
  },
  {
   "cell_type": "code",
   "execution_count": 69,
   "id": "f10684fb",
   "metadata": {},
   "outputs": [
    {
     "data": {
      "text/plain": [
       "{'No', 'Yes'}"
      ]
     },
     "execution_count": 69,
     "metadata": {},
     "output_type": "execute_result"
    }
   ],
   "source": [
    "# the variable 'smoker' is categorical\n",
    "# check categories in the variable\n",
    "set(df_tips['smoker'])"
   ]
  },
  {
   "cell_type": "code",
   "execution_count": 70,
   "id": "4296ad43",
   "metadata": {},
   "outputs": [
    {
     "data": {
      "image/png": "[encoded data removed]",
      "text/plain": [
       "<Figure size 640x480 with 1 Axes>"
      ]
     },
     "metadata": {},
     "output_type": "display_data"
    }
   ],
   "source": [
    "# bar plot to get the count of smokers and non-smokers in the data\n",
    "\n",
    "# kind='bar' plots a bar plot\n",
    "# 'rot = 0' returns the categoric labels horizontally\n",
    "df_tips.smoker.value_counts().plot(kind='bar', rot = 0)\n",
    "\n",
    "# display the plot\n",
    "plt.show()"
   ]
  },
  {
   "cell_type": "markdown",
   "id": "8ca4dc83",
   "metadata": {},
   "source": [
    "Let us add the count of smokers and non-smokers, axes labels and title to the above plot."
   ]
  },
  {
   "cell_type": "code",
   "execution_count": 71,
   "id": "7e443f9b",
   "metadata": {},
   "outputs": [
    {
     "data": {
      "text/plain": [
       "Text(0.5, 0, 'Smoker')"
      ]
     },
     "execution_count": 71,
     "metadata": {},
     "output_type": "execute_result"
    },
    {
     "data": {
      "image/png": "[encoded data removed]",
      "text/plain": [
       "<Figure size 1500x800 with 1 Axes>"
      ]
     },
     "metadata": {},
     "output_type": "display_data"
    }
   ],
   "source": [
    "# bar plot to get the count of smokers and non-smokers in the data\n",
    "\n",
    "# set the plot size\n",
    "plt.figure(figsize=(15,8))\n",
    "\n",
    "# kind='bar' plots a bar plot\n",
    "# 'rot = 0' returns the categoric labels horizontally\n",
    "# 'color' can be used to add a specific colour\n",
    "df_tips.smoker.value_counts().plot(kind='bar', rot = 0, color = 'green')\n",
    "\n",
    "# plt.text() adds the text to the plot\n",
    "# x and y are positions on the axes\n",
    "# s is the text to be added\n",
    "plt.text(x = -0.05, y = df_tips.smoker.value_counts()[1]+1, s = df_tips.smoker.value_counts()[1])\n",
    "plt.text(x = 0.98, y = df_tips.smoker.value_counts()[0]+2, s = df_tips.smoker.value_counts()[0])\n",
    "\n",
    "# add plot title\n",
    "plt.title('Bar Plot')\n",
    "\n",
    "# add x-axis label\n",
    "plt.xlabel('Smoker')"
   ]
  },
  {
   "cell_type": "markdown",
   "id": "92ef857c",
   "metadata": {},
   "source": [
    "From the bar plot, we interpret that the proportion of non-smokers is more in the data."
   ]
  },
  {
   "cell_type": "markdown",
   "id": "3ac4ef0c",
   "metadata": {},
   "source": [
    "### 9.4 Pie Plot\n",
    "Pie plot is a graphical representation of univariate data. It is a circular graph divided into slices displaying the numerical proportion. For the categorical variable, each slice of the pie plot corresponds to each of the categories."
   ]
  },
  {
   "cell_type": "code",
   "execution_count": 72,
   "id": "0ada4366",
   "metadata": {},
   "outputs": [
    {
     "data": {
      "text/html": [
       "<div>\n",
       "<style scoped>\n",
       "    .dataframe tbody tr th:only-of-type {\n",
       "        vertical-align: middle;\n",
       "    }\n",
       "\n",
       "    .dataframe tbody tr th {\n",
       "        vertical-align: top;\n",
       "    }\n",
       "\n",
       "    .dataframe thead th {\n",
       "        text-align: right;\n",
       "    }\n",
       "</style>\n",
       "<table border=\"1\" class=\"dataframe\">\n",
       "  <thead>\n",
       "    <tr style=\"text-align: right;\">\n",
       "      <th></th>\n",
       "      <th>total_bill</th>\n",
       "      <th>tip</th>\n",
       "      <th>sex</th>\n",
       "      <th>smoker</th>\n",
       "      <th>day</th>\n",
       "      <th>time</th>\n",
       "      <th>size</th>\n",
       "    </tr>\n",
       "  </thead>\n",
       "  <tbody>\n",
       "    <tr>\n",
       "      <th>0</th>\n",
       "      <td>16.99</td>\n",
       "      <td>1.01</td>\n",
       "      <td>Female</td>\n",
       "      <td>No</td>\n",
       "      <td>Sun</td>\n",
       "      <td>Dinner</td>\n",
       "      <td>2</td>\n",
       "    </tr>\n",
       "    <tr>\n",
       "      <th>1</th>\n",
       "      <td>10.34</td>\n",
       "      <td>1.66</td>\n",
       "      <td>Male</td>\n",
       "      <td>No</td>\n",
       "      <td>Sun</td>\n",
       "      <td>Dinner</td>\n",
       "      <td>3</td>\n",
       "    </tr>\n",
       "    <tr>\n",
       "      <th>2</th>\n",
       "      <td>21.01</td>\n",
       "      <td>3.50</td>\n",
       "      <td>Male</td>\n",
       "      <td>No</td>\n",
       "      <td>Sun</td>\n",
       "      <td>Dinner</td>\n",
       "      <td>3</td>\n",
       "    </tr>\n",
       "    <tr>\n",
       "      <th>3</th>\n",
       "      <td>23.68</td>\n",
       "      <td>3.31</td>\n",
       "      <td>Male</td>\n",
       "      <td>No</td>\n",
       "      <td>Sun</td>\n",
       "      <td>Dinner</td>\n",
       "      <td>2</td>\n",
       "    </tr>\n",
       "    <tr>\n",
       "      <th>4</th>\n",
       "      <td>24.59</td>\n",
       "      <td>3.61</td>\n",
       "      <td>Female</td>\n",
       "      <td>No</td>\n",
       "      <td>Sun</td>\n",
       "      <td>Dinner</td>\n",
       "      <td>4</td>\n",
       "    </tr>\n",
       "  </tbody>\n",
       "</table>\n",
       "</div>"
      ],
      "text/plain": [
       "   total_bill   tip     sex smoker  day    time  size\n",
       "0       16.99  1.01  Female     No  Sun  Dinner     2\n",
       "1       10.34  1.66    Male     No  Sun  Dinner     3\n",
       "2       21.01  3.50    Male     No  Sun  Dinner     3\n",
       "3       23.68  3.31    Male     No  Sun  Dinner     2\n",
       "4       24.59  3.61  Female     No  Sun  Dinner     4"
      ]
     },
     "execution_count": 72,
     "metadata": {},
     "output_type": "execute_result"
    }
   ],
   "source": [
    "# check the head() of the tips dataset\n",
    "df_tips.head()"
   ]
  },
  {
   "cell_type": "code",
   "execution_count": 73,
   "id": "c81c02e3",
   "metadata": {},
   "outputs": [
    {
     "data": {
      "text/plain": [
       "day\n",
       "Sat     87\n",
       "Sun     76\n",
       "Thur    62\n",
       "Fri     19\n",
       "Name: count, dtype: int64"
      ]
     },
     "execution_count": 73,
     "metadata": {},
     "output_type": "execute_result"
    }
   ],
   "source": [
    "# categories in the 'day' variable\n",
    "df_tips.day.value_counts()"
   ]
  },
  {
   "cell_type": "code",
   "execution_count": 74,
   "id": "66e73073",
   "metadata": {},
   "outputs": [
    {
     "data": {
      "image/png": "[encoded data removed]",
      "text/plain": [
       "<Figure size 640x480 with 1 Axes>"
      ]
     },
     "metadata": {},
     "output_type": "display_data"
    }
   ],
   "source": [
    "# plot the occurrence of different days in the dataset\n",
    "\n",
    "# 'autopct' displays the percentage upto 1 decimal place\n",
    "# 'radius' sets the radius of the pie plot\n",
    "# 'labels' are the labels given to each section \n",
    "plt.pie(df_tips.day.value_counts(), autopct = '%.1f%%', radius = 1.2, labels = ['Sat', 'Sun','Thur','Fri'])\n",
    "\n",
    "# display the plot\n",
    "plt.show()"
   ]
  },
  {
   "cell_type": "markdown",
   "id": "d3be048e",
   "metadata": {},
   "source": [
    "From the above pie plot, we see that the data has a high proportion for Saturday followed by Sunday.\n"
   ]
  },
  {
   "cell_type": "markdown",
   "id": "218fbab2",
   "metadata": {},
   "source": [
    "**Exploded pie plot** is a plot in which one or more sectors are separated from the disc"
   ]
  },
  {
   "cell_type": "code",
   "execution_count": 76,
   "id": "3bc03f19",
   "metadata": {},
   "outputs": [
    {
     "data": {
      "image/png": "[encoded data removed]",
      "text/plain": [
       "<Figure size 640x480 with 1 Axes>"
      ]
     },
     "metadata": {},
     "output_type": "display_data"
    }
   ],
   "source": [
    "# plot the occurrence of different days in the dataset\n",
    "\n",
    "# 'autopct' displays the percentage upto 1 decimal place\n",
    "# 'radius' sets the radius of the pie plot\n",
    "# 'labels' are the labels given to each section \n",
    "# 'explode' specifies the radius with which to offset each section\n",
    "plt.pie(df_tips.day.value_counts(), autopct = '%.1f%%', radius = 1.2, labels = ['Sat', 'Sun','Thur','Fri'],\n",
    "        explode = [0,0,0,0.5])\n",
    "\n",
    "# display the plot\n",
    "plt.show()"
   ]
  },
  {
   "cell_type": "markdown",
   "id": "1b28805c",
   "metadata": {},
   "source": [
    "**Donut pie plot** is a type of pie plot in which there is a hollow center representing a doughnut."
   ]
  },
  {
   "cell_type": "code",
   "execution_count": 78,
   "id": "1f5aa638",
   "metadata": {},
   "outputs": [
    {
     "data": {
      "image/png": "[encoded data removed]",
      "text/plain": [
       "<Figure size 640x480 with 1 Axes>"
      ]
     },
     "metadata": {},
     "output_type": "display_data"
    }
   ],
   "source": [
    "# plot the occurrence of different days in the dataset\n",
    "\n",
    "# pie plot\n",
    "# 'autopct' displays the percentage upto 1 decimal place\n",
    "# 'radius' sets the radius of the pie plot\n",
    "# 'labels' are the labels given to each section \n",
    "plt.pie(df_tips.day.value_counts(), autopct = '%.1f%%', radius = 1.2, labels = ['Sat', 'Sun','Thur','Fri'])\n",
    "\n",
    "# add a circle at the center\n",
    "\n",
    "circle =  plt.Circle( (0,0), radius = 0.5, color='white')\n",
    "plot = plt.gcf()\n",
    "plot.gca().add_artist(circle)\n",
    " \n",
    "# display the plot\n",
    "plt.show()"
   ]
  },
  {
   "cell_type": "markdown",
   "id": "0616c2a9",
   "metadata": {},
   "source": [
    "### 9.5 Histogram\n",
    "A histogram is used to display the distribution and spread of the continuous variable. One axis represents the range of variable, and the other axis shows the frequency of the data points. In a histogram, there are no gaps between the bars."
   ]
  },
  {
   "cell_type": "markdown",
   "id": "c2207009",
   "metadata": {},
   "source": [
    "In tips dataset, 'tip' is the continuous variable. Let us plot the histogram to understand the distribution of the variable."
   ]
  },
  {
   "cell_type": "code",
   "execution_count": 79,
   "id": "ace0485f",
   "metadata": {},
   "outputs": [
    {
     "data": {
      "image/png": "[encoded data removed]",
      "text/plain": [
       "<Figure size 640x480 with 1 Axes>"
      ]
     },
     "metadata": {},
     "output_type": "display_data"
    }
   ],
   "source": [
    "# plot the histogram\n",
    "# specify the number of bins, using 'bins' parameter\n",
    "plt.hist(df_tips['tip'], bins= 5)\n",
    "\n",
    "# add the graph title \n",
    "plt.title('Distribution of tip amount')\n",
    "\n",
    "# add th x-axis label\n",
    "plt.xlabel('tip')\n",
    "\n",
    "# # add th y-axis label\n",
    "plt.ylabel('Frequency')\n",
    "\n",
    "# display the plot\n",
    "plt.show()"
   ]
  },
  {
   "cell_type": "markdown",
   "id": "d25bd4a4",
   "metadata": {},
   "source": [
    "From the above plot, we can see that the tip amount is positively skewed. "
   ]
  },
  {
   "cell_type": "markdown",
   "id": "83bc81b4",
   "metadata": {},
   "source": [
    "### 9.6 Box Plot\n",
    "Boxplot is a way to visualize the five-number summary of the variable. The five-number summary includes the numerical quantities like minimum, first quartile (Q1), median (Q2), third quartile (Q3), and maximum. It gives information about the outliers in the data. Detecting and removing outliers is one of the essential steps in exploratory data analysis. Boxplots also tells about the distribution of the data."
   ]
  },
  {
   "cell_type": "markdown",
   "id": "44c8086f",
   "metadata": {},
   "source": [
    "Plot the boxplot of 'total_bill' to check the distribution and presence of outliers in the variable."
   ]
  },
  {
   "cell_type": "code",
   "execution_count": 81,
   "id": "c9176606",
   "metadata": {},
   "outputs": [
    {
     "data": {
      "image/png": "[encoded data removed]",
      "text/plain": [
       "<Figure size 640x480 with 1 Axes>"
      ]
     },
     "metadata": {},
     "output_type": "display_data"
    }
   ],
   "source": [
    "# plot a boxplot of total bill\n",
    "plt.boxplot(df_tips['total_bill'])\n",
    "\n",
    "# add labels for five number summary using text()\n",
    "# x is location on x-axis\n",
    "# y is the location on y-axis\n",
    "# s is the text \n",
    "plt.text(x = 1.1, y = df_tips['total_bill'].min(), s ='min')              # for minimun\n",
    "plt.text(x = 1.1, y = df_tips.total_bill.quantile(0.25), s ='Q1')         # for quartile 1\n",
    "plt.text(x = 1.1, y = df_tips['total_bill'].median(), s ='median (Q2)')   # for quartile 2\n",
    "plt.text(x = 1.1, y = df_tips.total_bill.quantile(0.75), s ='Q3')         # for quartile 3\n",
    "plt.text(x = 1.1, y = df_tips['total_bill'].max(), s ='max')              # for maximum\n",
    "\n",
    "\n",
    "# add the graph title \n",
    "plt.title('Boxplot of Total Bill Amount')\n",
    "\n",
    "# add the y-axis label\n",
    "plt.ylabel('Total bill')\n",
    "\n",
    "# display the plot\n",
    "plt.show()"
   ]
  },
  {
   "cell_type": "markdown",
   "id": "039587b8",
   "metadata": {},
   "source": [
    "The above boxplot clearly shows the presence of outliers above the horizontal line. We can add an arrow to showcase the outliers. Also, the median (Q2) is represented by the orange line, which is nearer to Q1 than Q3, indicating that the total bill is positively skewed."
   ]
  },
  {
   "cell_type": "code",
   "execution_count": 82,
   "id": "792d85b9",
   "metadata": {},
   "outputs": [
    {
     "data": {
      "image/png": "[encoded data removed]",
      "text/plain": [
       "<Figure size 640x480 with 1 Axes>"
      ]
     },
     "metadata": {},
     "output_type": "display_data"
    }
   ],
   "source": [
    "# plot a distribution of total bill\n",
    "plt.boxplot(df_tips['total_bill'])\n",
    "\n",
    "# add labels for five number summary using text()\n",
    "# x is location on x-axis\n",
    "# y is the location on y-axis\n",
    "# s is the text \n",
    "plt.text(x = 1.1, y = df_tips['total_bill'].min(), s ='min')              # for minimun\n",
    "plt.text(x = 1.1, y = df_tips.total_bill.quantile(0.25), s ='Q1')         # for quartile 1\n",
    "plt.text(x = 1.1, y = df_tips['total_bill'].median(), s ='median (Q2)')   # for quartile 2\n",
    "plt.text(x = 1.1, y = df_tips.total_bill.quantile(0.75), s ='Q3')         # for quartile 3\n",
    "plt.text(x = 1.1, y = df_tips['total_bill'].max(), s ='max')              # for maximum\n",
    "\n",
    "# add an arrow (annonate) to show the outliers\n",
    "# xy is the location of the head of the arrow\n",
    "# xytext is the location of the text\n",
    "# arrowprops specify the properties of the arrow\n",
    "# facecolor specifies the arrow color\n",
    "# arrowstyle specifies the arrow stype\n",
    "plt.annotate('Outliers', xy = (0.98,45),xytext=(0.7, 44), arrowprops = dict(facecolor='black', arrowstyle = 'simple'))\n",
    "\n",
    "# add the graph title \n",
    "plt.title('Boxplot of Total Bill Amount')\n",
    "# add the y-axis label\n",
    "plt.ylabel('Total bill')\n",
    "\n",
    "# display the plot\n",
    "plt.show()"
   ]
  },
  {
   "cell_type": "markdown",
   "id": "81d03976",
   "metadata": {},
   "source": [
    "### 9.7 Area Plot\n",
    "Area plot is a graphical representation of quantitative data based on the line plot. The area under the line plot is shaded. <br>\n",
    "                        Usually, it is used to compare the two or more quantities."
   ]
  },
  {
   "cell_type": "code",
   "execution_count": 83,
   "id": "acc55eaf",
   "metadata": {},
   "outputs": [
    {
     "data": {
      "image/png": "[encoded data removed]",
      "text/plain": [
       "<Figure size 640x480 with 1 Axes>"
      ]
     },
     "metadata": {},
     "output_type": "display_data"
    }
   ],
   "source": [
    "# value_counts counts the number of observations for each day\n",
    "# sorts the index - thursday to be first\n",
    "# plot.area() plots area plot\n",
    "df_tips['day'].value_counts().sort_index().plot.area() \n",
    "\n",
    "# display the plot\n",
    "plt.show()"
   ]
  },
  {
   "cell_type": "markdown",
   "id": "103edbc6",
   "metadata": {},
   "source": [
    "The above plot gives the count of observations for each day. We see that the highest number of tips collected are on Saturday. "
   ]
  }
 ],
 "metadata": {
  "kernelspec": {
   "display_name": "Python 3 (ipykernel)",
   "language": "python",
   "name": "python3"
  },
  "language_info": {
   "codemirror_mode": {
    "name": "ipython",
    "version": 3
   },
   "file_extension": ".py",
   "mimetype": "text/x-python",
   "name": "python",
   "nbconvert_exporter": "python",
   "pygments_lexer": "ipython3",
   "version": "3.12.7"
  }
 },
 "nbformat": 4,
 "nbformat_minor": 5
}
